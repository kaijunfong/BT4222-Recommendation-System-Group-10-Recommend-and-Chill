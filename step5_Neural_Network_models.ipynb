{
  "cells": [
    {
      "cell_type": "markdown",
      "metadata": {
        "id": "RYNnw_tkj8o1"
      },
      "source": [
        "# Dataset & imports\n"
      ]
    },
    {
      "cell_type": "code",
      "source": [
        "import pandas as pd\n",
        "!gdown https://drive.google.com/uc?id=1vbteMX-kHyYAAS7JIrrog_aZvvOY77Q0\n",
        "\n",
        "df = pd.read_csv('final_dataset.csv', dtype = {'Movie': 'string', 'Reviewer': 'string', 'Review': 'string', 'Score': 'float64', 'Sentiment_scores': 'float64', 'overview': 'string', 'recommend': 'int'}, parse_dates=['Date'])\n"
      ],
      "metadata": {
        "id": "2_MmIVN00pfm",
        "colab": {
          "base_uri": "https://localhost:8080/"
        },
        "outputId": "0195bff2-caec-4116-e0e0-0fb9ec71a8be"
      },
      "execution_count": null,
      "outputs": [
        {
          "output_type": "stream",
          "name": "stdout",
          "text": [
            "Downloading...\n",
            "From (original): https://drive.google.com/uc?id=1vbteMX-kHyYAAS7JIrrog_aZvvOY77Q0\n",
            "From (redirected): https://drive.google.com/uc?id=1vbteMX-kHyYAAS7JIrrog_aZvvOY77Q0&confirm=t&uuid=022b0385-8ad3-4000-a947-4c2c895e93a4\n",
            "To: /content/final_dataset.csv\n",
            "100% 456M/456M [00:02<00:00, 225MB/s]\n"
          ]
        }
      ]
    },
    {
      "cell_type": "code",
      "execution_count": null,
      "metadata": {
        "id": "K2L1naUFj8pA"
      },
      "outputs": [],
      "source": [
        "import pandas as pd\n",
        "import numpy as np\n",
        "from sklearn import model_selection, metrics, preprocessing\n",
        "import torch\n",
        "import torch.nn as nn\n",
        "import matplotlib.pyplot as plt\n",
        "from torch.utils.data import Dataset, DataLoader\n",
        "from tqdm import tqdm\n",
        "from collections import defaultdict\n",
        "import ast"
      ]
    },
    {
      "cell_type": "code",
      "execution_count": null,
      "metadata": {
        "id": "9JxuKUrlj8pB"
      },
      "outputs": [],
      "source": [
        "# extract the necessary columns\n",
        "# data = df[['Movie','Reviewer','Score','recommend','genres']].copy()\n",
        "data = df[['Movie','Reviewer','Score','recommend','unique_genres']].copy()"
      ]
    },
    {
      "cell_type": "markdown",
      "source": [
        "#### Making Genres to a Embedding layer to be passed into the model\n",
        "Since Genres is in a '['Drama', 'Comedy', 'Romance', 'Foreign']' format, we need to do some additional pre-processing on it"
      ],
      "metadata": {
        "id": "5sWpBkLwF2rM"
      }
    },
    {
      "cell_type": "code",
      "source": [
        "def changer(x):\n",
        "  return ast.literal_eval(x)\n",
        "\n",
        "changer(data['unique_genres'][0])"
      ],
      "metadata": {
        "colab": {
          "base_uri": "https://localhost:8080/"
        },
        "id": "hjWdWa6TDmwO",
        "outputId": "a2f4fc43-fe32-4291-834f-e4adb0038452"
      },
      "execution_count": null,
      "outputs": [
        {
          "output_type": "execute_result",
          "data": {
            "text/plain": [
              "['Drama', 'Romance', 'Comedy', 'Foreign']"
            ]
          },
          "metadata": {},
          "execution_count": 4
        }
      ]
    },
    {
      "cell_type": "code",
      "source": [
        "data['unique_genres'] = data['unique_genres'].apply(lambda x: changer(x))"
      ],
      "metadata": {
        "id": "rumkYwizFDuT"
      },
      "execution_count": null,
      "outputs": []
    },
    {
      "cell_type": "markdown",
      "source": [
        "We have 20 unique genres and max number of genres that a movie has is 7"
      ],
      "metadata": {
        "id": "6RXGdKFjv833"
      }
    },
    {
      "cell_type": "code",
      "source": [
        "# now we find all unqiue genres & max number of genres a movie has (7) & 1048 combinations of genres\n",
        "unique_genres = []\n",
        "max_len = 0\n",
        "for d in data['unique_genres']:\n",
        "  if len(d) > max_len:\n",
        "    max_len = len(d)\n",
        "\n",
        "  for indiv in d:\n",
        "    if indiv not in unique_genres:\n",
        "      unique_genres.append(indiv)\n",
        "\n",
        "print(len(unique_genres))\n",
        "print(unique_genres)\n",
        "print(max_len)"
      ],
      "metadata": {
        "colab": {
          "base_uri": "https://localhost:8080/"
        },
        "id": "f6PW6WddKlZy",
        "outputId": "8d23ce76-767e-4814-9363-1895edbc61d1"
      },
      "execution_count": null,
      "outputs": [
        {
          "output_type": "stream",
          "name": "stdout",
          "text": [
            "20\n",
            "['Drama', 'Romance', 'Comedy', 'Foreign', 'History', 'War', 'Thriller', 'Mystery', 'Horror', 'Action', 'Crime', 'Adventure', 'Documentary', 'Science Fiction', 'TV Movie', 'Music', 'Animation', 'Family', 'Western', 'Fantasy']\n",
            "7\n"
          ]
        }
      ]
    },
    {
      "cell_type": "markdown",
      "source": [
        "We create a One Hot Vector of all genres -> the length is 21 instead of 20, as the LabelEncoding of genres starts from position 1. If not 0 might be mistaken for the first genre 'Drama' instead of not present\n",
        "\n",
        "If the genre is not present in the movie, it will be represented as 0\n",
        "\n",
        "We make the OHV into pytorch tensor for use later"
      ],
      "metadata": {
        "id": "rpU5WexEwCkN"
      }
    },
    {
      "cell_type": "code",
      "source": [
        "# List of genres\n",
        "genres = ['Drama', 'Comedy', 'Romance', 'Foreign', 'War', 'History', 'Mystery', 'Thriller', 'Horror', 'Action', 'Adventure', 'Crime', 'Documentary', 'Science Fiction', 'TV Movie', 'Music', 'Animation', 'Family', 'Western', 'Fantasy']\n",
        "\n",
        "# Create a dictionary mapping each genre to an index\n",
        "genre_to_index = {genre: index+1 for index, genre in enumerate(genres)}\n",
        "\n",
        "# Initialize a list of zeros with a length of 20\n",
        "one_hot_vector = [0] * 21\n",
        "\n",
        "# Function to create a one-hot vector\n",
        "def create_one_hot_vector(genre):\n",
        "    one_hot_vector = [0] * 21\n",
        "    for ele in genre:\n",
        "      index = genre_to_index.get(ele)\n",
        "      if index is not None:\n",
        "          one_hot_vector[index] = 1\n",
        "    return torch.tensor(one_hot_vector, dtype=torch.long)\n",
        "\n",
        "# Example usage\n",
        "selected_genre = [\"Drama\", \"Comedy\", \"Romance\", \"Foreign\"]\n",
        "one_hot_vector = create_one_hot_vector(selected_genre)\n",
        "print(one_hot_vector)"
      ],
      "metadata": {
        "colab": {
          "base_uri": "https://localhost:8080/"
        },
        "id": "WJAepkLS2oPY",
        "outputId": "68ab04c9-e003-4811-b1de-94eac281705f"
      },
      "execution_count": null,
      "outputs": [
        {
          "output_type": "stream",
          "name": "stdout",
          "text": [
            "tensor([0, 1, 1, 1, 1, 0, 0, 0, 0, 0, 0, 0, 0, 0, 0, 0, 0, 0, 0, 0, 0])\n"
          ]
        }
      ]
    },
    {
      "cell_type": "code",
      "source": [
        "# Alternate means of embedding genres\n",
        "# # Tokenization\n",
        "# word_to_index = {word: i for i, word in enumerate(unique_genres)}\n",
        "# index_to_word = {i: word for word, i in word_to_index.items()}\n",
        "\n",
        "# # Padding (assuming a maximum sequence length)\n",
        "# max_seq_length = 10\n",
        "\n",
        "# # function to make a list of genres to a padded tensor\n",
        "# def make_tensors(lister):a\n",
        "#   # Convert words to indices\n",
        "#   indices = [word_to_index[word] for word in lister]\n",
        "#     # Padding (assuming a maximum sequence length)\n",
        "#   max_seq_length = 10\n",
        "#   padded_indices = indices + [-1] * (max_seq_length - len(indices))  # Pad with -1\n",
        "\n",
        "#   # Convert to PyTorch tensor\n",
        "#   padded_tensor = torch.tensor(padded_indices, dtype=torch.long)\n",
        "#   return padded_tensor"
      ],
      "metadata": {
        "id": "IgWN10xxKvSY"
      },
      "execution_count": null,
      "outputs": []
    },
    {
      "cell_type": "code",
      "source": [
        "# make_tensors([\"Drama\", \"Comedy\", \"Romance\", \"Foreign\"])"
      ],
      "metadata": {
        "id": "E9gbc01RRQri"
      },
      "execution_count": null,
      "outputs": []
    },
    {
      "cell_type": "code",
      "source": [
        "# add the padded_tensor to data\n",
        "data['padded_genres'] = data['unique_genres']\n",
        "data['padded_genre'] = data['unique_genres'].apply(lambda x:create_one_hot_vector(x))"
      ],
      "metadata": {
        "id": "kGdQLcjuMwn_"
      },
      "execution_count": null,
      "outputs": []
    },
    {
      "cell_type": "code",
      "source": [
        "data.head(1)"
      ],
      "metadata": {
        "colab": {
          "base_uri": "https://localhost:8080/"
        },
        "id": "NRTPgPO0M_GF",
        "outputId": "33f88405-38e7-4f62-bfa5-3104acb8704f"
      },
      "execution_count": null,
      "outputs": [
        {
          "output_type": "execute_result",
          "data": {
            "text/plain": [
              "       Movie         Reviewer     Score  recommend  \\\n",
              "0  SENSATION  Dennis Schwartz  0.686869          0   \n",
              "\n",
              "                       unique_genres                      padded_genres  \\\n",
              "0  [Drama, Romance, Comedy, Foreign]  [Drama, Romance, Comedy, Foreign]   \n",
              "\n",
              "                                        padded_genre  \n",
              "0  [tensor(0), tensor(1), tensor(1), tensor(1), t...  "
            ],
            "text/html": [
              "\n",
              "  <div id=\"df-5542e3c5-591b-4518-9713-6547e0d09c21\" class=\"colab-df-container\">\n",
              "    <div>\n",
              "<style scoped>\n",
              "    .dataframe tbody tr th:only-of-type {\n",
              "        vertical-align: middle;\n",
              "    }\n",
              "\n",
              "    .dataframe tbody tr th {\n",
              "        vertical-align: top;\n",
              "    }\n",
              "\n",
              "    .dataframe thead th {\n",
              "        text-align: right;\n",
              "    }\n",
              "</style>\n",
              "<table border=\"1\" class=\"dataframe\">\n",
              "  <thead>\n",
              "    <tr style=\"text-align: right;\">\n",
              "      <th></th>\n",
              "      <th>Movie</th>\n",
              "      <th>Reviewer</th>\n",
              "      <th>Score</th>\n",
              "      <th>recommend</th>\n",
              "      <th>unique_genres</th>\n",
              "      <th>padded_genres</th>\n",
              "      <th>padded_genre</th>\n",
              "    </tr>\n",
              "  </thead>\n",
              "  <tbody>\n",
              "    <tr>\n",
              "      <th>0</th>\n",
              "      <td>SENSATION</td>\n",
              "      <td>Dennis Schwartz</td>\n",
              "      <td>0.686869</td>\n",
              "      <td>0</td>\n",
              "      <td>[Drama, Romance, Comedy, Foreign]</td>\n",
              "      <td>[Drama, Romance, Comedy, Foreign]</td>\n",
              "      <td>[tensor(0), tensor(1), tensor(1), tensor(1), t...</td>\n",
              "    </tr>\n",
              "  </tbody>\n",
              "</table>\n",
              "</div>\n",
              "    <div class=\"colab-df-buttons\">\n",
              "\n",
              "  <div class=\"colab-df-container\">\n",
              "    <button class=\"colab-df-convert\" onclick=\"convertToInteractive('df-5542e3c5-591b-4518-9713-6547e0d09c21')\"\n",
              "            title=\"Convert this dataframe to an interactive table.\"\n",
              "            style=\"display:none;\">\n",
              "\n",
              "  <svg xmlns=\"http://www.w3.org/2000/svg\" height=\"24px\" viewBox=\"0 -960 960 960\">\n",
              "    <path d=\"M120-120v-720h720v720H120Zm60-500h600v-160H180v160Zm220 220h160v-160H400v160Zm0 220h160v-160H400v160ZM180-400h160v-160H180v160Zm440 0h160v-160H620v160ZM180-180h160v-160H180v160Zm440 0h160v-160H620v160Z\"/>\n",
              "  </svg>\n",
              "    </button>\n",
              "\n",
              "  <style>\n",
              "    .colab-df-container {\n",
              "      display:flex;\n",
              "      gap: 12px;\n",
              "    }\n",
              "\n",
              "    .colab-df-convert {\n",
              "      background-color: #E8F0FE;\n",
              "      border: none;\n",
              "      border-radius: 50%;\n",
              "      cursor: pointer;\n",
              "      display: none;\n",
              "      fill: #1967D2;\n",
              "      height: 32px;\n",
              "      padding: 0 0 0 0;\n",
              "      width: 32px;\n",
              "    }\n",
              "\n",
              "    .colab-df-convert:hover {\n",
              "      background-color: #E2EBFA;\n",
              "      box-shadow: 0px 1px 2px rgba(60, 64, 67, 0.3), 0px 1px 3px 1px rgba(60, 64, 67, 0.15);\n",
              "      fill: #174EA6;\n",
              "    }\n",
              "\n",
              "    .colab-df-buttons div {\n",
              "      margin-bottom: 4px;\n",
              "    }\n",
              "\n",
              "    [theme=dark] .colab-df-convert {\n",
              "      background-color: #3B4455;\n",
              "      fill: #D2E3FC;\n",
              "    }\n",
              "\n",
              "    [theme=dark] .colab-df-convert:hover {\n",
              "      background-color: #434B5C;\n",
              "      box-shadow: 0px 1px 3px 1px rgba(0, 0, 0, 0.15);\n",
              "      filter: drop-shadow(0px 1px 2px rgba(0, 0, 0, 0.3));\n",
              "      fill: #FFFFFF;\n",
              "    }\n",
              "  </style>\n",
              "\n",
              "    <script>\n",
              "      const buttonEl =\n",
              "        document.querySelector('#df-5542e3c5-591b-4518-9713-6547e0d09c21 button.colab-df-convert');\n",
              "      buttonEl.style.display =\n",
              "        google.colab.kernel.accessAllowed ? 'block' : 'none';\n",
              "\n",
              "      async function convertToInteractive(key) {\n",
              "        const element = document.querySelector('#df-5542e3c5-591b-4518-9713-6547e0d09c21');\n",
              "        const dataTable =\n",
              "          await google.colab.kernel.invokeFunction('convertToInteractive',\n",
              "                                                    [key], {});\n",
              "        if (!dataTable) return;\n",
              "\n",
              "        const docLinkHtml = 'Like what you see? Visit the ' +\n",
              "          '<a target=\"_blank\" href=https://colab.research.google.com/notebooks/data_table.ipynb>data table notebook</a>'\n",
              "          + ' to learn more about interactive tables.';\n",
              "        element.innerHTML = '';\n",
              "        dataTable['output_type'] = 'display_data';\n",
              "        await google.colab.output.renderOutput(dataTable, element);\n",
              "        const docLink = document.createElement('div');\n",
              "        docLink.innerHTML = docLinkHtml;\n",
              "        element.appendChild(docLink);\n",
              "      }\n",
              "    </script>\n",
              "  </div>\n",
              "\n",
              "\n",
              "    </div>\n",
              "  </div>\n"
            ],
            "application/vnd.google.colaboratory.intrinsic+json": {
              "type": "dataframe",
              "variable_name": "data"
            }
          },
          "metadata": {},
          "execution_count": 11
        }
      ]
    },
    {
      "cell_type": "markdown",
      "source": [
        "Now Lets add these tensors to our main dataset"
      ],
      "metadata": {
        "id": "fd-UvUOsN0Qt"
      }
    },
    {
      "cell_type": "markdown",
      "metadata": {
        "id": "9AFGKCZwj8pB"
      },
      "source": [
        "# Data pre-processing for NCF"
      ]
    },
    {
      "cell_type": "markdown",
      "metadata": {
        "id": "Siiu46_oj8pC"
      },
      "source": [
        "Preprocess the Reviewers and movies into integers (so each movie & Reviewer is given a unique label) from 0 to unique_length so that we can pass it into the embeddings.\n",
        "\n",
        "This is done as the user_id/movie_id might be more than the length of the total number of users/movies which may throw an index out of bound error"
      ]
    },
    {
      "cell_type": "code",
      "execution_count": null,
      "metadata": {
        "colab": {
          "base_uri": "https://localhost:8080/"
        },
        "id": "VdrdVo0zj8pB",
        "outputId": "4154b6aa-5ee5-41ca-e02f-08d6e6d1d696"
      },
      "outputs": [
        {
          "output_type": "stream",
          "name": "stdout",
          "text": [
            "We have 5216 unique movies & 4804 unique users \n"
          ]
        }
      ],
      "source": [
        "n_movies = data.Movie.nunique()\n",
        "n_users = data.Reviewer.nunique()\n",
        "print(f\"We have {n_movies} unique movies & {n_users} unique users \")"
      ]
    },
    {
      "cell_type": "markdown",
      "metadata": {
        "id": "hWngvhvij8pC"
      },
      "source": [
        "Create an extra class to hold on to users, movies & ratings. We use a test size of 15% and random state of 42 standardised for all models"
      ]
    },
    {
      "cell_type": "code",
      "execution_count": null,
      "metadata": {
        "id": "nSSfz_NUj8pC"
      },
      "outputs": [],
      "source": [
        "lbl_user = preprocessing.LabelEncoder()\n",
        "lbl_movie = preprocessing.LabelEncoder()\n",
        "data.Reviewer = lbl_user.fit_transform(data.Reviewer.values)\n",
        "data.Movie = lbl_movie.fit_transform(data.Movie.values)"
      ]
    },
    {
      "cell_type": "markdown",
      "source": [
        "We will use Reviewer Dennis Schwartz to try out the models for top K = 5 predictions"
      ],
      "metadata": {
        "id": "k7CUY5Sb9bY8"
      }
    },
    {
      "cell_type": "code",
      "source": [
        "user_code = lbl_user.transform(['Dennis Schwartz'])[0]\n",
        "print(\"The numerical encoding for Dennis Schwartz is:\", user_code)"
      ],
      "metadata": {
        "colab": {
          "base_uri": "https://localhost:8080/"
        },
        "id": "huACXkHRwcJN",
        "outputId": "c06a67f0-b86f-48a4-edb9-875d6ae30c9d"
      },
      "execution_count": null,
      "outputs": [
        {
          "output_type": "stream",
          "name": "stdout",
          "text": [
            "The numerical encoding for Dennis Schwartz is: 1307\n"
          ]
        }
      ]
    },
    {
      "cell_type": "markdown",
      "source": [
        "Custom Dataset created to hold users, movies, ratings & genres"
      ],
      "metadata": {
        "id": "jfgP1dOVxACx"
      }
    },
    {
      "cell_type": "code",
      "execution_count": null,
      "metadata": {
        "id": "awYOOVBoj8pD"
      },
      "outputs": [],
      "source": [
        "class MovieDataset:\n",
        "    def __init__(self, users, movies, ratings, genres):\n",
        "        self.users = users\n",
        "        self.movies = movies\n",
        "        self.ratings = ratings\n",
        "        self.genres = genres\n",
        "    # len(movie_dataset)\n",
        "    def __len__(self):\n",
        "        return len(self.users)\n",
        "    # movie_dataset[1]\n",
        "    def __getitem__(self, item):\n",
        "\n",
        "        users = self.users[item]\n",
        "        movies = self.movies[item]\n",
        "        ratings = self.ratings[item]\n",
        "        genres = self.genres[item]\n",
        "\n",
        "        # If genres is already a tensor, return it as is\n",
        "        if isinstance(genres, torch.Tensor):\n",
        "            genres_tensor = genres\n",
        "        else:\n",
        "            genres_tensor = torch.tensor(genres, dtype=torch.long)\n",
        "\n",
        "        return {\n",
        "            \"users\": torch.tensor(users, dtype=torch.long),\n",
        "            \"movies\": torch.tensor(movies, dtype=torch.long),\n",
        "            \"ratings\": torch.tensor(ratings, dtype=torch.float),\n",
        "            \"genres\": genres_tensor\n",
        "        }"
      ]
    },
    {
      "cell_type": "code",
      "execution_count": null,
      "metadata": {
        "id": "1AOMcpAfj8pD"
      },
      "outputs": [],
      "source": [
        "df_train, df_valid = model_selection.train_test_split(\n",
        "    data, test_size=0.15, random_state=42, shuffle=True\n",
        ")\n",
        "\n",
        "train_dataset = MovieDataset(\n",
        "    users=df_train.Reviewer.values,\n",
        "    movies=df_train.Movie.values,\n",
        "    ratings=df_train.Score.values,\n",
        "    genres=df_train.padded_genre.values\n",
        ")\n",
        "\n",
        "valid_dataset = MovieDataset(\n",
        "    users=df_valid.Reviewer.values,\n",
        "    movies=df_valid.Movie.values,\n",
        "    ratings=df_valid.Score.values,\n",
        "    genres=df_valid.padded_genre.values\n",
        ")"
      ]
    },
    {
      "cell_type": "code",
      "execution_count": null,
      "metadata": {
        "colab": {
          "base_uri": "https://localhost:8080/"
        },
        "id": "i5sPfmsyj8pD",
        "outputId": "09e93dbb-ef52-453e-e602-d1b18cb86c52"
      },
      "outputs": [
        {
          "output_type": "stream",
          "name": "stdout",
          "text": [
            "DataLoader is now using GPU.\n"
          ]
        }
      ],
      "source": [
        "device = torch.device('cuda' if torch.cuda.is_available() else 'cpu')\n",
        "\n",
        "if torch.cuda.is_available():\n",
        "    train_loader = DataLoader(dataset=train_dataset,\n",
        "                          batch_size=32,\n",
        "                          shuffle=True,\n",
        "                          num_workers=2,\n",
        "                          pin_memory=True)\n",
        "\n",
        "    validation_loader = DataLoader(dataset=valid_dataset,\n",
        "                          batch_size=32,\n",
        "                          shuffle=False,\n",
        "                          num_workers=2,\n",
        "                          pin_memory=True)\n",
        "\n",
        "    print(\"DataLoader is now using GPU.\")\n",
        "else:\n",
        "    train_loader = DataLoader(dataset=train_dataset,\n",
        "                          batch_size=32,\n",
        "                          shuffle=True,\n",
        "                          num_workers=2)\n",
        "\n",
        "    validation_loader = DataLoader(dataset=valid_dataset,\n",
        "                          batch_size=32,\n",
        "                          shuffle=False,\n",
        "                          num_workers=2)\n",
        "    print(\"CUDA is not available. DataLoader remains on CPU.\")\n"
      ]
    },
    {
      "cell_type": "markdown",
      "metadata": {
        "id": "ht5SPgWRKH6V"
      },
      "source": [
        "# NCF"
      ]
    },
    {
      "cell_type": "markdown",
      "metadata": {
        "id": "JPNXcKMC_wt4"
      },
      "source": [
        "We use neural networks to model the intricate relationship & collaborative effect between user & ratings which cannot be captured effectively by matrix factorisation as it's interaction is only matrix mulitplication. Hence, we explore the use of neural networks where we use hidden layers to better understand & model this relationship.\n",
        "\n",
        "It takes in user & movie embeddings (OHV of users & movies represented in a smaller dimension to serve as a lookup table) and learns how to update the embeddings based on the loss\n"
      ]
    },
    {
      "cell_type": "code",
      "execution_count": null,
      "metadata": {
        "id": "GCCXuiuNj8pC"
      },
      "outputs": [],
      "source": [
        "class RecommendationSystemModel(nn.Module):\n",
        "    def __init__(\n",
        "        self,\n",
        "        num_users,\n",
        "        num_movies,\n",
        "        embedding_size=256,\n",
        "        # embedding is slightly larger as our num of movies is 5k - have more data but may overfit\n",
        "        hidden_dim=64,\n",
        "        dropout_rate=0.2,\n",
        "    ):\n",
        "        super(RecommendationSystemModel, self).__init__()\n",
        "        self.num_users = num_users\n",
        "        self.num_movies = num_movies\n",
        "        self.embedding_size = embedding_size\n",
        "        self.hidden_dim = hidden_dim\n",
        "\n",
        "        # Embedding layers - transforms categorical data like userID & movieID from OHV into a continuous denser space\n",
        "        # we pass in total number of users & the embedding dimension that we want\n",
        "        self.user_embedding = nn.Embedding(\n",
        "            num_embeddings=self.num_users, embedding_dim=self.embedding_size\n",
        "        )\n",
        "        self.movie_embedding = nn.Embedding(\n",
        "            num_embeddings=self.num_movies, embedding_dim=self.embedding_size\n",
        "        )\n",
        "\n",
        "        # Hidden layers\n",
        "        # cos you add both movie & user embeddings before passing through the first layer - capture info b/w the 2\n",
        "        self.fc1 = nn.Linear(2 * self.embedding_size, self.hidden_dim)\n",
        "\n",
        "        # final output is simply the predicted rating\n",
        "        self.fc2 = nn.Linear(self.hidden_dim, 1)\n",
        "\n",
        "        # Dropout layer\n",
        "        self.dropout = nn.Dropout(p=dropout_rate)\n",
        "\n",
        "        # Activation function -> minimise vanishing / exploding gradient problem & dont need to compute so much comapred to softmax\n",
        "        self.relu = nn.ReLU()\n",
        "\n",
        "    def forward(self, users, movies):\n",
        "        # Embeddings\n",
        "        user_embedded = self.user_embedding(users)\n",
        "        movie_embedded = self.movie_embedding(movies)\n",
        "\n",
        "        # Concatenate user and movie embeddings side by side\n",
        "        combined = torch.cat([user_embedded, movie_embedded], dim=1)\n",
        "\n",
        "        # Pass through hidden layers with ReLU activation and dropout\n",
        "        # model tries to learn ratings based on the combined user-movie representation\n",
        "        x = self.relu(self.fc1(combined))\n",
        "        x = self.dropout(x)\n",
        "        output = self.fc2(x)\n",
        "\n",
        "        return output"
      ]
    },
    {
      "cell_type": "markdown",
      "metadata": {
        "id": "PfpjccGoqOt2"
      },
      "source": [
        "Train the model, MSE Loss is used along with Adam Optimiser"
      ]
    },
    {
      "cell_type": "code",
      "execution_count": null,
      "metadata": {
        "id": "ajP5zYFXlNIw",
        "colab": {
          "base_uri": "https://localhost:8080/"
        },
        "outputId": "28d10128-241c-41c0-edb1-881f168dedc7"
      },
      "outputs": [
        {
          "output_type": "stream",
          "name": "stdout",
          "text": [
            "Training on 239590 samples...\n"
          ]
        },
        {
          "output_type": "stream",
          "name": "stderr",
          "text": [
            "\rTraining:   0%|          | 0/7488 [00:00<?, ?it/s]/usr/lib/python3.10/multiprocessing/popen_fork.py:66: RuntimeWarning: os.fork() was called. os.fork() is incompatible with multithreaded code, and JAX is multithreaded, so this will likely lead to a deadlock.\n",
            "  self.pid = os.fork()\n"
          ]
        }
      ],
      "source": [
        "recommendation_model = RecommendationSystemModel(\n",
        "    num_users=len(lbl_user.classes_),\n",
        "    num_movies=len(lbl_movie.classes_)\n",
        ").to(device)\n",
        "\n",
        "# set up optimisers & loss function\n",
        "optimizer = torch.optim.Adam(recommendation_model.parameters(), lr=1e-3) # fast convergence & decent performance\n",
        "loss_func = nn.MSELoss()\n",
        "\n",
        "EPOCHS = 2\n",
        "\n",
        "total_loss = 0\n",
        "log_progress_step = 100\n",
        "losses = []\n",
        "train_dataset_size = len(train_dataset)\n",
        "print(f\"Training on {train_dataset_size} samples...\")\n",
        "\n",
        "# set to training mode\n",
        "recommendation_model.train()\n",
        "for e in range(EPOCHS):\n",
        "    step_count = 0  # Reset step count at the beginning of each epoch\n",
        "\n",
        "    for train_data in tqdm(train_loader, desc=\"Training\", leave=False):\n",
        "          # run forward pass\n",
        "          output = recommendation_model(\n",
        "              train_data[\"users\"].to(device), train_data[\"movies\"].to(device)\n",
        "          )\n",
        "\n",
        "          # Reshape the model output to match the target's shape\n",
        "          # Removes the singleton dimension torch.size is [32,1] -> [32], why not 64?????\n",
        "          output = output.squeeze()\n",
        "\n",
        "          ratings = (train_data[\"ratings\"].to(torch.float32).to(device))\n",
        "\n",
        "          loss = loss_func(output, ratings)\n",
        "          total_loss += loss.sum().item()\n",
        "\n",
        "          optimizer.zero_grad()\n",
        "          loss.backward()\n",
        "          optimizer.step()\n"
      ]
    },
    {
      "cell_type": "markdown",
      "metadata": {
        "id": "hq87XDy_9X0Y"
      },
      "source": [
        "**Model Evaluation:**\n",
        "\n",
        "We create a dictionary of <user>: [(predicted rating, true rating)]. Then, we also keep track of total predicted & true ratings.\n",
        "\n",
        "We will only recommend the movie if it has a rating of more than 0.797980 (identified from EDA as the 75% percentile of ratings given)"
      ]
    },
    {
      "cell_type": "code",
      "execution_count": null,
      "metadata": {
        "id": "NsoPv3_J9BUK"
      },
      "outputs": [],
      "source": [
        "# create dictionaries with default values (in this case it will be a list) for keys that haven't been set yet\n",
        "# so that when we call for it we do not get an error\n",
        "user_ratings_comparison = defaultdict(list)\n",
        "\n",
        "y_test = []\n",
        "y_pred = []\n",
        "\n",
        "threshold = 0.797980\n",
        "def RecommendIf(val, threshold):\n",
        "  if val > threshold:\n",
        "    return 1\n",
        "  else:\n",
        "    return 0\n",
        "\n",
        "with torch.no_grad():\n",
        "    for valid_data in validation_loader:\n",
        "        users = valid_data[\"users\"].to(device)\n",
        "        movies = valid_data[\"movies\"].to(device)\n",
        "        ratings = valid_data[\"ratings\"].to(device)\n",
        "        output = recommendation_model(users, movies)\n",
        "\n",
        "        # key is user -> value is list of (predicted rating, true rating)\n",
        "        for user, pred, true in zip(users, output, ratings):\n",
        "            user_ratings_comparison[user.item()].append([pred[0].item(), true.item()])\n",
        "            y_test.append(RecommendIf(true, threshold))\n",
        "            y_pred.append(pred)"
      ]
    },
    {
      "cell_type": "markdown",
      "metadata": {
        "id": "ksWO-gEP9yJq"
      },
      "source": [
        "Function to calculate precision, recall & accuracy given a list of tuple of user ratings(predicted rating, true rating), top k value and the threshold. Note this will give the top k metrics ONLY for that USER.\n",
        "\n",
        "Hence, later we will report the average metrics for all users as the total evaludation metric for that model"
      ]
    },
    {
      "cell_type": "code",
      "execution_count": null,
      "metadata": {
        "id": "PF6DzJeE9yaI"
      },
      "outputs": [],
      "source": [
        "from collections import defaultdict\n",
        "\n",
        "def calculate_precision_recall_accuracy(user_ratings, k, threshold):\n",
        "    # sorts a list of user_ratings in descending order based on the first element of each tuple in the list\n",
        "    # -> get top K recommended by users given rating\n",
        "    # in this case the first element is the predicted rating\n",
        "    user_ratings.sort(key=lambda x: x[0], reverse=True)\n",
        "\n",
        "    # # the number of actual relevant item\n",
        "    # n_rel = sum(true_r >= threshold for _, true_r in user_ratings)\n",
        "    # # the number of predicted relevant item\n",
        "    # n_est = sum(est >= threshold for est, _ in user_ratings)\n",
        "\n",
        "    # the number of recommended item that are predicted relevent and within topk\n",
        "    n_rec_k = sum(est >= threshold for est, _ in user_ratings[:k])\n",
        "    # the number of actual relevant item and within topk\n",
        "    n_rel_k = sum(true_r >= threshold for _, true_r in user_ratings[:k])\n",
        "    # the number of recommented item that' is also actually relevant & predicted to be relevant in within topk\n",
        "    n_rel_and_rec_k = sum((true_r >= threshold) and (est >= threshold) for est, true_r in user_ratings[:k])\n",
        "\n",
        "    # number of items that are in topk but not recommended and predicted to be not recommended for top k\n",
        "    n_acc = sum( ((est <= threshold) & (act <= threshold)) for est, act in user_ratings[:k])\n",
        "\n",
        "    precision = n_rel_and_rec_k / n_rec_k if n_rec_k != 0 else 1\n",
        "    recall = n_rel_and_rec_k / n_rel_k if n_rel_k != 0 else 1\n",
        "    accuracy = (n_acc + n_rel_and_rec_k) / len(user_ratings)\n",
        "    return precision, recall, accuracy"
      ]
    },
    {
      "cell_type": "code",
      "execution_count": null,
      "metadata": {
        "id": "3AQtaRpZnDdS",
        "colab": {
          "base_uri": "https://localhost:8080/"
        },
        "outputId": "0ab84a71-3abe-4211-f200-50445e1f3e2c"
      },
      "outputs": [
        {
          "output_type": "stream",
          "name": "stdout",
          "text": [
            "average precision of top 5 movies recommended to them for all users: 0.8101\n",
            "average recall of top 5 movies recommended to them for all users: 0.7816\n",
            "average accuracy of top 5 movies recommended to them for all users: 0.6070\n"
          ]
        }
      ],
      "source": [
        "user_precisions = dict()\n",
        "user_based_recalls = dict()\n",
        "user_based_accuracy = dict()\n",
        "\n",
        "k = 5\n",
        "\n",
        "for user_id, user_ratings in user_ratings_comparison.items():\n",
        "    # get precision & recall metrics for each user\n",
        "    precision, recall,accuracy = calculate_precision_recall_accuracy(user_ratings, k, threshold)\n",
        "    user_precisions[user_id] = precision\n",
        "    user_based_recalls[user_id] = recall\n",
        "    user_based_accuracy[user_id] = accuracy\n",
        "\n",
        "# get average precision & recall for all users\n",
        "average_precision = sum(prec for prec in user_precisions.values()) / len(user_precisions)\n",
        "average_recall = sum(rec for rec in user_based_recalls.values()) / len(user_based_recalls)\n",
        "average_accuracy = sum(rec for rec in user_based_accuracy.values()) / len(user_based_accuracy)\n",
        "\n",
        "print(f\"average precision of top {k} movies recommended to them for all users: {average_precision:.4f}\")\n",
        "print(f\"average recall of top {k} movies recommended to them for all users: {average_recall:.4f}\")\n",
        "print(f\"average accuracy of top {k} movies recommended to them for all users: {average_accuracy:.4f}\")"
      ]
    },
    {
      "cell_type": "markdown",
      "metadata": {
        "id": "Mw6huSPYSIeR"
      },
      "source": [
        "We want to explore the distribution of user precision, recall & accuracy for their top 5 Recommendations. We use a barplot to identify any extra trends"
      ]
    },
    {
      "cell_type": "code",
      "execution_count": null,
      "metadata": {
        "colab": {
          "base_uri": "https://localhost:8080/",
          "height": 472
        },
        "id": "CgiqYxBmNnFe",
        "outputId": "a92ed00d-1919-4914-f9b1-8a7fdd7be9c9"
      },
      "outputs": [
        {
          "output_type": "display_data",
          "data": {
            "text/plain": [
              "<Figure size 640x480 with 1 Axes>"
            ],
            "image/png": "[encoded data removed]"
          },
          "metadata": {}
        }
      ],
      "source": [
        "plt.hist(user_precisions.values())\n",
        "\n",
        "for rect in plt.gca().patches:\n",
        "    y_value = rect.get_height()\n",
        "    x_value = rect.get_x() + rect.get_width() / 2\n",
        "\n",
        "    plt.text(x_value, y_value, f'{int(y_value)}', ha='center', va='bottom')\n",
        "\n",
        "plt.xlabel('Precision values')\n",
        "plt.ylabel('Count of users ')\n",
        "plt.title('Bar Plot with Precision of topk Recommendations')\n",
        "plt.show()"
      ]
    },
    {
      "cell_type": "code",
      "execution_count": null,
      "metadata": {
        "colab": {
          "base_uri": "https://localhost:8080/",
          "height": 472
        },
        "id": "RAhnoGI0A5Xs",
        "outputId": "efd54ebf-6fc8-463c-86c5-11b082cd8255"
      },
      "outputs": [
        {
          "output_type": "display_data",
          "data": {
            "text/plain": [
              "<Figure size 640x480 with 1 Axes>"
            ],
            "image/png": "[encoded data removed]"
          },
          "metadata": {}
        }
      ],
      "source": [
        "plt.hist(user_based_accuracy.values())\n",
        "\n",
        "for rect in plt.gca().patches:\n",
        "    y_value = rect.get_height()\n",
        "    x_value = rect.get_x() + rect.get_width() / 2\n",
        "\n",
        "    plt.text(x_value, y_value, f'{int(y_value)}', ha='center', va='bottom')\n",
        "\n",
        "plt.xlabel('Accuracy values')\n",
        "plt.ylabel('Count of users ')\n",
        "plt.title('Bar Plot with Accuracy of topk Recommendations')\n",
        "plt.show()"
      ]
    },
    {
      "cell_type": "code",
      "execution_count": null,
      "metadata": {
        "colab": {
          "base_uri": "https://localhost:8080/",
          "height": 472
        },
        "id": "A9Ib1VE_BOt3",
        "outputId": "972780cf-ea68-49c3-b84a-1216f494cfa5"
      },
      "outputs": [
        {
          "output_type": "display_data",
          "data": {
            "text/plain": [
              "<Figure size 640x480 with 1 Axes>"
            ],
            "image/png": "[encoded data removed]"
          },
          "metadata": {}
        }
      ],
      "source": [
        "plt.hist(user_based_recalls.values())\n",
        "\n",
        "for rect in plt.gca().patches:\n",
        "    y_value = rect.get_height()\n",
        "    x_value = rect.get_x() + rect.get_width() / 2\n",
        "\n",
        "    plt.text(x_value, y_value, f'{int(y_value)}', ha='center', va='bottom')\n",
        "\n",
        "plt.xlabel('Recall values')\n",
        "plt.ylabel('Count of users ')\n",
        "plt.title('Bar Plot with Recall of topk Recommendations')\n",
        "plt.show()"
      ]
    },
    {
      "cell_type": "markdown",
      "metadata": {
        "id": "-6DS2blKUB9t"
      },
      "source": [
        "**Analysis**\n",
        "\n",
        "There are some users where the model is not able to predict well where the metrics are <= 0.1. Hence, lets explore further in detail\n"
      ]
    },
    {
      "cell_type": "markdown",
      "metadata": {
        "id": "b5rg4RUQFFGU"
      },
      "source": [
        "\n",
        "\n",
        "---\n",
        "Lets check if for those that have poor recall, accuracy and precision: is the model unable to generalise becuase they have not rated enough movies? Is it the model's shortcoming or a data issue?\n",
        "\n",
        "\n"
      ]
    },
    {
      "cell_type": "code",
      "execution_count": null,
      "metadata": {
        "colab": {
          "base_uri": "https://localhost:8080/"
        },
        "id": "bNtqF41lSCB6",
        "outputId": "9c449ffa-f05d-449c-f606-b4b1cebff8cd"
      },
      "outputs": [
        {
          "output_type": "stream",
          "name": "stdout",
          "text": [
            "{1250: 1709, 2209: 1063, 3845: 831, 3573: 802, 3403: 796, 2910: 724, 2465: 593, 287: 572, 3075: 533, 4726: 477, 1678: 469, 1232: 448, 17: 438, 3986: 432, 4381: 430, 4730: 410, 3361: 398, 3017: 354, 3838: 354, 2510: 349, 482: 326, 2637: 305, 3733: 301, 4654: 296, 1264: 286, 2091: 282, 982: 262, 696: 262, 4611: 260, 3745: 249, 2292: 237, 116: 220, 2712: 214, 527: 213, 4721: 211, 3946: 191, 2676: 185, 624: 170, 3375: 169, 4461: 160, 2036: 139, 3852: 138, 3188: 111, 3506: 91, 4743: 72, 2250: 70, 3480: 55, 685: 52, 3861: 18, 3559: 10}\n"
          ]
        }
      ],
      "source": [
        "temp_list_recall = []\n",
        "temp_list_accuracy = []\n",
        "temp_list_precision = []\n",
        "for key, value in user_based_recalls.items():\n",
        "  if value <= 0.1:\n",
        "    temp_list_recall.append(key)\n",
        "\n",
        "for key, value in user_based_accuracy.items():\n",
        "  if value <= 0.1:\n",
        "    temp_list_accuracy.append(key)\n",
        "\n",
        "for key, value in user_precisions.items():\n",
        "  if value <= 0.1:\n",
        "    temp_list_precision.append(key)\n",
        "\n",
        "common_elements = set(temp_list_recall).intersection(temp_list_accuracy).intersection(temp_list_precision)\n",
        "\n",
        "common_elements_list = list(common_elements)\n",
        "value_counts = data['Reviewer'].value_counts().to_dict()\n",
        "filtered_dict = {key: value for key, value in value_counts.items() if key in common_elements_list}\n",
        "\n",
        "print(len(list(filtered_dict.items())))\n",
        "first_15_pairs = dict(list(filtered_dict.items()))\n",
        "print(first_15_pairs[:15])\n"
      ]
    },
    {
      "cell_type": "markdown",
      "source": [
        "Just these 13 people have consistently low accuracy, precision and recall scores (<=0.1). Hence, we hypothesise that likely these users have a very wide range of movie preferences making it difficult to correctly predict them"
      ],
      "metadata": {
        "id": "zP-omvQS7Bsm"
      }
    },
    {
      "cell_type": "markdown",
      "metadata": {
        "id": "axknrAV3G5rF"
      },
      "source": [
        "# More Complex NCF via HyperParam tuning\n",
        "Utilising a more complex architecture leads to a better performance than before due to the hidden layers being able to capture more nuances of the collaborative effect of users & movies & ratings"
      ]
    },
    {
      "cell_type": "markdown",
      "metadata": {
        "id": "bn11BX2vJ_BI"
      },
      "source": [
        "Test 1: Using (32,16,8) as dimensions for hidden layers along with same dropout & number of epochs as above, we get higher precision but lower recall & accuracy, this suggests that our model might be overfitting due to the extra layers\n",
        "\n",
        "Test 2: Using (32,4) with 2 epochs as dimensions for hidden layers to strike a balance between performance improvement & overfitting, leads to a negligible result\n",
        "\n",
        "![image.png](data:image/png;base64,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)"
      ]
    },
    {
      "cell_type": "markdown",
      "metadata": {
        "id": "oobCz-0IL8iK"
      },
      "source": [
        "Test 3: Perhaps a more complicated model, needs more training iterations or epoch (2 -> 5) for it to understand the complexities of the interactions and might need more training. From the above, the precision, recall & accuracy has increase significantly and hence, we realise that maybe 2 epochs is not enough to train the model.\n",
        "\n",
        "This is further supported by the fact that an increase in number of epochs does not improve a slightly less complex model as much as shown in comparison with the results below where using more epochs helped to improve performance. Hence, we use a more complex model\n",
        "\n"
      ]
    },
    {
      "cell_type": "markdown",
      "source": [
        "Defining the model"
      ],
      "metadata": {
        "id": "82tcUWjvyyyU"
      }
    },
    {
      "cell_type": "code",
      "execution_count": null,
      "metadata": {
        "id": "zXjKOZEN9zxU"
      },
      "outputs": [],
      "source": [
        "class RecommendationSystemModel2(nn.Module):\n",
        "    def __init__(\n",
        "        self,\n",
        "        num_users,\n",
        "        num_movies,\n",
        "        embedding_size=32,\n",
        "        # embedding is slightly larger as our num of movies is 5k - have more data but may overfit\n",
        "        hidden_dim=(32,16,8),\n",
        "        dropout_rate=0.2,\n",
        "    ):\n",
        "        super(RecommendationSystemModel2, self).__init__()\n",
        "        self.num_users = num_users\n",
        "        self.num_movies = num_movies\n",
        "        self.embedding_size = embedding_size\n",
        "        self.hidden_dim = hidden_dim\n",
        "\n",
        "        # Embedding layers - transforms categorical data like userID & movieID into a continuous space\n",
        "        # we pass in total number of users & the embedding dimension\n",
        "        self.user_embedding = nn.Embedding(\n",
        "            num_embeddings=self.num_users, embedding_dim=self.embedding_size\n",
        "        )\n",
        "        self.movie_embedding = nn.Embedding(\n",
        "            num_embeddings=self.num_movies, embedding_dim=self.embedding_size\n",
        "        )\n",
        "\n",
        "        # creating a more complex hidden layer set up - ONLY CHANGE MADE !!!!!!!!!!!!!!!!\n",
        "        hidden_layers = []\n",
        "        input_units = 64\n",
        "        for num_units in [32,16,8]:\n",
        "          hidden_layers.append(nn.Linear(input_units, num_units))\n",
        "          hidden_layers.append(nn.ReLU())\n",
        "          hidden_layers.append(nn.Dropout(p=dropout_rate))\n",
        "          input_units = num_units\n",
        "\n",
        "        hidden_layers.append(nn.Linear(8,1))\n",
        "\n",
        "        self.MLP = nn.Sequential(*hidden_layers)\n",
        "\n",
        "\n",
        "    def forward(self, users, movies):\n",
        "        # Embeddings\n",
        "        user_embedded = self.user_embedding(users)\n",
        "        movie_embedded = self.movie_embedding(movies)\n",
        "\n",
        "        # Concatenate user and movie embeddings\n",
        "        combined = torch.cat([user_embedded, movie_embedded], dim=1)\n",
        "\n",
        "        output = self.MLP(combined)\n",
        "\n",
        "        return output"
      ]
    },
    {
      "cell_type": "markdown",
      "source": [
        "Train the Model"
      ],
      "metadata": {
        "id": "BbsPRPwFyw8B"
      }
    },
    {
      "cell_type": "code",
      "execution_count": null,
      "metadata": {
        "id": "P09oDMxJGebW",
        "colab": {
          "base_uri": "https://localhost:8080/"
        },
        "outputId": "2d4e2993-1c05-4690-9323-7524ba516646"
      },
      "outputs": [
        {
          "output_type": "stream",
          "name": "stdout",
          "text": [
            "Training on 239590 samples...\n"
          ]
        },
        {
          "output_type": "stream",
          "name": "stderr",
          "text": [
            " | Step: 239590/239590 | Avg Loss: 0.003000359"
          ]
        }
      ],
      "source": [
        "recommendation_model2 = RecommendationSystemModel2(\n",
        "    num_users=len(lbl_user.classes_),\n",
        "    num_movies=len(lbl_movie.classes_)\n",
        ").to(device)\n",
        "\n",
        "# set up optimisers & loss function\n",
        "optimizer = torch.optim.Adam(recommendation_model2.parameters(), lr=1e-3) # fast convergence & decent performance\n",
        "loss_func = nn.MSELoss()\n",
        "\n",
        "EPOCHS = 5\n",
        "\n",
        "import sys\n",
        "# Function to log progress\n",
        "def log_progress(epoch, step, total_loss, log_progress_step, data_size, losses):\n",
        "    avg_loss = total_loss / log_progress_step\n",
        "    sys.stderr.write(\n",
        "        f\"\\r | Step: {step}/{data_size} | Avg Loss: {avg_loss:<6.9f}\"\n",
        "    )\n",
        "    sys.stderr.flush()\n",
        "    # add to the loss, to find average later\n",
        "    losses.append(avg_loss)\n",
        "\n",
        "total_loss = 0\n",
        "log_progress_step = 100\n",
        "losses = []\n",
        "train_dataset_size = len(train_dataset)\n",
        "print(f\"Training on {train_dataset_size} samples...\")\n",
        "\n",
        "# set to training mode\n",
        "recommendation_model2.train()\n",
        "for e in range(EPOCHS):\n",
        "    step_count = 0  # Reset step count at the beginning of each epoch\n",
        "\n",
        "    for i, train_data in enumerate(train_loader):\n",
        "          # run forward pass\n",
        "          output = recommendation_model2(\n",
        "              train_data[\"users\"].to(device), train_data[\"movies\"].to(device)\n",
        "          )\n",
        "\n",
        "          # Reshape the model output to match the target's shape\n",
        "          # Removes the singleton dimension torch.size is [32,1] -> [32], why not 64?????\n",
        "          output = output.squeeze()\n",
        "\n",
        "          ratings = (train_data[\"ratings\"].to(torch.float32).to(device))\n",
        "\n",
        "          loss = loss_func(output, ratings)\n",
        "          total_loss += loss.sum().item()\n",
        "\n",
        "          optimizer.zero_grad()\n",
        "          loss.backward()\n",
        "          optimizer.step()\n",
        "\n",
        "          # Increment step count by the actual size of the batch\n",
        "          step_count += len(train_data[\"users\"])\n",
        "\n",
        "          # Check if it's time to log progress\n",
        "          if (step_count % log_progress_step == 0 or i == len(train_loader) - 1):  # Log at the end of each epoch\n",
        "              log_progress(e, step_count, total_loss, log_progress_step, train_dataset_size, losses)\n",
        "              total_loss = 0"
      ]
    },
    {
      "cell_type": "code",
      "execution_count": null,
      "metadata": {
        "id": "1weMsfKyHTzS",
        "colab": {
          "base_uri": "https://localhost:8080/"
        },
        "outputId": "85c5af82-941a-4b6c-b74f-80b8a7f78cf4"
      },
      "outputs": [
        {
          "output_type": "stream",
          "name": "stdout",
          "text": [
            "average precision of top 5 movies recommended to them for all users: 0.8138\n",
            "average recall of top 5 movies recommended to them for all users: 0.7688\n",
            "average accuracy of top 5 movies recommended to them for all users: 0.6032\n"
          ]
        }
      ],
      "source": [
        "# create dictionaries with default values (in this case it will be a list) for keys that haven't been set yet\n",
        "# so that when we call for it we do not get an error\n",
        "user_ratings_comparison = defaultdict(list)\n",
        "\n",
        "y_test = []\n",
        "y_pred = []\n",
        "\n",
        "threshold = 0.797980\n",
        "def RecommendIf(val, threshold):\n",
        "  if val > threshold:\n",
        "    return 1\n",
        "  else:\n",
        "    return 0\n",
        "\n",
        "with torch.no_grad():\n",
        "    for valid_data in validation_loader:\n",
        "        users = valid_data[\"users\"].to(device)\n",
        "        movies = valid_data[\"movies\"].to(device)\n",
        "        ratings = valid_data[\"ratings\"].to(device)\n",
        "        output = recommendation_model2(users, movies)\n",
        "\n",
        "        # key is user -> value is list of (predicted rating, true rating)\n",
        "        for user, pred, true in zip(users, output, ratings):\n",
        "            user_ratings_comparison[user.item()].append([pred[0].item(), true.item()])\n",
        "            y_test.append(RecommendIf(true, threshold))\n",
        "            y_pred.append(pred)\n",
        "\n",
        "user_precisions = dict()\n",
        "user_based_recalls = dict()\n",
        "\n",
        "k = 5\n",
        "\n",
        "for user_id, user_ratings in user_ratings_comparison.items():\n",
        "    # get precision & recall metrics for each user\n",
        "    precision, recall,accuracy = calculate_precision_recall_accuracy(user_ratings, k, threshold)\n",
        "    user_precisions[user_id] = precision\n",
        "    user_based_recalls[user_id] = recall\n",
        "    user_based_accuracy[user_id] = accuracy\n",
        "\n",
        "# get average precision & recall for all users\n",
        "average_precision = sum(prec for prec in user_precisions.values()) / len(user_precisions)\n",
        "average_recall = sum(rec for rec in user_based_recalls.values()) / len(user_based_recalls)\n",
        "average_accuracy = sum(rec for rec in user_based_accuracy.values()) / len(user_based_accuracy)\n",
        "\n",
        "print(f\"average precision of top {k} movies recommended to them for all users: {average_precision:.4f}\")\n",
        "print(f\"average recall of top {k} movies recommended to them for all users: {average_recall:.4f}\")\n",
        "print(f\"average accuracy of top {k} movies recommended to them for all users: {average_accuracy:.4f}\")"
      ]
    },
    {
      "cell_type": "markdown",
      "source": [
        "Prediction on Training Set"
      ],
      "metadata": {
        "id": "FqAs_rUJgeXc"
      }
    },
    {
      "cell_type": "code",
      "source": [
        "# create dictionaries with default values (in this case it will be a list) for keys that haven't been set yet\n",
        "# so that when we call for it we do not get an error\n",
        "user_ratings_comparison2 = defaultdict(list)\n",
        "\n",
        "y_test2 = []\n",
        "y_pred2 = []\n",
        "\n",
        "threshold = 0.797980\n",
        "def RecommendIf(val, threshold):\n",
        "  if val > threshold:\n",
        "    return 1\n",
        "  else:\n",
        "    return 0\n",
        "\n",
        "with torch.no_grad():\n",
        "    for train_data in train_loader:\n",
        "        users = train_data[\"users\"].to(device)\n",
        "        movies = train_data[\"movies\"].to(device)\n",
        "        ratings = train_data[\"ratings\"].to(device)\n",
        "        output = recommendation_model2(users, movies)\n",
        "\n",
        "        # key is user -> value is list of (predicted rating, true rating)\n",
        "        for user, pred, true in zip(users, output, ratings):\n",
        "            user_ratings_comparison2[user.item()].append([pred[0].item(), true.item()])\n",
        "            y_test2.append(RecommendIf(true, threshold))\n",
        "            y_pred2.append(pred)\n",
        "\n",
        "user_precisions = dict()\n",
        "user_based_recalls = dict()\n",
        "user_based_accuracy = dict()\n",
        "\n",
        "k = 5\n",
        "\n",
        "for user_id, user_ratings in user_ratings_comparison2.items():\n",
        "    # get precision & recall metrics for each user\n",
        "    precision, recall,accuracy = calculate_precision_recall_accuracy(user_ratings, k, threshold)\n",
        "    user_precisions[user_id] = precision\n",
        "    user_based_recalls[user_id] = recall\n",
        "    user_based_accuracy[user_id] = accuracy\n",
        "\n",
        "# get average precision & recall for all users\n",
        "average_precision = sum(prec for prec in user_precisions.values()) / len(user_precisions)\n",
        "average_recall = sum(rec for rec in user_based_recalls.values()) / len(user_based_recalls)\n",
        "average_accuracy = sum(rec for rec in user_based_accuracy.values()) / len(user_based_accuracy)\n",
        "\n",
        "print(f\"average precision of top {k} movies recommended to them for all users - training: {average_precision:.4f}\")\n",
        "print(f\"average recall of top {k} movies recommended to them for all users - training: {average_recall:.4f}\")\n",
        "print(f\"average accuracy of top {k} movies recommended to them for all users - training: {average_accuracy:.4f}\")"
      ],
      "metadata": {
        "id": "gXdmepq5gdN_",
        "colab": {
          "base_uri": "https://localhost:8080/"
        },
        "outputId": "f9de596d-9100-4559-c9a3-8c54fad64fd2"
      },
      "execution_count": null,
      "outputs": [
        {
          "output_type": "stream",
          "name": "stdout",
          "text": [
            "average precision of top 5 movies recommended to them for all users - training: 0.7922\n",
            "average recall of top 5 movies recommended to them for all users - training: 0.7949\n",
            "average accuracy of top 5 movies recommended to them for all users - training: 0.5198\n"
          ]
        }
      ]
    },
    {
      "cell_type": "markdown",
      "source": [
        "Prediction to find top 5 recommended movies for 1 user (We use Dennis Schwartz)"
      ],
      "metadata": {
        "id": "wIly2PzbsfMm"
      }
    },
    {
      "cell_type": "code",
      "source": [
        "user_ratings_comparison = defaultdict(list)\n",
        "\n",
        "dennis_id = lbl_user.transform(['Dennis Schwartz'])[0]\n",
        "\n",
        "y_test = []\n",
        "y_pred = []\n",
        "\n",
        "threshold = 0.797980\n",
        "\n",
        "dennis_predictions = []\n",
        "\n",
        "with torch.no_grad():\n",
        "    for valid_data in validation_loader:\n",
        "        users = valid_data[\"users\"].to(device)\n",
        "        movies = valid_data[\"movies\"].to(device)\n",
        "        ratings = valid_data[\"ratings\"].to(device)\n",
        "        outputs = recommendation_model2(users, movies)\n",
        "\n",
        "        for user, pred, true in zip(users, outputs, ratings):\n",
        "            user_ratings_comparison[user.item()].append([pred.item(), true.item()])\n",
        "            if user.item() == dennis_id:\n",
        "                dennis_predictions.append((movies[int(pred.item())].cpu(), pred.item(), true.item()))\n",
        "            y_test.append(RecommendIf(true, threshold))\n",
        "            y_pred.append(pred)\n",
        "\n",
        "# Sort list of predictions for Dennis based on predicted ratings, descending order\n",
        "dennis_predictions.sort(key=lambda x: x[1], reverse=True)\n",
        "\n",
        "# Select top 5 predictions\n",
        "top_5_recommendations = dennis_predictions[:5]\n",
        "\n",
        "print(\"Top 5 recommendations for Dennis Schwartz:\")\n",
        "for movie_id, pred_rating, actual_rating in top_5_recommendations:\n",
        "    # Convert movie ID back to movie name\n",
        "    movie_name = lbl_movie.inverse_transform([movie_id.cpu()])[0]\n",
        "    print(f\"Movie: {movie_name}, Predicted Rating: {pred_rating:.2f}, Actual Rating: {actual_rating:.2f}\")"
      ],
      "metadata": {
        "id": "Wthu0metsm3T",
        "colab": {
          "base_uri": "https://localhost:8080/"
        },
        "outputId": "d5730e71-ca96-4780-d497-86cc96465d22"
      },
      "execution_count": null,
      "outputs": [
        {
          "output_type": "stream",
          "name": "stderr",
          "text": [
            "/usr/lib/python3.10/multiprocessing/popen_fork.py:66: RuntimeWarning: os.fork() was called. os.fork() is incompatible with multithreaded code, and JAX is multithreaded, so this will likely lead to a deadlock.\n",
            "  self.pid = os.fork()\n"
          ]
        },
        {
          "output_type": "stream",
          "name": "stdout",
          "text": [
            "Top 5 recommendations for Dennis Schwartz:\n",
            "Movie: SEX AND DEATH 101, Predicted Rating: 0.99, Actual Rating: 0.84\n",
            "Movie: THE OTHER BOLEYN GIRL, Predicted Rating: 0.98, Actual Rating: 0.79\n",
            "Movie: CARNAGE, Predicted Rating: 0.95, Actual Rating: 0.89\n",
            "Movie: HOW TO LOSE FRIENDS & ALIENATE PEOPLE, Predicted Rating: 0.94, Actual Rating: 0.94\n",
            "Movie: THE TREE, Predicted Rating: 0.93, Actual Rating: 0.79\n"
          ]
        }
      ]
    },
    {
      "cell_type": "markdown",
      "source": [
        "# Neural Collaborative Filtering + Genres\n",
        "(modified to consider CF & word embeddings of genres)"
      ],
      "metadata": {
        "id": "HrL0UKwYAoCm"
      }
    },
    {
      "cell_type": "markdown",
      "source": [
        "Setting up of Word embeddings of genres"
      ],
      "metadata": {
        "id": "Aeu-Vr1mA5HY"
      }
    },
    {
      "cell_type": "code",
      "source": [
        "import torch\n",
        "import torch.nn as nn\n",
        "import torch.nn.functional as F\n",
        "import nltk\n",
        "from nltk.corpus import stopwords\n",
        "import string\n",
        "import re\n",
        "import seaborn as sns\n",
        "from tqdm import tqdm\n",
        "import matplotlib.pyplot as plt\n",
        "from torch.utils.data import TensorDataset, DataLoader\n",
        "from nltk.tokenize import word_tokenize\n",
        "import gensim\n",
        "from gensim.models import Word2Vec\n",
        "from gensim.models.keyedvectors import KeyedVectors\n",
        "from nltk.tokenize import word_tokenize\n",
        "import pandas as pd\n",
        "import numpy as np\n",
        "\n",
        "nltk.download('punkt')\n",
        "nltk.download('stopwords')"
      ],
      "metadata": {
        "colab": {
          "base_uri": "https://localhost:8080/"
        },
        "id": "MkmZBQmsAuVc",
        "outputId": "ab99e420-65a4-4088-8755-2bdbbcfb682a"
      },
      "execution_count": null,
      "outputs": [
        {
          "output_type": "stream",
          "name": "stderr",
          "text": [
            "[nltk_data] Downloading package punkt to /root/nltk_data...\n",
            "[nltk_data]   Unzipping tokenizers/punkt.zip.\n",
            "[nltk_data] Downloading package stopwords to /root/nltk_data...\n",
            "[nltk_data]   Unzipping corpora/stopwords.zip.\n"
          ]
        },
        {
          "output_type": "execute_result",
          "data": {
            "text/plain": [
              "True"
            ]
          },
          "metadata": {},
          "execution_count": 32
        }
      ]
    },
    {
      "cell_type": "markdown",
      "source": [
        "Set up Model"
      ],
      "metadata": {
        "id": "jemQJ-ykCZ-5"
      }
    },
    {
      "cell_type": "code",
      "source": [
        "class RecommendationSystemModel3(nn.Module):\n",
        "    def __init__(\n",
        "        self,\n",
        "        num_users,\n",
        "        num_movies,\n",
        "        embedding_size=32,\n",
        "        # embedding is slightly larger as our num of movies is 5k - have more data but may overfit\n",
        "        hidden_dim=(32,16,8),\n",
        "        dropout_rate=0.2,\n",
        "    ):\n",
        "        super(RecommendationSystemModel3, self).__init__()\n",
        "        self.num_users = num_users\n",
        "        self.num_movies = num_movies\n",
        "        self.num_genres = 21\n",
        "        self.embedding_size = embedding_size\n",
        "        self.hidden_dim = hidden_dim\n",
        "\n",
        "        # Embedding layers - transforms categorical data like userID & movieID into a continuous space\n",
        "        # we pass in total number of users & the embedding dimension\n",
        "        self.user_embedding = nn.Embedding(\n",
        "            num_embeddings=self.num_users, embedding_dim=self.embedding_size\n",
        "        )\n",
        "        self.movie_embedding = nn.Embedding(\n",
        "            num_embeddings=self.num_movies, embedding_dim=self.embedding_size\n",
        "        )\n",
        "\n",
        "        self.genre_embedding = nn.Embedding(\n",
        "            num_embeddings=self.num_genres, embedding_dim=21\n",
        "        )\n",
        "\n",
        "        # creating a more complex hidden layer set up - ONLY CHANGE MADE !!!!!!!!!!!!!!!!\n",
        "        hidden_layers = []\n",
        "        input_units = 64 + 21\n",
        "        for num_units in [32,16,8]:\n",
        "          hidden_layers.append(nn.Linear(input_units, num_units))\n",
        "          hidden_layers.append(nn.ReLU())\n",
        "          hidden_layers.append(nn.Dropout(p=dropout_rate))\n",
        "          input_units = num_units\n",
        "\n",
        "        hidden_layers.append(nn.Linear(8,1))\n",
        "\n",
        "        self.MLP = nn.Sequential(*hidden_layers)\n",
        "\n",
        "\n",
        "    def forward(self, users, movies, genres):\n",
        "        # Embeddings\n",
        "        user_embedded = self.user_embedding(users)\n",
        "        movie_embedded = self.movie_embedding(movies)\n",
        "        genres_embedded = genres\n",
        "\n",
        "        # Concatenate user and movie embeddings\n",
        "        combined = torch.cat([user_embedded, movie_embedded, genres_embedded], dim=1)\n",
        "\n",
        "        output = self.MLP(combined)\n",
        "\n",
        "        return output"
      ],
      "metadata": {
        "id": "hZ-fzMPJCbfL"
      },
      "execution_count": null,
      "outputs": []
    },
    {
      "cell_type": "code",
      "source": [
        "recommendation_model = RecommendationSystemModel3(\n",
        "    num_users=len(lbl_user.classes_),\n",
        "    num_movies=len(lbl_movie.classes_)\n",
        ").to(device)\n",
        "\n",
        "optimizer = torch.optim.Adam(recommendation_model.parameters(), lr=1e-3) # fast convergence & decent performance\n",
        "loss_func = nn.MSELoss()\n",
        "\n",
        "EPOCHS = 15\n",
        "\n",
        "total_loss = 0\n",
        "log_progress_step = 100\n",
        "losses = []\n",
        "train_dataset_size = len(train_dataset)\n",
        "print(f\"Training on {train_dataset_size} samples...\")\n",
        "\n",
        "# set to training mode\n",
        "recommendation_model.train()\n",
        "for e in range(EPOCHS):\n",
        "    step_count = 0  # Reset step count at the beginning of each epoch\n",
        "\n",
        "    for train_data in tqdm(train_loader, desc=\"Training\", leave=False):\n",
        "          # run forward pass\n",
        "          output = recommendation_model(\n",
        "              train_data[\"users\"].to(device), train_data[\"movies\"].to(device), train_data['genres'].to(device)\n",
        "          )\n",
        "\n",
        "          # Reshape the model output to match the target's shape\n",
        "          # Removes the singleton dimension torch.size is [32,1] -> [32], why not 64?????\n",
        "          output = output.squeeze()\n",
        "\n",
        "          ratings = (train_data[\"ratings\"].to(torch.float32).to(device))\n",
        "\n",
        "          loss = loss_func(output, ratings)\n",
        "          total_loss += loss.sum().item()\n",
        "\n",
        "          optimizer.zero_grad()\n",
        "          loss.backward()\n",
        "          optimizer.step()\n"
      ],
      "metadata": {
        "colab": {
          "base_uri": "https://localhost:8080/"
        },
        "id": "1AoWVTPsPSea",
        "outputId": "5154b41f-b9c3-465d-f77f-db626ccaae00"
      },
      "execution_count": null,
      "outputs": [
        {
          "output_type": "stream",
          "name": "stdout",
          "text": [
            "Training on 239590 samples...\n"
          ]
        },
        {
          "output_type": "stream",
          "name": "stderr",
          "text": [
            "\rTraining:   0%|          | 0/7488 [00:00<?, ?it/s]/usr/lib/python3.10/multiprocessing/popen_fork.py:66: RuntimeWarning: os.fork() was called. os.fork() is incompatible with multithreaded code, and JAX is multithreaded, so this will likely lead to a deadlock.\n",
            "  self.pid = os.fork()\n",
            "Training: 100%|█████████▉| 7487/7488 [00:48<00:00, 116.85it/s]/usr/lib/python3.10/multiprocessing/popen_fork.py:66: RuntimeWarning: os.fork() was called. os.fork() is incompatible with multithreaded code, and JAX is multithreaded, so this will likely lead to a deadlock.\n",
            "  self.pid = os.fork()\n"
          ]
        }
      ]
    },
    {
      "cell_type": "code",
      "source": [
        "# create dictionaries with default values (in this case it will be a list) for keys that haven't been set yet\n",
        "# so that when we call for it we do not get an error\n",
        "user_ratings_comparison = defaultdict(list)\n",
        "\n",
        "y_test = []\n",
        "y_pred = []\n",
        "\n",
        "threshold = 0.797980\n",
        "def RecommendIf(val, threshold):\n",
        "  if val > threshold:\n",
        "    return 1\n",
        "  else:\n",
        "    return 0\n",
        "\n",
        "with torch.no_grad():\n",
        "    for valid_data in validation_loader:\n",
        "        users = valid_data[\"users\"].to(device)\n",
        "        movies = valid_data[\"movies\"].to(device)\n",
        "        ratings = valid_data[\"ratings\"].to(device)\n",
        "        genres = valid_data[\"genres\"].to(device)\n",
        "        output = recommendation_model(users, movies, genres)\n",
        "\n",
        "        # key is user -> value is list of (predicted rating, true rating)\n",
        "        for user, pred, true in zip(users, output, ratings):\n",
        "            user_ratings_comparison[user.item()].append([pred[0].item(), true.item()])\n",
        "            y_test.append(RecommendIf(true, threshold))\n",
        "            y_pred.append(pred)\n",
        "\n",
        "user_precisions = dict()\n",
        "user_based_recalls = dict()\n",
        "user_based_accuracy = dict()\n",
        "k = 5\n",
        "\n",
        "for user_id, user_ratings in user_ratings_comparison.items():\n",
        "    # get precision & recall metrics for each user\n",
        "    precision, recall,accuracy = calculate_precision_recall_accuracy(user_ratings, k, threshold)\n",
        "    user_precisions[user_id] = precision\n",
        "    user_based_recalls[user_id] = recall\n",
        "    user_based_accuracy[user_id] = accuracy\n",
        "\n",
        "# get average precision & recall for all users\n",
        "average_precision = sum(prec for prec in user_precisions.values()) / len(user_precisions)\n",
        "average_recall = sum(rec for rec in user_based_recalls.values()) / len(user_based_recalls)\n",
        "average_accuracy = sum(rec for rec in user_based_accuracy.values()) / len(user_based_accuracy)\n",
        "\n",
        "print(f\"average precision of top {k} movies recommended to them for all users: {average_precision:.4f}\")\n",
        "print(f\"average recall of top {k} movies recommended to them for all users: {average_recall:.4f}\")\n",
        "print(f\"average accuracy of top {k} movies recommended to them for all users: {average_accuracy:.4f}\")"
      ],
      "metadata": {
        "colab": {
          "base_uri": "https://localhost:8080/"
        },
        "id": "HrEQYD5MbqFO",
        "outputId": "435afab0-95e5-4c21-bfab-2c891448b720"
      },
      "execution_count": null,
      "outputs": [
        {
          "output_type": "stream",
          "name": "stdout",
          "text": [
            "average precision of top 5 movies recommended to them for all users: 0.8429\n",
            "average recall of top 5 movies recommended to them for all users: 0.7593\n",
            "average accuracy of top 5 movies recommended to them for all users: 0.6142\n"
          ]
        }
      ]
    },
    {
      "cell_type": "markdown",
      "source": [
        "Prediction on Training set"
      ],
      "metadata": {
        "id": "ZntdRIdPi-pt"
      }
    },
    {
      "cell_type": "code",
      "source": [
        "# create dictionaries with default values (in this case it will be a list) for keys that haven't been set yet\n",
        "# so that when we call for it we do not get an error\n",
        "user_ratings_comparison2 = defaultdict(list)\n",
        "\n",
        "y_test = []\n",
        "y_pred = []\n",
        "\n",
        "threshold = 0.797980\n",
        "def RecommendIf(val, threshold):\n",
        "  if val > threshold:\n",
        "    return 1\n",
        "  else:\n",
        "    return 0\n",
        "\n",
        "with torch.no_grad():\n",
        "    for train_data in train_loader:\n",
        "        users = train_data[\"users\"].to(device)\n",
        "        movies = train_data[\"movies\"].to(device)\n",
        "        ratings = train_data[\"ratings\"].to(device)\n",
        "        genres = train_data[\"genres\"].to(device)\n",
        "        output = recommendation_model(users, movies, genres)\n",
        "\n",
        "        # key is user -> value is list of (predicted rating, true rating)\n",
        "        for user, pred, true in zip(users, output, ratings):\n",
        "            user_ratings_comparison2[user.item()].append([pred[0].item(), true.item()])\n",
        "            y_test.append(RecommendIf(true, threshold))\n",
        "            y_pred.append(pred)\n",
        "\n",
        "user_precisions = dict()\n",
        "user_based_recalls = dict()\n",
        "user_based_accuracy = dict()\n",
        "k = 5\n",
        "\n",
        "for user_id, user_ratings in user_ratings_comparison2.items():\n",
        "    # get precision & recall metrics for each user\n",
        "    precision, recall,accuracy = calculate_precision_recall_accuracy(user_ratings, k, threshold)\n",
        "    user_precisions[user_id] = precision\n",
        "    user_based_recalls[user_id] = recall\n",
        "    user_based_accuracy[user_id] = accuracy\n",
        "\n",
        "# get average precision & recall for all users\n",
        "average_precision = sum(prec for prec in user_precisions.values()) / len(user_precisions)\n",
        "average_recall = sum(rec for rec in user_based_recalls.values()) / len(user_based_recalls)\n",
        "average_accuracy = sum(rec for rec in user_based_accuracy.values()) / len(user_based_accuracy)\n",
        "\n",
        "print(f\"average precision of top {k} movies recommended to them for all users - training: {average_precision:.4f}\")\n",
        "print(f\"average recall of top {k} movies recommended to them for all users - training: {average_recall:.4f}\")\n",
        "print(f\"average accuracy of top {k} movies recommended to them for all users - training: {average_accuracy:.4f}\")"
      ],
      "metadata": {
        "colab": {
          "base_uri": "https://localhost:8080/"
        },
        "id": "FPD-1zD3jAvU",
        "outputId": "2149f77b-48f4-4567-ce3a-c6ed5a23a37c"
      },
      "execution_count": null,
      "outputs": [
        {
          "output_type": "stream",
          "name": "stdout",
          "text": [
            "average precision of top 10 movies recommended to them for all users - training: 0.8075\n",
            "average recall of top 10 movies recommended to them for all users - training: 0.7420\n",
            "average accuracy of top 10 movies recommended to them for all users - training: 0.6166\n"
          ]
        }
      ]
    },
    {
      "cell_type": "markdown",
      "source": [
        "Evaluation of training data with K = 5 to standardise"
      ],
      "metadata": {
        "id": "N6UU_BOpN3Wr"
      }
    },
    {
      "cell_type": "markdown",
      "source": [
        "![image.png](data:image/png;base64,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)"
      ],
      "metadata": {
        "id": "aO_TFVOtz0gK"
      }
    },
    {
      "cell_type": "markdown",
      "source": [
        "Prediction to find top 5 recommended movies for 1 user (We use Dennis Schwartz)"
      ],
      "metadata": {
        "id": "s7W8Y4fz_jw_"
      }
    },
    {
      "cell_type": "code",
      "source": [
        "user_ratings_comparison = defaultdict(list)\n",
        "\n",
        "dennis_id = lbl_user.transform(['Dennis Schwartz'])[0]\n",
        "\n",
        "y_test = []\n",
        "y_pred = []\n",
        "\n",
        "threshold = 0.797980\n",
        "\n",
        "dennis_predictions = []\n",
        "\n",
        "with torch.no_grad():\n",
        "    for valid_data in validation_loader:\n",
        "        users = valid_data[\"users\"].to(device)\n",
        "        movies = valid_data[\"movies\"].to(device)\n",
        "        ratings = valid_data[\"ratings\"].to(device)\n",
        "        outputs = recommendation_model2(users, movies)\n",
        "\n",
        "        for user, pred, true in zip(users, outputs, ratings):\n",
        "            user_ratings_comparison[user.item()].append([pred.item(), true.item()])\n",
        "            if user.item() == dennis_id:\n",
        "                dennis_predictions.append((movies[int(pred.item())].cpu(), pred.item(), true.item()))\n",
        "            y_test.append(RecommendIf(true, threshold))\n",
        "            y_pred.append(pred)\n",
        "\n",
        "# Sort list of predictions for Dennis based on predicted ratings, descending order\n",
        "dennis_predictions.sort(key=lambda x: x[1], reverse=True)\n",
        "\n",
        "# Select top 5 predictions\n",
        "top_5_recommendations = dennis_predictions[:5]\n",
        "\n",
        "print(\"Top 10 recommendations for Dennis Schwartz:\")\n",
        "for movie_id, pred_rating, actual_rating in top_5_recommendations:\n",
        "    # Convert movie ID back to movie name\n",
        "    movie_name = lbl_movie.inverse_transform([movie_id.cpu()])[0]\n",
        "    print(f\"Movie: {movie_name}, Predicted Rating: {pred_rating:.2f}, Actual Rating: {actual_rating:.2f}\")\n"
      ],
      "metadata": {
        "colab": {
          "base_uri": "https://localhost:8080/"
        },
        "id": "J5YDiRYp4vQO",
        "outputId": "e003f96a-efc6-4fd5-9c68-bfc79a30c52a"
      },
      "execution_count": null,
      "outputs": [
        {
          "output_type": "stream",
          "name": "stderr",
          "text": [
            "/usr/lib/python3.10/multiprocessing/popen_fork.py:66: RuntimeWarning: os.fork() was called. os.fork() is incompatible with multithreaded code, and JAX is multithreaded, so this will likely lead to a deadlock.\n",
            "  self.pid = os.fork()\n"
          ]
        },
        {
          "output_type": "stream",
          "name": "stdout",
          "text": [
            "Top 10 recommendations for Dennis Schwartz:\n",
            "Movie: HOW TO LOSE FRIENDS & ALIENATE PEOPLE, Predicted Rating: 0.95, Actual Rating: 0.94\n",
            "Movie: FLASH OF GENIUS, Predicted Rating: 0.92, Actual Rating: 0.79\n",
            "Movie: JENNIFER'S BODY, Predicted Rating: 0.92, Actual Rating: 0.84\n",
            "Movie: MELANCHOLIA, Predicted Rating: 0.91, Actual Rating: 0.94\n",
            "Movie: CAPITALISM: A LOVE STORY, Predicted Rating: 0.91, Actual Rating: 0.69\n"
          ]
        }
      ]
    },
    {
      "cell_type": "markdown",
      "metadata": {
        "id": "4A4nVoLsm6LT"
      },
      "source": [
        "# NewMF + genres\n",
        "\n",
        "We compare performance of **NewMF & NewMF w Genres**\n",
        "\n",
        "This model uses two subnetworks comprising of generalized matrix factorization (GMF) and MLP(similar to CF) to model the interactions from two pathways instead of simple dot products.\n",
        "\n",
        "To output of GMF and MLP, instead of simple addition, the second last layers of two subnetworks is concatenated to create a feature vector which can be passed to the further layers, in our case we pass it through a fully connected linear layer to get our final results.\n",
        "\n",
        "This allows it to leverage on both the advantages of the two methods\n",
        "\n",
        "From the results, NewMF and CF have almost the same performance metrics suggesting that\n",
        "\n",
        "https://sparsh-ai.github.io/rec-tutorials/matrixfactorization%20movielens%20pytorch%20scratch/2021/04/21/rec-algo-ncf-pytorch-pyy0715.html"
      ]
    },
    {
      "cell_type": "code",
      "execution_count": null,
      "metadata": {
        "id": "II5GDLL5LHed"
      },
      "outputs": [],
      "source": [
        "class NeuMF(nn.Module):\n",
        "    def __init__(self, num_users, num_items):\n",
        "        super(NeuMF, self).__init__()\n",
        "        self.num_users = num_users\n",
        "        self.num_items = num_items\n",
        "        # \"predictive factors numbers in the model\"\n",
        "        self.factor_num_mf = 32\n",
        "        self.factor_num_mlp = 32\n",
        "        # MLP layers. Note that the first layer is the concatenation of user and item embeddings. So 32 is the embedding size.\"\n",
        "        self.layers = [64 + 21,32,16,8]\n",
        "        self.dropout = 0.2\n",
        "\n",
        "        self.num_genres = 21\n",
        "\n",
        "        # NCF Embedding\n",
        "        self.embedding_user_mlp = nn.Embedding(num_embeddings=self.num_users, embedding_dim=self.factor_num_mlp)\n",
        "        self.embedding_item_mlp = nn.Embedding(num_embeddings=self.num_items, embedding_dim=self.factor_num_mlp)\n",
        "\n",
        "        # genre emebedding\n",
        "        self.embedding_genre_mlp = nn.Embedding(num_embeddings = self.num_genres, embedding_dim = 21)\n",
        "\n",
        "        # Matrix Factorisation Embedding\n",
        "        self.embedding_user_mf = nn.Embedding(num_embeddings=self.num_users, embedding_dim=self.factor_num_mf)\n",
        "        self.embedding_item_mf = nn.Embedding(num_embeddings=self.num_items, embedding_dim=self.factor_num_mf)\n",
        "\n",
        "        self.fc_layers = nn.ModuleList()\n",
        "        # basically ensure that dim on input & output layer matches\n",
        "        for idx, (in_size, out_size) in enumerate(zip([64 + 21,32,16], [32,16,8])):\n",
        "            self.fc_layers.append(torch.nn.Linear(in_size, out_size))\n",
        "            self.fc_layers.append(nn.ReLU())\n",
        "\n",
        "        # at the last layer -> u take the output from the NCF & MF and use it together -> hence dim is as such below\n",
        "        # you want to get a single output value from 0 to 1\n",
        "        self.affine_output = nn.Linear(in_features=self.layers[-1] + self.factor_num_mf, out_features=1)\n",
        "        self.logistic = nn.Sigmoid()\n",
        "        self.init_weight()\n",
        "\n",
        "    # We initalise the weights so that it is normal to prevent exploding/vanishing graident problem as if weights are 0 centered, easier to train\n",
        "    # this also allows for faster convergence\n",
        "    def init_weight(self):\n",
        "        nn.init.normal_(self.embedding_user_mlp.weight, std=0.01)\n",
        "        nn.init.normal_(self.embedding_item_mlp.weight, std=0.01)\n",
        "        nn.init.normal_(self.embedding_user_mf.weight, std=0.01)\n",
        "        nn.init.normal_(self.embedding_item_mf.weight, std=0.01)\n",
        "\n",
        "        # for all the fully connected hidden layers, initiliase the weights as uniform (Xavier) distribution\n",
        "        # helps with effective propogation of weighs during training\n",
        "        for m in self.fc_layers:\n",
        "            if isinstance(m, nn.Linear):\n",
        "                nn.init.xavier_uniform_(m.weight)\n",
        "\n",
        "        # make the last layer that is not in the fully connected layer, initliase it as uniform distribution as well\n",
        "        nn.init.xavier_uniform_(self.affine_output.weight)\n",
        "\n",
        "        # iterates over all modules (layers) within the neural network model (in ModueList & outside)\n",
        "        # intiliases bias to 0 if the layer is linear * has a bias (in our case bias=True by default)\n",
        "        for m in self.modules():\n",
        "            if isinstance(m, nn.Linear) and m.bias is not None:\n",
        "                m.bias.data.zero_()\n",
        "\n",
        "    def forward(self, user_indices, item_indices,genres):\n",
        "        user_embedding_mlp = self.embedding_user_mlp(user_indices)\n",
        "        item_embedding_mlp = self.embedding_item_mlp(item_indices)\n",
        "\n",
        "        user_embedding_mf = self.embedding_user_mf(user_indices)\n",
        "        item_embedding_mf = self.embedding_item_mf(item_indices)\n",
        "\n",
        "        genres_embedded = genres\n",
        "\n",
        "        # add the user & movie embeddings just like in NCF\n",
        "        mlp_vector = torch.cat([user_embedding_mlp, item_embedding_mlp, genres], dim=-1)\n",
        "        # matrix factorisation embedding layer\n",
        "        mf_vector =torch.mul(user_embedding_mf, item_embedding_mf)\n",
        "\n",
        "        # passes in the mlp_vector into the first layer & then sets the output as mlp_vector\n",
        "        # before passing it to the next layer\n",
        "        for idx, _ in enumerate(range(len(self.fc_layers))):\n",
        "            mlp_vector = self.fc_layers[idx](mlp_vector)\n",
        "\n",
        "        # add embedding output from both MF & NCF\n",
        "        vector = torch.cat([mlp_vector, mf_vector], dim=-1)\n",
        "        # get 1 single output & make the range to 0 to 1 -> resemble ratings\n",
        "        logits = self.affine_output(vector)\n",
        "        rating = self.logistic(logits)\n",
        "        # do .squeeze() to return the rating value ONLY\n",
        "        return rating.squeeze()"
      ]
    },
    {
      "cell_type": "markdown",
      "metadata": {
        "id": "hfm3DL8bu-Bx"
      },
      "source": [
        "Training the model"
      ]
    },
    {
      "cell_type": "code",
      "execution_count": null,
      "metadata": {
        "colab": {
          "base_uri": "https://localhost:8080/"
        },
        "id": "AUbgZfcDLycg",
        "outputId": "59195677-9d3f-4240-a1f5-332b82109dfb"
      },
      "outputs": [
        {
          "output_type": "stream",
          "name": "stdout",
          "text": [
            "Training on 239590 samples...\n"
          ]
        },
        {
          "output_type": "stream",
          "name": "stderr",
          "text": [
            "/usr/lib/python3.10/multiprocessing/popen_fork.py:66: RuntimeWarning: os.fork() was called. os.fork() is incompatible with multithreaded code, and JAX is multithreaded, so this will likely lead to a deadlock.\n",
            "  self.pid = os.fork()\n",
            "/usr/lib/python3.10/multiprocessing/popen_fork.py:66: RuntimeWarning: os.fork() was called. os.fork() is incompatible with multithreaded code, and JAX is multithreaded, so this will likely lead to a deadlock.\n",
            "  self.pid = os.fork()\n"
          ]
        }
      ],
      "source": [
        "model = NeuMF(len(lbl_user.classes_), len(lbl_movie.classes_))\n",
        "optimizer = torch.optim.Adam(model.parameters(), lr=1e-3) # fast convergence & decent performance\n",
        "loss_func = nn.MSELoss()\n",
        "\n",
        "total_loss = 0\n",
        "log_progress_step = 100\n",
        "losses = []\n",
        "train_dataset_size = len(train_dataset)\n",
        "print(f\"Training on {train_dataset_size} samples...\")\n",
        "\n",
        "EPOCHS = 10\n",
        "\n",
        "# set to training mode\n",
        "model.train()\n",
        "for e in range(EPOCHS):\n",
        "    step_count = 0  # Reset step count at the beginning of each epoch\n",
        "\n",
        "    for i, train_data in enumerate(train_loader):\n",
        "\n",
        "          # run forward pass\n",
        "          output = model(\n",
        "              train_data[\"users\"], train_data[\"movies\"], train_data[\"genres\"]\n",
        "          )\n",
        "\n",
        "          # Reshape the model output to match the target's shape\n",
        "          # Removes the singleton dimension torch.size is [32,1] -> [32], why not 64?????\n",
        "          output = output.squeeze()\n",
        "\n",
        "          ratings = (train_data[\"ratings\"].to(torch.float32))\n",
        "\n",
        "          loss = loss_func(output, ratings)\n",
        "          total_loss += loss.sum().item()\n",
        "\n",
        "          optimizer.zero_grad()\n",
        "          loss.backward()\n",
        "          optimizer.step()\n",
        "\n",
        "          # Increment step count by the actual size of the batch\n",
        "          step_count += len(train_data[\"users\"])\n"
      ]
    },
    {
      "cell_type": "markdown",
      "source": [
        "View layers of the model"
      ],
      "metadata": {
        "id": "cLf-_2690jUP"
      }
    },
    {
      "cell_type": "code",
      "source": [
        "for param_tensor in model.state_dict():\n",
        "    print(param_tensor, \"\\t\", model.state_dict()[param_tensor].size())"
      ],
      "metadata": {
        "colab": {
          "base_uri": "https://localhost:8080/"
        },
        "id": "UeclDIfH1QQz",
        "outputId": "d65b4cd0-0b4e-4c5f-8662-80bb3a5e3e77"
      },
      "execution_count": null,
      "outputs": [
        {
          "output_type": "stream",
          "name": "stdout",
          "text": [
            "embedding_user_mlp.weight \t torch.Size([4804, 32])\n",
            "embedding_item_mlp.weight \t torch.Size([5216, 32])\n",
            "embedding_genre_mlp.weight \t torch.Size([21, 21])\n",
            "embedding_user_mf.weight \t torch.Size([4804, 32])\n",
            "embedding_item_mf.weight \t torch.Size([5216, 32])\n",
            "fc_layers.0.weight \t torch.Size([32, 85])\n",
            "fc_layers.0.bias \t torch.Size([32])\n",
            "fc_layers.2.weight \t torch.Size([16, 32])\n",
            "fc_layers.2.bias \t torch.Size([16])\n",
            "fc_layers.4.weight \t torch.Size([8, 16])\n",
            "fc_layers.4.bias \t torch.Size([8])\n",
            "affine_output.weight \t torch.Size([1, 40])\n",
            "affine_output.bias \t torch.Size([1])\n"
          ]
        }
      ]
    },
    {
      "cell_type": "code",
      "execution_count": null,
      "metadata": {
        "colab": {
          "base_uri": "https://localhost:8080/"
        },
        "id": "DPCdtGCnNP6E",
        "outputId": "f547adec-57ea-4e5c-fc2a-3e697602d35d"
      },
      "outputs": [
        {
          "output_type": "stream",
          "name": "stdout",
          "text": [
            "average precision of top 5 movies recommended to them for all users: 0.6910\n",
            "average recall of top 5 movies recommended to them for all users: 0.8754\n",
            "average accuracy of top 5 movies recommended to them for all users: 0.5842\n"
          ]
        }
      ],
      "source": [
        "# create dictionaries with default values (in this case it will be a list) for keys that haven't been set yet\n",
        "# so that when we call for it we do not get an error\n",
        "user_ratings_comparison = defaultdict(list)\n",
        "\n",
        "y_test = []\n",
        "y_pred = []\n",
        "\n",
        "threshold = 0.797980\n",
        "def RecommendIf(val, threshold):\n",
        "  if val > threshold:\n",
        "    return 1\n",
        "  else:\n",
        "    return 0\n",
        "\n",
        "with torch.no_grad():\n",
        "    for valid_data in validation_loader:\n",
        "        users = valid_data[\"users\"]\n",
        "        movies = valid_data[\"movies\"]\n",
        "        ratings = valid_data[\"ratings\"]\n",
        "        genres = valid_data[\"genres\"]\n",
        "        output = model(users, movies,genres)\n",
        "\n",
        "        # key is user -> value is list of (predicted rating, true rating)\n",
        "        for user, pred, true in zip(users, output, ratings):\n",
        "            user_ratings_comparison[user.item()].append([pred.item(), true.item()])\n",
        "            y_test.append(RecommendIf(true, threshold))\n",
        "            y_pred.append(pred)\n",
        "\n",
        "user_precisions = dict()\n",
        "user_based_recalls = dict()\n",
        "user_based_accuracy = dict()\n",
        "\n",
        "k = 5\n",
        "\n",
        "for user_id, user_ratings in user_ratings_comparison.items():\n",
        "    # get precision & recall metrics for each user\n",
        "    precision, recall, accuracy = calculate_precision_recall_accuracy(user_ratings, k, threshold)\n",
        "    user_precisions[user_id] = precision\n",
        "    user_based_recalls[user_id] = recall\n",
        "    user_based_accuracy[user_id] = accuracy\n",
        "\n",
        "# get average precision & recall for all users\n",
        "average_precision = sum(prec for prec in user_precisions.values()) / len(user_precisions)\n",
        "average_recall = sum(rec for rec in user_based_recalls.values()) / len(user_based_recalls)\n",
        "average_accuracy = sum(rec for rec in user_based_accuracy.values()) / len(user_based_accuracy)\n",
        "\n",
        "print(f\"average precision of top {k} movies recommended to them for all users: {average_precision:.4f}\")\n",
        "print(f\"average recall of top {k} movies recommended to them for all users: {average_recall:.4f}\")\n",
        "print(f\"average accuracy of top {k} movies recommended to them for all users: {average_accuracy:.4f}\")"
      ]
    },
    {
      "cell_type": "markdown",
      "source": [
        "Evaluation without genres"
      ],
      "metadata": {
        "id": "chHLsG6OYtgj"
      }
    },
    {
      "cell_type": "markdown",
      "source": [
        "![image.png](data:image/png;base64,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)"
      ],
      "metadata": {
        "id": "uPSNGBtQYrBQ"
      }
    },
    {
      "cell_type": "markdown",
      "source": [
        "Prediction on Training Set"
      ],
      "metadata": {
        "id": "q1mpC4P2mRu_"
      }
    },
    {
      "cell_type": "code",
      "source": [
        "# create dictionaries with default values (in this case it will be a list) for keys that haven't been set yet\n",
        "# so that when we call for it we do not get an error\n",
        "user_ratings_comparison_train = defaultdict(list)\n",
        "\n",
        "x_train = []\n",
        "x_pred = []\n",
        "\n",
        "threshold = 0.797980\n",
        "def RecommendIf(val, threshold):\n",
        "  if val > threshold:\n",
        "    return 1\n",
        "  else:\n",
        "    return 0\n",
        "\n",
        "with torch.no_grad():\n",
        "    for train_data in train_loader:\n",
        "        users = train_data[\"users\"]\n",
        "        movies = train_data[\"movies\"]\n",
        "        ratings = train_data[\"ratings\"]\n",
        "        genres = train_data[\"genres\"]\n",
        "        output = model(users, movies, genres)\n",
        "\n",
        "        # key is user -> value is list of (predicted rating, true rating)\n",
        "        for user, pred, true in zip(users, output, ratings):\n",
        "            user_ratings_comparison_train[user.item()].append([pred.item(), true.item()])\n",
        "            x_train.append(RecommendIf(true, threshold))\n",
        "            x_pred.append(pred)\n",
        "\n",
        "user_precisions = dict()\n",
        "user_based_recalls = dict()\n",
        "user_based_accuracy = dict()\n",
        "\n",
        "k = 5\n",
        "\n",
        "for user_id, user_ratings in user_ratings_comparison_train.items():\n",
        "    # get precision & recall metrics for each user\n",
        "    precision, recall, accuracy = calculate_precision_recall_accuracy(user_ratings, k, threshold)\n",
        "    user_precisions[user_id] = precision\n",
        "    user_based_recalls[user_id] = recall\n",
        "    user_based_accuracy[user_id] = accuracy\n",
        "\n",
        "# get average precision & recall for all users\n",
        "average_precision = sum(prec for prec in user_precisions.values()) / len(user_precisions)\n",
        "average_recall = sum(rec for rec in user_based_recalls.values()) / len(user_based_recalls)\n",
        "average_accuracy = sum(rec for rec in user_based_accuracy.values()) / len(user_based_accuracy)\n",
        "\n",
        "print(f\"average precision of top {k} movies recommended to them for all users - training: {average_precision:.4f}\")\n",
        "print(f\"average recall of top {k} movies recommended to them for all users - training: {average_recall:.4f}\")\n",
        "print(f\"average accuracy of top {k} movies recommended to them for all users - training: {average_accuracy:.4f}\")"
      ],
      "metadata": {
        "id": "Ur-7-jx4mTYz",
        "colab": {
          "base_uri": "https://localhost:8080/"
        },
        "outputId": "3c76cea5-75b6-4b75-f4bc-0986ffe72414"
      },
      "execution_count": null,
      "outputs": [
        {
          "output_type": "stream",
          "name": "stdout",
          "text": [
            "average precision of top 5 movies recommended to them for all users - training: 0.7874\n",
            "average recall of top 5 movies recommended to them for all users - training: 0.9953\n",
            "average accuracy of top 5 movies recommended to them for all users - training: 0.5548\n"
          ]
        }
      ]
    },
    {
      "cell_type": "markdown",
      "source": [
        "Training Evaluation Metrics without genres"
      ],
      "metadata": {
        "id": "uLi2Mm3S1A4-"
      }
    },
    {
      "cell_type": "markdown",
      "source": [
        "![image.png](data:image/png;base64,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)"
      ],
      "metadata": {
        "id": "H7zwTetBY0tP"
      }
    },
    {
      "cell_type": "markdown",
      "source": [
        "Prediction to find top 5 recommended movies for 1 user (We use Dennis Schwartz)"
      ],
      "metadata": {
        "id": "oahuv5n5_rZP"
      }
    },
    {
      "cell_type": "code",
      "source": [
        "user_ratings_comparison = defaultdict(list)\n",
        "\n",
        "dennis_id = lbl_user.transform(['Dennis Schwartz'])[0]\n",
        "\n",
        "y_test = []\n",
        "y_pred = []\n",
        "threshold = 0.797980\n",
        "dennis_predictions = []\n",
        "\n",
        "with torch.no_grad():\n",
        "    for valid_data in validation_loader:\n",
        "        users = valid_data[\"users\"]\n",
        "        movies = valid_data[\"movies\"]\n",
        "        ratings = valid_data[\"ratings\"]\n",
        "        genres = valid_data[\"genres\"]\n",
        "        output = model(users, movies, genres)\n",
        "\n",
        "        for user, pred, true in zip(users, outputs, ratings):\n",
        "            user_ratings_comparison[user.item()].append([pred.item(), true.item()])\n",
        "            if user.item() == dennis_id:\n",
        "                dennis_predictions.append((movies[int(pred.item())], pred.item(), true.item()))\n",
        "            y_test.append(RecommendIf(true, threshold))\n",
        "            y_pred.append(pred)\n",
        "\n",
        "# Sort the list of predictions based on predicted ratings\n",
        "dennis_predictions.sort(key=lambda x: x[1], reverse=True)\n",
        "\n",
        "# Select top 5 predictions\n",
        "top_5_recommendations = dennis_predictions[:5]\n",
        "\n",
        "print(\"Top 5 recommendations for Dennis Schwartz:\")\n",
        "for movie_id, pred_rating, actual_rating in top_5_recommendations:\n",
        "    # Convert movie ID back to movie name\n",
        "    movie_name = lbl_movie.inverse_transform([movie_id])[0]\n",
        "    print(f\"Movie: {movie_name}, Predicted Rating: {pred_rating:.2f}, Actual Rating: {actual_rating:.2f}\")\n"
      ],
      "metadata": {
        "colab": {
          "base_uri": "https://localhost:8080/"
        },
        "id": "ueljSk0ezPQU",
        "outputId": "0cba7a6c-bff1-4699-92fa-f0271cd219df"
      },
      "execution_count": null,
      "outputs": [
        {
          "output_type": "stream",
          "name": "stderr",
          "text": [
            "/usr/lib/python3.10/multiprocessing/popen_fork.py:66: RuntimeWarning: os.fork() was called. os.fork() is incompatible with multithreaded code, and JAX is multithreaded, so this will likely lead to a deadlock.\n",
            "  self.pid = os.fork()\n",
            "/usr/lib/python3.10/multiprocessing/popen_fork.py:66: RuntimeWarning: os.fork() was called. os.fork() is incompatible with multithreaded code, and JAX is multithreaded, so this will likely lead to a deadlock.\n",
            "  self.pid = os.fork()\n"
          ]
        },
        {
          "output_type": "stream",
          "name": "stdout",
          "text": [
            "Top 5 recommendations for Dennis Schwartz:\n",
            "Movie: SOUTHPAW, Predicted Rating: 0.73, Actual Rating: 0.79\n",
            "Movie: THE KING'S SPEECH, Predicted Rating: 0.73, Actual Rating: 0.79\n",
            "Movie: NEED FOR SPEED, Predicted Rating: 0.73, Actual Rating: 0.79\n",
            "Movie: ROCKNROLLA, Predicted Rating: 0.73, Actual Rating: 0.79\n",
            "Movie: THE SPECTACULAR NOW, Predicted Rating: 0.73, Actual Rating: 0.84\n"
          ]
        }
      ]
    },
    {
      "cell_type": "markdown",
      "source": [
        "**Conclusion: Using genres has been shown to imporve BOTH models. However, more analaysis needs to be done to decide which model is better. This is because the CF model has higher precision but the newMF meodel has higher recall & accuracy**. Both models have performed decently well in movie recommendations"
      ],
      "metadata": {
        "id": "Vaa3koeq1F45"
      }
    },
    {
      "cell_type": "markdown",
      "metadata": {
        "id": "HBNm1oSzn6eC"
      },
      "source": [
        "# NGCF - Neural Graph Collaborative Filtering (Exclude due to poor model performance & lack of explainability)\n",
        "\n",
        "Drawback of the previous methods is that, the collaborative effect(user-item interactions) may not be encoded in the embedding process well. As such, the resultant embeddings may not be sufficient to capture the collaborative f iltering effect.\n",
        "\n",
        "Hence, we use a bipartite graph structure instead where each user and movie is represented by nodes and interactions between them are represented with  edges\n",
        "\n",
        "https://github.com/metahexane/ngcf_pytorch_g61/blob/master/ngcf.py\n",
        "\n",
        "Why the training data needs negative samples? The training data of BPR consists of both positive and negative pairs (missing values). It assumes that the user prefers the positive item over all other non-observed items. -> calculates the bpr loss this way -> (u,i,j) where i is pos sample & j is negative -> want to maximise this prob of i over j"
      ]
    },
    {
      "cell_type": "code",
      "execution_count": null,
      "metadata": {
        "colab": {
          "base_uri": "https://localhost:8080/"
        },
        "id": "nmR0qnQ3FQ-F",
        "outputId": "4193326e-5c8a-4008-d99f-d043defbe1fe"
      },
      "outputs": [
        {
          "output_type": "stream",
          "name": "stdout",
          "text": [
            "Collecting torch_geometric\n",
            "  Downloading torch_geometric-2.5.2-py3-none-any.whl (1.1 MB)\n",
            "\u001b[2K     \u001b[90m━━━━━━━━━━━━━━━━━━━━━━━━━━━━━━━━━━━━━━━━\u001b[0m \u001b[32m1.1/1.1 MB\u001b[0m \u001b[31m11.2 MB/s\u001b[0m eta \u001b[36m0:00:00\u001b[0m\n",
            "\u001b[?25hRequirement already satisfied: tqdm in /usr/local/lib/python3.10/dist-packages (from torch_geometric) (4.66.2)\n",
            "Requirement already satisfied: numpy in /usr/local/lib/python3.10/dist-packages (from torch_geometric) (1.25.2)\n",
            "Requirement already satisfied: scipy in /usr/local/lib/python3.10/dist-packages (from torch_geometric) (1.11.4)\n",
            "Requirement already satisfied: fsspec in /usr/local/lib/python3.10/dist-packages (from torch_geometric) (2023.6.0)\n",
            "Requirement already satisfied: jinja2 in /usr/local/lib/python3.10/dist-packages (from torch_geometric) (3.1.3)\n",
            "Requirement already satisfied: aiohttp in /usr/local/lib/python3.10/dist-packages (from torch_geometric) (3.9.3)\n",
            "Requirement already satisfied: requests in /usr/local/lib/python3.10/dist-packages (from torch_geometric) (2.31.0)\n",
            "Requirement already satisfied: pyparsing in /usr/local/lib/python3.10/dist-packages (from torch_geometric) (3.1.2)\n",
            "Requirement already satisfied: scikit-learn in /usr/local/lib/python3.10/dist-packages (from torch_geometric) (1.2.2)\n",
            "Requirement already satisfied: psutil>=5.8.0 in /usr/local/lib/python3.10/dist-packages (from torch_geometric) (5.9.5)\n",
            "Requirement already satisfied: aiosignal>=1.1.2 in /usr/local/lib/python3.10/dist-packages (from aiohttp->torch_geometric) (1.3.1)\n",
            "Requirement already satisfied: attrs>=17.3.0 in /usr/local/lib/python3.10/dist-packages (from aiohttp->torch_geometric) (23.2.0)\n",
            "Requirement already satisfied: frozenlist>=1.1.1 in /usr/local/lib/python3.10/dist-packages (from aiohttp->torch_geometric) (1.4.1)\n",
            "Requirement already satisfied: multidict<7.0,>=4.5 in /usr/local/lib/python3.10/dist-packages (from aiohttp->torch_geometric) (6.0.5)\n",
            "Requirement already satisfied: yarl<2.0,>=1.0 in /usr/local/lib/python3.10/dist-packages (from aiohttp->torch_geometric) (1.9.4)\n",
            "Requirement already satisfied: async-timeout<5.0,>=4.0 in /usr/local/lib/python3.10/dist-packages (from aiohttp->torch_geometric) (4.0.3)\n",
            "Requirement already satisfied: MarkupSafe>=2.0 in /usr/local/lib/python3.10/dist-packages (from jinja2->torch_geometric) (2.1.5)\n",
            "Requirement already satisfied: charset-normalizer<4,>=2 in /usr/local/lib/python3.10/dist-packages (from requests->torch_geometric) (3.3.2)\n",
            "Requirement already satisfied: idna<4,>=2.5 in /usr/local/lib/python3.10/dist-packages (from requests->torch_geometric) (3.6)\n",
            "Requirement already satisfied: urllib3<3,>=1.21.1 in /usr/local/lib/python3.10/dist-packages (from requests->torch_geometric) (2.0.7)\n",
            "Requirement already satisfied: certifi>=2017.4.17 in /usr/local/lib/python3.10/dist-packages (from requests->torch_geometric) (2024.2.2)\n",
            "Requirement already satisfied: joblib>=1.1.1 in /usr/local/lib/python3.10/dist-packages (from scikit-learn->torch_geometric) (1.4.0)\n",
            "Requirement already satisfied: threadpoolctl>=2.0.0 in /usr/local/lib/python3.10/dist-packages (from scikit-learn->torch_geometric) (3.4.0)\n",
            "Installing collected packages: torch_geometric\n",
            "Successfully installed torch_geometric-2.5.2\n"
          ]
        }
      ],
      "source": [
        "pip install torch_geometric"
      ]
    },
    {
      "cell_type": "code",
      "execution_count": null,
      "metadata": {
        "id": "F54xM0DMvGvx"
      },
      "outputs": [],
      "source": [
        "# Standard library imports\n",
        "import random\n",
        "import time\n",
        "\n",
        "# Third-party imports\n",
        "import matplotlib.pyplot as plt\n",
        "import networkx as nx\n",
        "import numpy as np\n",
        "import pandas as pd\n",
        "pd.set_option('display.max_colwidth', None)\n",
        "\n",
        "import torch\n",
        "import torch.nn as nn\n",
        "import torch.nn.functional as F\n",
        "import torch.optim as optim\n",
        "# from torch.utils.data import Dataset, DataLoader\n",
        "import torch_geometric\n",
        "from torch_geometric.nn.conv import MessagePassing\n",
        "from torch_geometric.utils import degree\n",
        "\n",
        "from tqdm.notebook import tqdm\n",
        "from sklearn import preprocessing as pp\n",
        "from sklearn.model_selection import train_test_split\n",
        "import scipy.sparse as sp\n",
        "\n",
        "device = torch.device('cuda' if torch.cuda.is_available() else 'cpu')"
      ]
    },
    {
      "cell_type": "markdown",
      "source": [
        "Here, we split the train & test set. However, we need to ensure that users & movies in the test set are atleast represented once in the training set.\n",
        "\n",
        "Else, we get an error, becuase it is unable to make a prediction based on that new user/movie since there are no other interactions but also because during the LabelEncoding, we cannot transform indexes that the Encoder has not seen before.\n",
        "\n",
        "Hence, we are forced to removed some of the users and movies not present in the training set, leading to some loss of data."
      ],
      "metadata": {
        "id": "CtJxrmQd0ZIt"
      }
    },
    {
      "cell_type": "code",
      "execution_count": null,
      "metadata": {
        "id": "R2x0YNWIUs6x"
      },
      "outputs": [],
      "source": [
        "train, test = train_test_split(data, test_size=0.15, random_state=42)\n",
        "train_df = pd.DataFrame(train, columns=df.columns)\n",
        "test_df = pd.DataFrame(test, columns=df.columns)\n",
        "\n",
        "le_user = pp.LabelEncoder()\n",
        "le_item = pp.LabelEncoder()\n",
        "train_df['user_id_idx'] = le_user.fit_transform(train_df['Reviewer'].values)\n",
        "train_df['item_id_idx'] = le_item.fit_transform(train_df['Movie'].values)\n",
        "\n",
        "train_user_ids = train_df['Reviewer'].unique()\n",
        "train_item_ids = train_df['Movie'].unique()\n",
        "\n",
        "test_df = test_df[\n",
        "  (test_df['Reviewer'].isin(train_user_ids)) & \\\n",
        "  (test_df['Movie'].isin(train_item_ids))\n",
        "]\n",
        "\n",
        "test_df['user_id_idx'] = le_user.transform(test_df['Reviewer'].values)\n",
        "test_df['item_id_idx'] = le_item.transform(test_df['Movie'].values)\n",
        "\n",
        "n_users = train_df['user_id_idx'].nunique()\n",
        "n_items = train_df['item_id_idx'].nunique()"
      ]
    },
    {
      "cell_type": "markdown",
      "metadata": {
        "id": "Q6CljexM92qp"
      },
      "source": [
        "Creating Custom DataLoader\n",
        "\n",
        "For each user, we get all the movies that he has interacted with & find 1 random movie that he has watched and 1 that he has not watched"
      ]
    },
    {
      "cell_type": "code",
      "execution_count": null,
      "metadata": {
        "id": "j1XRiXqVw9dM"
      },
      "outputs": [],
      "source": [
        "def data_loader(data, batch_size, n_usr, n_itm):\n",
        "\n",
        "    # for each user -> get a list of movies that he has \"interacted\" with\n",
        "    # reset_index() to make it to nice format of column: Reviewer & Movie\n",
        "    interected_items_df = data.groupby('user_id_idx')['item_id_idx'].apply(list).reset_index()\n",
        "\n",
        "    # randomly select users without replacement, takes in list , batch_size\n",
        "    indices = [x for x in range(n_usr)]\n",
        "\n",
        "    ## if total number of users is lesser than batch size then randomly select users w replacement\n",
        "    if n_usr < batch_size:\n",
        "        users = [random.choice(indices) for _ in range(batch_size)]\n",
        "    else:\n",
        "        # gets 1 random sample until we get 'batch_size' num of users\n",
        "        users = random.sample(indices, batch_size)\n",
        "\n",
        "    # sorts it by the Reviewer index\n",
        "    users.sort()\n",
        "    users_df = pd.DataFrame(users,columns = ['users'])\n",
        "\n",
        "    # function to return a random value (movieID) that is not in x\n",
        "    def sample_neg(x):\n",
        "        while True:\n",
        "            neg_id = random.randint(0, n_itm - 1)\n",
        "            if neg_id not in x:\n",
        "                return neg_id\n",
        "\n",
        "    # keep only the Reviewers that are in the current sample -> acts as an filter\n",
        "    interected_items_df = pd.merge(interected_items_df, users_df, how = 'right', left_on = 'user_id_idx', right_on = 'users')\n",
        "\n",
        "    # get a random movie ID that the user has interacted with for ALL users in that batch of users_df\n",
        "    pos_items = interected_items_df['item_id_idx'].apply(lambda x : random.choice(x)).values\n",
        "    # get a random movie ID that the user has NOT interacted with for ALL users in that batch of users_df\n",
        "    # returns it in the form a list of size batch_size\n",
        "    neg_items = interected_items_df['item_id_idx'].apply(lambda x: sample_neg(x)).values\n",
        "\n",
        "    # list of (each user,1 item he watched, 1 item he did not watch)\n",
        "    return (\n",
        "        torch.LongTensor(list(users)).to(device),\n",
        "        # we add n_usr to the list of positive & negative movie indexes to ensure that\n",
        "        # there is confusion between user & movie, eg: this way we wont be confused is it a movie / user if we see index 0 (know that it is a user)\n",
        "        torch.LongTensor(list(pos_items)).to(device) + n_usr,\n",
        "        torch.LongTensor(list(neg_items)).to(device) + n_usr\n",
        "    )"
      ]
    },
    {
      "cell_type": "markdown",
      "source": [
        "**Why use LightGCN over NGCF?**\n",
        "\n",
        "Unlike NGCF layers, LightGCN combines the intermediate representations of each layer to get the final embeddings by simple addition while for NGCF it uses a non-linear activation function after each layer of embedding before passing it to the next / uses other complex aggregation methods.\n",
        "\n",
        "LightGCN learns user and item embeddings by propagating them on the user-item interaction graph, and uses the sum of the embeddings learned at all layers as the final embedding.\n",
        "\n",
        "LightGCN does not use non-linear activation function to reduce complexity because the current user-item embeddings are sufficient.\n",
        "we draw this conclusion that the two operations inherited from GCN—feature transformation and nonlinear activation—has no contributionon NGCF’seffectiveness. (from LightGCN: Simplifying and Powering Graph Convolution Network for Recommendation)"
      ],
      "metadata": {
        "id": "9GCp8MmGdK4i"
      }
    },
    {
      "cell_type": "markdown",
      "metadata": {
        "id": "DYbU7Fkp-rGT"
      },
      "source": [
        "\n",
        "\n",
        "\n",
        "https://medium.com/@jn2279/better-recommender-systems-with-lightgcn-a0e764af14f9"
      ]
    },
    {
      "cell_type": "markdown",
      "source": [
        "**What does this LightGCN layer do?**\n",
        "\n",
        "For each layer, it takes in the embedding of all users & items as rows and cols being the lower dimensional embeddings & all possible edges, uses both to propogate the messages(link between user & movie) and update the embedding values. This is done as each layer considers 1 extra step of influence hence being able to consider slightly higher order relationships\n",
        "\n",
        "We apply normalisation after every message layer as we dont want the embeddings to have big changes after each layer."
      ],
      "metadata": {
        "id": "j17T0mJPV-bX"
      }
    },
    {
      "cell_type": "code",
      "execution_count": null,
      "metadata": {
        "id": "tRP-hc0N-tm9"
      },
      "outputs": [],
      "source": [
        "# single layer\n",
        "class LightGCNConv(MessagePassing):\n",
        "  def __init__(self, **kwargs):\n",
        "    # specify the type of aggregation used - sum the messages\n",
        "    super().__init__(aggr='add')\n",
        "\n",
        "  def forward(self, x, edge_index):\n",
        "    # Compute normalization - to prevent embedding values from getting too big\n",
        "    from_, to_ = edge_index\n",
        "    # returns how many nodes is this connected to - aka degree\n",
        "    deg = degree(to_, x.size(0), dtype=x.dtype)\n",
        "    # symmetric normalisation - to stabilise training\n",
        "    deg_inv_sqrt = deg.pow(-0.5)\n",
        "    # make those that had 0 adjaency value initally to 0\n",
        "    deg_inv_sqrt[deg_inv_sqrt == float('inf')] = 0\n",
        "    norm = deg_inv_sqrt[from_] * deg_inv_sqrt[to_]\n",
        "\n",
        "    # Start propagating messages\n",
        "    return self.propagate(edge_index, x=x, norm=norm)\n",
        "\n",
        "  def message(self, x_j, norm):\n",
        "    # norm - result of symmetric normalization applied to the adjacency matrix\n",
        "    # scale the feature vectors based on the normalized adjancency matrix\n",
        "    # to prevent the feature values from growing excessively during convulation\n",
        "\n",
        "    # x_j is your message gathering from neighbouring nodes\n",
        "    return norm.view(-1, 1) * x_j"
      ]
    },
    {
      "cell_type": "markdown",
      "metadata": {
        "id": "2Nx9iEfIgWcb"
      },
      "source": [
        "Ensure that LightGCN works well -> nodes that have similar interactions are bound to have similar values"
      ]
    },
    {
      "cell_type": "code",
      "execution_count": null,
      "metadata": {
        "colab": {
          "base_uri": "https://localhost:8080/"
        },
        "id": "Vgo1hYIYcVn3",
        "outputId": "01e1875b-73bd-4c59-a621-d4ee481a24fc"
      },
      "outputs": [
        {
          "output_type": "execute_result",
          "data": {
            "text/plain": [
              "tensor([[0.0000, 0.0000, 0.7071, 0.5000, 0.0000],\n",
              "        [0.0000, 0.0000, 0.0000, 0.5000, 0.7071],\n",
              "        [0.7071, 0.0000, 0.0000, 0.0000, 0.0000],\n",
              "        [0.5000, 0.5000, 0.0000, 0.0000, 0.0000],\n",
              "        [0.0000, 0.7071, 0.0000, 0.0000, 0.0000]])"
            ]
          },
          "metadata": {},
          "execution_count": 37
        }
      ],
      "source": [
        "test_x = torch.Tensor(np.eye(5))\n",
        "test_edge_index = torch.LongTensor(np.array([\n",
        "  [0, 0, 1, 1, 2, 3, 3, 4],\n",
        "  [2, 3, 3, 4, 0, 0, 1, 1]\n",
        "]))\n",
        "\n",
        "LightGCNConv()(test_x, test_edge_index)"
      ]
    },
    {
      "cell_type": "markdown",
      "metadata": {
        "id": "4JK_oGmxhPQj"
      },
      "source": [
        "Create the Train edges -> we add u_t & i_t twice to make the edges bi-directional\n",
        "as its a undirected bipartite graph of user <-> item. Just to initilaise a graph of ALL Possible edges in the training set"
      ]
    },
    {
      "cell_type": "code",
      "execution_count": null,
      "metadata": {
        "id": "O3tV7FPydg-O"
      },
      "outputs": [],
      "source": [
        "u_t = torch.LongTensor(train_df.user_id_idx)\n",
        "i_t = torch.LongTensor(train_df.item_id_idx) + n_users\n",
        "\n",
        "train_edge_index = torch.stack((\n",
        "  # from edges index\n",
        "  torch.cat([u_t, i_t]),\n",
        "  # to edges index\n",
        "  torch.cat([i_t, u_t])\n",
        ")).to(device)"
      ]
    },
    {
      "cell_type": "code",
      "execution_count": null,
      "metadata": {
        "id": "TUImzJIa_Mvp"
      },
      "outputs": [],
      "source": [
        "class RecSysGNN(nn.Module):\n",
        "  def __init__(\n",
        "      self,\n",
        "      latent_dim,\n",
        "      num_layers,\n",
        "      # number of unqiue Reviewers & items\n",
        "      num_users,\n",
        "      num_items,\n",
        "\n",
        "      # dont need to dropout for this due to the simplicity of the LightGCN\n",
        "      # as it does not have the extra layers in between\n",
        "  ):\n",
        "    super(RecSysGNN, self).__init__()\n",
        "\n",
        "    # 1st param is num of rows & next is num of cols\n",
        "    self.embedding = nn.Embedding(num_users + num_items, latent_dim)\n",
        "\n",
        "    # holds a list of LightGCN modules where each module has 1 layer\n",
        "    # allows ur to access & change each layer later during train/eval\n",
        "    self.convs = nn.ModuleList(LightGCNConv() for _ in range(num_layers))\n",
        "\n",
        "    self.init_parameters()\n",
        "\n",
        "  def init_parameters(self):\n",
        "      # Authors of LightGCN report higher results with normal initialization\n",
        "      # cos initial param of model has small random values centered around 0 -> helps w convergence & prevent vanishing / exploding gradients as gradients are not too small/large\n",
        "      # initialises weights of tensor based on a specific distribution of std = 0.1 (normal)\n",
        "      nn.init.normal_(self.embedding.weight, std=0.1)\n",
        "\n",
        "\n",
        "  def forward(self, edge_index):\n",
        "    emb0 = self.embedding.weight\n",
        "    # have a list of all the embedding weights of each layer\n",
        "    embs = [emb0]\n",
        "\n",
        "    emb = emb0\n",
        "    # get embeddings produced at each layer\n",
        "    for conv in self.convs:\n",
        "      emb = conv(x=emb, edge_index=edge_index)\n",
        "      embs.append(emb)\n",
        "\n",
        "    # find the weighted sum to get final embeddings from all the layers - LightGCN\n",
        "    out = (torch.mean(torch.stack(embs, dim=0), dim=0))\n",
        "\n",
        "    return emb0, out\n",
        "\n",
        "\n",
        "  def encode_minibatch(self, users, pos_items, neg_items, edge_index):\n",
        "    emb0, out = self(edge_index)\n",
        "    return (\n",
        "        out[users],\n",
        "        out[pos_items],\n",
        "        out[neg_items],\n",
        "        emb0[users],\n",
        "        emb0[pos_items],\n",
        "        emb0[neg_items]\n",
        "    )"
      ]
    },
    {
      "cell_type": "markdown",
      "metadata": {
        "id": "rIvKJ_q9NYfD"
      },
      "source": [
        "## Get Loss function & Metrics"
      ]
    },
    {
      "cell_type": "markdown",
      "source": [
        "BPR loss is a pairwise ranking loss function. It optimizes the model parameters based on pairs of movies, where one movies is watched (positive interaction) and the other is not (negative interaction). This is because we want to rank items for each user such that watched movies are ranked higher than the unwatched ones.\n",
        "\n",
        "Our loss however combines both BPR loss & loss from embeddings to to consider both aspects"
      ],
      "metadata": {
        "id": "KZwkyO8Efdsm"
      }
    },
    {
      "cell_type": "code",
      "execution_count": null,
      "metadata": {
        "id": "pjZQuZJX-yVm"
      },
      "outputs": [],
      "source": [
        "def compute_bpr_loss(users, users_emb, pos_emb, neg_emb, user_emb0,  pos_emb0, neg_emb0):\n",
        "  # compute loss from initial embeddings, used for regulization\n",
        "  reg_loss = (1 / 2) * (\n",
        "    user_emb0.norm().pow(2) +\n",
        "    pos_emb0.norm().pow(2)  +\n",
        "    neg_emb0.norm().pow(2)\n",
        "  ) / float(len(users))\n",
        "\n",
        "  # compute BPR loss from user, positive item, and negative item embeddings\n",
        "  pos_scores = torch.mul(users_emb, pos_emb).sum(dim=1)\n",
        "  neg_scores = torch.mul(users_emb, neg_emb).sum(dim=1)\n",
        "\n",
        "  bpr_loss = torch.mean(F.softplus(neg_scores - pos_scores))\n",
        "\n",
        "  return bpr_loss, reg_loss"
      ]
    },
    {
      "cell_type": "markdown",
      "source": [
        "We get accuracy, recall & precision for topK items"
      ],
      "metadata": {
        "id": "5zBmyypBrvx3"
      }
    },
    {
      "cell_type": "code",
      "execution_count": null,
      "metadata": {
        "id": "Etfl0eZ2P5a9"
      },
      "outputs": [],
      "source": [
        "def get_metrics(user_Embed_wts, item_Embed_wts, n_users, n_items, train_data, test_data, K):\n",
        "    test_user_ids = torch.LongTensor(test_data['user_id_idx'].unique())\n",
        "\n",
        "    # compute the score of all user-item pairs in a n_users x n_items matrix\n",
        "    relevance_score = torch.matmul(user_Embed_wts, torch.transpose(item_Embed_wts, 0, 1))\n",
        "\n",
        "    # create dense tensor of all user-item interactions -> giving interactions as 1 (binary as 1 if interacted)\n",
        "    i = torch.stack((\n",
        "        torch.LongTensor(train_df['user_id_idx'].values),\n",
        "        torch.LongTensor(train_df['item_id_idx'].values)\n",
        "    ))\n",
        "    v = torch.ones((len(train_df)), dtype=torch.float64)\n",
        "    interactions_t = torch.sparse_coo_tensor(i, v, (n_users, n_items))\\\n",
        "        .to_dense().to(device)\n",
        "\n",
        "    # mask out training user-item interactions from metric computation\n",
        "    # by penalizing movies that the user had already watched\n",
        "    relevance_score = torch.mul(relevance_score, (1 - interactions_t))\n",
        "\n",
        "    # compute top scoring items for each user\n",
        "    _, topk_relevance_indices = torch.topk(relevance_score, K)\n",
        "\n",
        "    # for each user-(top relevant items for k times which will be a list)\n",
        "    topk_relevance_indices_df = pd.DataFrame(topk_relevance_indices.cpu().numpy(), columns=['top_indx_' + str(x + 1) for x in range(K)])\n",
        "    topk_relevance_indices_df['user_ID'] = topk_relevance_indices_df.index\n",
        "    topk_relevance_indices_df['top_rlvnt_itm'] = topk_relevance_indices_df[['top_indx_' + str(x + 1) for x in range(K)]].values.tolist()\n",
        "    topk_relevance_indices_df = topk_relevance_indices_df[['user_ID', 'top_rlvnt_itm']]\n",
        "\n",
        "    # measure overlap between recommended (top-scoring) and held-out user-item interactions\n",
        "    test_interacted_items = test_data.groupby('user_id_idx')['item_id_idx'].apply(list).reset_index()\n",
        "\n",
        "    # get list of items where the user has watched in the test set AND ones that we identified as to be recommended for each user\n",
        "    metrics_df = pd.merge(test_interacted_items, topk_relevance_indices_df, how='left', left_on='user_id_idx',\n",
        "                          right_on=['user_ID'])\n",
        "\n",
        "    # create an extra column where we keep the values where there is a match\n",
        "    metrics_df['intrsctn_itm'] = [list(set(a).intersection(b)) for a, b in\n",
        "                                    zip(metrics_df.item_id_idx, metrics_df.top_rlvnt_itm)]\n",
        "\n",
        "    # out of k actual recommended items how many did we predict correctly\n",
        "    metrics_df['recall'] = metrics_df.apply(lambda x: 1 if len(x['item_id_idx']) == 0 else len(x['intrsctn_itm']) / len(x['item_id_idx']), axis=1)\n",
        "    # out of k of our predicted how many did we end up predicted correctly\n",
        "    metrics_df['precision'] = metrics_df.apply(lambda x: len(x['intrsctn_itm']) / K, axis=1)\n",
        "    # out all unqiue movies in (what we predicted & actual recommended movies), how many did we predict correctly\n",
        "    metrics_df['accuracy'] = metrics_df.apply(lambda x: len(x['intrsctn_itm']) / (len(x['item_id_idx']) + K - len(x['intrsctn_itm'])) , axis=1)\n",
        "    # metrics_df['accuracy'] = metrics_df.apply(lambda x: 1 if len(set(x['top_rlvnt_itm']) & set(x['item_id_idx'])) == 0 else len(x['intrsctn_itm']) / len(set(x['top_rlvnt_itm']) & set(x['item_id_idx'])) , axis=1)\n",
        "\n",
        "    return metrics_df['recall'].mean(), metrics_df['precision'].mean(), metrics_df['accuracy'].mean()"
      ]
    },
    {
      "cell_type": "markdown",
      "metadata": {
        "id": "8XY1OGugNhQJ"
      },
      "source": [
        "## Model Training & Evaluation"
      ]
    },
    {
      "cell_type": "code",
      "execution_count": null,
      "metadata": {
        "id": "ARBeLyjs-5vt"
      },
      "outputs": [],
      "source": [
        "latent_dim = 64\n",
        "n_layers = 3\n",
        "\n",
        "EPOCHS = 1\n",
        "BATCH_SIZE = 1024\n",
        "DECAY = 0.0001\n",
        "LR = 0.005\n",
        "K = 20"
      ]
    },
    {
      "cell_type": "markdown",
      "source": [
        "Since this model takes very long to run & is very complex, we will attempt to track the loss to identify the optim"
      ],
      "metadata": {
        "id": "2E-ke5D8T_9J"
      }
    },
    {
      "cell_type": "code",
      "execution_count": null,
      "metadata": {
        "id": "ISZDQkv3-7Yn"
      },
      "outputs": [],
      "source": [
        "def train_and_eval(model, optimizer, train_df):\n",
        "  loss_list_epoch = []\n",
        "  bpr_loss_list_epoch = []\n",
        "  reg_loss_list_epoch = []\n",
        "\n",
        "  recall_list = []\n",
        "  precision_list = []\n",
        "  accuracy_list = []\n",
        "\n",
        "  for epoch in tqdm(range(EPOCHS)):\n",
        "      n_batch = int(len(train_df)/BATCH_SIZE)\n",
        "\n",
        "      final_loss_list = []\n",
        "      bpr_loss_list = []\n",
        "      reg_loss_list = []\n",
        "\n",
        "      model.train()\n",
        "      for batch_idx in range(n_batch):\n",
        "\n",
        "          optimizer.zero_grad()\n",
        "\n",
        "          users, pos_items, neg_items = data_loader(train_df, BATCH_SIZE, n_users, n_items)\n",
        "          # get initial embeddings & output emebeddings out\n",
        "          users_emb, pos_emb, neg_emb, userEmb0,  posEmb0, negEmb0 = model.encode_minibatch(users, pos_items, neg_items, train_edge_index)\n",
        "\n",
        "          bpr_loss, reg_loss = compute_bpr_loss(\n",
        "            users, users_emb, pos_emb, neg_emb, userEmb0,  posEmb0, negEmb0\n",
        "          )\n",
        "\n",
        "          # penalty for overfitting -> aka each time the model runs\n",
        "          reg_loss = DECAY * reg_loss\n",
        "          final_loss = bpr_loss + reg_loss\n",
        "\n",
        "          final_loss.backward()\n",
        "          optimizer.step()\n",
        "\n",
        "          final_loss_list.append(final_loss.item())\n",
        "          bpr_loss_list.append(bpr_loss.item())\n",
        "          reg_loss_list.append(reg_loss.item())\n",
        "\n",
        "      # calculate metrics @ each epoch\n",
        "      model.eval()\n",
        "      with torch.no_grad():\n",
        "          _, out = model(train_edge_index)\n",
        "          # used to extract user & item embeddings as they are in rows\n",
        "          final_user_Embed, final_item_Embed = torch.split(out, (n_users, n_items))\n",
        "\n",
        "          test_topK_recall,  test_topK_precision, test_topK_accuracy = get_metrics(\n",
        "            final_user_Embed, final_item_Embed, n_users, n_items, train_df, test_df, K\n",
        "          )\n",
        "\n",
        "      # track losses & recall & precision metrics for each epoch\n",
        "      loss_list_epoch.append(round(np.mean(final_loss_list),4))\n",
        "      bpr_loss_list_epoch.append(round(np.mean(bpr_loss_list),4))\n",
        "      reg_loss_list_epoch.append(round(np.mean(reg_loss_list),4))\n",
        "\n",
        "      recall_list.append(round(test_topK_recall,4))\n",
        "      precision_list.append(round(test_topK_precision,4))\n",
        "      accuracy_list.append(round(test_topK_accuracy,4))\n",
        "\n",
        "  return (\n",
        "    loss_list_epoch,\n",
        "    bpr_loss_list_epoch,\n",
        "    reg_loss_list_epoch,\n",
        "    recall_list,\n",
        "    precision_list,\n",
        "    accuracy_list\n",
        "  )"
      ]
    },
    {
      "cell_type": "code",
      "execution_count": null,
      "metadata": {
        "id": "ulsH-9Nc--0C"
      },
      "outputs": [],
      "source": [
        "lightgcn = RecSysGNN(\n",
        "  latent_dim=latent_dim,\n",
        "  num_layers=n_layers,\n",
        "  num_users=n_users,\n",
        "  num_items=n_items,\n",
        ")\n",
        "lightgcn.to(device)\n",
        "\n",
        "optimizer = torch.optim.Adam(lightgcn.parameters(), lr=LR)"
      ]
    },
    {
      "cell_type": "code",
      "execution_count": null,
      "metadata": {
        "colab": {
          "base_uri": "https://localhost:8080/",
          "height": 49,
          "referenced_widgets": [
            "83353d1e818f4c468d6ed175f86abe57",
            "08fab904b7dc439a8cd8d8fb45aa0e7a",
            "31656351988d4fa09757d3124beb824f",
            "21fddff58f054fa7b2ee246e6ef91e83",
            "589eeb5dbb864736b10a2d61c6ad3dbc",
            "fa26db68b00f479292dbf24f17ab00c2",
            "560f992e47a249978bee9c250dbdd98d",
            "70ece1512afd4ec3ac22f8f5e5cd1fad",
            "6d20a806db884f559e30cce2be43788e",
            "03d3849b5a9745f391cae1fa0367d48f",
            "a1abc4fa63434c2e9c79d91940c34103"
          ]
        },
        "id": "jbdxo-wNQzni",
        "outputId": "41cf46ae-119d-432d-de70-bc22234658f3"
      },
      "outputs": [
        {
          "output_type": "display_data",
          "data": {
            "text/plain": [
              "  0%|          | 0/1 [00:00<?, ?it/s]"
            ],
            "application/vnd.jupyter.widget-view+json": {
              "version_major": 2,
              "version_minor": 0,
              "model_id": "83353d1e818f4c468d6ed175f86abe57"
            }
          },
          "metadata": {}
        }
      ],
      "source": [
        "light_loss, light_bpr, light_reg, light_recall, light_precision, light_accuracy = train_and_eval(lightgcn, optimizer, train_df)"
      ]
    },
    {
      "cell_type": "markdown",
      "source": [
        "Prediction on train set"
      ],
      "metadata": {
        "id": "tY5wdFUqoGef"
      }
    },
    {
      "cell_type": "code",
      "source": [
        "def train_and_eval(model, optimizer, train_df):\n",
        "  loss_list_epoch = []\n",
        "  bpr_loss_list_epoch = []\n",
        "  reg_loss_list_epoch = []\n",
        "\n",
        "  recall_list = []\n",
        "  precision_list = []\n",
        "  accuracy_list = []\n",
        "\n",
        "  for epoch in tqdm(range(10)):\n",
        "      n_batch = int(len(train_df)/BATCH_SIZE)\n",
        "\n",
        "      final_loss_list = []\n",
        "      bpr_loss_list = []\n",
        "      reg_loss_list = []\n",
        "\n",
        "      model.train()\n",
        "      for batch_idx in range(n_batch):\n",
        "\n",
        "          optimizer.zero_grad()\n",
        "\n",
        "          users, pos_items, neg_items = data_loader(train_df, BATCH_SIZE, n_users, n_items)\n",
        "          # get initial embeddings & output emebeddings out\n",
        "          users_emb, pos_emb, neg_emb, userEmb0,  posEmb0, negEmb0 = model.encode_minibatch(users, pos_items, neg_items, train_edge_index)\n",
        "\n",
        "          bpr_loss, reg_loss = compute_bpr_loss(\n",
        "            users, users_emb, pos_emb, neg_emb, userEmb0,  posEmb0, negEmb0\n",
        "          )\n",
        "\n",
        "          # penalty for overfitting -> aka each time the model runs\n",
        "          reg_loss = DECAY * reg_loss\n",
        "          final_loss = bpr_loss + reg_loss\n",
        "\n",
        "          final_loss.backward()\n",
        "          optimizer.step()\n",
        "\n",
        "          final_loss_list.append(final_loss.item())\n",
        "          bpr_loss_list.append(bpr_loss.item())\n",
        "          reg_loss_list.append(reg_loss.item())\n",
        "\n",
        "      # calculate metrics @ each epoch\n",
        "      model.eval()\n",
        "      with torch.no_grad():\n",
        "          _, out = model(train_edge_index)\n",
        "          # used to extract user & item embeddings as they are in rows\n",
        "          final_user_Embed, final_item_Embed = torch.split(out, (n_users, n_items))\n",
        "\n",
        "          test_topK_recall,  test_topK_precision, test_topK_accuracy = get_metrics(\n",
        "            final_user_Embed, final_item_Embed, n_users, n_items, train_df, train_df, K\n",
        "          )\n",
        "\n",
        "      # track losses & recall & precision metrics for each epoch\n",
        "      loss_list_epoch.append(round(np.mean(final_loss_list),4))\n",
        "      bpr_loss_list_epoch.append(round(np.mean(bpr_loss_list),4))\n",
        "      reg_loss_list_epoch.append(round(np.mean(reg_loss_list),4))\n",
        "\n",
        "      recall_list.append(round(test_topK_recall,4))\n",
        "      precision_list.append(round(test_topK_precision,4))\n",
        "      accuracy_list.append(round(test_topK_accuracy,4))\n",
        "\n",
        "  return (\n",
        "    loss_list_epoch,\n",
        "    bpr_loss_list_epoch,\n",
        "    reg_loss_list_epoch,\n",
        "    recall_list,\n",
        "    precision_list,\n",
        "    accuracy_list\n",
        "  )\n",
        "\n",
        "light_loss, light_bpr, light_reg, light_recall, light_precision, light_accuracy = train_and_eval(lightgcn, optimizer, train_df)"
      ],
      "metadata": {
        "colab": {
          "base_uri": "https://localhost:8080/",
          "height": 49,
          "referenced_widgets": [
            "9533b58bbcf0464aa091b53bfc141784",
            "4447fb1d57b44aa091b05c5981246de9",
            "1d9cf3bfe2b34bb393b1337ae0d10a02",
            "7320f5ce1eb24517abf9713ab005d560",
            "bbc6e3ddc6c741d7b067749aed1a36f8",
            "905fa5745acd466da43e2aa18e8db435",
            "0253a6f7047d406c8634bf171b35c5f6",
            "3a417e8e9d0841b7b42d48485f937444",
            "1aad1323516c4378b33189c3723237b1",
            "0e9e43b0d35e4ba083c637f4c5952e5b",
            "a32c672a4f80460db033d51a00c9fefb"
          ]
        },
        "id": "qJ-8ZQucoD1g",
        "outputId": "f6a60e05-edb3-4c34-f4ec-afc9b6d3df01"
      },
      "execution_count": null,
      "outputs": [
        {
          "output_type": "display_data",
          "data": {
            "text/plain": [
              "  0%|          | 0/10 [00:00<?, ?it/s]"
            ],
            "application/vnd.jupyter.widget-view+json": {
              "version_major": 2,
              "version_minor": 0,
              "model_id": "9533b58bbcf0464aa091b53bfc141784"
            }
          },
          "metadata": {}
        }
      ]
    },
    {
      "cell_type": "markdown",
      "source": [
        "Get metrics for test set at last epoch"
      ],
      "metadata": {
        "id": "7wcXbPaQBsur"
      }
    },
    {
      "cell_type": "code",
      "source": [
        "light_accuracy"
      ],
      "metadata": {
        "colab": {
          "base_uri": "https://localhost:8080/"
        },
        "id": "gmToNXs8CYeE",
        "outputId": "52f5fe54-0181-4a47-e148-c1cdb82c9187"
      },
      "execution_count": null,
      "outputs": [
        {
          "output_type": "execute_result",
          "data": {
            "text/plain": [
              "[0.0185]"
            ]
          },
          "metadata": {},
          "execution_count": 49
        }
      ]
    },
    {
      "cell_type": "code",
      "source": [
        "light_precision"
      ],
      "metadata": {
        "colab": {
          "base_uri": "https://localhost:8080/"
        },
        "id": "Jm-O_M_ZCZ-K",
        "outputId": "c8f4c99d-81fb-4905-c86d-006441110bbe"
      },
      "execution_count": null,
      "outputs": [
        {
          "output_type": "execute_result",
          "data": {
            "text/plain": [
              "[0.0456]"
            ]
          },
          "metadata": {},
          "execution_count": 50
        }
      ]
    },
    {
      "cell_type": "code",
      "source": [
        "light_recall"
      ],
      "metadata": {
        "id": "TnkHWo67dp-H",
        "outputId": "427f5562-8e94-482b-c278-7114f8f06f4e",
        "colab": {
          "base_uri": "https://localhost:8080/"
        }
      },
      "execution_count": null,
      "outputs": [
        {
          "output_type": "execute_result",
          "data": {
            "text/plain": [
              "[0.0833]"
            ]
          },
          "metadata": {},
          "execution_count": 51
        }
      ]
    },
    {
      "cell_type": "code",
      "execution_count": null,
      "metadata": {
        "id": "Ly39MQtnAK4_",
        "colab": {
          "base_uri": "https://localhost:8080/",
          "height": 473
        },
        "outputId": "a719b2b8-a37d-4cba-a40d-7678f3cb97c4"
      },
      "outputs": [
        {
          "output_type": "execute_result",
          "data": {
            "text/plain": [
              "<matplotlib.legend.Legend at 0x7bd5203174c0>"
            ]
          },
          "metadata": {},
          "execution_count": 38
        },
        {
          "output_type": "display_data",
          "data": {
            "text/plain": [
              "<Figure size 640x480 with 1 Axes>"
            ],
            "image/png": "[encoded data removed]"
          },
          "metadata": {}
        }
      ],
      "source": [
        "plt.plot(epoch_list, light_recall, label='Recall')\n",
        "plt.plot(epoch_list, light_precision, label='Precision')\n",
        "plt.xlabel('Epoch')\n",
        "plt.ylabel('Metrics')\n",
        "plt.legend()"
      ]
    }
  ],
  "metadata": {
    "colab": {
      "collapsed_sections": [
        "RYNnw_tkj8o1",
        "9AFGKCZwj8pB",
        "HrL0UKwYAoCm",
        "4A4nVoLsm6LT",
        "HBNm1oSzn6eC",
        "rIvKJ_q9NYfD"
      ],
      "provenance": [],
      "gpuType": "T4"
    },
    "kernelspec": {
      "display_name": "Python 3",
      "name": "python3"
    },
    "language_info": {
      "codemirror_mode": {
        "name": "ipython",
        "version": 3
      },
      "file_extension": ".py",
      "mimetype": "text/x-python",
      "name": "python",
      "nbconvert_exporter": "python",
      "pygments_lexer": "ipython3",
      "version": "3.10.6"
    },
    "widgets": {
      "application/vnd.jupyter.widget-state+json": {
        "83353d1e818f4c468d6ed175f86abe57": {
          "model_module": "@jupyter-widgets/controls",
          "model_name": "HBoxModel",
          "model_module_version": "1.5.0",
          "state": {
            "_dom_classes": [],
            "_model_module": "@jupyter-widgets/controls",
            "_model_module_version": "1.5.0",
            "_model_name": "HBoxModel",
            "_view_count": null,
            "_view_module": "@jupyter-widgets/controls",
            "_view_module_version": "1.5.0",
            "_view_name": "HBoxView",
            "box_style": "",
            "children": [
              "IPY_MODEL_08fab904b7dc439a8cd8d8fb45aa0e7a",
              "IPY_MODEL_31656351988d4fa09757d3124beb824f",
              "IPY_MODEL_21fddff58f054fa7b2ee246e6ef91e83"
            ],
            "layout": "IPY_MODEL_589eeb5dbb864736b10a2d61c6ad3dbc"
          }
        },
        "08fab904b7dc439a8cd8d8fb45aa0e7a": {
          "model_module": "@jupyter-widgets/controls",
          "model_name": "HTMLModel",
          "model_module_version": "1.5.0",
          "state": {
            "_dom_classes": [],
            "_model_module": "@jupyter-widgets/controls",
            "_model_module_version": "1.5.0",
            "_model_name": "HTMLModel",
            "_view_count": null,
            "_view_module": "@jupyter-widgets/controls",
            "_view_module_version": "1.5.0",
            "_view_name": "HTMLView",
            "description": "",
            "description_tooltip": null,
            "layout": "IPY_MODEL_fa26db68b00f479292dbf24f17ab00c2",
            "placeholder": "​",
            "style": "IPY_MODEL_560f992e47a249978bee9c250dbdd98d",
            "value": "100%"
          }
        },
        "31656351988d4fa09757d3124beb824f": {
          "model_module": "@jupyter-widgets/controls",
          "model_name": "FloatProgressModel",
          "model_module_version": "1.5.0",
          "state": {
            "_dom_classes": [],
            "_model_module": "@jupyter-widgets/controls",
            "_model_module_version": "1.5.0",
            "_model_name": "FloatProgressModel",
            "_view_count": null,
            "_view_module": "@jupyter-widgets/controls",
            "_view_module_version": "1.5.0",
            "_view_name": "ProgressView",
            "bar_style": "success",
            "description": "",
            "description_tooltip": null,
            "layout": "IPY_MODEL_70ece1512afd4ec3ac22f8f5e5cd1fad",
            "max": 1,
            "min": 0,
            "orientation": "horizontal",
            "style": "IPY_MODEL_6d20a806db884f559e30cce2be43788e",
            "value": 1
          }
        },
        "21fddff58f054fa7b2ee246e6ef91e83": {
          "model_module": "@jupyter-widgets/controls",
          "model_name": "HTMLModel",
          "model_module_version": "1.5.0",
          "state": {
            "_dom_classes": [],
            "_model_module": "@jupyter-widgets/controls",
            "_model_module_version": "1.5.0",
            "_model_name": "HTMLModel",
            "_view_count": null,
            "_view_module": "@jupyter-widgets/controls",
            "_view_module_version": "1.5.0",
            "_view_name": "HTMLView",
            "description": "",
            "description_tooltip": null,
            "layout": "IPY_MODEL_03d3849b5a9745f391cae1fa0367d48f",
            "placeholder": "​",
            "style": "IPY_MODEL_a1abc4fa63434c2e9c79d91940c34103",
            "value": " 1/1 [00:43&lt;00:00, 43.38s/it]"
          }
        },
        "589eeb5dbb864736b10a2d61c6ad3dbc": {
          "model_module": "@jupyter-widgets/base",
          "model_name": "LayoutModel",
          "model_module_version": "1.2.0",
          "state": {
            "_model_module": "@jupyter-widgets/base",
            "_model_module_version": "1.2.0",
            "_model_name": "LayoutModel",
            "_view_count": null,
            "_view_module": "@jupyter-widgets/base",
            "_view_module_version": "1.2.0",
            "_view_name": "LayoutView",
            "align_content": null,
            "align_items": null,
            "align_self": null,
            "border": null,
            "bottom": null,
            "display": null,
            "flex": null,
            "flex_flow": null,
            "grid_area": null,
            "grid_auto_columns": null,
            "grid_auto_flow": null,
            "grid_auto_rows": null,
            "grid_column": null,
            "grid_gap": null,
            "grid_row": null,
            "grid_template_areas": null,
            "grid_template_columns": null,
            "grid_template_rows": null,
            "height": null,
            "justify_content": null,
            "justify_items": null,
            "left": null,
            "margin": null,
            "max_height": null,
            "max_width": null,
            "min_height": null,
            "min_width": null,
            "object_fit": null,
            "object_position": null,
            "order": null,
            "overflow": null,
            "overflow_x": null,
            "overflow_y": null,
            "padding": null,
            "right": null,
            "top": null,
            "visibility": null,
            "width": null
          }
        },
        "fa26db68b00f479292dbf24f17ab00c2": {
          "model_module": "@jupyter-widgets/base",
          "model_name": "LayoutModel",
          "model_module_version": "1.2.0",
          "state": {
            "_model_module": "@jupyter-widgets/base",
            "_model_module_version": "1.2.0",
            "_model_name": "LayoutModel",
            "_view_count": null,
            "_view_module": "@jupyter-widgets/base",
            "_view_module_version": "1.2.0",
            "_view_name": "LayoutView",
            "align_content": null,
            "align_items": null,
            "align_self": null,
            "border": null,
            "bottom": null,
            "display": null,
            "flex": null,
            "flex_flow": null,
            "grid_area": null,
            "grid_auto_columns": null,
            "grid_auto_flow": null,
            "grid_auto_rows": null,
            "grid_column": null,
            "grid_gap": null,
            "grid_row": null,
            "grid_template_areas": null,
            "grid_template_columns": null,
            "grid_template_rows": null,
            "height": null,
            "justify_content": null,
            "justify_items": null,
            "left": null,
            "margin": null,
            "max_height": null,
            "max_width": null,
            "min_height": null,
            "min_width": null,
            "object_fit": null,
            "object_position": null,
            "order": null,
            "overflow": null,
            "overflow_x": null,
            "overflow_y": null,
            "padding": null,
            "right": null,
            "top": null,
            "visibility": null,
            "width": null
          }
        },
        "560f992e47a249978bee9c250dbdd98d": {
          "model_module": "@jupyter-widgets/controls",
          "model_name": "DescriptionStyleModel",
          "model_module_version": "1.5.0",
          "state": {
            "_model_module": "@jupyter-widgets/controls",
            "_model_module_version": "1.5.0",
            "_model_name": "DescriptionStyleModel",
            "_view_count": null,
            "_view_module": "@jupyter-widgets/base",
            "_view_module_version": "1.2.0",
            "_view_name": "StyleView",
            "description_width": ""
          }
        },
        "70ece1512afd4ec3ac22f8f5e5cd1fad": {
          "model_module": "@jupyter-widgets/base",
          "model_name": "LayoutModel",
          "model_module_version": "1.2.0",
          "state": {
            "_model_module": "@jupyter-widgets/base",
            "_model_module_version": "1.2.0",
            "_model_name": "LayoutModel",
            "_view_count": null,
            "_view_module": "@jupyter-widgets/base",
            "_view_module_version": "1.2.0",
            "_view_name": "LayoutView",
            "align_content": null,
            "align_items": null,
            "align_self": null,
            "border": null,
            "bottom": null,
            "display": null,
            "flex": null,
            "flex_flow": null,
            "grid_area": null,
            "grid_auto_columns": null,
            "grid_auto_flow": null,
            "grid_auto_rows": null,
            "grid_column": null,
            "grid_gap": null,
            "grid_row": null,
            "grid_template_areas": null,
            "grid_template_columns": null,
            "grid_template_rows": null,
            "height": null,
            "justify_content": null,
            "justify_items": null,
            "left": null,
            "margin": null,
            "max_height": null,
            "max_width": null,
            "min_height": null,
            "min_width": null,
            "object_fit": null,
            "object_position": null,
            "order": null,
            "overflow": null,
            "overflow_x": null,
            "overflow_y": null,
            "padding": null,
            "right": null,
            "top": null,
            "visibility": null,
            "width": null
          }
        },
        "6d20a806db884f559e30cce2be43788e": {
          "model_module": "@jupyter-widgets/controls",
          "model_name": "ProgressStyleModel",
          "model_module_version": "1.5.0",
          "state": {
            "_model_module": "@jupyter-widgets/controls",
            "_model_module_version": "1.5.0",
            "_model_name": "ProgressStyleModel",
            "_view_count": null,
            "_view_module": "@jupyter-widgets/base",
            "_view_module_version": "1.2.0",
            "_view_name": "StyleView",
            "bar_color": null,
            "description_width": ""
          }
        },
        "03d3849b5a9745f391cae1fa0367d48f": {
          "model_module": "@jupyter-widgets/base",
          "model_name": "LayoutModel",
          "model_module_version": "1.2.0",
          "state": {
            "_model_module": "@jupyter-widgets/base",
            "_model_module_version": "1.2.0",
            "_model_name": "LayoutModel",
            "_view_count": null,
            "_view_module": "@jupyter-widgets/base",
            "_view_module_version": "1.2.0",
            "_view_name": "LayoutView",
            "align_content": null,
            "align_items": null,
            "align_self": null,
            "border": null,
            "bottom": null,
            "display": null,
            "flex": null,
            "flex_flow": null,
            "grid_area": null,
            "grid_auto_columns": null,
            "grid_auto_flow": null,
            "grid_auto_rows": null,
            "grid_column": null,
            "grid_gap": null,
            "grid_row": null,
            "grid_template_areas": null,
            "grid_template_columns": null,
            "grid_template_rows": null,
            "height": null,
            "justify_content": null,
            "justify_items": null,
            "left": null,
            "margin": null,
            "max_height": null,
            "max_width": null,
            "min_height": null,
            "min_width": null,
            "object_fit": null,
            "object_position": null,
            "order": null,
            "overflow": null,
            "overflow_x": null,
            "overflow_y": null,
            "padding": null,
            "right": null,
            "top": null,
            "visibility": null,
            "width": null
          }
        },
        "a1abc4fa63434c2e9c79d91940c34103": {
          "model_module": "@jupyter-widgets/controls",
          "model_name": "DescriptionStyleModel",
          "model_module_version": "1.5.0",
          "state": {
            "_model_module": "@jupyter-widgets/controls",
            "_model_module_version": "1.5.0",
            "_model_name": "DescriptionStyleModel",
            "_view_count": null,
            "_view_module": "@jupyter-widgets/base",
            "_view_module_version": "1.2.0",
            "_view_name": "StyleView",
            "description_width": ""
          }
        },
        "9533b58bbcf0464aa091b53bfc141784": {
          "model_module": "@jupyter-widgets/controls",
          "model_name": "HBoxModel",
          "model_module_version": "1.5.0",
          "state": {
            "_dom_classes": [],
            "_model_module": "@jupyter-widgets/controls",
            "_model_module_version": "1.5.0",
            "_model_name": "HBoxModel",
            "_view_count": null,
            "_view_module": "@jupyter-widgets/controls",
            "_view_module_version": "1.5.0",
            "_view_name": "HBoxView",
            "box_style": "",
            "children": [
              "IPY_MODEL_4447fb1d57b44aa091b05c5981246de9",
              "IPY_MODEL_1d9cf3bfe2b34bb393b1337ae0d10a02",
              "IPY_MODEL_7320f5ce1eb24517abf9713ab005d560"
            ],
            "layout": "IPY_MODEL_bbc6e3ddc6c741d7b067749aed1a36f8"
          }
        },
        "4447fb1d57b44aa091b05c5981246de9": {
          "model_module": "@jupyter-widgets/controls",
          "model_name": "HTMLModel",
          "model_module_version": "1.5.0",
          "state": {
            "_dom_classes": [],
            "_model_module": "@jupyter-widgets/controls",
            "_model_module_version": "1.5.0",
            "_model_name": "HTMLModel",
            "_view_count": null,
            "_view_module": "@jupyter-widgets/controls",
            "_view_module_version": "1.5.0",
            "_view_name": "HTMLView",
            "description": "",
            "description_tooltip": null,
            "layout": "IPY_MODEL_905fa5745acd466da43e2aa18e8db435",
            "placeholder": "​",
            "style": "IPY_MODEL_0253a6f7047d406c8634bf171b35c5f6",
            "value": "100%"
          }
        },
        "1d9cf3bfe2b34bb393b1337ae0d10a02": {
          "model_module": "@jupyter-widgets/controls",
          "model_name": "FloatProgressModel",
          "model_module_version": "1.5.0",
          "state": {
            "_dom_classes": [],
            "_model_module": "@jupyter-widgets/controls",
            "_model_module_version": "1.5.0",
            "_model_name": "FloatProgressModel",
            "_view_count": null,
            "_view_module": "@jupyter-widgets/controls",
            "_view_module_version": "1.5.0",
            "_view_name": "ProgressView",
            "bar_style": "success",
            "description": "",
            "description_tooltip": null,
            "layout": "IPY_MODEL_3a417e8e9d0841b7b42d48485f937444",
            "max": 10,
            "min": 0,
            "orientation": "horizontal",
            "style": "IPY_MODEL_1aad1323516c4378b33189c3723237b1",
            "value": 10
          }
        },
        "7320f5ce1eb24517abf9713ab005d560": {
          "model_module": "@jupyter-widgets/controls",
          "model_name": "HTMLModel",
          "model_module_version": "1.5.0",
          "state": {
            "_dom_classes": [],
            "_model_module": "@jupyter-widgets/controls",
            "_model_module_version": "1.5.0",
            "_model_name": "HTMLModel",
            "_view_count": null,
            "_view_module": "@jupyter-widgets/controls",
            "_view_module_version": "1.5.0",
            "_view_name": "HTMLView",
            "description": "",
            "description_tooltip": null,
            "layout": "IPY_MODEL_0e9e43b0d35e4ba083c637f4c5952e5b",
            "placeholder": "​",
            "style": "IPY_MODEL_a32c672a4f80460db033d51a00c9fefb",
            "value": " 10/10 [08:03&lt;00:00, 46.13s/it]"
          }
        },
        "bbc6e3ddc6c741d7b067749aed1a36f8": {
          "model_module": "@jupyter-widgets/base",
          "model_name": "LayoutModel",
          "model_module_version": "1.2.0",
          "state": {
            "_model_module": "@jupyter-widgets/base",
            "_model_module_version": "1.2.0",
            "_model_name": "LayoutModel",
            "_view_count": null,
            "_view_module": "@jupyter-widgets/base",
            "_view_module_version": "1.2.0",
            "_view_name": "LayoutView",
            "align_content": null,
            "align_items": null,
            "align_self": null,
            "border": null,
            "bottom": null,
            "display": null,
            "flex": null,
            "flex_flow": null,
            "grid_area": null,
            "grid_auto_columns": null,
            "grid_auto_flow": null,
            "grid_auto_rows": null,
            "grid_column": null,
            "grid_gap": null,
            "grid_row": null,
            "grid_template_areas": null,
            "grid_template_columns": null,
            "grid_template_rows": null,
            "height": null,
            "justify_content": null,
            "justify_items": null,
            "left": null,
            "margin": null,
            "max_height": null,
            "max_width": null,
            "min_height": null,
            "min_width": null,
            "object_fit": null,
            "object_position": null,
            "order": null,
            "overflow": null,
            "overflow_x": null,
            "overflow_y": null,
            "padding": null,
            "right": null,
            "top": null,
            "visibility": null,
            "width": null
          }
        },
        "905fa5745acd466da43e2aa18e8db435": {
          "model_module": "@jupyter-widgets/base",
          "model_name": "LayoutModel",
          "model_module_version": "1.2.0",
          "state": {
            "_model_module": "@jupyter-widgets/base",
            "_model_module_version": "1.2.0",
            "_model_name": "LayoutModel",
            "_view_count": null,
            "_view_module": "@jupyter-widgets/base",
            "_view_module_version": "1.2.0",
            "_view_name": "LayoutView",
            "align_content": null,
            "align_items": null,
            "align_self": null,
            "border": null,
            "bottom": null,
            "display": null,
            "flex": null,
            "flex_flow": null,
            "grid_area": null,
            "grid_auto_columns": null,
            "grid_auto_flow": null,
            "grid_auto_rows": null,
            "grid_column": null,
            "grid_gap": null,
            "grid_row": null,
            "grid_template_areas": null,
            "grid_template_columns": null,
            "grid_template_rows": null,
            "height": null,
            "justify_content": null,
            "justify_items": null,
            "left": null,
            "margin": null,
            "max_height": null,
            "max_width": null,
            "min_height": null,
            "min_width": null,
            "object_fit": null,
            "object_position": null,
            "order": null,
            "overflow": null,
            "overflow_x": null,
            "overflow_y": null,
            "padding": null,
            "right": null,
            "top": null,
            "visibility": null,
            "width": null
          }
        },
        "0253a6f7047d406c8634bf171b35c5f6": {
          "model_module": "@jupyter-widgets/controls",
          "model_name": "DescriptionStyleModel",
          "model_module_version": "1.5.0",
          "state": {
            "_model_module": "@jupyter-widgets/controls",
            "_model_module_version": "1.5.0",
            "_model_name": "DescriptionStyleModel",
            "_view_count": null,
            "_view_module": "@jupyter-widgets/base",
            "_view_module_version": "1.2.0",
            "_view_name": "StyleView",
            "description_width": ""
          }
        },
        "3a417e8e9d0841b7b42d48485f937444": {
          "model_module": "@jupyter-widgets/base",
          "model_name": "LayoutModel",
          "model_module_version": "1.2.0",
          "state": {
            "_model_module": "@jupyter-widgets/base",
            "_model_module_version": "1.2.0",
            "_model_name": "LayoutModel",
            "_view_count": null,
            "_view_module": "@jupyter-widgets/base",
            "_view_module_version": "1.2.0",
            "_view_name": "LayoutView",
            "align_content": null,
            "align_items": null,
            "align_self": null,
            "border": null,
            "bottom": null,
            "display": null,
            "flex": null,
            "flex_flow": null,
            "grid_area": null,
            "grid_auto_columns": null,
            "grid_auto_flow": null,
            "grid_auto_rows": null,
            "grid_column": null,
            "grid_gap": null,
            "grid_row": null,
            "grid_template_areas": null,
            "grid_template_columns": null,
            "grid_template_rows": null,
            "height": null,
            "justify_content": null,
            "justify_items": null,
            "left": null,
            "margin": null,
            "max_height": null,
            "max_width": null,
            "min_height": null,
            "min_width": null,
            "object_fit": null,
            "object_position": null,
            "order": null,
            "overflow": null,
            "overflow_x": null,
            "overflow_y": null,
            "padding": null,
            "right": null,
            "top": null,
            "visibility": null,
            "width": null
          }
        },
        "1aad1323516c4378b33189c3723237b1": {
          "model_module": "@jupyter-widgets/controls",
          "model_name": "ProgressStyleModel",
          "model_module_version": "1.5.0",
          "state": {
            "_model_module": "@jupyter-widgets/controls",
            "_model_module_version": "1.5.0",
            "_model_name": "ProgressStyleModel",
            "_view_count": null,
            "_view_module": "@jupyter-widgets/base",
            "_view_module_version": "1.2.0",
            "_view_name": "StyleView",
            "bar_color": null,
            "description_width": ""
          }
        },
        "0e9e43b0d35e4ba083c637f4c5952e5b": {
          "model_module": "@jupyter-widgets/base",
          "model_name": "LayoutModel",
          "model_module_version": "1.2.0",
          "state": {
            "_model_module": "@jupyter-widgets/base",
            "_model_module_version": "1.2.0",
            "_model_name": "LayoutModel",
            "_view_count": null,
            "_view_module": "@jupyter-widgets/base",
            "_view_module_version": "1.2.0",
            "_view_name": "LayoutView",
            "align_content": null,
            "align_items": null,
            "align_self": null,
            "border": null,
            "bottom": null,
            "display": null,
            "flex": null,
            "flex_flow": null,
            "grid_area": null,
            "grid_auto_columns": null,
            "grid_auto_flow": null,
            "grid_auto_rows": null,
            "grid_column": null,
            "grid_gap": null,
            "grid_row": null,
            "grid_template_areas": null,
            "grid_template_columns": null,
            "grid_template_rows": null,
            "height": null,
            "justify_content": null,
            "justify_items": null,
            "left": null,
            "margin": null,
            "max_height": null,
            "max_width": null,
            "min_height": null,
            "min_width": null,
            "object_fit": null,
            "object_position": null,
            "order": null,
            "overflow": null,
            "overflow_x": null,
            "overflow_y": null,
            "padding": null,
            "right": null,
            "top": null,
            "visibility": null,
            "width": null
          }
        },
        "a32c672a4f80460db033d51a00c9fefb": {
          "model_module": "@jupyter-widgets/controls",
          "model_name": "DescriptionStyleModel",
          "model_module_version": "1.5.0",
          "state": {
            "_model_module": "@jupyter-widgets/controls",
            "_model_module_version": "1.5.0",
            "_model_name": "DescriptionStyleModel",
            "_view_count": null,
            "_view_module": "@jupyter-widgets/base",
            "_view_module_version": "1.2.0",
            "_view_name": "StyleView",
            "description_width": ""
          }
        }
      }
    },
    "accelerator": "GPU"
  },
  "nbformat": 4,
  "nbformat_minor": 0
}