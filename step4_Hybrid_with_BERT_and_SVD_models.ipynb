{
  "nbformat": 4,
  "nbformat_minor": 0,
  "metadata": {
    "colab": {
      "provenance": []
    },
    "kernelspec": {
      "name": "python3",
      "display_name": "Python 3"
    },
    "language_info": {
      "name": "python"
    },
    "widgets": {
      "application/vnd.jupyter.widget-state+json": {
        "81bdf957cca549d6be3c53e2af94a672": {
          "model_module": "@jupyter-widgets/controls",
          "model_name": "HBoxModel",
          "model_module_version": "1.5.0",
          "state": {
            "_dom_classes": [],
            "_model_module": "@jupyter-widgets/controls",
            "_model_module_version": "1.5.0",
            "_model_name": "HBoxModel",
            "_view_count": null,
            "_view_module": "@jupyter-widgets/controls",
            "_view_module_version": "1.5.0",
            "_view_name": "HBoxView",
            "box_style": "",
            "children": [
              "IPY_MODEL_eb083a94a19f458e9c62db468cd7b77a",
              "IPY_MODEL_87409cc4698844fca248cb386d41a391",
              "IPY_MODEL_8c02a6e904434c52864b09e1ad1d7b01"
            ],
            "layout": "IPY_MODEL_1535935ce64a45d8b3c85dc21743bffc"
          }
        },
        "eb083a94a19f458e9c62db468cd7b77a": {
          "model_module": "@jupyter-widgets/controls",
          "model_name": "HTMLModel",
          "model_module_version": "1.5.0",
          "state": {
            "_dom_classes": [],
            "_model_module": "@jupyter-widgets/controls",
            "_model_module_version": "1.5.0",
            "_model_name": "HTMLModel",
            "_view_count": null,
            "_view_module": "@jupyter-widgets/controls",
            "_view_module_version": "1.5.0",
            "_view_name": "HTMLView",
            "description": "",
            "description_tooltip": null,
            "layout": "IPY_MODEL_bfa72273998649e4b6a2f68f85e13a73",
            "placeholder": "​",
            "style": "IPY_MODEL_ee4cc614a9484cf1aeba13e2dc5a86ab",
            "value": "Batches: 100%"
          }
        },
        "87409cc4698844fca248cb386d41a391": {
          "model_module": "@jupyter-widgets/controls",
          "model_name": "FloatProgressModel",
          "model_module_version": "1.5.0",
          "state": {
            "_dom_classes": [],
            "_model_module": "@jupyter-widgets/controls",
            "_model_module_version": "1.5.0",
            "_model_name": "FloatProgressModel",
            "_view_count": null,
            "_view_module": "@jupyter-widgets/controls",
            "_view_module_version": "1.5.0",
            "_view_name": "ProgressView",
            "bar_style": "success",
            "description": "",
            "description_tooltip": null,
            "layout": "IPY_MODEL_9fee433c67f44679bfd46cf8bb838494",
            "max": 163,
            "min": 0,
            "orientation": "horizontal",
            "style": "IPY_MODEL_b9c791bbec9149639dcb0ea9bc6cfdbc",
            "value": 163
          }
        },
        "8c02a6e904434c52864b09e1ad1d7b01": {
          "model_module": "@jupyter-widgets/controls",
          "model_name": "HTMLModel",
          "model_module_version": "1.5.0",
          "state": {
            "_dom_classes": [],
            "_model_module": "@jupyter-widgets/controls",
            "_model_module_version": "1.5.0",
            "_model_name": "HTMLModel",
            "_view_count": null,
            "_view_module": "@jupyter-widgets/controls",
            "_view_module_version": "1.5.0",
            "_view_name": "HTMLView",
            "description": "",
            "description_tooltip": null,
            "layout": "IPY_MODEL_4c080f5a84a54075a342ba14d7c76bfe",
            "placeholder": "​",
            "style": "IPY_MODEL_a06bfecdd5b840c0abb72dda793f0112",
            "value": " 163/163 [28:32&lt;00:00,  4.62s/it]"
          }
        },
        "1535935ce64a45d8b3c85dc21743bffc": {
          "model_module": "@jupyter-widgets/base",
          "model_name": "LayoutModel",
          "model_module_version": "1.2.0",
          "state": {
            "_model_module": "@jupyter-widgets/base",
            "_model_module_version": "1.2.0",
            "_model_name": "LayoutModel",
            "_view_count": null,
            "_view_module": "@jupyter-widgets/base",
            "_view_module_version": "1.2.0",
            "_view_name": "LayoutView",
            "align_content": null,
            "align_items": null,
            "align_self": null,
            "border": null,
            "bottom": null,
            "display": null,
            "flex": null,
            "flex_flow": null,
            "grid_area": null,
            "grid_auto_columns": null,
            "grid_auto_flow": null,
            "grid_auto_rows": null,
            "grid_column": null,
            "grid_gap": null,
            "grid_row": null,
            "grid_template_areas": null,
            "grid_template_columns": null,
            "grid_template_rows": null,
            "height": null,
            "justify_content": null,
            "justify_items": null,
            "left": null,
            "margin": null,
            "max_height": null,
            "max_width": null,
            "min_height": null,
            "min_width": null,
            "object_fit": null,
            "object_position": null,
            "order": null,
            "overflow": null,
            "overflow_x": null,
            "overflow_y": null,
            "padding": null,
            "right": null,
            "top": null,
            "visibility": null,
            "width": null
          }
        },
        "bfa72273998649e4b6a2f68f85e13a73": {
          "model_module": "@jupyter-widgets/base",
          "model_name": "LayoutModel",
          "model_module_version": "1.2.0",
          "state": {
            "_model_module": "@jupyter-widgets/base",
            "_model_module_version": "1.2.0",
            "_model_name": "LayoutModel",
            "_view_count": null,
            "_view_module": "@jupyter-widgets/base",
            "_view_module_version": "1.2.0",
            "_view_name": "LayoutView",
            "align_content": null,
            "align_items": null,
            "align_self": null,
            "border": null,
            "bottom": null,
            "display": null,
            "flex": null,
            "flex_flow": null,
            "grid_area": null,
            "grid_auto_columns": null,
            "grid_auto_flow": null,
            "grid_auto_rows": null,
            "grid_column": null,
            "grid_gap": null,
            "grid_row": null,
            "grid_template_areas": null,
            "grid_template_columns": null,
            "grid_template_rows": null,
            "height": null,
            "justify_content": null,
            "justify_items": null,
            "left": null,
            "margin": null,
            "max_height": null,
            "max_width": null,
            "min_height": null,
            "min_width": null,
            "object_fit": null,
            "object_position": null,
            "order": null,
            "overflow": null,
            "overflow_x": null,
            "overflow_y": null,
            "padding": null,
            "right": null,
            "top": null,
            "visibility": null,
            "width": null
          }
        },
        "ee4cc614a9484cf1aeba13e2dc5a86ab": {
          "model_module": "@jupyter-widgets/controls",
          "model_name": "DescriptionStyleModel",
          "model_module_version": "1.5.0",
          "state": {
            "_model_module": "@jupyter-widgets/controls",
            "_model_module_version": "1.5.0",
            "_model_name": "DescriptionStyleModel",
            "_view_count": null,
            "_view_module": "@jupyter-widgets/base",
            "_view_module_version": "1.2.0",
            "_view_name": "StyleView",
            "description_width": ""
          }
        },
        "9fee433c67f44679bfd46cf8bb838494": {
          "model_module": "@jupyter-widgets/base",
          "model_name": "LayoutModel",
          "model_module_version": "1.2.0",
          "state": {
            "_model_module": "@jupyter-widgets/base",
            "_model_module_version": "1.2.0",
            "_model_name": "LayoutModel",
            "_view_count": null,
            "_view_module": "@jupyter-widgets/base",
            "_view_module_version": "1.2.0",
            "_view_name": "LayoutView",
            "align_content": null,
            "align_items": null,
            "align_self": null,
            "border": null,
            "bottom": null,
            "display": null,
            "flex": null,
            "flex_flow": null,
            "grid_area": null,
            "grid_auto_columns": null,
            "grid_auto_flow": null,
            "grid_auto_rows": null,
            "grid_column": null,
            "grid_gap": null,
            "grid_row": null,
            "grid_template_areas": null,
            "grid_template_columns": null,
            "grid_template_rows": null,
            "height": null,
            "justify_content": null,
            "justify_items": null,
            "left": null,
            "margin": null,
            "max_height": null,
            "max_width": null,
            "min_height": null,
            "min_width": null,
            "object_fit": null,
            "object_position": null,
            "order": null,
            "overflow": null,
            "overflow_x": null,
            "overflow_y": null,
            "padding": null,
            "right": null,
            "top": null,
            "visibility": null,
            "width": null
          }
        },
        "b9c791bbec9149639dcb0ea9bc6cfdbc": {
          "model_module": "@jupyter-widgets/controls",
          "model_name": "ProgressStyleModel",
          "model_module_version": "1.5.0",
          "state": {
            "_model_module": "@jupyter-widgets/controls",
            "_model_module_version": "1.5.0",
            "_model_name": "ProgressStyleModel",
            "_view_count": null,
            "_view_module": "@jupyter-widgets/base",
            "_view_module_version": "1.2.0",
            "_view_name": "StyleView",
            "bar_color": null,
            "description_width": ""
          }
        },
        "4c080f5a84a54075a342ba14d7c76bfe": {
          "model_module": "@jupyter-widgets/base",
          "model_name": "LayoutModel",
          "model_module_version": "1.2.0",
          "state": {
            "_model_module": "@jupyter-widgets/base",
            "_model_module_version": "1.2.0",
            "_model_name": "LayoutModel",
            "_view_count": null,
            "_view_module": "@jupyter-widgets/base",
            "_view_module_version": "1.2.0",
            "_view_name": "LayoutView",
            "align_content": null,
            "align_items": null,
            "align_self": null,
            "border": null,
            "bottom": null,
            "display": null,
            "flex": null,
            "flex_flow": null,
            "grid_area": null,
            "grid_auto_columns": null,
            "grid_auto_flow": null,
            "grid_auto_rows": null,
            "grid_column": null,
            "grid_gap": null,
            "grid_row": null,
            "grid_template_areas": null,
            "grid_template_columns": null,
            "grid_template_rows": null,
            "height": null,
            "justify_content": null,
            "justify_items": null,
            "left": null,
            "margin": null,
            "max_height": null,
            "max_width": null,
            "min_height": null,
            "min_width": null,
            "object_fit": null,
            "object_position": null,
            "order": null,
            "overflow": null,
            "overflow_x": null,
            "overflow_y": null,
            "padding": null,
            "right": null,
            "top": null,
            "visibility": null,
            "width": null
          }
        },
        "a06bfecdd5b840c0abb72dda793f0112": {
          "model_module": "@jupyter-widgets/controls",
          "model_name": "DescriptionStyleModel",
          "model_module_version": "1.5.0",
          "state": {
            "_model_module": "@jupyter-widgets/controls",
            "_model_module_version": "1.5.0",
            "_model_name": "DescriptionStyleModel",
            "_view_count": null,
            "_view_module": "@jupyter-widgets/base",
            "_view_module_version": "1.2.0",
            "_view_name": "StyleView",
            "description_width": ""
          }
        }
      }
    }
  },
  "cells": [
    {
      "cell_type": "markdown",
      "source": [
        "# **Install and import necessary packages**"
      ],
      "metadata": {
        "id": "_WmSLQtR-O5_"
      }
    },
    {
      "cell_type": "code",
      "execution_count": 72,
      "metadata": {
        "colab": {
          "base_uri": "https://localhost:8080/"
        },
        "id": "xe9sIk7UTXy0",
        "outputId": "9ee419e7-a22f-49b7-e3d7-344f9d02d0a6"
      },
      "outputs": [
        {
          "output_type": "stream",
          "name": "stdout",
          "text": [
            "Requirement already satisfied: scikit-surprise in /usr/local/lib/python3.10/dist-packages (1.1.3)\n",
            "Requirement already satisfied: joblib>=1.0.0 in /usr/local/lib/python3.10/dist-packages (from scikit-surprise) (1.4.0)\n",
            "Requirement already satisfied: numpy>=1.17.3 in /usr/local/lib/python3.10/dist-packages (from scikit-surprise) (1.25.2)\n",
            "Requirement already satisfied: scipy>=1.3.2 in /usr/local/lib/python3.10/dist-packages (from scikit-surprise) (1.10.1)\n",
            "Collecting git+https://github.com/microsoft/recommenders.git\n",
            "  Cloning https://github.com/microsoft/recommenders.git to /tmp/pip-req-build-5lg3066h\n",
            "  Running command git clone --filter=blob:none --quiet https://github.com/microsoft/recommenders.git /tmp/pip-req-build-5lg3066h\n",
            "  Resolved https://github.com/microsoft/recommenders.git to commit c2ea583d27bb1a4d58a09a1621d5ce95672ef1dc\n",
            "  Installing build dependencies ... \u001b[?25l\u001b[?25hdone\n",
            "  Getting requirements to build wheel ... \u001b[?25l\u001b[?25hdone\n",
            "  Preparing metadata (pyproject.toml) ... \u001b[?25l\u001b[?25hdone\n",
            "Requirement already satisfied: category-encoders<3,>=2.6.0 in /usr/local/lib/python3.10/dist-packages (from recommenders==1.1.1) (2.6.3)\n",
            "Requirement already satisfied: cornac<2,>=1.15.2 in /usr/local/lib/python3.10/dist-packages (from recommenders==1.1.1) (1.18.0)\n",
            "Requirement already satisfied: hyperopt<1,>=0.2.7 in /usr/local/lib/python3.10/dist-packages (from recommenders==1.1.1) (0.2.7)\n",
            "Requirement already satisfied: lightfm<2,>=1.17 in /usr/local/lib/python3.10/dist-packages (from recommenders==1.1.1) (1.17)\n",
            "Requirement already satisfied: lightgbm<5,>=4.0.0 in /usr/local/lib/python3.10/dist-packages (from recommenders==1.1.1) (4.1.0)\n",
            "Requirement already satisfied: locust<3,>=2.12.2 in /usr/local/lib/python3.10/dist-packages (from recommenders==1.1.1) (2.25.0)\n",
            "Requirement already satisfied: memory-profiler<1,>=0.61.0 in /usr/local/lib/python3.10/dist-packages (from recommenders==1.1.1) (0.61.0)\n",
            "Requirement already satisfied: nltk<4,>=3.8.1 in /usr/local/lib/python3.10/dist-packages (from recommenders==1.1.1) (3.8.1)\n",
            "Requirement already satisfied: notebook<8,>=7.0.0 in /usr/local/lib/python3.10/dist-packages (from recommenders==1.1.1) (7.1.2)\n",
            "Requirement already satisfied: numba<1,>=0.57.0 in /usr/local/lib/python3.10/dist-packages (from recommenders==1.1.1) (0.58.1)\n",
            "Requirement already satisfied: pandas<3.0.0,>2.0.0 in /usr/local/lib/python3.10/dist-packages (from recommenders==1.1.1) (2.0.3)\n",
            "Requirement already satisfied: retrying<2,>=1.3.4 in /usr/local/lib/python3.10/dist-packages (from recommenders==1.1.1) (1.3.4)\n",
            "Requirement already satisfied: scikit-learn<2,>=1.2.0 in /usr/local/lib/python3.10/dist-packages (from recommenders==1.1.1) (1.2.2)\n",
            "Requirement already satisfied: scikit-surprise>=1.1.3 in /usr/local/lib/python3.10/dist-packages (from recommenders==1.1.1) (1.1.3)\n",
            "Requirement already satisfied: scipy<1.11.0,>=1.10.1 in /usr/local/lib/python3.10/dist-packages (from recommenders==1.1.1) (1.10.1)\n",
            "Requirement already satisfied: seaborn<1,>=0.13.0 in /usr/local/lib/python3.10/dist-packages (from recommenders==1.1.1) (0.13.1)\n",
            "Requirement already satisfied: transformers<5,>=4.27.0 in /usr/local/lib/python3.10/dist-packages (from recommenders==1.1.1) (4.38.2)\n",
            "Requirement already satisfied: pandera[strategies]>=0.15.0 in /usr/local/lib/python3.10/dist-packages (from recommenders==1.1.1) (0.18.3)\n",
            "Requirement already satisfied: numpy>=1.14.0 in /usr/local/lib/python3.10/dist-packages (from category-encoders<3,>=2.6.0->recommenders==1.1.1) (1.25.2)\n",
            "Requirement already satisfied: statsmodels>=0.9.0 in /usr/local/lib/python3.10/dist-packages (from category-encoders<3,>=2.6.0->recommenders==1.1.1) (0.14.1)\n",
            "Requirement already satisfied: patsy>=0.5.1 in /usr/local/lib/python3.10/dist-packages (from category-encoders<3,>=2.6.0->recommenders==1.1.1) (0.5.6)\n",
            "Requirement already satisfied: tqdm in /usr/local/lib/python3.10/dist-packages (from cornac<2,>=1.15.2->recommenders==1.1.1) (4.66.2)\n",
            "Requirement already satisfied: powerlaw in /usr/local/lib/python3.10/dist-packages (from cornac<2,>=1.15.2->recommenders==1.1.1) (1.5)\n",
            "Requirement already satisfied: six in /usr/local/lib/python3.10/dist-packages (from hyperopt<1,>=0.2.7->recommenders==1.1.1) (1.16.0)\n",
            "Requirement already satisfied: networkx>=2.2 in /usr/local/lib/python3.10/dist-packages (from hyperopt<1,>=0.2.7->recommenders==1.1.1) (3.3)\n",
            "Requirement already satisfied: future in /usr/local/lib/python3.10/dist-packages (from hyperopt<1,>=0.2.7->recommenders==1.1.1) (0.18.3)\n",
            "Requirement already satisfied: cloudpickle in /usr/local/lib/python3.10/dist-packages (from hyperopt<1,>=0.2.7->recommenders==1.1.1) (2.2.1)\n",
            "Requirement already satisfied: py4j in /usr/local/lib/python3.10/dist-packages (from hyperopt<1,>=0.2.7->recommenders==1.1.1) (0.10.9.7)\n",
            "Requirement already satisfied: requests in /usr/local/lib/python3.10/dist-packages (from lightfm<2,>=1.17->recommenders==1.1.1) (2.31.0)\n",
            "Requirement already satisfied: gevent>=22.10.2 in /usr/local/lib/python3.10/dist-packages (from locust<3,>=2.12.2->recommenders==1.1.1) (24.2.1)\n",
            "Requirement already satisfied: flask>=2.0.0 in /usr/local/lib/python3.10/dist-packages (from locust<3,>=2.12.2->recommenders==1.1.1) (2.2.5)\n",
            "Requirement already satisfied: Werkzeug>=2.0.0 in /usr/local/lib/python3.10/dist-packages (from locust<3,>=2.12.2->recommenders==1.1.1) (3.0.2)\n",
            "Requirement already satisfied: msgpack>=1.0.0 in /usr/local/lib/python3.10/dist-packages (from locust<3,>=2.12.2->recommenders==1.1.1) (1.0.8)\n",
            "Requirement already satisfied: pyzmq>=25.0.0 in /usr/local/lib/python3.10/dist-packages (from locust<3,>=2.12.2->recommenders==1.1.1) (26.0.0)\n",
            "Requirement already satisfied: geventhttpclient>=2.0.11 in /usr/local/lib/python3.10/dist-packages (from locust<3,>=2.12.2->recommenders==1.1.1) (2.2.0)\n",
            "Requirement already satisfied: ConfigArgParse>=1.5.5 in /usr/local/lib/python3.10/dist-packages (from locust<3,>=2.12.2->recommenders==1.1.1) (1.7)\n",
            "Requirement already satisfied: psutil>=5.9.1 in /usr/local/lib/python3.10/dist-packages (from locust<3,>=2.12.2->recommenders==1.1.1) (5.9.5)\n",
            "Requirement already satisfied: Flask-Login>=0.6.3 in /usr/local/lib/python3.10/dist-packages (from locust<3,>=2.12.2->recommenders==1.1.1) (0.6.3)\n",
            "Requirement already satisfied: Flask-Cors>=3.0.10 in /usr/local/lib/python3.10/dist-packages (from locust<3,>=2.12.2->recommenders==1.1.1) (4.0.0)\n",
            "Requirement already satisfied: roundrobin>=0.0.2 in /usr/local/lib/python3.10/dist-packages (from locust<3,>=2.12.2->recommenders==1.1.1) (0.0.4)\n",
            "Requirement already satisfied: tomli>=1.1.0 in /usr/local/lib/python3.10/dist-packages (from locust<3,>=2.12.2->recommenders==1.1.1) (2.0.1)\n",
            "Requirement already satisfied: click in /usr/local/lib/python3.10/dist-packages (from nltk<4,>=3.8.1->recommenders==1.1.1) (8.1.7)\n",
            "Requirement already satisfied: joblib in /usr/local/lib/python3.10/dist-packages (from nltk<4,>=3.8.1->recommenders==1.1.1) (1.4.0)\n",
            "Requirement already satisfied: regex>=2021.8.3 in /usr/local/lib/python3.10/dist-packages (from nltk<4,>=3.8.1->recommenders==1.1.1) (2023.12.25)\n",
            "Requirement already satisfied: jupyter-server<3,>=2.4.0 in /usr/local/lib/python3.10/dist-packages (from notebook<8,>=7.0.0->recommenders==1.1.1) (2.14.0)\n",
            "Requirement already satisfied: jupyterlab-server<3,>=2.22.1 in /usr/local/lib/python3.10/dist-packages (from notebook<8,>=7.0.0->recommenders==1.1.1) (2.26.0)\n",
            "Requirement already satisfied: jupyterlab<4.2,>=4.1.1 in /usr/local/lib/python3.10/dist-packages (from notebook<8,>=7.0.0->recommenders==1.1.1) (4.1.6)\n",
            "Requirement already satisfied: notebook-shim<0.3,>=0.2 in /usr/local/lib/python3.10/dist-packages (from notebook<8,>=7.0.0->recommenders==1.1.1) (0.2.4)\n",
            "Requirement already satisfied: tornado>=6.2.0 in /usr/local/lib/python3.10/dist-packages (from notebook<8,>=7.0.0->recommenders==1.1.1) (6.3.3)\n",
            "Requirement already satisfied: llvmlite<0.42,>=0.41.0dev0 in /usr/local/lib/python3.10/dist-packages (from numba<1,>=0.57.0->recommenders==1.1.1) (0.41.1)\n",
            "Requirement already satisfied: python-dateutil>=2.8.2 in /usr/local/lib/python3.10/dist-packages (from pandas<3.0.0,>2.0.0->recommenders==1.1.1) (2.8.2)\n",
            "Requirement already satisfied: pytz>=2020.1 in /usr/local/lib/python3.10/dist-packages (from pandas<3.0.0,>2.0.0->recommenders==1.1.1) (2023.4)\n",
            "Requirement already satisfied: tzdata>=2022.1 in /usr/local/lib/python3.10/dist-packages (from pandas<3.0.0,>2.0.0->recommenders==1.1.1) (2024.1)\n",
            "Requirement already satisfied: multimethod<=1.10.0 in /usr/local/lib/python3.10/dist-packages (from pandera[strategies]>=0.15.0->recommenders==1.1.1) (1.10)\n",
            "Requirement already satisfied: packaging>=20.0 in /usr/local/lib/python3.10/dist-packages (from pandera[strategies]>=0.15.0->recommenders==1.1.1) (24.0)\n",
            "Requirement already satisfied: pydantic in /usr/local/lib/python3.10/dist-packages (from pandera[strategies]>=0.15.0->recommenders==1.1.1) (2.6.4)\n",
            "Requirement already satisfied: typeguard>=3.0.2 in /usr/local/lib/python3.10/dist-packages (from pandera[strategies]>=0.15.0->recommenders==1.1.1) (4.2.1)\n",
            "Requirement already satisfied: typing-inspect>=0.6.0 in /usr/local/lib/python3.10/dist-packages (from pandera[strategies]>=0.15.0->recommenders==1.1.1) (0.9.0)\n",
            "Requirement already satisfied: wrapt in /usr/local/lib/python3.10/dist-packages (from pandera[strategies]>=0.15.0->recommenders==1.1.1) (1.14.1)\n",
            "Requirement already satisfied: hypothesis>=6.92.7 in /usr/local/lib/python3.10/dist-packages (from pandera[strategies]>=0.15.0->recommenders==1.1.1) (6.100.1)\n",
            "Requirement already satisfied: threadpoolctl>=2.0.0 in /usr/local/lib/python3.10/dist-packages (from scikit-learn<2,>=1.2.0->recommenders==1.1.1) (3.4.0)\n",
            "Requirement already satisfied: matplotlib!=3.6.1,>=3.4 in /usr/local/lib/python3.10/dist-packages (from seaborn<1,>=0.13.0->recommenders==1.1.1) (3.7.1)\n",
            "Requirement already satisfied: filelock in /usr/local/lib/python3.10/dist-packages (from transformers<5,>=4.27.0->recommenders==1.1.1) (3.13.4)\n",
            "Requirement already satisfied: huggingface-hub<1.0,>=0.19.3 in /usr/local/lib/python3.10/dist-packages (from transformers<5,>=4.27.0->recommenders==1.1.1) (0.20.3)\n",
            "Requirement already satisfied: pyyaml>=5.1 in /usr/local/lib/python3.10/dist-packages (from transformers<5,>=4.27.0->recommenders==1.1.1) (6.0.1)\n",
            "Requirement already satisfied: tokenizers<0.19,>=0.14 in /usr/local/lib/python3.10/dist-packages (from transformers<5,>=4.27.0->recommenders==1.1.1) (0.15.2)\n",
            "Requirement already satisfied: safetensors>=0.4.1 in /usr/local/lib/python3.10/dist-packages (from transformers<5,>=4.27.0->recommenders==1.1.1) (0.4.2)\n",
            "Requirement already satisfied: Jinja2>=3.0 in /usr/local/lib/python3.10/dist-packages (from flask>=2.0.0->locust<3,>=2.12.2->recommenders==1.1.1) (3.1.3)\n",
            "Requirement already satisfied: itsdangerous>=2.0 in /usr/local/lib/python3.10/dist-packages (from flask>=2.0.0->locust<3,>=2.12.2->recommenders==1.1.1) (2.1.2)\n",
            "Requirement already satisfied: zope.event in /usr/local/lib/python3.10/dist-packages (from gevent>=22.10.2->locust<3,>=2.12.2->recommenders==1.1.1) (5.0)\n",
            "Requirement already satisfied: zope.interface in /usr/local/lib/python3.10/dist-packages (from gevent>=22.10.2->locust<3,>=2.12.2->recommenders==1.1.1) (6.3)\n",
            "Requirement already satisfied: greenlet>=2.0.0 in /usr/local/lib/python3.10/dist-packages (from gevent>=22.10.2->locust<3,>=2.12.2->recommenders==1.1.1) (3.0.3)\n",
            "Requirement already satisfied: certifi in /usr/local/lib/python3.10/dist-packages (from geventhttpclient>=2.0.11->locust<3,>=2.12.2->recommenders==1.1.1) (2024.2.2)\n",
            "Requirement already satisfied: brotli in /usr/local/lib/python3.10/dist-packages (from geventhttpclient>=2.0.11->locust<3,>=2.12.2->recommenders==1.1.1) (1.1.0)\n",
            "Requirement already satisfied: urllib3 in /usr/local/lib/python3.10/dist-packages (from geventhttpclient>=2.0.11->locust<3,>=2.12.2->recommenders==1.1.1) (2.0.7)\n",
            "Requirement already satisfied: fsspec>=2023.5.0 in /usr/local/lib/python3.10/dist-packages (from huggingface-hub<1.0,>=0.19.3->transformers<5,>=4.27.0->recommenders==1.1.1) (2023.6.0)\n",
            "Requirement already satisfied: typing-extensions>=3.7.4.3 in /usr/local/lib/python3.10/dist-packages (from huggingface-hub<1.0,>=0.19.3->transformers<5,>=4.27.0->recommenders==1.1.1) (4.11.0)\n",
            "Requirement already satisfied: attrs>=22.2.0 in /usr/local/lib/python3.10/dist-packages (from hypothesis>=6.92.7->pandera[strategies]>=0.15.0->recommenders==1.1.1) (23.2.0)\n",
            "Requirement already satisfied: sortedcontainers<3.0.0,>=2.1.0 in /usr/local/lib/python3.10/dist-packages (from hypothesis>=6.92.7->pandera[strategies]>=0.15.0->recommenders==1.1.1) (2.4.0)\n",
            "Requirement already satisfied: exceptiongroup>=1.0.0 in /usr/local/lib/python3.10/dist-packages (from hypothesis>=6.92.7->pandera[strategies]>=0.15.0->recommenders==1.1.1) (1.2.0)\n",
            "Requirement already satisfied: anyio>=3.1.0 in /usr/local/lib/python3.10/dist-packages (from jupyter-server<3,>=2.4.0->notebook<8,>=7.0.0->recommenders==1.1.1) (3.7.1)\n",
            "Requirement already satisfied: argon2-cffi>=21.1 in /usr/local/lib/python3.10/dist-packages (from jupyter-server<3,>=2.4.0->notebook<8,>=7.0.0->recommenders==1.1.1) (23.1.0)\n",
            "Requirement already satisfied: jupyter-client>=7.4.4 in /usr/local/lib/python3.10/dist-packages (from jupyter-server<3,>=2.4.0->notebook<8,>=7.0.0->recommenders==1.1.1) (8.6.1)\n",
            "Requirement already satisfied: jupyter-core!=5.0.*,>=4.12 in /usr/local/lib/python3.10/dist-packages (from jupyter-server<3,>=2.4.0->notebook<8,>=7.0.0->recommenders==1.1.1) (5.7.2)\n",
            "Requirement already satisfied: jupyter-events>=0.9.0 in /usr/local/lib/python3.10/dist-packages (from jupyter-server<3,>=2.4.0->notebook<8,>=7.0.0->recommenders==1.1.1) (0.10.0)\n",
            "Requirement already satisfied: jupyter-server-terminals>=0.4.4 in /usr/local/lib/python3.10/dist-packages (from jupyter-server<3,>=2.4.0->notebook<8,>=7.0.0->recommenders==1.1.1) (0.5.3)\n",
            "Requirement already satisfied: nbconvert>=6.4.4 in /usr/local/lib/python3.10/dist-packages (from jupyter-server<3,>=2.4.0->notebook<8,>=7.0.0->recommenders==1.1.1) (6.5.4)\n",
            "Requirement already satisfied: nbformat>=5.3.0 in /usr/local/lib/python3.10/dist-packages (from jupyter-server<3,>=2.4.0->notebook<8,>=7.0.0->recommenders==1.1.1) (5.10.4)\n",
            "Requirement already satisfied: overrides>=5.0 in /usr/local/lib/python3.10/dist-packages (from jupyter-server<3,>=2.4.0->notebook<8,>=7.0.0->recommenders==1.1.1) (7.7.0)\n",
            "Requirement already satisfied: prometheus-client>=0.9 in /usr/local/lib/python3.10/dist-packages (from jupyter-server<3,>=2.4.0->notebook<8,>=7.0.0->recommenders==1.1.1) (0.20.0)\n",
            "Requirement already satisfied: send2trash>=1.8.2 in /usr/local/lib/python3.10/dist-packages (from jupyter-server<3,>=2.4.0->notebook<8,>=7.0.0->recommenders==1.1.1) (1.8.3)\n",
            "Requirement already satisfied: terminado>=0.8.3 in /usr/local/lib/python3.10/dist-packages (from jupyter-server<3,>=2.4.0->notebook<8,>=7.0.0->recommenders==1.1.1) (0.18.1)\n",
            "Requirement already satisfied: traitlets>=5.6.0 in /usr/local/lib/python3.10/dist-packages (from jupyter-server<3,>=2.4.0->notebook<8,>=7.0.0->recommenders==1.1.1) (5.7.1)\n",
            "Requirement already satisfied: websocket-client>=1.7 in /usr/local/lib/python3.10/dist-packages (from jupyter-server<3,>=2.4.0->notebook<8,>=7.0.0->recommenders==1.1.1) (1.7.0)\n",
            "Requirement already satisfied: async-lru>=1.0.0 in /usr/local/lib/python3.10/dist-packages (from jupyterlab<4.2,>=4.1.1->notebook<8,>=7.0.0->recommenders==1.1.1) (2.0.4)\n",
            "Requirement already satisfied: httpx>=0.25.0 in /usr/local/lib/python3.10/dist-packages (from jupyterlab<4.2,>=4.1.1->notebook<8,>=7.0.0->recommenders==1.1.1) (0.27.0)\n",
            "Requirement already satisfied: ipykernel>=6.5.0 in /usr/local/lib/python3.10/dist-packages (from jupyterlab<4.2,>=4.1.1->notebook<8,>=7.0.0->recommenders==1.1.1) (6.29.4)\n",
            "Requirement already satisfied: jupyter-lsp>=2.0.0 in /usr/local/lib/python3.10/dist-packages (from jupyterlab<4.2,>=4.1.1->notebook<8,>=7.0.0->recommenders==1.1.1) (2.2.5)\n",
            "Requirement already satisfied: babel>=2.10 in /usr/local/lib/python3.10/dist-packages (from jupyterlab-server<3,>=2.22.1->notebook<8,>=7.0.0->recommenders==1.1.1) (2.14.0)\n",
            "Requirement already satisfied: json5>=0.9.0 in /usr/local/lib/python3.10/dist-packages (from jupyterlab-server<3,>=2.22.1->notebook<8,>=7.0.0->recommenders==1.1.1) (0.9.25)\n",
            "Requirement already satisfied: jsonschema>=4.18.0 in /usr/local/lib/python3.10/dist-packages (from jupyterlab-server<3,>=2.22.1->notebook<8,>=7.0.0->recommenders==1.1.1) (4.19.2)\n",
            "Requirement already satisfied: contourpy>=1.0.1 in /usr/local/lib/python3.10/dist-packages (from matplotlib!=3.6.1,>=3.4->seaborn<1,>=0.13.0->recommenders==1.1.1) (1.2.1)\n",
            "Requirement already satisfied: cycler>=0.10 in /usr/local/lib/python3.10/dist-packages (from matplotlib!=3.6.1,>=3.4->seaborn<1,>=0.13.0->recommenders==1.1.1) (0.12.1)\n",
            "Requirement already satisfied: fonttools>=4.22.0 in /usr/local/lib/python3.10/dist-packages (from matplotlib!=3.6.1,>=3.4->seaborn<1,>=0.13.0->recommenders==1.1.1) (4.51.0)\n",
            "Requirement already satisfied: kiwisolver>=1.0.1 in /usr/local/lib/python3.10/dist-packages (from matplotlib!=3.6.1,>=3.4->seaborn<1,>=0.13.0->recommenders==1.1.1) (1.4.5)\n",
            "Requirement already satisfied: pillow>=6.2.0 in /usr/local/lib/python3.10/dist-packages (from matplotlib!=3.6.1,>=3.4->seaborn<1,>=0.13.0->recommenders==1.1.1) (9.4.0)\n",
            "Requirement already satisfied: pyparsing>=2.3.1 in /usr/local/lib/python3.10/dist-packages (from matplotlib!=3.6.1,>=3.4->seaborn<1,>=0.13.0->recommenders==1.1.1) (3.1.2)\n",
            "Requirement already satisfied: charset-normalizer<4,>=2 in /usr/local/lib/python3.10/dist-packages (from requests->lightfm<2,>=1.17->recommenders==1.1.1) (3.3.2)\n",
            "Requirement already satisfied: idna<4,>=2.5 in /usr/local/lib/python3.10/dist-packages (from requests->lightfm<2,>=1.17->recommenders==1.1.1) (3.6)\n",
            "Requirement already satisfied: mypy-extensions>=0.3.0 in /usr/local/lib/python3.10/dist-packages (from typing-inspect>=0.6.0->pandera[strategies]>=0.15.0->recommenders==1.1.1) (1.0.0)\n",
            "Requirement already satisfied: MarkupSafe>=2.1.1 in /usr/local/lib/python3.10/dist-packages (from Werkzeug>=2.0.0->locust<3,>=2.12.2->recommenders==1.1.1) (2.1.5)\n",
            "Requirement already satisfied: mpmath in /usr/local/lib/python3.10/dist-packages (from powerlaw->cornac<2,>=1.15.2->recommenders==1.1.1) (1.3.0)\n",
            "Requirement already satisfied: annotated-types>=0.4.0 in /usr/local/lib/python3.10/dist-packages (from pydantic->pandera[strategies]>=0.15.0->recommenders==1.1.1) (0.6.0)\n",
            "Requirement already satisfied: pydantic-core==2.16.3 in /usr/local/lib/python3.10/dist-packages (from pydantic->pandera[strategies]>=0.15.0->recommenders==1.1.1) (2.16.3)\n",
            "Requirement already satisfied: sniffio>=1.1 in /usr/local/lib/python3.10/dist-packages (from anyio>=3.1.0->jupyter-server<3,>=2.4.0->notebook<8,>=7.0.0->recommenders==1.1.1) (1.3.1)\n",
            "Requirement already satisfied: argon2-cffi-bindings in /usr/local/lib/python3.10/dist-packages (from argon2-cffi>=21.1->jupyter-server<3,>=2.4.0->notebook<8,>=7.0.0->recommenders==1.1.1) (21.2.0)\n",
            "Requirement already satisfied: httpcore==1.* in /usr/local/lib/python3.10/dist-packages (from httpx>=0.25.0->jupyterlab<4.2,>=4.1.1->notebook<8,>=7.0.0->recommenders==1.1.1) (1.0.5)\n",
            "Requirement already satisfied: h11<0.15,>=0.13 in /usr/local/lib/python3.10/dist-packages (from httpcore==1.*->httpx>=0.25.0->jupyterlab<4.2,>=4.1.1->notebook<8,>=7.0.0->recommenders==1.1.1) (0.14.0)\n",
            "Requirement already satisfied: comm>=0.1.1 in /usr/local/lib/python3.10/dist-packages (from ipykernel>=6.5.0->jupyterlab<4.2,>=4.1.1->notebook<8,>=7.0.0->recommenders==1.1.1) (0.2.2)\n",
            "Requirement already satisfied: debugpy>=1.6.5 in /usr/local/lib/python3.10/dist-packages (from ipykernel>=6.5.0->jupyterlab<4.2,>=4.1.1->notebook<8,>=7.0.0->recommenders==1.1.1) (1.6.6)\n",
            "Requirement already satisfied: ipython>=7.23.1 in /usr/local/lib/python3.10/dist-packages (from ipykernel>=6.5.0->jupyterlab<4.2,>=4.1.1->notebook<8,>=7.0.0->recommenders==1.1.1) (7.34.0)\n",
            "Requirement already satisfied: matplotlib-inline>=0.1 in /usr/local/lib/python3.10/dist-packages (from ipykernel>=6.5.0->jupyterlab<4.2,>=4.1.1->notebook<8,>=7.0.0->recommenders==1.1.1) (0.1.6)\n",
            "Requirement already satisfied: nest-asyncio in /usr/local/lib/python3.10/dist-packages (from ipykernel>=6.5.0->jupyterlab<4.2,>=4.1.1->notebook<8,>=7.0.0->recommenders==1.1.1) (1.6.0)\n",
            "Requirement already satisfied: jsonschema-specifications>=2023.03.6 in /usr/local/lib/python3.10/dist-packages (from jsonschema>=4.18.0->jupyterlab-server<3,>=2.22.1->notebook<8,>=7.0.0->recommenders==1.1.1) (2023.12.1)\n",
            "Requirement already satisfied: referencing>=0.28.4 in /usr/local/lib/python3.10/dist-packages (from jsonschema>=4.18.0->jupyterlab-server<3,>=2.22.1->notebook<8,>=7.0.0->recommenders==1.1.1) (0.34.0)\n",
            "Requirement already satisfied: rpds-py>=0.7.1 in /usr/local/lib/python3.10/dist-packages (from jsonschema>=4.18.0->jupyterlab-server<3,>=2.22.1->notebook<8,>=7.0.0->recommenders==1.1.1) (0.18.0)\n",
            "Requirement already satisfied: platformdirs>=2.5 in /usr/local/lib/python3.10/dist-packages (from jupyter-core!=5.0.*,>=4.12->jupyter-server<3,>=2.4.0->notebook<8,>=7.0.0->recommenders==1.1.1) (4.2.0)\n",
            "Requirement already satisfied: python-json-logger>=2.0.4 in /usr/local/lib/python3.10/dist-packages (from jupyter-events>=0.9.0->jupyter-server<3,>=2.4.0->notebook<8,>=7.0.0->recommenders==1.1.1) (2.0.7)\n",
            "Requirement already satisfied: rfc3339-validator in /usr/local/lib/python3.10/dist-packages (from jupyter-events>=0.9.0->jupyter-server<3,>=2.4.0->notebook<8,>=7.0.0->recommenders==1.1.1) (0.1.4)\n",
            "Requirement already satisfied: rfc3986-validator>=0.1.1 in /usr/local/lib/python3.10/dist-packages (from jupyter-events>=0.9.0->jupyter-server<3,>=2.4.0->notebook<8,>=7.0.0->recommenders==1.1.1) (0.1.1)\n",
            "Requirement already satisfied: lxml in /usr/local/lib/python3.10/dist-packages (from nbconvert>=6.4.4->jupyter-server<3,>=2.4.0->notebook<8,>=7.0.0->recommenders==1.1.1) (4.9.4)\n",
            "Requirement already satisfied: beautifulsoup4 in /usr/local/lib/python3.10/dist-packages (from nbconvert>=6.4.4->jupyter-server<3,>=2.4.0->notebook<8,>=7.0.0->recommenders==1.1.1) (4.12.3)\n",
            "Requirement already satisfied: bleach in /usr/local/lib/python3.10/dist-packages (from nbconvert>=6.4.4->jupyter-server<3,>=2.4.0->notebook<8,>=7.0.0->recommenders==1.1.1) (6.1.0)\n",
            "Requirement already satisfied: defusedxml in /usr/local/lib/python3.10/dist-packages (from nbconvert>=6.4.4->jupyter-server<3,>=2.4.0->notebook<8,>=7.0.0->recommenders==1.1.1) (0.7.1)\n",
            "Requirement already satisfied: entrypoints>=0.2.2 in /usr/local/lib/python3.10/dist-packages (from nbconvert>=6.4.4->jupyter-server<3,>=2.4.0->notebook<8,>=7.0.0->recommenders==1.1.1) (0.4)\n",
            "Requirement already satisfied: jupyterlab-pygments in /usr/local/lib/python3.10/dist-packages (from nbconvert>=6.4.4->jupyter-server<3,>=2.4.0->notebook<8,>=7.0.0->recommenders==1.1.1) (0.3.0)\n",
            "Requirement already satisfied: mistune<2,>=0.8.1 in /usr/local/lib/python3.10/dist-packages (from nbconvert>=6.4.4->jupyter-server<3,>=2.4.0->notebook<8,>=7.0.0->recommenders==1.1.1) (0.8.4)\n",
            "Requirement already satisfied: nbclient>=0.5.0 in /usr/local/lib/python3.10/dist-packages (from nbconvert>=6.4.4->jupyter-server<3,>=2.4.0->notebook<8,>=7.0.0->recommenders==1.1.1) (0.10.0)\n",
            "Requirement already satisfied: pandocfilters>=1.4.1 in /usr/local/lib/python3.10/dist-packages (from nbconvert>=6.4.4->jupyter-server<3,>=2.4.0->notebook<8,>=7.0.0->recommenders==1.1.1) (1.5.1)\n",
            "Requirement already satisfied: pygments>=2.4.1 in /usr/local/lib/python3.10/dist-packages (from nbconvert>=6.4.4->jupyter-server<3,>=2.4.0->notebook<8,>=7.0.0->recommenders==1.1.1) (2.16.1)\n",
            "Requirement already satisfied: tinycss2 in /usr/local/lib/python3.10/dist-packages (from nbconvert>=6.4.4->jupyter-server<3,>=2.4.0->notebook<8,>=7.0.0->recommenders==1.1.1) (1.2.1)\n",
            "Requirement already satisfied: fastjsonschema>=2.15 in /usr/local/lib/python3.10/dist-packages (from nbformat>=5.3.0->jupyter-server<3,>=2.4.0->notebook<8,>=7.0.0->recommenders==1.1.1) (2.19.1)\n",
            "Requirement already satisfied: ptyprocess in /usr/local/lib/python3.10/dist-packages (from terminado>=0.8.3->jupyter-server<3,>=2.4.0->notebook<8,>=7.0.0->recommenders==1.1.1) (0.7.0)\n",
            "Requirement already satisfied: setuptools in /usr/local/lib/python3.10/dist-packages (from zope.event->gevent>=22.10.2->locust<3,>=2.12.2->recommenders==1.1.1) (67.7.2)\n",
            "Requirement already satisfied: jedi>=0.16 in /usr/local/lib/python3.10/dist-packages (from ipython>=7.23.1->ipykernel>=6.5.0->jupyterlab<4.2,>=4.1.1->notebook<8,>=7.0.0->recommenders==1.1.1) (0.19.1)\n",
            "Requirement already satisfied: decorator in /usr/local/lib/python3.10/dist-packages (from ipython>=7.23.1->ipykernel>=6.5.0->jupyterlab<4.2,>=4.1.1->notebook<8,>=7.0.0->recommenders==1.1.1) (4.4.2)\n",
            "Requirement already satisfied: pickleshare in /usr/local/lib/python3.10/dist-packages (from ipython>=7.23.1->ipykernel>=6.5.0->jupyterlab<4.2,>=4.1.1->notebook<8,>=7.0.0->recommenders==1.1.1) (0.7.5)\n",
            "Requirement already satisfied: prompt-toolkit!=3.0.0,!=3.0.1,<3.1.0,>=2.0.0 in /usr/local/lib/python3.10/dist-packages (from ipython>=7.23.1->ipykernel>=6.5.0->jupyterlab<4.2,>=4.1.1->notebook<8,>=7.0.0->recommenders==1.1.1) (3.0.43)\n",
            "Requirement already satisfied: backcall in /usr/local/lib/python3.10/dist-packages (from ipython>=7.23.1->ipykernel>=6.5.0->jupyterlab<4.2,>=4.1.1->notebook<8,>=7.0.0->recommenders==1.1.1) (0.2.0)\n",
            "Requirement already satisfied: pexpect>4.3 in /usr/local/lib/python3.10/dist-packages (from ipython>=7.23.1->ipykernel>=6.5.0->jupyterlab<4.2,>=4.1.1->notebook<8,>=7.0.0->recommenders==1.1.1) (4.9.0)\n",
            "Requirement already satisfied: fqdn in /usr/local/lib/python3.10/dist-packages (from jsonschema>=4.18.0->jupyterlab-server<3,>=2.22.1->notebook<8,>=7.0.0->recommenders==1.1.1) (1.5.1)\n",
            "Requirement already satisfied: isoduration in /usr/local/lib/python3.10/dist-packages (from jsonschema>=4.18.0->jupyterlab-server<3,>=2.22.1->notebook<8,>=7.0.0->recommenders==1.1.1) (20.11.0)\n",
            "Requirement already satisfied: jsonpointer>1.13 in /usr/local/lib/python3.10/dist-packages (from jsonschema>=4.18.0->jupyterlab-server<3,>=2.22.1->notebook<8,>=7.0.0->recommenders==1.1.1) (2.4)\n",
            "Requirement already satisfied: uri-template in /usr/local/lib/python3.10/dist-packages (from jsonschema>=4.18.0->jupyterlab-server<3,>=2.22.1->notebook<8,>=7.0.0->recommenders==1.1.1) (1.3.0)\n",
            "Requirement already satisfied: webcolors>=1.11 in /usr/local/lib/python3.10/dist-packages (from jsonschema>=4.18.0->jupyterlab-server<3,>=2.22.1->notebook<8,>=7.0.0->recommenders==1.1.1) (1.13)\n",
            "Requirement already satisfied: cffi>=1.0.1 in /usr/local/lib/python3.10/dist-packages (from argon2-cffi-bindings->argon2-cffi>=21.1->jupyter-server<3,>=2.4.0->notebook<8,>=7.0.0->recommenders==1.1.1) (1.16.0)\n",
            "Requirement already satisfied: soupsieve>1.2 in /usr/local/lib/python3.10/dist-packages (from beautifulsoup4->nbconvert>=6.4.4->jupyter-server<3,>=2.4.0->notebook<8,>=7.0.0->recommenders==1.1.1) (2.5)\n",
            "Requirement already satisfied: webencodings in /usr/local/lib/python3.10/dist-packages (from bleach->nbconvert>=6.4.4->jupyter-server<3,>=2.4.0->notebook<8,>=7.0.0->recommenders==1.1.1) (0.5.1)\n",
            "Requirement already satisfied: pycparser in /usr/local/lib/python3.10/dist-packages (from cffi>=1.0.1->argon2-cffi-bindings->argon2-cffi>=21.1->jupyter-server<3,>=2.4.0->notebook<8,>=7.0.0->recommenders==1.1.1) (2.22)\n",
            "Requirement already satisfied: parso<0.9.0,>=0.8.3 in /usr/local/lib/python3.10/dist-packages (from jedi>=0.16->ipython>=7.23.1->ipykernel>=6.5.0->jupyterlab<4.2,>=4.1.1->notebook<8,>=7.0.0->recommenders==1.1.1) (0.8.4)\n",
            "Requirement already satisfied: wcwidth in /usr/local/lib/python3.10/dist-packages (from prompt-toolkit!=3.0.0,!=3.0.1,<3.1.0,>=2.0.0->ipython>=7.23.1->ipykernel>=6.5.0->jupyterlab<4.2,>=4.1.1->notebook<8,>=7.0.0->recommenders==1.1.1) (0.2.13)\n",
            "Requirement already satisfied: arrow>=0.15.0 in /usr/local/lib/python3.10/dist-packages (from isoduration->jsonschema>=4.18.0->jupyterlab-server<3,>=2.22.1->notebook<8,>=7.0.0->recommenders==1.1.1) (1.3.0)\n",
            "Requirement already satisfied: types-python-dateutil>=2.8.10 in /usr/local/lib/python3.10/dist-packages (from arrow>=0.15.0->isoduration->jsonschema>=4.18.0->jupyterlab-server<3,>=2.22.1->notebook<8,>=7.0.0->recommenders==1.1.1) (2.9.0.20240316)\n"
          ]
        },
        {
          "output_type": "stream",
          "name": "stderr",
          "text": [
            "[nltk_data] Downloading package punkt to /root/nltk_data...\n",
            "[nltk_data]   Package punkt is already up-to-date!\n",
            "[nltk_data] Downloading package wordnet to /root/nltk_data...\n",
            "[nltk_data]   Package wordnet is already up-to-date!\n"
          ]
        },
        {
          "output_type": "stream",
          "name": "stdout",
          "text": [
            "Requirement already satisfied: sentence_transformers in /usr/local/lib/python3.10/dist-packages (2.6.1)\n",
            "Requirement already satisfied: transformers<5.0.0,>=4.32.0 in /usr/local/lib/python3.10/dist-packages (from sentence_transformers) (4.38.2)\n",
            "Requirement already satisfied: tqdm in /usr/local/lib/python3.10/dist-packages (from sentence_transformers) (4.66.2)\n",
            "Requirement already satisfied: torch>=1.11.0 in /usr/local/lib/python3.10/dist-packages (from sentence_transformers) (2.2.1+cu121)\n",
            "Requirement already satisfied: numpy in /usr/local/lib/python3.10/dist-packages (from sentence_transformers) (1.25.2)\n",
            "Requirement already satisfied: scikit-learn in /usr/local/lib/python3.10/dist-packages (from sentence_transformers) (1.2.2)\n",
            "Requirement already satisfied: scipy in /usr/local/lib/python3.10/dist-packages (from sentence_transformers) (1.10.1)\n",
            "Requirement already satisfied: huggingface-hub>=0.15.1 in /usr/local/lib/python3.10/dist-packages (from sentence_transformers) (0.20.3)\n",
            "Requirement already satisfied: Pillow in /usr/local/lib/python3.10/dist-packages (from sentence_transformers) (9.4.0)\n",
            "Requirement already satisfied: filelock in /usr/local/lib/python3.10/dist-packages (from huggingface-hub>=0.15.1->sentence_transformers) (3.13.4)\n",
            "Requirement already satisfied: fsspec>=2023.5.0 in /usr/local/lib/python3.10/dist-packages (from huggingface-hub>=0.15.1->sentence_transformers) (2023.6.0)\n",
            "Requirement already satisfied: requests in /usr/local/lib/python3.10/dist-packages (from huggingface-hub>=0.15.1->sentence_transformers) (2.31.0)\n",
            "Requirement already satisfied: pyyaml>=5.1 in /usr/local/lib/python3.10/dist-packages (from huggingface-hub>=0.15.1->sentence_transformers) (6.0.1)\n",
            "Requirement already satisfied: typing-extensions>=3.7.4.3 in /usr/local/lib/python3.10/dist-packages (from huggingface-hub>=0.15.1->sentence_transformers) (4.11.0)\n",
            "Requirement already satisfied: packaging>=20.9 in /usr/local/lib/python3.10/dist-packages (from huggingface-hub>=0.15.1->sentence_transformers) (24.0)\n",
            "Requirement already satisfied: sympy in /usr/local/lib/python3.10/dist-packages (from torch>=1.11.0->sentence_transformers) (1.12)\n",
            "Requirement already satisfied: networkx in /usr/local/lib/python3.10/dist-packages (from torch>=1.11.0->sentence_transformers) (3.3)\n",
            "Requirement already satisfied: jinja2 in /usr/local/lib/python3.10/dist-packages (from torch>=1.11.0->sentence_transformers) (3.1.3)\n",
            "Requirement already satisfied: nvidia-cuda-nvrtc-cu12==12.1.105 in /usr/local/lib/python3.10/dist-packages (from torch>=1.11.0->sentence_transformers) (12.1.105)\n",
            "Requirement already satisfied: nvidia-cuda-runtime-cu12==12.1.105 in /usr/local/lib/python3.10/dist-packages (from torch>=1.11.0->sentence_transformers) (12.1.105)\n",
            "Requirement already satisfied: nvidia-cuda-cupti-cu12==12.1.105 in /usr/local/lib/python3.10/dist-packages (from torch>=1.11.0->sentence_transformers) (12.1.105)\n",
            "Requirement already satisfied: nvidia-cudnn-cu12==8.9.2.26 in /usr/local/lib/python3.10/dist-packages (from torch>=1.11.0->sentence_transformers) (8.9.2.26)\n",
            "Requirement already satisfied: nvidia-cublas-cu12==12.1.3.1 in /usr/local/lib/python3.10/dist-packages (from torch>=1.11.0->sentence_transformers) (12.1.3.1)\n",
            "Requirement already satisfied: nvidia-cufft-cu12==11.0.2.54 in /usr/local/lib/python3.10/dist-packages (from torch>=1.11.0->sentence_transformers) (11.0.2.54)\n",
            "Requirement already satisfied: nvidia-curand-cu12==10.3.2.106 in /usr/local/lib/python3.10/dist-packages (from torch>=1.11.0->sentence_transformers) (10.3.2.106)\n",
            "Requirement already satisfied: nvidia-cusolver-cu12==11.4.5.107 in /usr/local/lib/python3.10/dist-packages (from torch>=1.11.0->sentence_transformers) (11.4.5.107)\n",
            "Requirement already satisfied: nvidia-cusparse-cu12==12.1.0.106 in /usr/local/lib/python3.10/dist-packages (from torch>=1.11.0->sentence_transformers) (12.1.0.106)\n",
            "Requirement already satisfied: nvidia-nccl-cu12==2.19.3 in /usr/local/lib/python3.10/dist-packages (from torch>=1.11.0->sentence_transformers) (2.19.3)\n",
            "Requirement already satisfied: nvidia-nvtx-cu12==12.1.105 in /usr/local/lib/python3.10/dist-packages (from torch>=1.11.0->sentence_transformers) (12.1.105)\n",
            "Requirement already satisfied: triton==2.2.0 in /usr/local/lib/python3.10/dist-packages (from torch>=1.11.0->sentence_transformers) (2.2.0)\n",
            "Requirement already satisfied: nvidia-nvjitlink-cu12 in /usr/local/lib/python3.10/dist-packages (from nvidia-cusolver-cu12==11.4.5.107->torch>=1.11.0->sentence_transformers) (12.4.127)\n",
            "Requirement already satisfied: regex!=2019.12.17 in /usr/local/lib/python3.10/dist-packages (from transformers<5.0.0,>=4.32.0->sentence_transformers) (2023.12.25)\n",
            "Requirement already satisfied: tokenizers<0.19,>=0.14 in /usr/local/lib/python3.10/dist-packages (from transformers<5.0.0,>=4.32.0->sentence_transformers) (0.15.2)\n",
            "Requirement already satisfied: safetensors>=0.4.1 in /usr/local/lib/python3.10/dist-packages (from transformers<5.0.0,>=4.32.0->sentence_transformers) (0.4.2)\n",
            "Requirement already satisfied: joblib>=1.1.1 in /usr/local/lib/python3.10/dist-packages (from scikit-learn->sentence_transformers) (1.4.0)\n",
            "Requirement already satisfied: threadpoolctl>=2.0.0 in /usr/local/lib/python3.10/dist-packages (from scikit-learn->sentence_transformers) (3.4.0)\n",
            "Requirement already satisfied: MarkupSafe>=2.0 in /usr/local/lib/python3.10/dist-packages (from jinja2->torch>=1.11.0->sentence_transformers) (2.1.5)\n",
            "Requirement already satisfied: charset-normalizer<4,>=2 in /usr/local/lib/python3.10/dist-packages (from requests->huggingface-hub>=0.15.1->sentence_transformers) (3.3.2)\n",
            "Requirement already satisfied: idna<4,>=2.5 in /usr/local/lib/python3.10/dist-packages (from requests->huggingface-hub>=0.15.1->sentence_transformers) (3.6)\n",
            "Requirement already satisfied: urllib3<3,>=1.21.1 in /usr/local/lib/python3.10/dist-packages (from requests->huggingface-hub>=0.15.1->sentence_transformers) (2.0.7)\n",
            "Requirement already satisfied: certifi>=2017.4.17 in /usr/local/lib/python3.10/dist-packages (from requests->huggingface-hub>=0.15.1->sentence_transformers) (2024.2.2)\n",
            "Requirement already satisfied: mpmath>=0.19 in /usr/local/lib/python3.10/dist-packages (from sympy->torch>=1.11.0->sentence_transformers) (1.3.0)\n"
          ]
        }
      ],
      "source": [
        "import os\n",
        "import json\n",
        "import gdown\n",
        "import pandas as pd\n",
        "import numpy as np\n",
        "import sys\n",
        "!pip install scikit-surprise\n",
        "from sklearn.metrics.pairwise import linear_kernel\n",
        "from surprise import Dataset, Reader, SVD\n",
        "!pip install git+https://github.com/microsoft/recommenders.git\n",
        "from recommenders.evaluation.python_evaluation import (\n",
        "    map, ndcg_at_k, precision_at_k, recall_at_k\n",
        ")\n",
        "import nltk\n",
        "nltk.download('punkt')\n",
        "nltk.download('wordnet')\n",
        "import re\n",
        "from sklearn.decomposition import TruncatedSVD\n",
        "from surprise import Dataset, Reader\n",
        "from sklearn.metrics import f1_score, precision_score, recall_score\n",
        "from scipy.sparse import hstack\n",
        "from sklearn.metrics.pairwise import cosine_similarity\n",
        "from sklearn.model_selection import train_test_split\n",
        "!pip install sentence_transformers\n",
        "from sentence_transformers import SentenceTransformer\n",
        "import matplotlib.pyplot as plt\n",
        "import seaborn as sns\n",
        "from sklearn.ensemble import RandomForestClassifier\n",
        "from sklearn.svm import LinearSVC\n",
        "from sklearn.neural_network import MLPClassifier"
      ]
    },
    {
      "cell_type": "markdown",
      "source": [
        "# **Load dataset**"
      ],
      "metadata": {
        "id": "k5XgS2BY-dVc"
      }
    },
    {
      "cell_type": "code",
      "source": [
        "!gdown https://drive.google.com/uc?id=1vbteMX-kHyYAAS7JIrrog_aZvvOY77Q0\n",
        "data = pd.read_csv('final_dataset.csv')\n",
        "print(data.columns)\n",
        "print(data.head())"
      ],
      "metadata": {
        "id": "ANdl613aVF1o",
        "colab": {
          "base_uri": "https://localhost:8080/"
        },
        "outputId": "51ba50f8-04b7-47b3-af32-9e12692c9df4"
      },
      "execution_count": 73,
      "outputs": [
        {
          "output_type": "stream",
          "name": "stdout",
          "text": [
            "Downloading...\n",
            "From (original): https://drive.google.com/uc?id=1vbteMX-kHyYAAS7JIrrog_aZvvOY77Q0\n",
            "From (redirected): https://drive.google.com/uc?id=1vbteMX-kHyYAAS7JIrrog_aZvvOY77Q0&confirm=t&uuid=a49a347f-22c7-4197-a8d2-8e5b771b8902\n",
            "To: /content/final_dataset.csv\n",
            "100% 456M/456M [00:05<00:00, 85.6MB/s]\n",
            "Index(['Movie', 'Reviewer', 'Review', 'Score', 'Sentiment_scores', 'overview',\n",
            "       'cast_list', 'crew_list', 'director_list', 'first_three_casts',\n",
            "       'unique_genres', 'Date', 'recommend'],\n",
            "      dtype='object')\n",
            "       Movie          Reviewer  \\\n",
            "0  SENSATION   Dennis Schwartz   \n",
            "1  SENSATION  Carey-Ann Pawsey   \n",
            "2  SENSATION        Rob Rector   \n",
            "3  SENSATION        Rich Cline   \n",
            "4  SENSATION       Allen Adams   \n",
            "\n",
            "                                              Review     Score  \\\n",
            "0  A sci-fi film that made no sense, as it tells ...  0.686869   \n",
            "1  A thriller that ultimately makes little to no ...  0.393939   \n",
            "2  There's still much to admire with Sensation, d...  0.595960   \n",
            "3  There's no thematic depth in the story or char...  0.494949   \n",
            "4  Sensation wants to be a deep movie...[but] tho...  0.393939   \n",
            "\n",
            "   Sentiment_scores                                           overview  \\\n",
            "0          0.276348  Man-boy farmer Donal discovers that his father...   \n",
            "1          0.334176  Man-boy farmer Donal discovers that his father...   \n",
            "2          0.739928  Man-boy farmer Donal discovers that his father...   \n",
            "3          0.349340  Man-boy farmer Donal discovers that his father...   \n",
            "4          0.240863  Man-boy farmer Donal discovers that his father...   \n",
            "\n",
            "                                           cast_list     crew_list  \\\n",
            "0  ['Luanne Gordon', 'Kelly Campbell', 'Owen Roe'...  ['Tom Hall']   \n",
            "1  ['Luanne Gordon', 'Kelly Campbell', 'Owen Roe'...  ['Tom Hall']   \n",
            "2  ['Luanne Gordon', 'Kelly Campbell', 'Owen Roe'...  ['Tom Hall']   \n",
            "3  ['Luanne Gordon', 'Kelly Campbell', 'Owen Roe'...  ['Tom Hall']   \n",
            "4  ['Luanne Gordon', 'Kelly Campbell', 'Owen Roe'...  ['Tom Hall']   \n",
            "\n",
            "  director_list                                first_three_casts  \\\n",
            "0  ['Tom Hall']  ['Luanne Gordon', 'Kelly Campbell', 'Owen Roe']   \n",
            "1  ['Tom Hall']  ['Luanne Gordon', 'Kelly Campbell', 'Owen Roe']   \n",
            "2  ['Tom Hall']  ['Luanne Gordon', 'Kelly Campbell', 'Owen Roe']   \n",
            "3  ['Tom Hall']  ['Luanne Gordon', 'Kelly Campbell', 'Owen Roe']   \n",
            "4  ['Tom Hall']  ['Luanne Gordon', 'Kelly Campbell', 'Owen Roe']   \n",
            "\n",
            "                               unique_genres        Date  recommend  \n",
            "0  ['Drama', 'Romance', 'Comedy', 'Foreign']  2022-09-01          0  \n",
            "1  ['Drama', 'Romance', 'Comedy', 'Foreign']  2022-06-01          0  \n",
            "2  ['Drama', 'Romance', 'Comedy', 'Foreign']  2021-05-19          0  \n",
            "3  ['Drama', 'Romance', 'Comedy', 'Foreign']  2021-04-22          0  \n",
            "4  ['Drama', 'Romance', 'Comedy', 'Foreign']  2021-04-21          0  \n"
          ]
        }
      ]
    },
    {
      "cell_type": "markdown",
      "source": [
        "# **Prepare training and test sets**"
      ],
      "metadata": {
        "id": "Vkz6q0hgVr32"
      }
    },
    {
      "cell_type": "code",
      "source": [
        "#split data into train and test sets, make sure that only users and items present in train set appear in test set\n",
        "cf_data = data.loc[:, ['Reviewer', 'Movie', 'Score', 'recommend']]\n",
        "train, test = train_test_split(cf_data, test_size = 0.15, random_state = 42, shuffle = True)\n",
        "test = test[test[\"Reviewer\"].isin(train[\"Reviewer\"].unique())]\n",
        "test = test[test[\"Movie\"].isin(train[\"Movie\"].unique())]"
      ],
      "metadata": {
        "id": "iQeDesNKVpnL"
      },
      "execution_count": 74,
      "outputs": []
    },
    {
      "cell_type": "markdown",
      "source": [
        "# **Content-based filtering**"
      ],
      "metadata": {
        "id": "kMyrHIKZ_lGD"
      }
    },
    {
      "cell_type": "markdown",
      "source": [
        "\n",
        "\n",
        "*   create a dataset of unique movies\n",
        "\n"
      ],
      "metadata": {
        "id": "yxIbVDs7_031"
      }
    },
    {
      "cell_type": "code",
      "source": [
        "#keep only unique movies\n",
        "unique_movies = data.drop_duplicates(subset='Movie')\n",
        "unique_movies = unique_movies.reset_index()"
      ],
      "metadata": {
        "id": "UtutE2ccnJ0A"
      },
      "execution_count": 75,
      "outputs": []
    },
    {
      "cell_type": "markdown",
      "source": [
        "\n",
        "\n",
        "\n",
        "*   convert genres to lower case and combine into 1 string\n",
        "*   convert director list to lower case, join first and last name, combine into 1 string\n",
        "*   convert first 3 casts to lower case, join first and last name, combine into 1 string\n",
        "\n",
        "\n",
        "\n",
        "\n",
        "\n"
      ],
      "metadata": {
        "id": "dfKatFIc_9FG"
      }
    },
    {
      "cell_type": "code",
      "source": [
        "#convert genres to lowercase and combine into 1 long string\n",
        "unique_movies['unique_genres'] = unique_movies['unique_genres'].apply(lambda x: eval(x))\n",
        "unique_movies['processed_genres'] = unique_movies['unique_genres'].apply(lambda x: ' '.join([word.lower() for word in x]))\n",
        "print(unique_movies['processed_genres'])\n",
        "\n",
        "#convert director list to lower case, join first and last name, combine into 1 long string\n",
        "unique_movies['director_list'] = unique_movies['director_list'].apply(lambda x: eval(x))\n",
        "\n",
        "def process_names(names_list):\n",
        "  processed_names = [''.join(name.lower().split()) for name in names_list]\n",
        "  return ' '.join(processed_names)\n",
        "\n",
        "unique_movies['processed_directors'] = unique_movies['director_list'].apply(lambda x: process_names(x))\n",
        "print(unique_movies['processed_directors'])\n",
        "\n",
        "#convert first 3 casts to lower case, join first and last name, combine into 1 long string\n",
        "unique_movies['first_three_casts'] = unique_movies['first_three_casts'].apply(lambda x: eval(x))\n",
        "unique_movies['processed_cast'] = unique_movies['first_three_casts'].apply(lambda x: process_names(x))\n",
        "print(unique_movies['processed_cast'])"
      ],
      "metadata": {
        "colab": {
          "base_uri": "https://localhost:8080/"
        },
        "id": "oKbjWv7fRqDK",
        "outputId": "c2989ebc-2fdb-4fe7-b37e-a407f4fcc5f1"
      },
      "execution_count": 76,
      "outputs": [
        {
          "output_type": "stream",
          "name": "stdout",
          "text": [
            "0       drama romance comedy foreign\n",
            "1                  drama history war\n",
            "2                   thriller mystery\n",
            "3                             comedy\n",
            "4             drama thriller mystery\n",
            "                    ...             \n",
            "5211                          comedy\n",
            "5212           drama thriller comedy\n",
            "5213                        thriller\n",
            "5214       drama history war foreign\n",
            "5215                  romance comedy\n",
            "Name: processed_genres, Length: 5216, dtype: object\n",
            "0                           tomhall\n",
            "1                     romanpolanski\n",
            "2                  wolfgangpetersen\n",
            "3                      chuckvincent\n",
            "4                  barbarastepansky\n",
            "                   ...             \n",
            "5211    jasonfriedberg aaronseltzer\n",
            "5212                      henrybean\n",
            "5213                    chrisjaymes\n",
            "5214                 enniodeconcini\n",
            "5215                     carlreiner\n",
            "Name: processed_directors, Length: 5216, dtype: object\n",
            "0                luannegordon kellycampbell owenroe\n",
            "1                jonfinch francescaannis martinshaw\n",
            "2               tomberenger bobhoskins gretascacchi\n",
            "3            louiebonanno tallychanel jeromebrenner\n",
            "4       melorawalters williammapother johannabraddy\n",
            "                           ...                     \n",
            "5211          seanmaguire carmenelectra kendavitian\n",
            "5212         timrobbins bridgetmoynahan williamhurt\n",
            "5213       davidarquette kristendalton victorbrowne\n",
            "5214              alecguinness simonward adolfoceli\n",
            "5215                 henrywinkler kimdarby genesaks\n",
            "Name: processed_cast, Length: 5216, dtype: object\n"
          ]
        }
      ]
    },
    {
      "cell_type": "markdown",
      "source": [
        "\n",
        "\n",
        "*   Combine overview, genres, directors and first 3 casts into one string\n",
        "*   Create a bert model\n",
        "\n"
      ],
      "metadata": {
        "id": "9fl695TlAoFu"
      }
    },
    {
      "cell_type": "code",
      "source": [
        "#create soup2 for bert\n",
        "unique_movies['soup2'] = unique_movies['overview'] + ' ' + unique_movies['processed_genres'] + ' ' + unique_movies['processed_directors'] + ' ' + unique_movies['processed_cast']\n",
        "\n",
        "#create bert model\n",
        "bert_model = SentenceTransformer('bert-base-nli-mean-tokens')\n",
        "embeddings = bert_model.encode(unique_movies[\"soup2\"], show_progress_bar=True)"
      ],
      "metadata": {
        "id": "3Agg0MLCUUGj",
        "colab": {
          "base_uri": "https://localhost:8080/",
          "height": 49,
          "referenced_widgets": [
            "81bdf957cca549d6be3c53e2af94a672",
            "eb083a94a19f458e9c62db468cd7b77a",
            "87409cc4698844fca248cb386d41a391",
            "8c02a6e904434c52864b09e1ad1d7b01",
            "1535935ce64a45d8b3c85dc21743bffc",
            "bfa72273998649e4b6a2f68f85e13a73",
            "ee4cc614a9484cf1aeba13e2dc5a86ab",
            "9fee433c67f44679bfd46cf8bb838494",
            "b9c791bbec9149639dcb0ea9bc6cfdbc",
            "4c080f5a84a54075a342ba14d7c76bfe",
            "a06bfecdd5b840c0abb72dda793f0112"
          ]
        },
        "outputId": "3bda2ca0-16b3-409e-ca36-6258b82c0180"
      },
      "execution_count": 77,
      "outputs": [
        {
          "output_type": "display_data",
          "data": {
            "text/plain": [
              "Batches:   0%|          | 0/163 [00:00<?, ?it/s]"
            ],
            "application/vnd.jupyter.widget-view+json": {
              "version_major": 2,
              "version_minor": 0,
              "model_id": "81bdf957cca549d6be3c53e2af94a672"
            }
          },
          "metadata": {}
        }
      ]
    },
    {
      "cell_type": "code",
      "source": [
        "print(unique_movies['Movie'].head(50))"
      ],
      "metadata": {
        "id": "HMh-l0WVE4kI",
        "colab": {
          "base_uri": "https://localhost:8080/"
        },
        "outputId": "ea3e520a-cb87-4218-c8ab-df8fc8dec994"
      },
      "execution_count": 6,
      "outputs": [
        {
          "output_type": "stream",
          "name": "stdout",
          "text": [
            "0                  SENSATION\n",
            "1     THE TRAGEDY OF MACBETH\n",
            "2                  SHATTERED\n",
            "3                 SEX APPEAL\n",
            "4                       HURT\n",
            "5                 CINDERELLA\n",
            "6                   BETRAYED\n",
            "7                      GREED\n",
            "8               SILENT NIGHT\n",
            "9              BOILING POINT\n",
            "10              BLACK FRIDAY\n",
            "11         THIS IS THE NIGHT\n",
            "12                      BUGS\n",
            "13                THE GRUDGE\n",
            "14                 DANGEROUS\n",
            "15                      DUNE\n",
            "16           HELD FOR RANSOM\n",
            "17                  JOY RIDE\n",
            "18                 ISOLATION\n",
            "19                WITCH HUNT\n",
            "20                 IMPLANTED\n",
            "21             ICE GUARDIANS\n",
            "22                   STALKER\n",
            "23                     HABIT\n",
            "24              REMINISCENCE\n",
            "25                THE COLONY\n",
            "26         UNDER THE VOLCANO\n",
            "27                  TOO LATE\n",
            "28                   DEMONIC\n",
            "29                       PIG\n",
            "30                     TWIST\n",
            "31                  THE EAST\n",
            "32                      ROMA\n",
            "33               THE PHANTOM\n",
            "34                  MARATHON\n",
            "35                     RIVER\n",
            "36                SKYSCRAPER\n",
            "37                 LAST CALL\n",
            "38               WHITE NOISE\n",
            "39                      LOLA\n",
            "40                       TAR\n",
            "41                FUNNY FACE\n",
            "42                   CAPTIVE\n",
            "43                 ASSASSINS\n",
            "44               LITTLE FISH\n",
            "45                 SUPERNOVA\n",
            "46                   REUNION\n",
            "47                     CAGED\n",
            "48                      GIRL\n",
            "49                    BREACH\n",
            "Name: Movie, dtype: string\n"
          ]
        }
      ]
    },
    {
      "cell_type": "markdown",
      "source": [
        "**Create cosine scores for the matrix derived from the embeddings from the BERT model**"
      ],
      "metadata": {
        "id": "or9iY-boA4Jj"
      }
    },
    {
      "cell_type": "code",
      "source": [
        "#calculate cosine similarity\n",
        "cosine_scores_bert = cosine_similarity(embeddings)\n",
        "\n",
        "# Flatten the cosine similarity matrix into a 1D array\n",
        "cosine_scores_bert_flat = cosine_scores_bert.flatten()"
      ],
      "metadata": {
        "id": "ibL0N8jHL0nt"
      },
      "execution_count": 78,
      "outputs": []
    },
    {
      "cell_type": "markdown",
      "source": [
        "**Determine the threshold for cosine similarity scores to decide whether to recommend or not.**"
      ],
      "metadata": {
        "id": "qvVuqe2lBbmL"
      }
    },
    {
      "cell_type": "code",
      "source": [
        "percentile_90 = np.percentile(cosine_scores_bert_flat, 90)\n",
        "print(percentile_90)"
      ],
      "metadata": {
        "colab": {
          "base_uri": "https://localhost:8080/"
        },
        "id": "Ik7rjA4GGVww",
        "outputId": "7320485f-325c-4f94-ec7a-24077f33cbaf"
      },
      "execution_count": 79,
      "outputs": [
        {
          "output_type": "stream",
          "name": "stdout",
          "text": [
            "0.7116745710372925\n"
          ]
        }
      ]
    },
    {
      "cell_type": "markdown",
      "source": [
        "**Predict on train set**"
      ],
      "metadata": {
        "id": "juQ3JhYiqWob"
      }
    },
    {
      "cell_type": "code",
      "source": [
        "#find all the liked movies in train set, for all similar movies > threshold, recommend\n",
        "cbf_train = train[['Reviewer', 'Movie', 'recommend']]\n",
        "train_liked_movies = cbf_train[cbf_train['recommend'] == 1].drop_duplicates(subset = ['Movie'])['Movie'].tolist()\n",
        "\n",
        "all_similar_movies = []\n",
        "for movie in train_liked_movies:\n",
        "  curr_movie_index = unique_movies.index[unique_movies['Movie'] == movie][0]\n",
        "  for index, element in enumerate(cosine_scores_bert[curr_movie_index]):\n",
        "    if (element > percentile_90):\n",
        "      sim_movie = unique_movies.iloc[index]['Movie']\n",
        "      all_similar_movies.append(sim_movie)\n",
        "all_similar_movies = list(set(all_similar_movies))\n",
        "\n",
        "def assign_value(a):\n",
        "  if a in all_similar_movies:\n",
        "    return 1\n",
        "  else:\n",
        "    return 0\n",
        "\n",
        "cbf_train['pred'] = cbf_train['Movie'].apply(lambda x: assign_value(x))"
      ],
      "metadata": {
        "id": "0BOOFW1OBPER"
      },
      "execution_count": 80,
      "outputs": []
    },
    {
      "cell_type": "code",
      "source": [
        "precision_cbf = precision_at_k(rating_pred = cbf_train[['Reviewer', 'Movie', 'pred']], rating_true = cbf_train[['Reviewer', 'Movie', 'recommend']], k = 5, col_user='Reviewer', col_item='Movie', col_rating='recommend', col_prediction = 'pred')\n",
        "print(f'Precision: {precision_cbf}')\n",
        "\n",
        "# Recall\n",
        "recall_cbf = recall_at_k(rating_pred = cbf_train[['Reviewer', 'Movie', 'pred']], rating_true = cbf_train[['Reviewer', 'Movie', 'recommend']], k = 5, col_user='Reviewer', col_item='Movie', col_rating='recommend', col_prediction = 'pred')\n",
        "print(f'Recall: {recall_cbf}')\n",
        "\n",
        "\n",
        "#F1 score\n",
        "f1_cbf = 2 * (precision_cbf * recall_cbf) / (precision_cbf + recall_cbf) if (precision_cbf + recall_cbf) > 0 else 0\n",
        "print(f'F1 Score: {f1_cbf}')"
      ],
      "metadata": {
        "colab": {
          "base_uri": "https://localhost:8080/"
        },
        "id": "9z5RJZx9HzJ-",
        "outputId": "ad58025f-3c21-4fb4-99ac-6a3d8cae6908"
      },
      "execution_count": 81,
      "outputs": [
        {
          "output_type": "stream",
          "name": "stdout",
          "text": [
            "Precision: 0.6851463521188292\n",
            "Recall: 0.6384821968541985\n",
            "F1 Score: 0.6609917085981266\n"
          ]
        }
      ]
    },
    {
      "cell_type": "markdown",
      "source": [
        "**Predict on test set**"
      ],
      "metadata": {
        "id": "eOnI7TyWqac5"
      }
    },
    {
      "cell_type": "code",
      "source": [
        "#find all the liked movies in test set, for all similar movies > threshold, recommend\n",
        "cbf_test = test[['Reviewer', 'Movie', 'recommend']]\n",
        "test_liked_movies = cbf_test[cbf_test['recommend'] == 1].drop_duplicates(subset = ['Movie'])['Movie'].tolist()\n",
        "\n",
        "all_similar_movies = []\n",
        "for movie in test_liked_movies:\n",
        "  curr_movie_index = unique_movies.index[unique_movies['Movie'] == movie][0]\n",
        "  for index, element in enumerate(cosine_scores_bert[curr_movie_index]):\n",
        "    if (element > percentile_90):\n",
        "      sim_movie = unique_movies.iloc[index]['Movie']\n",
        "      all_similar_movies.append(sim_movie)\n",
        "all_similar_movies = list(set(all_similar_movies))\n",
        "\n",
        "def assign_value(a):\n",
        "  if a in all_similar_movies:\n",
        "    return 1\n",
        "  else:\n",
        "    return 0\n",
        "\n",
        "cbf_test['pred'] = cbf_test['Movie'].apply(lambda x: assign_value(x))"
      ],
      "metadata": {
        "id": "JZY_hfc9ISHd"
      },
      "execution_count": 82,
      "outputs": []
    },
    {
      "cell_type": "code",
      "source": [
        "#Precision\n",
        "precision_cbf = precision_at_k(rating_pred = cbf_test[['Reviewer', 'Movie', 'pred']], rating_true = cbf_test[['Reviewer', 'Movie', 'recommend']], k = 5, col_user='Reviewer', col_item='Movie', col_rating='recommend', col_prediction = 'pred')\n",
        "print(f'Precision: {precision_cbf}')\n",
        "\n",
        "# Recall\n",
        "recall_cbf = recall_at_k(rating_pred = cbf_test[['Reviewer', 'Movie', 'pred']], rating_true = cbf_test[['Reviewer', 'Movie', 'recommend']], k = 5, col_user='Reviewer', col_item='Movie', col_rating='recommend', col_prediction = 'pred')\n",
        "print(f'Recall: {recall_cbf}')\n",
        "\n",
        "#F1 score\n",
        "f1_cbf = 2 * (precision_cbf * recall_cbf) / (precision_cbf + recall_cbf) if (precision_cbf + recall_cbf) > 0 else 0\n",
        "print(f'F1 Score: {f1_cbf}')"
      ],
      "metadata": {
        "colab": {
          "base_uri": "https://localhost:8080/"
        },
        "id": "8CaGKsVwIgIz",
        "outputId": "8b4e4a99-9f2a-4a7b-c0d5-7716fe807796"
      },
      "execution_count": 83,
      "outputs": [
        {
          "output_type": "stream",
          "name": "stdout",
          "text": [
            "Precision: 0.6667181467181468\n",
            "Recall: 0.7160752207569212\n",
            "F1 Score: 0.6905158143267566\n"
          ]
        }
      ]
    },
    {
      "cell_type": "markdown",
      "source": [
        "**Recommending top 10 movies using content based filtering**"
      ],
      "metadata": {
        "id": "fEUjQPLaB1Jv"
      }
    },
    {
      "cell_type": "code",
      "source": [
        "#content based filtering method\n",
        "def recommend_movies(movie, cosine_scores, unique_movies, top_n=5):\n",
        "    movie_index = unique_movies[unique_movies['Movie'] == movie].index[0]\n",
        "    sim_scores = list(enumerate(cosine_scores[movie_index]))\n",
        "    sim_scores.sort(key=lambda x: x[1], reverse=True)\n",
        "\n",
        "    #get top n similar movies (excluding the input movie itself)\n",
        "    top_movies = sim_scores[1:top_n + 1]\n",
        "\n",
        "    #extract movie titles from indices\n",
        "    recommended_movies = [(unique_movies.iloc[i]['Movie'], cosine_scores[movie_index][i]) for i, _ in top_movies]\n",
        "\n",
        "    return recommended_movies"
      ],
      "metadata": {
        "id": "q3uqK9QnWPoo"
      },
      "execution_count": 91,
      "outputs": []
    },
    {
      "cell_type": "code",
      "source": [
        "#test content based filtering\n",
        "recommended_movies = recommend_movies('INTERSTELLAR', cosine_scores_bert, unique_movies)\n",
        "print(pd.DataFrame(recommended_movies, columns = ['Movie', 'Cosine_Scores_Bert']))"
      ],
      "metadata": {
        "colab": {
          "base_uri": "https://localhost:8080/"
        },
        "id": "sRf6zwgyZB3E",
        "outputId": "1e62eb64-79f3-4e7e-daff-5b913367d154"
      },
      "execution_count": 92,
      "outputs": [
        {
          "output_type": "stream",
          "name": "stdout",
          "text": [
            "                          Movie  Cosine_Scores_Bert\n",
            "0                    PROMETHEUS            0.866442\n",
            "1              STAR TREK BEYOND            0.856962\n",
            "2               RATCHET & CLANK            0.841057\n",
            "3       APPROACHING THE UNKNOWN            0.834513\n",
            "4  ROGUE ONE: A STAR WARS STORY            0.828726\n"
          ]
        }
      ]
    },
    {
      "cell_type": "markdown",
      "source": [
        "# **Collaborative filtering using SVD**"
      ],
      "metadata": {
        "id": "a31sOmvvCSxz"
      }
    },
    {
      "cell_type": "markdown",
      "source": [
        "**Train SVD model and make predictions**"
      ],
      "metadata": {
        "id": "ArhwwQVcCcI5"
      }
    },
    {
      "cell_type": "code",
      "source": [
        "#prepare training set\n",
        "rating_scale = (train['Score'].min(), train['Score'].max())\n",
        "reader = Reader(rating_scale=rating_scale)\n",
        "svd_train = Dataset.load_from_df(train[['Reviewer', 'Movie', 'Score']], reader).build_full_trainset()"
      ],
      "metadata": {
        "id": "CXC3ds7tZgLb"
      },
      "execution_count": 84,
      "outputs": []
    },
    {
      "cell_type": "code",
      "source": [
        "#train svd\n",
        "svd = SVD(random_state=42, n_factors=200, n_epochs=30, verbose=True)\n",
        "svd.fit(svd_train)\n",
        "\n",
        "testset = list(test[['Reviewer', 'Movie', 'Score']].apply(tuple, axis=1))\n",
        "test_predictions = svd.test(testset)\n",
        "\n",
        "trainset = list(train[['Reviewer', 'Movie', 'Score']].apply(tuple, axis = 1))\n",
        "train_predictions = svd.test(trainset)"
      ],
      "metadata": {
        "colab": {
          "base_uri": "https://localhost:8080/"
        },
        "id": "peFcLo-JyzTL",
        "outputId": "33a84ae7-932d-4011-a1d9-a614f67e0f34"
      },
      "execution_count": 85,
      "outputs": [
        {
          "output_type": "stream",
          "name": "stdout",
          "text": [
            "Processing epoch 0\n",
            "Processing epoch 1\n",
            "Processing epoch 2\n",
            "Processing epoch 3\n",
            "Processing epoch 4\n",
            "Processing epoch 5\n",
            "Processing epoch 6\n",
            "Processing epoch 7\n",
            "Processing epoch 8\n",
            "Processing epoch 9\n",
            "Processing epoch 10\n",
            "Processing epoch 11\n",
            "Processing epoch 12\n",
            "Processing epoch 13\n",
            "Processing epoch 14\n",
            "Processing epoch 15\n",
            "Processing epoch 16\n",
            "Processing epoch 17\n",
            "Processing epoch 18\n",
            "Processing epoch 19\n",
            "Processing epoch 20\n",
            "Processing epoch 21\n",
            "Processing epoch 22\n",
            "Processing epoch 23\n",
            "Processing epoch 24\n",
            "Processing epoch 25\n",
            "Processing epoch 26\n",
            "Processing epoch 27\n",
            "Processing epoch 28\n",
            "Processing epoch 29\n"
          ]
        }
      ]
    },
    {
      "cell_type": "markdown",
      "source": [
        "**Predict on train set and test set**"
      ],
      "metadata": {
        "id": "Ldmi_72yCuM4"
      }
    },
    {
      "cell_type": "code",
      "source": [
        "#evaluation of SVD Model\n",
        "def rating_grouping(rating):\n",
        "    if (rating > 0.797980):\n",
        "        return 1\n",
        "    else:\n",
        "        return 0\n",
        "\n",
        "real_user_ratings_train = pd.DataFrame([(pred.uid, pred.iid, rating_grouping(pred.r_ui)) for pred in train_predictions], columns=['Reviewer', 'Movie', 'Actual_Rating'])\n",
        "predicted_ratings_train = pd.DataFrame([(pred.uid, pred.iid, rating_grouping(pred.est)) for pred in train_predictions], columns=['Reviewer', 'Movie', 'Predicted_Rating'])\n",
        "#extract true and predicted ratings from the predictions\n",
        "real_user_ratings_test = pd.DataFrame([(pred.uid, pred.iid, rating_grouping(pred.r_ui)) for pred in test_predictions], columns=['Reviewer', 'Movie', 'Actual_Rating'])\n",
        "predicted_ratings_test = pd.DataFrame([(pred.uid, pred.iid, rating_grouping(pred.est)) for pred in test_predictions], columns=['Reviewer', 'Movie', 'Predicted_Rating'])\n",
        "\n",
        "# Precision\n",
        "precision = precision_at_k(rating_pred = predicted_ratings_train, rating_true = real_user_ratings_train, k = 5, col_user='Reviewer', col_item='Movie', col_rating='Actual_Rating', col_prediction = 'Predicted_Rating')\n",
        "print(f'Precision (train): {precision}')\n",
        "\n",
        "# Recall\n",
        "recall = recall_at_k(rating_pred = predicted_ratings_train, rating_true = real_user_ratings_train, k = 5, col_user='Reviewer', col_item='Movie', col_rating='Actual_Rating', col_prediction = 'Predicted_Rating')\n",
        "print(f'Recall (train): {recall}')\n",
        "\n",
        "#F1 score\n",
        "f1 = 2 * (precision * recall) / (precision + recall) if (precision + recall) > 0 else 0\n",
        "print(f'F1 Score (train): {f1}')\n",
        "\n",
        "# Precision\n",
        "precision = precision_at_k(rating_pred = predicted_ratings_test, rating_true = real_user_ratings_test, k = 5, col_user='Reviewer', col_item='Movie', col_rating='Actual_Rating', col_prediction = 'Predicted_Rating')\n",
        "print(f'Precision (test): {precision}')\n",
        "\n",
        "# Recall\n",
        "recall = recall_at_k(rating_pred = predicted_ratings_test, rating_true = real_user_ratings_test, k = 5, col_user='Reviewer', col_item='Movie', col_rating='Actual_Rating', col_prediction = 'Predicted_Rating')\n",
        "print(f'Recall (test): {recall}')\n",
        "\n",
        "#F1 score\n",
        "f1 = 2 * (precision * recall) / (precision + recall) if (precision + recall) > 0 else 0\n",
        "print(f'F1 Score (test): {f1}')"
      ],
      "metadata": {
        "colab": {
          "base_uri": "https://localhost:8080/"
        },
        "id": "8nAteasG9zq8",
        "outputId": "3ba0a3c2-23ae-43c3-fb04-562e2116ed79"
      },
      "execution_count": 88,
      "outputs": [
        {
          "output_type": "stream",
          "name": "stdout",
          "text": [
            "Precision (train): 0.6855395369156838\n",
            "Recall (train): 0.6384954590143511\n",
            "F1 Score (train): 0.6611817401216108\n",
            "Precision (test): 0.6664864864864865\n",
            "Recall (test): 0.7160172031015732\n",
            "F1 Score (test): 0.6903645806561904\n"
          ]
        }
      ]
    },
    {
      "cell_type": "markdown",
      "source": [
        "# **Hybrid Recommendation System**"
      ],
      "metadata": {
        "id": "VkDib0S6C5i9"
      }
    },
    {
      "cell_type": "markdown",
      "source": [
        "**Combine predictions**"
      ],
      "metadata": {
        "id": "drJZtcLsqqf7"
      }
    },
    {
      "cell_type": "code",
      "source": [
        "new_training_set = np.column_stack([cbf_train['pred'], [pred.est for pred in train_predictions], cbf_train['recommend']])\n",
        "new_test_set = np.column_stack([cbf_test['pred'], [pred.est for pred in test_predictions], cbf_test['recommend']])"
      ],
      "metadata": {
        "id": "Nlmuo6i2_ycM"
      },
      "execution_count": 89,
      "outputs": []
    },
    {
      "cell_type": "markdown",
      "source": [
        "**Train random forest classifier, svm classifier and mlp classifier**"
      ],
      "metadata": {
        "id": "XOctAkiequGE"
      }
    },
    {
      "cell_type": "code",
      "source": [
        "rf_classifier = RandomForestClassifier(random_state = 42)\n",
        "svm_classifier = LinearSVC(max_iter = 100, random_state=42)\n",
        "mlp_classifier = MLPClassifier(hidden_layer_sizes=(128, 64), random_state = 42)\n",
        "X_train = new_training_set[:, :-1]\n",
        "y_train = new_training_set[:,-1]\n",
        "X_test = new_test_set[:, :-1]\n",
        "y_test = new_test_set[:, -1]\n",
        "rf_classifier.fit(X_train, y_train)\n",
        "svm_classifier.fit(X_train, y_train)\n",
        "mlp_classifier.fit(X_train, y_train)"
      ],
      "metadata": {
        "colab": {
          "base_uri": "https://localhost:8080/",
          "height": 75
        },
        "id": "JfUs3wXvNmgo",
        "outputId": "da269484-2248-4591-bd8a-e52aec9a0b60"
      },
      "execution_count": 90,
      "outputs": [
        {
          "output_type": "execute_result",
          "data": {
            "text/plain": [
              "MLPClassifier(hidden_layer_sizes=(128, 64), random_state=42)"
            ],
            "text/html": [
              "<style>#sk-container-id-3 {color: black;background-color: white;}#sk-container-id-3 pre{padding: 0;}#sk-container-id-3 div.sk-toggleable {background-color: white;}#sk-container-id-3 label.sk-toggleable__label {cursor: pointer;display: block;width: 100%;margin-bottom: 0;padding: 0.3em;box-sizing: border-box;text-align: center;}#sk-container-id-3 label.sk-toggleable__label-arrow:before {content: \"▸\";float: left;margin-right: 0.25em;color: #696969;}#sk-container-id-3 label.sk-toggleable__label-arrow:hover:before {color: black;}#sk-container-id-3 div.sk-estimator:hover label.sk-toggleable__label-arrow:before {color: black;}#sk-container-id-3 div.sk-toggleable__content {max-height: 0;max-width: 0;overflow: hidden;text-align: left;background-color: #f0f8ff;}#sk-container-id-3 div.sk-toggleable__content pre {margin: 0.2em;color: black;border-radius: 0.25em;background-color: #f0f8ff;}#sk-container-id-3 input.sk-toggleable__control:checked~div.sk-toggleable__content {max-height: 200px;max-width: 100%;overflow: auto;}#sk-container-id-3 input.sk-toggleable__control:checked~label.sk-toggleable__label-arrow:before {content: \"▾\";}#sk-container-id-3 div.sk-estimator input.sk-toggleable__control:checked~label.sk-toggleable__label {background-color: #d4ebff;}#sk-container-id-3 div.sk-label input.sk-toggleable__control:checked~label.sk-toggleable__label {background-color: #d4ebff;}#sk-container-id-3 input.sk-hidden--visually {border: 0;clip: rect(1px 1px 1px 1px);clip: rect(1px, 1px, 1px, 1px);height: 1px;margin: -1px;overflow: hidden;padding: 0;position: absolute;width: 1px;}#sk-container-id-3 div.sk-estimator {font-family: monospace;background-color: #f0f8ff;border: 1px dotted black;border-radius: 0.25em;box-sizing: border-box;margin-bottom: 0.5em;}#sk-container-id-3 div.sk-estimator:hover {background-color: #d4ebff;}#sk-container-id-3 div.sk-parallel-item::after {content: \"\";width: 100%;border-bottom: 1px solid gray;flex-grow: 1;}#sk-container-id-3 div.sk-label:hover label.sk-toggleable__label {background-color: #d4ebff;}#sk-container-id-3 div.sk-serial::before {content: \"\";position: absolute;border-left: 1px solid gray;box-sizing: border-box;top: 0;bottom: 0;left: 50%;z-index: 0;}#sk-container-id-3 div.sk-serial {display: flex;flex-direction: column;align-items: center;background-color: white;padding-right: 0.2em;padding-left: 0.2em;position: relative;}#sk-container-id-3 div.sk-item {position: relative;z-index: 1;}#sk-container-id-3 div.sk-parallel {display: flex;align-items: stretch;justify-content: center;background-color: white;position: relative;}#sk-container-id-3 div.sk-item::before, #sk-container-id-3 div.sk-parallel-item::before {content: \"\";position: absolute;border-left: 1px solid gray;box-sizing: border-box;top: 0;bottom: 0;left: 50%;z-index: -1;}#sk-container-id-3 div.sk-parallel-item {display: flex;flex-direction: column;z-index: 1;position: relative;background-color: white;}#sk-container-id-3 div.sk-parallel-item:first-child::after {align-self: flex-end;width: 50%;}#sk-container-id-3 div.sk-parallel-item:last-child::after {align-self: flex-start;width: 50%;}#sk-container-id-3 div.sk-parallel-item:only-child::after {width: 0;}#sk-container-id-3 div.sk-dashed-wrapped {border: 1px dashed gray;margin: 0 0.4em 0.5em 0.4em;box-sizing: border-box;padding-bottom: 0.4em;background-color: white;}#sk-container-id-3 div.sk-label label {font-family: monospace;font-weight: bold;display: inline-block;line-height: 1.2em;}#sk-container-id-3 div.sk-label-container {text-align: center;}#sk-container-id-3 div.sk-container {/* jupyter's `normalize.less` sets `[hidden] { display: none; }` but bootstrap.min.css set `[hidden] { display: none !important; }` so we also need the `!important` here to be able to override the default hidden behavior on the sphinx rendered scikit-learn.org. See: https://github.com/scikit-learn/scikit-learn/issues/21755 */display: inline-block !important;position: relative;}#sk-container-id-3 div.sk-text-repr-fallback {display: none;}</style><div id=\"sk-container-id-3\" class=\"sk-top-container\"><div class=\"sk-text-repr-fallback\"><pre>MLPClassifier(hidden_layer_sizes=(128, 64), random_state=42)</pre><b>In a Jupyter environment, please rerun this cell to show the HTML representation or trust the notebook. <br />On GitHub, the HTML representation is unable to render, please try loading this page with nbviewer.org.</b></div><div class=\"sk-container\" hidden><div class=\"sk-item\"><div class=\"sk-estimator sk-toggleable\"><input class=\"sk-toggleable__control sk-hidden--visually\" id=\"sk-estimator-id-3\" type=\"checkbox\" checked><label for=\"sk-estimator-id-3\" class=\"sk-toggleable__label sk-toggleable__label-arrow\">MLPClassifier</label><div class=\"sk-toggleable__content\"><pre>MLPClassifier(hidden_layer_sizes=(128, 64), random_state=42)</pre></div></div></div></div></div>"
            ]
          },
          "metadata": {},
          "execution_count": 90
        }
      ]
    },
    {
      "cell_type": "markdown",
      "source": [
        "**Predict on train and test sets**"
      ],
      "metadata": {
        "id": "BbDv8gIaqyXb"
      }
    },
    {
      "cell_type": "code",
      "source": [
        "train_pred_rf = rf_classifier.predict(X_train)\n",
        "test_pred_rf = rf_classifier.predict(X_test)\n",
        "\n",
        "train_pred_rf = pd.DataFrame(train_pred_rf, columns=['Predicted_Label'])\n",
        "test_pred_rf = pd.DataFrame(test_pred_rf, columns=['Predicted_Label'])\n",
        "\n",
        "train_pred_rf = pd.concat([train, train_pred_rf], axis=1)\n",
        "test_pred_rf = pd.concat([test, test_pred_rf], axis = 1)\n",
        "\n",
        "train_pred_svm = svm_classifier.predict(X_train)\n",
        "test_pred_svm = svm_classifier.predict(X_test)\n",
        "\n",
        "train_pred_svm = pd.DataFrame(train_pred_svm, columns=['Predicted_Label'])\n",
        "test_pred_svm = pd.DataFrame(test_pred_svm, columns=['Predicted_Label'])\n",
        "\n",
        "train_pred_svm = pd.concat([train, train_pred_svm], axis=1)\n",
        "test_pred_svm = pd.concat([test, test_pred_svm], axis = 1)\n",
        "\n",
        "train_pred_mlp = mlp_classifier.predict(X_train)\n",
        "test_pred_mlp = mlp_classifier.predict(X_test)\n",
        "\n",
        "train_pred_mlp = pd.DataFrame(train_pred_mlp, columns=['Predicted_Label'])\n",
        "test_pred_mlp = pd.DataFrame(test_pred_mlp, columns=['Predicted_Label'])\n",
        "\n",
        "train_pred_mlp = pd.concat([train, train_pred_mlp], axis=1)\n",
        "test_pred_mlp = pd.concat([test, test_pred_mlp], axis = 1)"
      ],
      "metadata": {
        "id": "yqA7FhNpN8eM"
      },
      "execution_count": 93,
      "outputs": []
    },
    {
      "cell_type": "code",
      "source": [
        "# Precision\n",
        "precision = precision_at_k(rating_pred = train_pred_rf[['Reviewer', 'Movie', 'Predicted_Label']], rating_true = train_pred_rf[['Reviewer', 'Movie', 'recommend']], k = 5, col_user='Reviewer', col_item='Movie', col_rating='recommend', col_prediction = 'Predicted_Label')\n",
        "print(f'Precision (train rf): {precision}')\n",
        "\n",
        "# Recall\n",
        "recall = recall_at_k(rating_pred = train_pred_rf[['Reviewer', 'Movie', 'Predicted_Label']], rating_true = train_pred_rf[['Reviewer', 'Movie', 'recommend']], k = 5, col_user='Reviewer', col_item='Movie', col_rating='recommend', col_prediction = 'Predicted_Label')\n",
        "print(f'Recall (train rf): {recall}')\n",
        "\n",
        "#F1 score\n",
        "f1 = 2 * (precision * recall) / (precision + recall) if (precision + recall) > 0 else 0\n",
        "print(f'F1 Score (train rf): {f1}')\n",
        "\n",
        "# Precision\n",
        "precision = precision_at_k(rating_pred = test_pred_rf[['Reviewer', 'Movie', 'Predicted_Label']], rating_true = test_pred_rf[['Reviewer', 'Movie', 'recommend']], k = 5, col_user='Reviewer', col_item='Movie', col_rating='recommend', col_prediction = 'Predicted_Label')\n",
        "print(f'Precision (test rf): {precision}')\n",
        "\n",
        "# Recall\n",
        "recall = recall_at_k(rating_pred = test_pred_rf[['Reviewer', 'Movie', 'Predicted_Label']], rating_true = test_pred_rf[['Reviewer', 'Movie', 'recommend']], k = 5, col_user='Reviewer', col_item='Movie', col_rating='recommend', col_prediction = 'Predicted_Label')\n",
        "print(f'Recall (test rf): {recall}')\n",
        "\n",
        "#F1 score\n",
        "f1 = 2 * (precision * recall) / (precision + recall) if (precision + recall) > 0 else 0\n",
        "print(f'F1 Score (test rf): {f1}')\n",
        "\n",
        "print('------')\n",
        "\n",
        "# Precision\n",
        "precision = precision_at_k(rating_pred = train_pred_svm[['Reviewer', 'Movie', 'Predicted_Label']], rating_true = train_pred_svm[['Reviewer', 'Movie', 'recommend']], k = 5, col_user='Reviewer', col_item='Movie', col_rating='recommend', col_prediction = 'Predicted_Label')\n",
        "print(f'Precision (train svm): {precision}')\n",
        "\n",
        "# Recall\n",
        "recall = recall_at_k(rating_pred = train_pred_svm[['Reviewer', 'Movie', 'Predicted_Label']], rating_true = train_pred_svm[['Reviewer', 'Movie', 'recommend']], k = 5, col_user='Reviewer', col_item='Movie', col_rating='recommend', col_prediction = 'Predicted_Label')\n",
        "print(f'Recall (train svm): {recall}')\n",
        "\n",
        "#F1 score\n",
        "f1 = 2 * (precision * recall) / (precision + recall) if (precision + recall) > 0 else 0\n",
        "print(f'F1 Score (train svm): {f1}')\n",
        "\n",
        "# Precision\n",
        "precision = precision_at_k(rating_pred = test_pred_svm[['Reviewer', 'Movie', 'Predicted_Label']], rating_true = test_pred_svm[['Reviewer', 'Movie', 'recommend']], k = 5, col_user='Reviewer', col_item='Movie', col_rating='recommend', col_prediction = 'Predicted_Label')\n",
        "print(f'Precision (test svm): {precision}')\n",
        "\n",
        "# Recall\n",
        "recall = recall_at_k(rating_pred = test_pred_svm[['Reviewer', 'Movie', 'Predicted_Label']], rating_true = test_pred_svm[['Reviewer', 'Movie', 'recommend']], k = 5, col_user='Reviewer', col_item='Movie', col_rating='recommend', col_prediction = 'Predicted_Label')\n",
        "print(f'Recall (test svm): {recall}')\n",
        "\n",
        "#F1 score\n",
        "f1 = 2 * (precision * recall) / (precision + recall) if (precision + recall) > 0 else 0\n",
        "print(f'F1 Score (test svm): {f1}')\n",
        "\n",
        "print('------')\n",
        "\n",
        "# Precision\n",
        "precision = precision_at_k(rating_pred = train_pred_mlp[['Reviewer', 'Movie', 'Predicted_Label']], rating_true = train_pred_mlp[['Reviewer', 'Movie', 'recommend']], k = 5, col_user='Reviewer', col_item='Movie', col_rating='recommend', col_prediction = 'Predicted_Label')\n",
        "print(f'Precision (train mlp): {precision}')\n",
        "\n",
        "# Recall\n",
        "recall = recall_at_k(rating_pred = train_pred_mlp[['Reviewer', 'Movie', 'Predicted_Label']], rating_true = train_pred_mlp[['Reviewer', 'Movie', 'recommend']], k = 5, col_user='Reviewer', col_item='Movie', col_rating='recommend', col_prediction = 'Predicted_Label')\n",
        "print(f'Recall (train mlp): {recall}')\n",
        "\n",
        "#F1 score\n",
        "f1 = 2 * (precision * recall) / (precision + recall) if (precision + recall) > 0 else 0\n",
        "print(f'F1 Score (train mlp): {f1}')\n",
        "\n",
        "# Precision\n",
        "precision = precision_at_k(rating_pred = test_pred_mlp[['Reviewer', 'Movie', 'Predicted_Label']], rating_true = test_pred_mlp[['Reviewer', 'Movie', 'recommend']], k = 5, col_user='Reviewer', col_item='Movie', col_rating='recommend', col_prediction = 'Predicted_Label')\n",
        "print(f'Precision (test mlp): {precision}')\n",
        "\n",
        "# Recall\n",
        "recall = recall_at_k(rating_pred = test_pred_mlp[['Reviewer', 'Movie', 'Predicted_Label']], rating_true = test_pred_mlp[['Reviewer', 'Movie', 'recommend']], k = 5, col_user='Reviewer', col_item='Movie', col_rating='recommend', col_prediction = 'Predicted_Label')\n",
        "print(f'Recall (test mlp): {recall}')\n",
        "\n",
        "#F1 score\n",
        "f1 = 2 * (precision * recall) / (precision + recall) if (precision + recall) > 0 else 0\n",
        "print(f'F1 Score (test mlp): {f1}')"
      ],
      "metadata": {
        "colab": {
          "base_uri": "https://localhost:8080/"
        },
        "id": "0mT-KZ09p7Oz",
        "outputId": "6f54086a-1119-4fa5-886c-e6583598d982"
      },
      "execution_count": 94,
      "outputs": [
        {
          "output_type": "stream",
          "name": "stdout",
          "text": [
            "Precision (train rf): 0.6849093688578293\n",
            "Recall (train rf): 0.6382272351906111\n",
            "F1 Score (train rf): 0.6607447961227674\n",
            "Precision (test rf): 0.6664608259359321\n",
            "Recall (test rf): 0.7158293212127711\n",
            "F1 Score (test rf): 0.6902634756222406\n",
            "------\n",
            "Precision (train svm): 0.6849093688578293\n",
            "Recall (train svm): 0.6382788338176132\n",
            "F1 Score (train svm): 0.6607724469450429\n",
            "Precision (test svm): 0.6663836356619066\n",
            "Recall (test svm): 0.7158266222521408\n",
            "F1 Score (test svm): 0.6902208174317094\n",
            "------\n",
            "Precision (train mlp): 0.6846036252456869\n",
            "Recall (train mlp): 0.6382508177843174\n",
            "F1 Score (train mlp): 0.6606151205424153\n",
            "Precision (test mlp): 0.6663836356619066\n",
            "Recall (test mlp): 0.7158266222521408\n",
            "F1 Score (test mlp): 0.6902208174317094\n"
          ]
        }
      ]
    },
    {
      "cell_type": "markdown",
      "source": [
        "**Demonstrate top 5 movie recommendations using hybrid recommendation system**"
      ],
      "metadata": {
        "id": "pLQhUZFQDIfO"
      }
    },
    {
      "cell_type": "code",
      "source": [
        "def hybrid_recommend(user):\n",
        "  all_movies_liked = data[(data['Reviewer'] == user) & (data['recommend'] == 1)]['Movie'].tolist()\n",
        "  all_similar_movies = []\n",
        "  for movie in all_movies_liked:\n",
        "    curr_movie_index = unique_movies.index[unique_movies['Movie'] == movie][0]\n",
        "    for index, element in enumerate(cosine_scores_bert[curr_movie_index]):\n",
        "      if (element > percentile_90):\n",
        "        sim_movie = unique_movies.iloc[index]['Movie']\n",
        "        all_similar_movies.append(sim_movie)\n",
        "  all_similar_movies = list(set(all_similar_movies))\n",
        "  svd_predictions = [svd.predict(user,x).est for x in all_similar_movies]\n",
        "  all_similar_movies = pd.DataFrame(all_similar_movies, columns = ['Movie'])\n",
        "  all_similar_movies['recommend'] = 1\n",
        "  final = []\n",
        "  stacked = np.column_stack([all_similar_movies['recommend'], svd_predictions])\n",
        "  stacked_df = pd.DataFrame(stacked, columns = ['cbf_predictions', 'svd_predictions'])\n",
        "  stacked_df['Movie'] = all_similar_movies['Movie']\n",
        "  stacked_df = stacked_df.sort_values(by = 'svd_predictions', ascending = False)\n",
        "  reccs = rf_classifier.predict(np.column_stack([stacked_df['cbf_predictions'], stacked_df['svd_predictions']]))\n",
        "  for id, recc in enumerate(reccs):\n",
        "    if recc == 1:\n",
        "      final.append(stacked_df.iloc[id]['Movie'])\n",
        "  final = pd.DataFrame(final[:5], columns = ['Movie'])\n",
        "  final['Overview'] = final['Movie'].apply(lambda x: unique_movies[unique_movies['Movie'] == x]['overview'].tolist()[0])\n",
        "  final['Directors'] = final['Movie'].apply(lambda x: unique_movies[unique_movies['Movie'] == x]['director_list'].tolist()[0])\n",
        "  final['Cast'] = final['Movie'].apply(lambda x: unique_movies[unique_movies['Movie'] == x]['first_three_casts'].tolist()[0])\n",
        "  final['Genres'] = final['Movie'].apply(lambda x: unique_movies[unique_movies['Movie'] == x]['unique_genres'].tolist()[0])\n",
        "  return final"
      ],
      "metadata": {
        "id": "AFz0y5RPXb_F"
      },
      "execution_count": 95,
      "outputs": []
    },
    {
      "cell_type": "code",
      "source": [
        "hybrid_recommend('Dennis Schwartz')"
      ],
      "metadata": {
        "colab": {
          "base_uri": "https://localhost:8080/",
          "height": 206
        },
        "id": "mTOtt0DkJznn",
        "outputId": "0142c5a4-0d80-4da1-bfba-50a950657ef0"
      },
      "execution_count": 96,
      "outputs": [
        {
          "output_type": "execute_result",
          "data": {
            "text/plain": [
              "                    Movie                                           Overview  \\\n",
              "0                     KES  A young, English working-class boy spends his ...   \n",
              "1            MODERN TIMES  The Tramp struggles to live in modern industri...   \n",
              "2  NO COUNTRY FOR OLD MEN  Llewelyn Moss stumbles upon dead bodies, $2 mi...   \n",
              "3             TOY STORY 3  Woody, Buzz, and the rest of Andy's toys haven...   \n",
              "4                PARASITE  Paul Dean has created a deadly parasite that i...   \n",
              "\n",
              "                 Directors                                               Cast  \\\n",
              "0              [Ken Loach]    [David Bradley, Freddie Fletcher, Lynne Perrie]   \n",
              "1        [Charlie Chaplin]  [Charlie Chaplin, Paulette Goddard, Henry Berg...   \n",
              "2  [Joel Coen, Ethan Coen]      [Tommy Lee Jones, Javier Bardem, Josh Brolin]   \n",
              "3            [Lee Unkrich]                 [Tom Hanks, Tim Allen, Ned Beatty]   \n",
              "4           [Charles Band]      [Robert Glaudini, Demi Moore, Luca Bercovici]   \n",
              "\n",
              "                        Genres  \n",
              "0                      [Drama]  \n",
              "1              [Drama, Comedy]  \n",
              "2     [Drama, Crime, Thriller]  \n",
              "3  [Animation, Comedy, Family]  \n",
              "4    [Science Fiction, Horror]  "
            ],
            "text/html": [
              "\n",
              "  <div id=\"df-b857e52d-2b3c-43c5-a669-82b13848cf61\" class=\"colab-df-container\">\n",
              "    <div>\n",
              "<style scoped>\n",
              "    .dataframe tbody tr th:only-of-type {\n",
              "        vertical-align: middle;\n",
              "    }\n",
              "\n",
              "    .dataframe tbody tr th {\n",
              "        vertical-align: top;\n",
              "    }\n",
              "\n",
              "    .dataframe thead th {\n",
              "        text-align: right;\n",
              "    }\n",
              "</style>\n",
              "<table border=\"1\" class=\"dataframe\">\n",
              "  <thead>\n",
              "    <tr style=\"text-align: right;\">\n",
              "      <th></th>\n",
              "      <th>Movie</th>\n",
              "      <th>Overview</th>\n",
              "      <th>Directors</th>\n",
              "      <th>Cast</th>\n",
              "      <th>Genres</th>\n",
              "    </tr>\n",
              "  </thead>\n",
              "  <tbody>\n",
              "    <tr>\n",
              "      <th>0</th>\n",
              "      <td>KES</td>\n",
              "      <td>A young, English working-class boy spends his ...</td>\n",
              "      <td>[Ken Loach]</td>\n",
              "      <td>[David Bradley, Freddie Fletcher, Lynne Perrie]</td>\n",
              "      <td>[Drama]</td>\n",
              "    </tr>\n",
              "    <tr>\n",
              "      <th>1</th>\n",
              "      <td>MODERN TIMES</td>\n",
              "      <td>The Tramp struggles to live in modern industri...</td>\n",
              "      <td>[Charlie Chaplin]</td>\n",
              "      <td>[Charlie Chaplin, Paulette Goddard, Henry Berg...</td>\n",
              "      <td>[Drama, Comedy]</td>\n",
              "    </tr>\n",
              "    <tr>\n",
              "      <th>2</th>\n",
              "      <td>NO COUNTRY FOR OLD MEN</td>\n",
              "      <td>Llewelyn Moss stumbles upon dead bodies, $2 mi...</td>\n",
              "      <td>[Joel Coen, Ethan Coen]</td>\n",
              "      <td>[Tommy Lee Jones, Javier Bardem, Josh Brolin]</td>\n",
              "      <td>[Drama, Crime, Thriller]</td>\n",
              "    </tr>\n",
              "    <tr>\n",
              "      <th>3</th>\n",
              "      <td>TOY STORY 3</td>\n",
              "      <td>Woody, Buzz, and the rest of Andy's toys haven...</td>\n",
              "      <td>[Lee Unkrich]</td>\n",
              "      <td>[Tom Hanks, Tim Allen, Ned Beatty]</td>\n",
              "      <td>[Animation, Comedy, Family]</td>\n",
              "    </tr>\n",
              "    <tr>\n",
              "      <th>4</th>\n",
              "      <td>PARASITE</td>\n",
              "      <td>Paul Dean has created a deadly parasite that i...</td>\n",
              "      <td>[Charles Band]</td>\n",
              "      <td>[Robert Glaudini, Demi Moore, Luca Bercovici]</td>\n",
              "      <td>[Science Fiction, Horror]</td>\n",
              "    </tr>\n",
              "  </tbody>\n",
              "</table>\n",
              "</div>\n",
              "    <div class=\"colab-df-buttons\">\n",
              "\n",
              "  <div class=\"colab-df-container\">\n",
              "    <button class=\"colab-df-convert\" onclick=\"convertToInteractive('df-b857e52d-2b3c-43c5-a669-82b13848cf61')\"\n",
              "            title=\"Convert this dataframe to an interactive table.\"\n",
              "            style=\"display:none;\">\n",
              "\n",
              "  <svg xmlns=\"http://www.w3.org/2000/svg\" height=\"24px\" viewBox=\"0 -960 960 960\">\n",
              "    <path d=\"M120-120v-720h720v720H120Zm60-500h600v-160H180v160Zm220 220h160v-160H400v160Zm0 220h160v-160H400v160ZM180-400h160v-160H180v160Zm440 0h160v-160H620v160ZM180-180h160v-160H180v160Zm440 0h160v-160H620v160Z\"/>\n",
              "  </svg>\n",
              "    </button>\n",
              "\n",
              "  <style>\n",
              "    .colab-df-container {\n",
              "      display:flex;\n",
              "      gap: 12px;\n",
              "    }\n",
              "\n",
              "    .colab-df-convert {\n",
              "      background-color: #E8F0FE;\n",
              "      border: none;\n",
              "      border-radius: 50%;\n",
              "      cursor: pointer;\n",
              "      display: none;\n",
              "      fill: #1967D2;\n",
              "      height: 32px;\n",
              "      padding: 0 0 0 0;\n",
              "      width: 32px;\n",
              "    }\n",
              "\n",
              "    .colab-df-convert:hover {\n",
              "      background-color: #E2EBFA;\n",
              "      box-shadow: 0px 1px 2px rgba(60, 64, 67, 0.3), 0px 1px 3px 1px rgba(60, 64, 67, 0.15);\n",
              "      fill: #174EA6;\n",
              "    }\n",
              "\n",
              "    .colab-df-buttons div {\n",
              "      margin-bottom: 4px;\n",
              "    }\n",
              "\n",
              "    [theme=dark] .colab-df-convert {\n",
              "      background-color: #3B4455;\n",
              "      fill: #D2E3FC;\n",
              "    }\n",
              "\n",
              "    [theme=dark] .colab-df-convert:hover {\n",
              "      background-color: #434B5C;\n",
              "      box-shadow: 0px 1px 3px 1px rgba(0, 0, 0, 0.15);\n",
              "      filter: drop-shadow(0px 1px 2px rgba(0, 0, 0, 0.3));\n",
              "      fill: #FFFFFF;\n",
              "    }\n",
              "  </style>\n",
              "\n",
              "    <script>\n",
              "      const buttonEl =\n",
              "        document.querySelector('#df-b857e52d-2b3c-43c5-a669-82b13848cf61 button.colab-df-convert');\n",
              "      buttonEl.style.display =\n",
              "        google.colab.kernel.accessAllowed ? 'block' : 'none';\n",
              "\n",
              "      async function convertToInteractive(key) {\n",
              "        const element = document.querySelector('#df-b857e52d-2b3c-43c5-a669-82b13848cf61');\n",
              "        const dataTable =\n",
              "          await google.colab.kernel.invokeFunction('convertToInteractive',\n",
              "                                                    [key], {});\n",
              "        if (!dataTable) return;\n",
              "\n",
              "        const docLinkHtml = 'Like what you see? Visit the ' +\n",
              "          '<a target=\"_blank\" href=https://colab.research.google.com/notebooks/data_table.ipynb>data table notebook</a>'\n",
              "          + ' to learn more about interactive tables.';\n",
              "        element.innerHTML = '';\n",
              "        dataTable['output_type'] = 'display_data';\n",
              "        await google.colab.output.renderOutput(dataTable, element);\n",
              "        const docLink = document.createElement('div');\n",
              "        docLink.innerHTML = docLinkHtml;\n",
              "        element.appendChild(docLink);\n",
              "      }\n",
              "    </script>\n",
              "  </div>\n",
              "\n",
              "\n",
              "<div id=\"df-8e07a3e6-28f4-44d7-a4aa-ccc57acc6cec\">\n",
              "  <button class=\"colab-df-quickchart\" onclick=\"quickchart('df-8e07a3e6-28f4-44d7-a4aa-ccc57acc6cec')\"\n",
              "            title=\"Suggest charts\"\n",
              "            style=\"display:none;\">\n",
              "\n",
              "<svg xmlns=\"http://www.w3.org/2000/svg\" height=\"24px\"viewBox=\"0 0 24 24\"\n",
              "     width=\"24px\">\n",
              "    <g>\n",
              "        <path d=\"M19 3H5c-1.1 0-2 .9-2 2v14c0 1.1.9 2 2 2h14c1.1 0 2-.9 2-2V5c0-1.1-.9-2-2-2zM9 17H7v-7h2v7zm4 0h-2V7h2v10zm4 0h-2v-4h2v4z\"/>\n",
              "    </g>\n",
              "</svg>\n",
              "  </button>\n",
              "\n",
              "<style>\n",
              "  .colab-df-quickchart {\n",
              "      --bg-color: #E8F0FE;\n",
              "      --fill-color: #1967D2;\n",
              "      --hover-bg-color: #E2EBFA;\n",
              "      --hover-fill-color: #174EA6;\n",
              "      --disabled-fill-color: #AAA;\n",
              "      --disabled-bg-color: #DDD;\n",
              "  }\n",
              "\n",
              "  [theme=dark] .colab-df-quickchart {\n",
              "      --bg-color: #3B4455;\n",
              "      --fill-color: #D2E3FC;\n",
              "      --hover-bg-color: #434B5C;\n",
              "      --hover-fill-color: #FFFFFF;\n",
              "      --disabled-bg-color: #3B4455;\n",
              "      --disabled-fill-color: #666;\n",
              "  }\n",
              "\n",
              "  .colab-df-quickchart {\n",
              "    background-color: var(--bg-color);\n",
              "    border: none;\n",
              "    border-radius: 50%;\n",
              "    cursor: pointer;\n",
              "    display: none;\n",
              "    fill: var(--fill-color);\n",
              "    height: 32px;\n",
              "    padding: 0;\n",
              "    width: 32px;\n",
              "  }\n",
              "\n",
              "  .colab-df-quickchart:hover {\n",
              "    background-color: var(--hover-bg-color);\n",
              "    box-shadow: 0 1px 2px rgba(60, 64, 67, 0.3), 0 1px 3px 1px rgba(60, 64, 67, 0.15);\n",
              "    fill: var(--button-hover-fill-color);\n",
              "  }\n",
              "\n",
              "  .colab-df-quickchart-complete:disabled,\n",
              "  .colab-df-quickchart-complete:disabled:hover {\n",
              "    background-color: var(--disabled-bg-color);\n",
              "    fill: var(--disabled-fill-color);\n",
              "    box-shadow: none;\n",
              "  }\n",
              "\n",
              "  .colab-df-spinner {\n",
              "    border: 2px solid var(--fill-color);\n",
              "    border-color: transparent;\n",
              "    border-bottom-color: var(--fill-color);\n",
              "    animation:\n",
              "      spin 1s steps(1) infinite;\n",
              "  }\n",
              "\n",
              "  @keyframes spin {\n",
              "    0% {\n",
              "      border-color: transparent;\n",
              "      border-bottom-color: var(--fill-color);\n",
              "      border-left-color: var(--fill-color);\n",
              "    }\n",
              "    20% {\n",
              "      border-color: transparent;\n",
              "      border-left-color: var(--fill-color);\n",
              "      border-top-color: var(--fill-color);\n",
              "    }\n",
              "    30% {\n",
              "      border-color: transparent;\n",
              "      border-left-color: var(--fill-color);\n",
              "      border-top-color: var(--fill-color);\n",
              "      border-right-color: var(--fill-color);\n",
              "    }\n",
              "    40% {\n",
              "      border-color: transparent;\n",
              "      border-right-color: var(--fill-color);\n",
              "      border-top-color: var(--fill-color);\n",
              "    }\n",
              "    60% {\n",
              "      border-color: transparent;\n",
              "      border-right-color: var(--fill-color);\n",
              "    }\n",
              "    80% {\n",
              "      border-color: transparent;\n",
              "      border-right-color: var(--fill-color);\n",
              "      border-bottom-color: var(--fill-color);\n",
              "    }\n",
              "    90% {\n",
              "      border-color: transparent;\n",
              "      border-bottom-color: var(--fill-color);\n",
              "    }\n",
              "  }\n",
              "</style>\n",
              "\n",
              "  <script>\n",
              "    async function quickchart(key) {\n",
              "      const quickchartButtonEl =\n",
              "        document.querySelector('#' + key + ' button');\n",
              "      quickchartButtonEl.disabled = true;  // To prevent multiple clicks.\n",
              "      quickchartButtonEl.classList.add('colab-df-spinner');\n",
              "      try {\n",
              "        const charts = await google.colab.kernel.invokeFunction(\n",
              "            'suggestCharts', [key], {});\n",
              "      } catch (error) {\n",
              "        console.error('Error during call to suggestCharts:', error);\n",
              "      }\n",
              "      quickchartButtonEl.classList.remove('colab-df-spinner');\n",
              "      quickchartButtonEl.classList.add('colab-df-quickchart-complete');\n",
              "    }\n",
              "    (() => {\n",
              "      let quickchartButtonEl =\n",
              "        document.querySelector('#df-8e07a3e6-28f4-44d7-a4aa-ccc57acc6cec button');\n",
              "      quickchartButtonEl.style.display =\n",
              "        google.colab.kernel.accessAllowed ? 'block' : 'none';\n",
              "    })();\n",
              "  </script>\n",
              "</div>\n",
              "\n",
              "    </div>\n",
              "  </div>\n"
            ],
            "application/vnd.google.colaboratory.intrinsic+json": {
              "type": "dataframe",
              "summary": "{\n  \"name\": \"hybrid_recommend('Dennis Schwartz')\",\n  \"rows\": 5,\n  \"fields\": [\n    {\n      \"column\": \"Movie\",\n      \"properties\": {\n        \"dtype\": \"string\",\n        \"num_unique_values\": 5,\n        \"samples\": [\n          \"MODERN TIMES\",\n          \"PARASITE\",\n          \"NO COUNTRY FOR OLD MEN\"\n        ],\n        \"semantic_type\": \"\",\n        \"description\": \"\"\n      }\n    },\n    {\n      \"column\": \"Overview\",\n      \"properties\": {\n        \"dtype\": \"string\",\n        \"num_unique_values\": 5,\n        \"samples\": [\n          \"The Tramp struggles to live in modern industrial society with the help of a young homeless woman.\",\n          \"Paul Dean has created a deadly parasite that is now attached to his stomach. He and his female companion, Patricia Welles, must find a way to destroy it while also trying to avoid Ricus, his rednecks, and an evil government agent named Merchant.\",\n          \"Llewelyn Moss stumbles upon dead bodies, $2 million and a hoard of heroin in a Texas desert, but methodical killer Anton Chigurh comes looking for it, with local sheriff Ed Tom Bell hot on his trail. The roles of prey and predator blur as the violent pursuit of money and justice collide.\"\n        ],\n        \"semantic_type\": \"\",\n        \"description\": \"\"\n      }\n    },\n    {\n      \"column\": \"Directors\",\n      \"properties\": {\n        \"dtype\": \"object\",\n        \"semantic_type\": \"\",\n        \"description\": \"\"\n      }\n    },\n    {\n      \"column\": \"Cast\",\n      \"properties\": {\n        \"dtype\": \"object\",\n        \"semantic_type\": \"\",\n        \"description\": \"\"\n      }\n    },\n    {\n      \"column\": \"Genres\",\n      \"properties\": {\n        \"dtype\": \"object\",\n        \"semantic_type\": \"\",\n        \"description\": \"\"\n      }\n    }\n  ]\n}"
            }
          },
          "metadata": {},
          "execution_count": 96
        }
      ]
    }
  ]
}