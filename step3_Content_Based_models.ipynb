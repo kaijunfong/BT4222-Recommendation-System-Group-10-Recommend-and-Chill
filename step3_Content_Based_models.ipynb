{
 "cells": [
  {
   "cell_type": "code",
   "execution_count": 1,
   "metadata": {},
   "outputs": [
    {
     "name": "stderr",
     "output_type": "stream",
     "text": [
      "[nltk_data] Downloading package punkt to /Users/sokyang/nltk_data...\n",
      "[nltk_data]   Package punkt is already up-to-date!\n",
      "[nltk_data] Downloading package wordnet to /Users/sokyang/nltk_data...\n",
      "[nltk_data]   Package wordnet is already up-to-date!\n"
     ]
    },
    {
     "name": "stdout",
     "output_type": "stream",
     "text": [
      "Downloading...\n",
      "From (original): https://drive.google.com/uc?id=1vbteMX-kHyYAAS7JIrrog_aZvvOY77Q0\n",
      "From (redirected): https://drive.google.com/uc?id=1vbteMX-kHyYAAS7JIrrog_aZvvOY77Q0&confirm=t&uuid=a5464b95-32ce-4127-a346-fb248484a8e1\n",
      "To: /Users/sokyang/Desktop/bt4222/final_dataset.csv\n",
      "100%|████████████████████████████████████████| 456M/456M [01:38<00:00, 4.62MB/s]\n"
     ]
    }
   ],
   "source": [
    "import pandas as pd\n",
    "import numpy as np\n",
    "import nltk\n",
    "nltk.download('punkt')\n",
    "nltk.download('wordnet')\n",
    "from sklearn.feature_extraction.text import CountVectorizer\n",
    "from nltk.tokenize import word_tokenize\n",
    "from nltk.stem import WordNetLemmatizer\n",
    "import re\n",
    "from sklearn.metrics.pairwise import cosine_similarity\n",
    "from sentence_transformers import SentenceTransformer\n",
    "import matplotlib.pyplot as plt\n",
    "import seaborn as sns\n",
    "!gdown https://drive.google.com/uc?id=1vbteMX-kHyYAAS7JIrrog_aZvvOY77Q0"
   ]
  },
  {
   "cell_type": "markdown",
   "metadata": {},
   "source": [
    "# **Load Dataset**"
   ]
  },
  {
   "cell_type": "code",
   "execution_count": 2,
   "metadata": {},
   "outputs": [
    {
     "name": "stdout",
     "output_type": "stream",
     "text": [
      "Index(['Movie', 'Reviewer', 'Review', 'Score', 'Sentiment_scores', 'overview',\n",
      "       'cast_list', 'crew_list', 'director_list', 'first_three_casts',\n",
      "       'unique_genres', 'Date', 'recommend'],\n",
      "      dtype='object')\n",
      "       Movie          Reviewer  \\\n",
      "0  SENSATION   Dennis Schwartz   \n",
      "1  SENSATION  Carey-Ann Pawsey   \n",
      "2  SENSATION        Rob Rector   \n",
      "3  SENSATION        Rich Cline   \n",
      "4  SENSATION       Allen Adams   \n",
      "\n",
      "                                              Review     Score  \\\n",
      "0  A sci-fi film that made no sense, as it tells ...  0.686869   \n",
      "1  A thriller that ultimately makes little to no ...  0.393939   \n",
      "2  There's still much to admire with Sensation, d...  0.595960   \n",
      "3  There's no thematic depth in the story or char...  0.494949   \n",
      "4  Sensation wants to be a deep movie...[but] tho...  0.393939   \n",
      "\n",
      "   Sentiment_scores                                           overview  \\\n",
      "0          0.276348  Man-boy farmer Donal discovers that his father...   \n",
      "1          0.334176  Man-boy farmer Donal discovers that his father...   \n",
      "2          0.739928  Man-boy farmer Donal discovers that his father...   \n",
      "3          0.349340  Man-boy farmer Donal discovers that his father...   \n",
      "4          0.240863  Man-boy farmer Donal discovers that his father...   \n",
      "\n",
      "                                           cast_list     crew_list  \\\n",
      "0  ['Luanne Gordon', 'Kelly Campbell', 'Owen Roe'...  ['Tom Hall']   \n",
      "1  ['Luanne Gordon', 'Kelly Campbell', 'Owen Roe'...  ['Tom Hall']   \n",
      "2  ['Luanne Gordon', 'Kelly Campbell', 'Owen Roe'...  ['Tom Hall']   \n",
      "3  ['Luanne Gordon', 'Kelly Campbell', 'Owen Roe'...  ['Tom Hall']   \n",
      "4  ['Luanne Gordon', 'Kelly Campbell', 'Owen Roe'...  ['Tom Hall']   \n",
      "\n",
      "  director_list                                first_three_casts  \\\n",
      "0  ['Tom Hall']  ['Luanne Gordon', 'Kelly Campbell', 'Owen Roe']   \n",
      "1  ['Tom Hall']  ['Luanne Gordon', 'Kelly Campbell', 'Owen Roe']   \n",
      "2  ['Tom Hall']  ['Luanne Gordon', 'Kelly Campbell', 'Owen Roe']   \n",
      "3  ['Tom Hall']  ['Luanne Gordon', 'Kelly Campbell', 'Owen Roe']   \n",
      "4  ['Tom Hall']  ['Luanne Gordon', 'Kelly Campbell', 'Owen Roe']   \n",
      "\n",
      "                               unique_genres       Date  recommend  \n",
      "0  ['Drama', 'Romance', 'Comedy', 'Foreign'] 2022-09-01          0  \n",
      "1  ['Drama', 'Romance', 'Comedy', 'Foreign'] 2022-06-01          0  \n",
      "2  ['Drama', 'Romance', 'Comedy', 'Foreign'] 2021-05-19          0  \n",
      "3  ['Drama', 'Romance', 'Comedy', 'Foreign'] 2021-04-22          0  \n",
      "4  ['Drama', 'Romance', 'Comedy', 'Foreign'] 2021-04-21          0  \n"
     ]
    }
   ],
   "source": [
    "data = pd.read_csv('final_dataset.csv', dtype = {'Movie': 'string', 'Reviewer': 'string', 'Review': 'string', 'Score': 'float64', 'Sentiment_scores': 'float64', 'overview': 'string', 'recommend': 'int'}, parse_dates=['Date'])\n",
    "print(data.columns)\n",
    "print(data.head())"
   ]
  },
  {
   "cell_type": "markdown",
   "metadata": {},
   "source": [
    "# **Data Processing**"
   ]
  },
  {
   "cell_type": "markdown",
   "metadata": {},
   "source": [
    "*   create a dataset of unique movies\n",
    "*   preprocess overview"
   ]
  },
  {
   "cell_type": "code",
   "execution_count": 3,
   "metadata": {},
   "outputs": [],
   "source": [
    "#keep only unique movies\n",
    "unique_movies = data.drop_duplicates(subset='Movie')\n",
    "unique_movies = unique_movies.reset_index()\n",
    "\n",
    "#preprocess overview\n",
    "def process_text(text):\n",
    "    processed_text = \"\"\n",
    "    lower_text = text.lower()\n",
    "    tokenized_text = word_tokenize(lower_text)\n",
    "    alphabetic_tokens = [token for token in tokenized_text if re.match('^[a-zA-Z]+$', token)]\n",
    "    lemmatized_words = [WordNetLemmatizer().lemmatize(token) for token in alphabetic_tokens]\n",
    "    processed_text = ' '.join(lemmatized_words)\n",
    "    return processed_text\n",
    "\n",
    "unique_movies['processed_overview'] = unique_movies['overview'].apply(lambda x: process_text(x))"
   ]
  },
  {
   "cell_type": "markdown",
   "metadata": {},
   "source": [
    "\n",
    "\n",
    "\n",
    "*   convert genres to lower case and combine into 1 string\n",
    "*   convert director list to lower case, join first and last name, combine into 1 string\n",
    "*   convert first 3 casts to lower case, join first and last name, combine into 1 string"
   ]
  },
  {
   "cell_type": "code",
   "execution_count": 4,
   "metadata": {},
   "outputs": [
    {
     "name": "stdout",
     "output_type": "stream",
     "text": [
      "0       drama romance comedy foreign\n",
      "1                  drama history war\n",
      "2                   thriller mystery\n",
      "3                             comedy\n",
      "4             drama thriller mystery\n",
      "                    ...             \n",
      "5211                          comedy\n",
      "5212           drama thriller comedy\n",
      "5213                        thriller\n",
      "5214       drama history war foreign\n",
      "5215                  romance comedy\n",
      "Name: processed_genres, Length: 5216, dtype: object\n",
      "0                           tomhall\n",
      "1                     romanpolanski\n",
      "2                  wolfgangpetersen\n",
      "3                      chuckvincent\n",
      "4                  barbarastepansky\n",
      "                   ...             \n",
      "5211    jasonfriedberg aaronseltzer\n",
      "5212                      henrybean\n",
      "5213                    chrisjaymes\n",
      "5214                 enniodeconcini\n",
      "5215                     carlreiner\n",
      "Name: processed_directors, Length: 5216, dtype: object\n",
      "0                luannegordon kellycampbell owenroe\n",
      "1                jonfinch francescaannis martinshaw\n",
      "2               tomberenger bobhoskins gretascacchi\n",
      "3            louiebonanno tallychanel jeromebrenner\n",
      "4       melorawalters williammapother johannabraddy\n",
      "                           ...                     \n",
      "5211          seanmaguire carmenelectra kendavitian\n",
      "5212         timrobbins bridgetmoynahan williamhurt\n",
      "5213       davidarquette kristendalton victorbrowne\n",
      "5214              alecguinness simonward adolfoceli\n",
      "5215                 henrywinkler kimdarby genesaks\n",
      "Name: processed_cast, Length: 5216, dtype: object\n"
     ]
    }
   ],
   "source": [
    "#convert genres to lowercase and combine into 1 long string\n",
    "unique_movies['unique_genres'] = unique_movies['unique_genres'].apply(lambda x: eval(x))\n",
    "unique_movies['processed_genres'] = unique_movies['unique_genres'].apply(lambda x: ' '.join([word.lower() for word in x]))\n",
    "print(unique_movies['processed_genres'])\n",
    "\n",
    "#convert director list to lower case, join first and last name, combine into 1 long string\n",
    "unique_movies['director_list'] = unique_movies['director_list'].apply(lambda x: eval(x))\n",
    "\n",
    "def process_names(names_list):\n",
    "  processed_names = [''.join(name.lower().split()) for name in names_list]\n",
    "  return ' '.join(processed_names)\n",
    "\n",
    "unique_movies['processed_directors'] = unique_movies['director_list'].apply(lambda x: process_names(x))\n",
    "print(unique_movies['processed_directors'])\n",
    "\n",
    "#convert first 3 casts to lower case, join first and last name, combine into 1 long string\n",
    "unique_movies['first_three_casts'] = unique_movies['first_three_casts'].apply(lambda x: eval(x))\n",
    "unique_movies['processed_cast'] = unique_movies['first_three_casts'].apply(lambda x: process_names(x))\n",
    "print(unique_movies['processed_cast'])"
   ]
  },
  {
   "cell_type": "markdown",
   "metadata": {},
   "source": [
    "# **Count Vectorizer**"
   ]
  },
  {
   "cell_type": "markdown",
   "metadata": {},
   "source": [
    "*   Combine processed overview, genres, directors and first 3 casts into one string\n",
    "*   Create a count vectorizer "
   ]
  },
  {
   "cell_type": "code",
   "execution_count": 5,
   "metadata": {},
   "outputs": [
    {
     "name": "stdout",
     "output_type": "stream",
     "text": [
      "farmer donal discovers that his father ha suddenly passed away now on his own donal attempt to lose his virginity by hiring a prostitute to help him get out of his rut and so he meet kim an aging kiwi escort after engaging in a strictly sexual encounter their relationship soon progress into a lusty romance then to a business enterprise between two partner through these exploit donal and kim provide each other with a sense of love and belonging that neither experienced beforehand drama romance comedy foreign tomhall luannegordon kellycampbell owenroe\n"
     ]
    }
   ],
   "source": [
    "#combine overview and genres into 1 long string (soup)\n",
    "unique_movies['soup'] = unique_movies['processed_overview'] + ' ' + unique_movies['processed_genres'] + ' ' + unique_movies['processed_directors'] + ' ' + unique_movies['processed_cast']\n",
    "print(unique_movies['soup'][0])\n",
    "\n",
    "#create a count vectorizer\n",
    "count_vectorizer = CountVectorizer(analyzer='word', stop_words='english')\n",
    "count_matrix = count_vectorizer.fit_transform(unique_movies['soup'])"
   ]
  },
  {
   "cell_type": "markdown",
   "metadata": {},
   "source": [
    "# **Bert Model**"
   ]
  },
  {
   "cell_type": "markdown",
   "metadata": {},
   "source": [
    "*   Combine overview, genres, directors and first 3 casts into one string\n",
    "*   Create a bert model"
   ]
  },
  {
   "cell_type": "code",
   "execution_count": 6,
   "metadata": {},
   "outputs": [
    {
     "data": {
      "application/vnd.jupyter.widget-view+json": {
       "model_id": "3503c8aa1afe40c781199728362301b5",
       "version_major": 2,
       "version_minor": 0
      },
      "text/plain": [
       "Batches:   0%|          | 0/163 [00:00<?, ?it/s]"
      ]
     },
     "metadata": {},
     "output_type": "display_data"
    }
   ],
   "source": [
    "#create soup2 for bert\n",
    "unique_movies['soup2'] = unique_movies['overview'] + ' ' + unique_movies['processed_genres'] + ' ' + unique_movies['processed_directors'] + ' ' + unique_movies['processed_cast']\n",
    "\n",
    "#create bert model\n",
    "bert_model = SentenceTransformer('bert-base-nli-mean-tokens')\n",
    "embeddings = bert_model.encode(unique_movies[\"soup2\"], show_progress_bar=True)"
   ]
  },
  {
   "cell_type": "markdown",
   "metadata": {},
   "source": [
    "# **Cosine Similarity Scores**"
   ]
  },
  {
   "cell_type": "markdown",
   "metadata": {},
   "source": [
    "**Create cosine scores for the matrix derived from the count vectorizer and the embedding from the BERT model**"
   ]
  },
  {
   "cell_type": "code",
   "execution_count": 7,
   "metadata": {},
   "outputs": [],
   "source": [
    "#calculate cosine similarity\n",
    "cosine_scores = cosine_similarity(count_matrix)\n",
    "cosine_scores_bert = cosine_similarity(embeddings)\n",
    "\n",
    "# Flatten the cosine similarity matrix into a 1D array\n",
    "cosine_scores_flat = cosine_scores.flatten()\n",
    "cosine_scores_bert_flat = cosine_scores_bert.flatten()"
   ]
  },
  {
   "cell_type": "markdown",
   "metadata": {},
   "source": [
    "**Compare densities of cosine similarity scores derived from BERT and from count vectorizer**"
   ]
  },
  {
   "cell_type": "markdown",
   "metadata": {},
   "source": [
    "- Cosine similarity scores derived from BERT will be used in our hybrid model as the distribution is much more even."
   ]
  },
  {
   "cell_type": "code",
   "execution_count": 8,
   "metadata": {},
   "outputs": [
    {
     "data": {
      "image/png": "[encoded data removed]",
      "text/plain": [
       "<Figure size 800x600 with 1 Axes>"
      ]
     },
     "metadata": {},
     "output_type": "display_data"
    }
   ],
   "source": [
    "# Plot a density plot\n",
    "plt.figure(figsize=(8, 6))\n",
    "sns.kdeplot(cosine_scores_flat, color='skyblue', label='count vectorizer')\n",
    "sns.kdeplot(cosine_scores_bert_flat, color='orange', label='BERT')\n",
    "plt.title('Comparison of Density Plots')\n",
    "plt.xlabel('Values')\n",
    "plt.ylabel('Density')\n",
    "plt.legend()\n",
    "plt.grid(axis='y')\n",
    "plt.show()"
   ]
  },
  {
   "cell_type": "markdown",
   "metadata": {},
   "source": [
    "# **Top-K Recommendations**"
   ]
  },
  {
   "cell_type": "code",
   "execution_count": 9,
   "metadata": {},
   "outputs": [],
   "source": [
    "#content based filtering method\n",
    "def recommend_movies(movie, cosine_scores, unique_movies, top_n=10):\n",
    "    movie_index = unique_movies[unique_movies['Movie'] == movie].index[0]\n",
    "    sim_scores = list(enumerate(cosine_scores[movie_index]))\n",
    "    sim_scores.sort(key=lambda x: x[1], reverse=True)\n",
    "\n",
    "    # Get top n similar movies (excluding the input movie itself)\n",
    "    top_movies = sim_scores[1:top_n + 1]\n",
    "\n",
    "    # Extract movie titles from indices\n",
    "    recommended_movies = [(unique_movies.iloc[i]['Movie'], cosine_scores[movie_index][i]) for i, _ in top_movies]\n",
    "\n",
    "    return recommended_movies"
   ]
  },
  {
   "cell_type": "markdown",
   "metadata": {},
   "source": [
    "Recommendations with Count Vectorizer"
   ]
  },
  {
   "cell_type": "code",
   "execution_count": 10,
   "metadata": {},
   "outputs": [
    {
     "name": "stdout",
     "output_type": "stream",
     "text": [
      "                  Movie  Cosine_Scores\n",
      "0       PASSAGE TO MARS       0.248734\n",
      "1          MEGA PIRANHA       0.227921\n",
      "2  THE SPACE BETWEEN US       0.211100\n",
      "3      MIDNIGHT SPECIAL       0.211100\n",
      "4            PROMETHEUS       0.201008\n",
      "5       ROBOT OVERLORDS       0.199681\n",
      "6         THE WOLVERINE       0.194625\n",
      "7     FROM TIME TO TIME       0.193952\n",
      "8             MAX STEEL       0.190693\n",
      "9         THE WILD HUNT       0.189934\n"
     ]
    }
   ],
   "source": [
    "#test content based filtering\n",
    "recommended_movies = recommend_movies('INTERSTELLAR', cosine_scores, unique_movies)\n",
    "print(pd.DataFrame(recommended_movies, columns = ['Movie', 'Cosine_Scores']))"
   ]
  },
  {
   "cell_type": "markdown",
   "metadata": {},
   "source": [
    "Recommendations with Bert Model"
   ]
  },
  {
   "cell_type": "code",
   "execution_count": 11,
   "metadata": {},
   "outputs": [
    {
     "name": "stdout",
     "output_type": "stream",
     "text": [
      "                           Movie  Cosine_Scores_Bert\n",
      "0                     PROMETHEUS            0.866442\n",
      "1               STAR TREK BEYOND            0.856962\n",
      "2                RATCHET & CLANK            0.841057\n",
      "3        APPROACHING THE UNKNOWN            0.834512\n",
      "4   ROGUE ONE: A STAR WARS STORY            0.828725\n",
      "5                 FANTASTIC FOUR            0.828568\n",
      "6            ABSOLUTELY ANYTHING            0.823955\n",
      "7  STARSHIP TROOPERS 3: MARAUDER            0.820990\n",
      "8                       IRON SKY            0.820149\n",
      "9                           LIFE            0.820112\n"
     ]
    }
   ],
   "source": [
    "#test content based filtering\n",
    "recommended_movies = recommend_movies('INTERSTELLAR', cosine_scores_bert, unique_movies)\n",
    "print(pd.DataFrame(recommended_movies, columns = ['Movie', 'Cosine_Scores_Bert']))"
   ]
  }
 ],
 "metadata": {
  "kernelspec": {
   "display_name": "Python 3",
   "language": "python",
   "name": "python3"
  },
  "language_info": {
   "codemirror_mode": {
    "name": "ipython",
    "version": 3
   },
   "file_extension": ".py",
   "mimetype": "text/x-python",
   "name": "python",
   "nbconvert_exporter": "python",
   "pygments_lexer": "ipython3",
   "version": "3.10.6"
  }
 },
 "nbformat": 4,
 "nbformat_minor": 2
}
