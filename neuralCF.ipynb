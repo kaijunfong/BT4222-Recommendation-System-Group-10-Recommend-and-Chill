{
  "cells": [
    {
      "cell_type": "markdown",
      "metadata": {
        "id": "RYNnw_tkj8o1"
      },
      "source": [
        "# Dataset & imports\n"
      ]
    },
    {
      "cell_type": "code",
      "execution_count": null,
      "metadata": {
        "colab": {
          "base_uri": "https://localhost:8080/"
        },
        "id": "3nGznH3DkFDB",
        "outputId": "1aaf14b5-ba10-4cef-d734-70c593e48d04"
      },
      "outputs": [
        {
          "output_type": "stream",
          "name": "stdout",
          "text": [
            "Drive already mounted at /content/drive; to attempt to forcibly remount, call drive.mount(\"/content/drive\", force_remount=True).\n"
          ]
        }
      ],
      "source": [
        "from google.colab import drive\n",
        "drive.mount('/content/drive')"
      ]
    },
    {
      "cell_type": "code",
      "execution_count": null,
      "metadata": {
        "id": "2ZNoJqr0j8o_"
      },
      "outputs": [],
      "source": [
        "import pandas as pd\n",
        "df = pd.read_csv(\"/content/drive/MyDrive/data_clean2.csv\")"
      ]
    },
    {
      "cell_type": "code",
      "execution_count": null,
      "metadata": {
        "id": "K2L1naUFj8pA"
      },
      "outputs": [],
      "source": [
        "import pandas as pd\n",
        "import numpy as np\n",
        "from sklearn import model_selection, metrics, preprocessing\n",
        "import torch\n",
        "import torch.nn as nn\n",
        "import matplotlib.pyplot as plt\n",
        "from torch.utils.data import Dataset, DataLoader\n",
        "from tqdm import tqdm\n",
        "from collections import defaultdict\n",
        "import ast"
      ]
    },
    {
      "cell_type": "code",
      "execution_count": null,
      "metadata": {
        "id": "9JxuKUrlj8pB"
      },
      "outputs": [],
      "source": [
        "# extract the necessary columns\n",
        "data = df[['Movie','Reviewer','Score','recommend','genres']].copy()"
      ]
    },
    {
      "cell_type": "markdown",
      "source": [
        "#### Making Genres to a Embedding layer to be passed into the model\n",
        "Since Genres is in a '['Drama', 'Comedy', 'Romance', 'Foreign']' format, we need to do some additional pre-processing on it"
      ],
      "metadata": {
        "id": "5sWpBkLwF2rM"
      }
    },
    {
      "cell_type": "code",
      "source": [
        "def changer(x):\n",
        "  return ast.literal_eval(x)\n",
        "\n",
        "changer(data['genres'][0])"
      ],
      "metadata": {
        "colab": {
          "base_uri": "https://localhost:8080/"
        },
        "id": "hjWdWa6TDmwO",
        "outputId": "814d9e88-b993-45b3-db63-bdeabeb8f356"
      },
      "execution_count": null,
      "outputs": [
        {
          "output_type": "execute_result",
          "data": {
            "text/plain": [
              "['Drama', 'Comedy', 'Romance', 'Foreign']"
            ]
          },
          "metadata": {},
          "execution_count": 74
        }
      ]
    },
    {
      "cell_type": "code",
      "source": [
        "data['genres'] = data['genres'].apply(lambda x: changer(x))"
      ],
      "metadata": {
        "id": "rumkYwizFDuT"
      },
      "execution_count": null,
      "outputs": []
    },
    {
      "cell_type": "code",
      "source": [
        "# now we find all unqiue genres & max number of genres a movie has (7) & 1048 combinations of genres\n",
        "unique_genres = []\n",
        "max_len = 0\n",
        "for d in data['genres']:\n",
        "  if len(d) > max_len:\n",
        "    max_len = len(d)\n",
        "\n",
        "  for indiv in d:\n",
        "    if indiv not in unique_genres:\n",
        "      unique_genres.append(indiv)\n",
        "\n",
        "print(len(unique_genres))\n",
        "print(unique_genres)\n",
        "print(max_len)"
      ],
      "metadata": {
        "colab": {
          "base_uri": "https://localhost:8080/"
        },
        "id": "f6PW6WddKlZy",
        "outputId": "f6811534-8904-4c52-83ac-0514fc949836"
      },
      "execution_count": null,
      "outputs": [
        {
          "output_type": "stream",
          "name": "stdout",
          "text": [
            "20\n",
            "['Drama', 'Comedy', 'Romance', 'Foreign', 'War', 'History', 'Mystery', 'Thriller', 'Horror', 'Action', 'Adventure', 'Crime', 'Documentary', 'Science Fiction', 'TV Movie', 'Music', 'Animation', 'Family', 'Western', 'Fantasy']\n",
            "7\n"
          ]
        }
      ]
    },
    {
      "cell_type": "code",
      "source": [
        "# Tokenization\n",
        "word_to_index = {word: i for i, word in enumerate(unique_genres)}\n",
        "index_to_word = {i: word for word, i in word_to_index.items()}\n",
        "\n",
        "# Padding (assuming a maximum sequence length)\n",
        "max_seq_length = 10\n",
        "\n",
        "# function to make a list of genres to a padded tensor\n",
        "def make_tensors(lister):\n",
        "  # Convert words to indices\n",
        "  indices = [word_to_index[word] for word in lister]\n",
        "    # Padding (assuming a maximum sequence length)\n",
        "  max_seq_length = 10\n",
        "  padded_indices = indices + [0] * (max_seq_length - len(indices))  # Pad with zeros\n",
        "\n",
        "  # Convert to PyTorch tensor\n",
        "  padded_tensor = torch.tensor(padded_indices, dtype=torch.long)\n",
        "  return padded_tensor"
      ],
      "metadata": {
        "id": "IgWN10xxKvSY"
      },
      "execution_count": null,
      "outputs": []
    },
    {
      "cell_type": "code",
      "source": [
        "make_tensors([\"Drama\", \"Comedy\", \"Romance\", \"Foreign\"])"
      ],
      "metadata": {
        "colab": {
          "base_uri": "https://localhost:8080/"
        },
        "id": "E9gbc01RRQri",
        "outputId": "37b19783-b7e6-49bc-f630-417f49328b67"
      },
      "execution_count": null,
      "outputs": [
        {
          "output_type": "execute_result",
          "data": {
            "text/plain": [
              "tensor([0, 1, 2, 3, 0, 0, 0, 0, 0, 0])"
            ]
          },
          "metadata": {},
          "execution_count": 78
        }
      ]
    },
    {
      "cell_type": "code",
      "source": [
        "# add the padded_tensor to data\n",
        "data['padded_genres'] = data['genres']\n",
        "data['padded_genre'] = data['genres'].apply(lambda x:make_tensors(x))"
      ],
      "metadata": {
        "id": "kGdQLcjuMwn_"
      },
      "execution_count": null,
      "outputs": []
    },
    {
      "cell_type": "code",
      "source": [
        "data.head(1)"
      ],
      "metadata": {
        "colab": {
          "base_uri": "https://localhost:8080/"
        },
        "id": "NRTPgPO0M_GF",
        "outputId": "1a4f6acf-3246-4f96-aad6-a063f057e1b4"
      },
      "execution_count": null,
      "outputs": [
        {
          "output_type": "execute_result",
          "data": {
            "text/plain": [
              "       Movie         Reviewer     Score  recommend  \\\n",
              "0  SENSATION  Dennis Schwartz  0.686869          0   \n",
              "\n",
              "                              genres                      padded_genres  \\\n",
              "0  [Drama, Comedy, Romance, Foreign]  [Drama, Comedy, Romance, Foreign]   \n",
              "\n",
              "                                        padded_genre  \n",
              "0  [tensor(0), tensor(1), tensor(2), tensor(3), t...  "
            ],
            "text/html": [
              "\n",
              "  <div id=\"df-2459633f-21fc-4f02-89c5-1d0ed282b74b\" class=\"colab-df-container\">\n",
              "    <div>\n",
              "<style scoped>\n",
              "    .dataframe tbody tr th:only-of-type {\n",
              "        vertical-align: middle;\n",
              "    }\n",
              "\n",
              "    .dataframe tbody tr th {\n",
              "        vertical-align: top;\n",
              "    }\n",
              "\n",
              "    .dataframe thead th {\n",
              "        text-align: right;\n",
              "    }\n",
              "</style>\n",
              "<table border=\"1\" class=\"dataframe\">\n",
              "  <thead>\n",
              "    <tr style=\"text-align: right;\">\n",
              "      <th></th>\n",
              "      <th>Movie</th>\n",
              "      <th>Reviewer</th>\n",
              "      <th>Score</th>\n",
              "      <th>recommend</th>\n",
              "      <th>genres</th>\n",
              "      <th>padded_genres</th>\n",
              "      <th>padded_genre</th>\n",
              "    </tr>\n",
              "  </thead>\n",
              "  <tbody>\n",
              "    <tr>\n",
              "      <th>0</th>\n",
              "      <td>SENSATION</td>\n",
              "      <td>Dennis Schwartz</td>\n",
              "      <td>0.686869</td>\n",
              "      <td>0</td>\n",
              "      <td>[Drama, Comedy, Romance, Foreign]</td>\n",
              "      <td>[Drama, Comedy, Romance, Foreign]</td>\n",
              "      <td>[tensor(0), tensor(1), tensor(2), tensor(3), t...</td>\n",
              "    </tr>\n",
              "  </tbody>\n",
              "</table>\n",
              "</div>\n",
              "    <div class=\"colab-df-buttons\">\n",
              "\n",
              "  <div class=\"colab-df-container\">\n",
              "    <button class=\"colab-df-convert\" onclick=\"convertToInteractive('df-2459633f-21fc-4f02-89c5-1d0ed282b74b')\"\n",
              "            title=\"Convert this dataframe to an interactive table.\"\n",
              "            style=\"display:none;\">\n",
              "\n",
              "  <svg xmlns=\"http://www.w3.org/2000/svg\" height=\"24px\" viewBox=\"0 -960 960 960\">\n",
              "    <path d=\"M120-120v-720h720v720H120Zm60-500h600v-160H180v160Zm220 220h160v-160H400v160Zm0 220h160v-160H400v160ZM180-400h160v-160H180v160Zm440 0h160v-160H620v160ZM180-180h160v-160H180v160Zm440 0h160v-160H620v160Z\"/>\n",
              "  </svg>\n",
              "    </button>\n",
              "\n",
              "  <style>\n",
              "    .colab-df-container {\n",
              "      display:flex;\n",
              "      gap: 12px;\n",
              "    }\n",
              "\n",
              "    .colab-df-convert {\n",
              "      background-color: #E8F0FE;\n",
              "      border: none;\n",
              "      border-radius: 50%;\n",
              "      cursor: pointer;\n",
              "      display: none;\n",
              "      fill: #1967D2;\n",
              "      height: 32px;\n",
              "      padding: 0 0 0 0;\n",
              "      width: 32px;\n",
              "    }\n",
              "\n",
              "    .colab-df-convert:hover {\n",
              "      background-color: #E2EBFA;\n",
              "      box-shadow: 0px 1px 2px rgba(60, 64, 67, 0.3), 0px 1px 3px 1px rgba(60, 64, 67, 0.15);\n",
              "      fill: #174EA6;\n",
              "    }\n",
              "\n",
              "    .colab-df-buttons div {\n",
              "      margin-bottom: 4px;\n",
              "    }\n",
              "\n",
              "    [theme=dark] .colab-df-convert {\n",
              "      background-color: #3B4455;\n",
              "      fill: #D2E3FC;\n",
              "    }\n",
              "\n",
              "    [theme=dark] .colab-df-convert:hover {\n",
              "      background-color: #434B5C;\n",
              "      box-shadow: 0px 1px 3px 1px rgba(0, 0, 0, 0.15);\n",
              "      filter: drop-shadow(0px 1px 2px rgba(0, 0, 0, 0.3));\n",
              "      fill: #FFFFFF;\n",
              "    }\n",
              "  </style>\n",
              "\n",
              "    <script>\n",
              "      const buttonEl =\n",
              "        document.querySelector('#df-2459633f-21fc-4f02-89c5-1d0ed282b74b button.colab-df-convert');\n",
              "      buttonEl.style.display =\n",
              "        google.colab.kernel.accessAllowed ? 'block' : 'none';\n",
              "\n",
              "      async function convertToInteractive(key) {\n",
              "        const element = document.querySelector('#df-2459633f-21fc-4f02-89c5-1d0ed282b74b');\n",
              "        const dataTable =\n",
              "          await google.colab.kernel.invokeFunction('convertToInteractive',\n",
              "                                                    [key], {});\n",
              "        if (!dataTable) return;\n",
              "\n",
              "        const docLinkHtml = 'Like what you see? Visit the ' +\n",
              "          '<a target=\"_blank\" href=https://colab.research.google.com/notebooks/data_table.ipynb>data table notebook</a>'\n",
              "          + ' to learn more about interactive tables.';\n",
              "        element.innerHTML = '';\n",
              "        dataTable['output_type'] = 'display_data';\n",
              "        await google.colab.output.renderOutput(dataTable, element);\n",
              "        const docLink = document.createElement('div');\n",
              "        docLink.innerHTML = docLinkHtml;\n",
              "        element.appendChild(docLink);\n",
              "      }\n",
              "    </script>\n",
              "  </div>\n",
              "\n",
              "\n",
              "    </div>\n",
              "  </div>\n"
            ],
            "application/vnd.google.colaboratory.intrinsic+json": {
              "type": "dataframe",
              "variable_name": "data"
            }
          },
          "metadata": {},
          "execution_count": 80
        }
      ]
    },
    {
      "cell_type": "markdown",
      "source": [
        "Now Lets add these tensors to our main dataset"
      ],
      "metadata": {
        "id": "fd-UvUOsN0Qt"
      }
    },
    {
      "cell_type": "markdown",
      "metadata": {
        "id": "9AFGKCZwj8pB"
      },
      "source": [
        "# Data pre-processing for NCF"
      ]
    },
    {
      "cell_type": "markdown",
      "metadata": {
        "id": "Siiu46_oj8pC"
      },
      "source": [
        "Preprocess the Reviewers and movies into integers (so each movie & Reviewer is given a unique label) from 0 to unique_length so that we can pass it into the embeddings"
      ]
    },
    {
      "cell_type": "code",
      "execution_count": null,
      "metadata": {
        "colab": {
          "base_uri": "https://localhost:8080/"
        },
        "id": "VdrdVo0zj8pB",
        "outputId": "7a20d42f-3959-484f-b718-079371eaf6fc"
      },
      "outputs": [
        {
          "output_type": "stream",
          "name": "stdout",
          "text": [
            "We have 5216 unique movies & 4804 unique users \n"
          ]
        }
      ],
      "source": [
        "n_movies = data.Movie.nunique()\n",
        "n_users = data.Reviewer.nunique()\n",
        "print(f\"We have {n_movies} unique movies & {n_users} unique users \")"
      ]
    },
    {
      "cell_type": "markdown",
      "metadata": {
        "id": "hWngvhvij8pC"
      },
      "source": [
        "Create an extra class to hold on to users, movies & ratings. We use a test size of 15% and random state of 42 standardised for all models"
      ]
    },
    {
      "cell_type": "code",
      "execution_count": null,
      "metadata": {
        "id": "nSSfz_NUj8pC"
      },
      "outputs": [],
      "source": [
        "lbl_user = preprocessing.LabelEncoder()\n",
        "lbl_movie = preprocessing.LabelEncoder()\n",
        "data.Reviewer = lbl_user.fit_transform(data.Reviewer.values)\n",
        "data.Movie = lbl_movie.fit_transform(data.Movie.values)"
      ]
    },
    {
      "cell_type": "code",
      "execution_count": null,
      "metadata": {
        "id": "awYOOVBoj8pD"
      },
      "outputs": [],
      "source": [
        "class MovieDataset:\n",
        "    def __init__(self, users, movies, ratings, genres):\n",
        "        self.users = users\n",
        "        self.movies = movies\n",
        "        self.ratings = ratings\n",
        "        self.genres = genres\n",
        "    # len(movie_dataset)\n",
        "    def __len__(self):\n",
        "        return len(self.users)\n",
        "    # movie_dataset[1]\n",
        "    def __getitem__(self, item):\n",
        "\n",
        "        users = self.users[item]\n",
        "        movies = self.movies[item]\n",
        "        ratings = self.ratings[item]\n",
        "        genres = self.genres[item]\n",
        "\n",
        "        # If genres is already a tensor, return it as is\n",
        "        if isinstance(genres, torch.Tensor):\n",
        "            genres_tensor = genres\n",
        "        else:\n",
        "            genres_tensor = torch.tensor(genres, dtype=torch.long)\n",
        "\n",
        "        return {\n",
        "            \"users\": torch.tensor(users, dtype=torch.long),\n",
        "            \"movies\": torch.tensor(movies, dtype=torch.long),\n",
        "            \"ratings\": torch.tensor(ratings, dtype=torch.float),\n",
        "            \"genres\": genres_tensor\n",
        "        }"
      ]
    },
    {
      "cell_type": "code",
      "execution_count": null,
      "metadata": {
        "id": "1AOMcpAfj8pD"
      },
      "outputs": [],
      "source": [
        "df_train, df_valid = model_selection.train_test_split(\n",
        "    data, test_size=0.15, random_state=42, shuffle=True\n",
        ")\n",
        "\n",
        "train_dataset = MovieDataset(\n",
        "    users=df_train.Reviewer.values,\n",
        "    movies=df_train.Movie.values,\n",
        "    ratings=df_train.Score.values,\n",
        "    genres=df_train.padded_genre.values\n",
        ")\n",
        "\n",
        "valid_dataset = MovieDataset(\n",
        "    users=df_valid.Reviewer.values,\n",
        "    movies=df_valid.Movie.values,\n",
        "    ratings=df_valid.Score.values,\n",
        "    genres=df_valid.padded_genre.values\n",
        ")"
      ]
    },
    {
      "cell_type": "code",
      "execution_count": null,
      "metadata": {
        "colab": {
          "base_uri": "https://localhost:8080/"
        },
        "id": "i5sPfmsyj8pD",
        "outputId": "8d212125-7dc8-412b-bd6e-5b55c91b7a23"
      },
      "outputs": [
        {
          "output_type": "stream",
          "name": "stdout",
          "text": [
            "CUDA is not available. DataLoader remains on CPU.\n"
          ]
        }
      ],
      "source": [
        "device = torch.device('cuda' if torch.cuda.is_available() else 'cpu')\n",
        "\n",
        "if torch.cuda.is_available():\n",
        "    train_loader = DataLoader(dataset=train_dataset,\n",
        "                          batch_size=32,\n",
        "                          shuffle=True,\n",
        "                          num_workers=2,\n",
        "                          pin_memory=True)\n",
        "\n",
        "    validation_loader = DataLoader(dataset=valid_dataset,\n",
        "                          batch_size=32,\n",
        "                          shuffle=False,\n",
        "                          num_workers=2,\n",
        "                          pin_memory=True)\n",
        "\n",
        "    print(\"DataLoader is now using GPU.\")\n",
        "else:\n",
        "    train_loader = DataLoader(dataset=train_dataset,\n",
        "                          batch_size=32,\n",
        "                          shuffle=True,\n",
        "                          num_workers=2)\n",
        "\n",
        "    validation_loader = DataLoader(dataset=valid_dataset,\n",
        "                          batch_size=32,\n",
        "                          shuffle=False,\n",
        "                          num_workers=2)\n",
        "    print(\"CUDA is not available. DataLoader remains on CPU.\")\n"
      ]
    },
    {
      "cell_type": "markdown",
      "metadata": {
        "id": "ht5SPgWRKH6V"
      },
      "source": [
        "# NCF"
      ]
    },
    {
      "cell_type": "markdown",
      "metadata": {
        "id": "JPNXcKMC_wt4"
      },
      "source": [
        "We use neural networks to model the intricate relationship & collaborative effect between user & ratings which cannot be captured effectively by matrix factorisation as the interaction is only matrix mulitplication. Hence, we explore the use of neural networks where we use hidden layers to better understand & model this relationship.\n",
        "\n",
        "It takes in user & movie embeddings (OHV of users & movies represented in a smaller dimension to serve as a lookup table) and learns how to update the embeddings based on the loss\n"
      ]
    },
    {
      "cell_type": "code",
      "execution_count": null,
      "metadata": {
        "id": "GCCXuiuNj8pC"
      },
      "outputs": [],
      "source": [
        "class RecommendationSystemModel(nn.Module):\n",
        "    def __init__(\n",
        "        self,\n",
        "        num_users,\n",
        "        num_movies,\n",
        "        embedding_size=256,\n",
        "        # embedding is slightly larger as our num of movies is 5k - have more data but may overfit\n",
        "        hidden_dim=64,\n",
        "        dropout_rate=0.2,\n",
        "    ):\n",
        "        super(RecommendationSystemModel, self).__init__()\n",
        "        self.num_users = num_users\n",
        "        self.num_movies = num_movies\n",
        "        self.embedding_size = embedding_size\n",
        "        self.hidden_dim = hidden_dim\n",
        "\n",
        "        # Embedding layers - transforms categorical data like userID & movieID from OHV into a continuous denser space\n",
        "        # we pass in total number of users & the embedding dimension that we want\n",
        "        self.user_embedding = nn.Embedding(\n",
        "            num_embeddings=self.num_users, embedding_dim=self.embedding_size\n",
        "        )\n",
        "        self.movie_embedding = nn.Embedding(\n",
        "            num_embeddings=self.num_movies, embedding_dim=self.embedding_size\n",
        "        )\n",
        "\n",
        "        # Hidden layers\n",
        "        # cos you add both movie & user embeddings before passing through the first layer - capture info b/w the 2\n",
        "        self.fc1 = nn.Linear(2 * self.embedding_size, self.hidden_dim)\n",
        "\n",
        "        # final output is simply the predicted rating\n",
        "        self.fc2 = nn.Linear(self.hidden_dim, 1)\n",
        "\n",
        "        # Dropout layer\n",
        "        self.dropout = nn.Dropout(p=dropout_rate)\n",
        "\n",
        "        # Activation function -> minimise vanishing / exploding gradient problem & dont need to compute so much comapred to softmax\n",
        "        self.relu = nn.ReLU()\n",
        "\n",
        "    def forward(self, users, movies):\n",
        "        # Embeddings\n",
        "        user_embedded = self.user_embedding(users)\n",
        "        movie_embedded = self.movie_embedding(movies)\n",
        "\n",
        "        # Concatenate user and movie embeddings side by side\n",
        "        combined = torch.cat([user_embedded, movie_embedded], dim=1)\n",
        "\n",
        "        # Pass through hidden layers with ReLU activation and dropout\n",
        "        # model tries to learn ratings based on the combined user-movie representation\n",
        "        x = self.relu(self.fc1(combined))\n",
        "        x = self.dropout(x)\n",
        "        output = self.fc2(x)\n",
        "\n",
        "        return output"
      ]
    },
    {
      "cell_type": "markdown",
      "metadata": {
        "id": "PfpjccGoqOt2"
      },
      "source": [
        "Train the model, MSE Loss is used along with Adam Optimiser"
      ]
    },
    {
      "cell_type": "code",
      "execution_count": null,
      "metadata": {
        "colab": {
          "base_uri": "https://localhost:8080/",
          "height": 981
        },
        "id": "ajP5zYFXlNIw",
        "outputId": "610ac8b4-b814-46d2-9851-17144b5449ad"
      },
      "outputs": [
        {
          "output_type": "stream",
          "name": "stdout",
          "text": [
            "Training on 239590 samples...\n"
          ]
        },
        {
          "output_type": "stream",
          "name": "stderr",
          "text": [
            "Training:  73%|███████▎  | 5441/7488 [03:23<01:15, 27.26it/s]Exception ignored in: <function _MultiProcessingDataLoaderIter.__del__ at 0x7f08828d9ab0>\n",
            "Traceback (most recent call last):\n",
            "  File \"/usr/local/lib/python3.10/dist-packages/torch/utils/data/dataloader.py\", line 1479, in __del__\n",
            "    self._shutdown_workers()\n",
            "  File \"/usr/local/lib/python3.10/dist-packages/torch/utils/data/dataloader.py\", line 1462, in _shutdown_workers\n",
            "Training:  73%|███████▎  | 5444/7488 [03:24<06:06,  5.58it/s]\n",
            "  File \"/usr/lib/python3.10/multiprocessing/process.py\", line 160, in is_alive\n",
            "    assert self._parent_pid == os.getpid(), 'can only test a child process'\n",
            "AssertionError: can only test a child process\n",
            "Exception ignored in: <function _MultiProcessingDataLoaderIter.__del__ at 0x7f08828d9ab0>\n",
            "Traceback (most recent call last):\n",
            "  File \"/usr/local/lib/python3.10/dist-packages/torch/utils/data/dataloader.py\", line 1479, in __del__\n",
            "    self._shutdown_workers()\n",
            "  File \"/usr/local/lib/python3.10/dist-packages/torch/utils/data/dataloader.py\", line 1462, in _shutdown_workers\n",
            "    if w.is_alive():\n",
            "  File \"/usr/lib/python3.10/multiprocessing/process.py\", line 160, in is_alive\n",
            "    assert self._parent_pid == os.getpid(), 'can only test a child process'\n",
            "AssertionError: can only test a child process\n",
            "Training:  75%|███████▌  | 5626/7488 [03:32<01:08, 27.23it/s]Exception ignored in: <function _MultiProcessingDataLoaderIter.__del__ at 0x7f08828d9ab0>\n",
            "Traceback (most recent call last):\n",
            "  File \"/usr/local/lib/python3.10/dist-packages/torch/utils/data/dataloader.py\", line 1479, in __del__\n",
            "    self._shutdown_workers()\n",
            "  File \"/usr/local/lib/python3.10/dist-packages/torch/utils/data/dataloader.py\", line 1462, in _shutdown_workers\n",
            "    if w.is_alive():\n",
            "  File \"/usr/lib/python3.10/multiprocessing/process.py\", line 160, in is_alive\n",
            "Training:  75%|███████▌  | 5629/7488 [03:33<04:32,  6.81it/s]\n",
            "AssertionError: can only test a child process\n",
            "Exception ignored in: <function _MultiProcessingDataLoaderIter.__del__ at 0x7f08828d9ab0>\n",
            "Traceback (most recent call last):\n",
            "  File \"/usr/local/lib/python3.10/dist-packages/torch/utils/data/dataloader.py\", line 1479, in __del__\n",
            "    self._shutdown_workers()\n",
            "  File \"/usr/local/lib/python3.10/dist-packages/torch/utils/data/dataloader.py\", line 1462, in _shutdown_workers\n",
            "    if w.is_alive():\n",
            "  File \"/usr/lib/python3.10/multiprocessing/process.py\", line 160, in is_alive\n",
            "    assert self._parent_pid == os.getpid(), 'can only test a child process'\n",
            "AssertionError: can only test a child process\n"
          ]
        },
        {
          "output_type": "error",
          "ename": "KeyboardInterrupt",
          "evalue": "",
          "traceback": [
            "\u001b[0;31m---------------------------------------------------------------------------\u001b[0m",
            "\u001b[0;31mKeyboardInterrupt\u001b[0m                         Traceback (most recent call last)",
            "\u001b[0;32m<ipython-input-69-2fd7e7afd73b>\u001b[0m in \u001b[0;36m<cell line: 20>\u001b[0;34m()\u001b[0m\n\u001b[1;32m     38\u001b[0m           \u001b[0moptimizer\u001b[0m\u001b[0;34m.\u001b[0m\u001b[0mzero_grad\u001b[0m\u001b[0;34m(\u001b[0m\u001b[0;34m)\u001b[0m\u001b[0;34m\u001b[0m\u001b[0;34m\u001b[0m\u001b[0m\n\u001b[1;32m     39\u001b[0m           \u001b[0mloss\u001b[0m\u001b[0;34m.\u001b[0m\u001b[0mbackward\u001b[0m\u001b[0;34m(\u001b[0m\u001b[0;34m)\u001b[0m\u001b[0;34m\u001b[0m\u001b[0;34m\u001b[0m\u001b[0m\n\u001b[0;32m---> 40\u001b[0;31m           \u001b[0moptimizer\u001b[0m\u001b[0;34m.\u001b[0m\u001b[0mstep\u001b[0m\u001b[0;34m(\u001b[0m\u001b[0;34m)\u001b[0m\u001b[0;34m\u001b[0m\u001b[0;34m\u001b[0m\u001b[0m\n\u001b[0m",
            "\u001b[0;32m/usr/local/lib/python3.10/dist-packages/torch/optim/optimizer.py\u001b[0m in \u001b[0;36mwrapper\u001b[0;34m(*args, **kwargs)\u001b[0m\n\u001b[1;32m    383\u001b[0m                             )\n\u001b[1;32m    384\u001b[0m \u001b[0;34m\u001b[0m\u001b[0m\n\u001b[0;32m--> 385\u001b[0;31m                 \u001b[0mout\u001b[0m \u001b[0;34m=\u001b[0m \u001b[0mfunc\u001b[0m\u001b[0;34m(\u001b[0m\u001b[0;34m*\u001b[0m\u001b[0margs\u001b[0m\u001b[0;34m,\u001b[0m \u001b[0;34m**\u001b[0m\u001b[0mkwargs\u001b[0m\u001b[0;34m)\u001b[0m\u001b[0;34m\u001b[0m\u001b[0;34m\u001b[0m\u001b[0m\n\u001b[0m\u001b[1;32m    386\u001b[0m                 \u001b[0mself\u001b[0m\u001b[0;34m.\u001b[0m\u001b[0m_optimizer_step_code\u001b[0m\u001b[0;34m(\u001b[0m\u001b[0;34m)\u001b[0m\u001b[0;34m\u001b[0m\u001b[0;34m\u001b[0m\u001b[0m\n\u001b[1;32m    387\u001b[0m \u001b[0;34m\u001b[0m\u001b[0m\n",
            "\u001b[0;32m/usr/local/lib/python3.10/dist-packages/torch/optim/optimizer.py\u001b[0m in \u001b[0;36m_use_grad\u001b[0;34m(self, *args, **kwargs)\u001b[0m\n\u001b[1;32m     74\u001b[0m             \u001b[0mtorch\u001b[0m\u001b[0;34m.\u001b[0m\u001b[0mset_grad_enabled\u001b[0m\u001b[0;34m(\u001b[0m\u001b[0mself\u001b[0m\u001b[0;34m.\u001b[0m\u001b[0mdefaults\u001b[0m\u001b[0;34m[\u001b[0m\u001b[0;34m'differentiable'\u001b[0m\u001b[0;34m]\u001b[0m\u001b[0;34m)\u001b[0m\u001b[0;34m\u001b[0m\u001b[0;34m\u001b[0m\u001b[0m\n\u001b[1;32m     75\u001b[0m             \u001b[0mtorch\u001b[0m\u001b[0;34m.\u001b[0m\u001b[0m_dynamo\u001b[0m\u001b[0;34m.\u001b[0m\u001b[0mgraph_break\u001b[0m\u001b[0;34m(\u001b[0m\u001b[0;34m)\u001b[0m\u001b[0;34m\u001b[0m\u001b[0;34m\u001b[0m\u001b[0m\n\u001b[0;32m---> 76\u001b[0;31m             \u001b[0mret\u001b[0m \u001b[0;34m=\u001b[0m \u001b[0mfunc\u001b[0m\u001b[0;34m(\u001b[0m\u001b[0mself\u001b[0m\u001b[0;34m,\u001b[0m \u001b[0;34m*\u001b[0m\u001b[0margs\u001b[0m\u001b[0;34m,\u001b[0m \u001b[0;34m**\u001b[0m\u001b[0mkwargs\u001b[0m\u001b[0;34m)\u001b[0m\u001b[0;34m\u001b[0m\u001b[0;34m\u001b[0m\u001b[0m\n\u001b[0m\u001b[1;32m     77\u001b[0m         \u001b[0;32mfinally\u001b[0m\u001b[0;34m:\u001b[0m\u001b[0;34m\u001b[0m\u001b[0;34m\u001b[0m\u001b[0m\n\u001b[1;32m     78\u001b[0m             \u001b[0mtorch\u001b[0m\u001b[0;34m.\u001b[0m\u001b[0m_dynamo\u001b[0m\u001b[0;34m.\u001b[0m\u001b[0mgraph_break\u001b[0m\u001b[0;34m(\u001b[0m\u001b[0;34m)\u001b[0m\u001b[0;34m\u001b[0m\u001b[0;34m\u001b[0m\u001b[0m\n",
            "\u001b[0;32m/usr/local/lib/python3.10/dist-packages/torch/optim/adam.py\u001b[0m in \u001b[0;36mstep\u001b[0;34m(self, closure)\u001b[0m\n\u001b[1;32m    164\u001b[0m                 state_steps)\n\u001b[1;32m    165\u001b[0m \u001b[0;34m\u001b[0m\u001b[0m\n\u001b[0;32m--> 166\u001b[0;31m             adam(\n\u001b[0m\u001b[1;32m    167\u001b[0m                 \u001b[0mparams_with_grad\u001b[0m\u001b[0;34m,\u001b[0m\u001b[0;34m\u001b[0m\u001b[0;34m\u001b[0m\u001b[0m\n\u001b[1;32m    168\u001b[0m                 \u001b[0mgrads\u001b[0m\u001b[0;34m,\u001b[0m\u001b[0;34m\u001b[0m\u001b[0;34m\u001b[0m\u001b[0m\n",
            "\u001b[0;32m/usr/local/lib/python3.10/dist-packages/torch/optim/adam.py\u001b[0m in \u001b[0;36madam\u001b[0;34m(params, grads, exp_avgs, exp_avg_sqs, max_exp_avg_sqs, state_steps, foreach, capturable, differentiable, fused, grad_scale, found_inf, has_complex, amsgrad, beta1, beta2, lr, weight_decay, eps, maximize)\u001b[0m\n\u001b[1;32m    314\u001b[0m         \u001b[0mfunc\u001b[0m \u001b[0;34m=\u001b[0m \u001b[0m_single_tensor_adam\u001b[0m\u001b[0;34m\u001b[0m\u001b[0;34m\u001b[0m\u001b[0m\n\u001b[1;32m    315\u001b[0m \u001b[0;34m\u001b[0m\u001b[0m\n\u001b[0;32m--> 316\u001b[0;31m     func(params,\n\u001b[0m\u001b[1;32m    317\u001b[0m          \u001b[0mgrads\u001b[0m\u001b[0;34m,\u001b[0m\u001b[0;34m\u001b[0m\u001b[0;34m\u001b[0m\u001b[0m\n\u001b[1;32m    318\u001b[0m          \u001b[0mexp_avgs\u001b[0m\u001b[0;34m,\u001b[0m\u001b[0;34m\u001b[0m\u001b[0;34m\u001b[0m\u001b[0m\n",
            "\u001b[0;32m/usr/local/lib/python3.10/dist-packages/torch/optim/adam.py\u001b[0m in \u001b[0;36m_single_tensor_adam\u001b[0;34m(params, grads, exp_avgs, exp_avg_sqs, max_exp_avg_sqs, state_steps, grad_scale, found_inf, amsgrad, has_complex, beta1, beta2, lr, weight_decay, eps, maximize, capturable, differentiable)\u001b[0m\n\u001b[1;32m    439\u001b[0m                 \u001b[0mdenom\u001b[0m \u001b[0;34m=\u001b[0m \u001b[0;34m(\u001b[0m\u001b[0mexp_avg_sq\u001b[0m\u001b[0;34m.\u001b[0m\u001b[0msqrt\u001b[0m\u001b[0;34m(\u001b[0m\u001b[0;34m)\u001b[0m \u001b[0;34m/\u001b[0m \u001b[0mbias_correction2_sqrt\u001b[0m\u001b[0;34m)\u001b[0m\u001b[0;34m.\u001b[0m\u001b[0madd_\u001b[0m\u001b[0;34m(\u001b[0m\u001b[0meps\u001b[0m\u001b[0;34m)\u001b[0m\u001b[0;34m\u001b[0m\u001b[0;34m\u001b[0m\u001b[0m\n\u001b[1;32m    440\u001b[0m \u001b[0;34m\u001b[0m\u001b[0m\n\u001b[0;32m--> 441\u001b[0;31m             \u001b[0mparam\u001b[0m\u001b[0;34m.\u001b[0m\u001b[0maddcdiv_\u001b[0m\u001b[0;34m(\u001b[0m\u001b[0mexp_avg\u001b[0m\u001b[0;34m,\u001b[0m \u001b[0mdenom\u001b[0m\u001b[0;34m,\u001b[0m \u001b[0mvalue\u001b[0m\u001b[0;34m=\u001b[0m\u001b[0;34m-\u001b[0m\u001b[0mstep_size\u001b[0m\u001b[0;34m)\u001b[0m\u001b[0;34m\u001b[0m\u001b[0;34m\u001b[0m\u001b[0m\n\u001b[0m\u001b[1;32m    442\u001b[0m \u001b[0;34m\u001b[0m\u001b[0m\n\u001b[1;32m    443\u001b[0m         \u001b[0;31m# Lastly, switch back to complex view\u001b[0m\u001b[0;34m\u001b[0m\u001b[0;34m\u001b[0m\u001b[0m\n",
            "\u001b[0;31mKeyboardInterrupt\u001b[0m: "
          ]
        }
      ],
      "source": [
        "recommendation_model = RecommendationSystemModel(\n",
        "    num_users=len(lbl_user.classes_),\n",
        "    num_movies=len(lbl_movie.classes_)\n",
        ").to(device)\n",
        "\n",
        "# set up optimisers & loss function\n",
        "optimizer = torch.optim.Adam(recommendation_model.parameters(), lr=1e-3) # fast convergence & decent performance\n",
        "loss_func = nn.MSELoss()\n",
        "\n",
        "EPOCHS = 2\n",
        "\n",
        "total_loss = 0\n",
        "log_progress_step = 100\n",
        "losses = []\n",
        "train_dataset_size = len(train_dataset)\n",
        "print(f\"Training on {train_dataset_size} samples...\")\n",
        "\n",
        "# set to training mode\n",
        "recommendation_model.train()\n",
        "for e in range(EPOCHS):\n",
        "    step_count = 0  # Reset step count at the beginning of each epoch\n",
        "\n",
        "    for train_data in tqdm(train_loader, desc=\"Training\", leave=False):\n",
        "          # run forward pass\n",
        "          output = recommendation_model(\n",
        "              train_data[\"users\"].to(device), train_data[\"movies\"].to(device)\n",
        "          )\n",
        "\n",
        "          # Reshape the model output to match the target's shape\n",
        "          # Removes the singleton dimension torch.size is [32,1] -> [32], why not 64?????\n",
        "          output = output.squeeze()\n",
        "\n",
        "          ratings = (train_data[\"ratings\"].to(torch.float32).to(device))\n",
        "\n",
        "          loss = loss_func(output, ratings)\n",
        "          total_loss += loss.sum().item()\n",
        "\n",
        "          optimizer.zero_grad()\n",
        "          loss.backward()\n",
        "          optimizer.step()\n"
      ]
    },
    {
      "cell_type": "markdown",
      "metadata": {
        "id": "hq87XDy_9X0Y"
      },
      "source": [
        "**Model Evaluation: **\n",
        "\n",
        "We create a dictionary of <user>: [(predicted rating, true rating)]. Then, we also keep track of total predicted & true ratings.\n",
        "\n",
        "We will only recommend the movie if it has a rating of more than 0.79 (identified from EDA as the 75% percentile of ratings given)"
      ]
    },
    {
      "cell_type": "code",
      "execution_count": null,
      "metadata": {
        "id": "NsoPv3_J9BUK"
      },
      "outputs": [],
      "source": [
        "# create dictionaries with default values (in this case it will be a list) for keys that haven't been set yet\n",
        "# so that when we call for it we do not get an error\n",
        "user_ratings_comparison = defaultdict(list)\n",
        "\n",
        "y_test = []\n",
        "y_pred = []\n",
        "\n",
        "threshold = 0.79\n",
        "def RecommendIf(val, threshold):\n",
        "  if val > threshold:\n",
        "    return 1\n",
        "  else:\n",
        "    return 0\n",
        "\n",
        "with torch.no_grad():\n",
        "    for valid_data in validation_loader:\n",
        "        users = valid_data[\"users\"].to(device)\n",
        "        movies = valid_data[\"movies\"].to(device)\n",
        "        ratings = valid_data[\"ratings\"].to(device)\n",
        "        output = recommendation_model(users, movies)\n",
        "\n",
        "        # key is user -> value is list of (predicted rating, true rating)\n",
        "        for user, pred, true in zip(users, output, ratings):\n",
        "            user_ratings_comparison[user.item()].append([pred[0].item(), true.item()])\n",
        "            y_test.append(RecommendIf(true, threshold))\n",
        "            y_pred.append(pred)"
      ]
    },
    {
      "cell_type": "markdown",
      "metadata": {
        "id": "ksWO-gEP9yJq"
      },
      "source": [
        "Function to calculate precision, recall & accuracy given a list of tuple of user ratings(predicted rating, true rating), top k value and the threshold. Note this will give the top k values ONLY for that USER.\n",
        "\n",
        "Hence, later we will report the average metrics for all users"
      ]
    },
    {
      "cell_type": "code",
      "execution_count": null,
      "metadata": {
        "id": "PF6DzJeE9yaI"
      },
      "outputs": [],
      "source": [
        "from collections import defaultdict\n",
        "\n",
        "def calculate_precision_recall_accuracy(user_ratings, k, threshold):\n",
        "    # sorts a list of user_ratings in descending order based on the first element of each tuple in the list\n",
        "    # -> get top K recommended by users given rating\n",
        "    # in this case the first element is the predicted rating\n",
        "    user_ratings.sort(key=lambda x: x[0], reverse=True)\n",
        "\n",
        "    # the number of actual relevant item\n",
        "    n_rel = sum(true_r >= threshold for _, true_r in user_ratings)\n",
        "    # the number of predicted relevant item\n",
        "    n_est = sum(est >= threshold for est, _ in user_ratings)\n",
        "\n",
        "    # the number of recommended item that are predicted relevent and within topk\n",
        "    n_rec_k = sum(est >= threshold for est, _ in user_ratings[:k])\n",
        "    # the number of actual relevant item and within topk\n",
        "    n_rel_k = sum(true_r >= threshold for _, true_r in user_ratings[:k])\n",
        "    # the number of recommented item that' is also actually relevant & predicted to be relevant in within topk\n",
        "    n_rel_and_rec_k = sum((true_r >= threshold) and (est >= threshold) for est, true_r in user_ratings[:k])\n",
        "\n",
        "    # number of items that are in topk but not recommended and predicted to be not recommended for top k\n",
        "    n_acc = sum( ((est <= threshold) & (act <= threshold)) for est, act in user_ratings[:k])\n",
        "\n",
        "    precision = n_rel_and_rec_k / n_rec_k if n_rec_k != 0 else 1\n",
        "    recall = n_rel_and_rec_k / n_rel_k if n_rel_k != 0 else 1\n",
        "    accuracy = (n_acc + n_rel_and_rec_k) / len(user_ratings)\n",
        "    return precision, recall, accuracy"
      ]
    },
    {
      "cell_type": "code",
      "execution_count": null,
      "metadata": {
        "id": "3AQtaRpZnDdS"
      },
      "outputs": [],
      "source": [
        "user_precisions = dict()\n",
        "user_based_recalls = dict()\n",
        "user_based_accuracy = dict()\n",
        "\n",
        "k = 10\n",
        "\n",
        "for user_id, user_ratings in user_ratings_comparison.items():\n",
        "    # get precision & recall metrics for each user\n",
        "    precision, recall,accuracy = calculate_precision_recall_accuracy(user_ratings, k, threshold)\n",
        "    user_precisions[user_id] = precision\n",
        "    user_based_recalls[user_id] = recall\n",
        "    user_based_accuracy[user_id] = accuracy\n",
        "\n",
        "# get average precision & recall for all users\n",
        "average_precision = sum(prec for prec in user_precisions.values()) / len(user_precisions)\n",
        "average_recall = sum(rec for rec in user_based_recalls.values()) / len(user_based_recalls)\n",
        "average_accuracy = sum(rec for rec in user_based_accuracy.values()) / len(user_based_accuracy)\n",
        "\n",
        "print(f\"average precision of top {k} movies recommended to them for all users: {average_precision:.4f}\")\n",
        "print(f\"average recall of top {k} movies recommended to them for all users: {average_recall:.4f}\")\n",
        "print(f\"average accuracy of top {k} movies recommended to them for all users: {average_accuracy:.4f}\")"
      ]
    },
    {
      "cell_type": "markdown",
      "metadata": {
        "id": "MjnXXSRE-g9B"
      },
      "source": [
        "At 2 epochs: ![image.png](data:image/png;base64,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)"
      ]
    },
    {
      "cell_type": "markdown",
      "metadata": {
        "id": "1piuOlsio1x1"
      },
      "source": [
        "At 5 epochs: ![image.png](data:image/png;base64,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)"
      ]
    },
    {
      "cell_type": "markdown",
      "metadata": {
        "id": "Mw6huSPYSIeR"
      },
      "source": [
        "We want to explore why precision, recall & accuracy of top 10 Recommendations are so low. We use a barplot to identify any extra trends"
      ]
    },
    {
      "cell_type": "code",
      "execution_count": null,
      "metadata": {
        "colab": {
          "base_uri": "https://localhost:8080/",
          "height": 472
        },
        "id": "CgiqYxBmNnFe",
        "outputId": "1b4fc414-e9d8-4aa0-fcf4-8015a2fc812e"
      },
      "outputs": [
        {
          "data": {
            "image/png": "[encoded data removed]",
            "text/plain": [
              "<Figure size 640x480 with 1 Axes>"
            ]
          },
          "metadata": {},
          "output_type": "display_data"
        }
      ],
      "source": [
        "plt.hist(user_precisions.values())\n",
        "\n",
        "for rect in plt.gca().patches:\n",
        "    y_value = rect.get_height()\n",
        "    x_value = rect.get_x() + rect.get_width() / 2\n",
        "\n",
        "    plt.text(x_value, y_value, f'{int(y_value)}', ha='center', va='bottom')\n",
        "\n",
        "plt.xlabel('Precision values')\n",
        "plt.ylabel('Count of users ')\n",
        "plt.title('Bar Plot with Precision of topk Recommendations')\n",
        "plt.show()"
      ]
    },
    {
      "cell_type": "code",
      "execution_count": null,
      "metadata": {
        "colab": {
          "base_uri": "https://localhost:8080/",
          "height": 472
        },
        "id": "RAhnoGI0A5Xs",
        "outputId": "d61dc1b4-0c6d-4975-ee1c-c84acc92d692"
      },
      "outputs": [
        {
          "data": {
            "image/png": "[encoded data removed]",
            "text/plain": [
              "<Figure size 640x480 with 1 Axes>"
            ]
          },
          "metadata": {},
          "output_type": "display_data"
        }
      ],
      "source": [
        "plt.hist(user_based_accuracy.values())\n",
        "\n",
        "for rect in plt.gca().patches:\n",
        "    y_value = rect.get_height()\n",
        "    x_value = rect.get_x() + rect.get_width() / 2\n",
        "\n",
        "    plt.text(x_value, y_value, f'{int(y_value)}', ha='center', va='bottom')\n",
        "\n",
        "plt.xlabel('Accuracy values')\n",
        "plt.ylabel('Count of users ')\n",
        "plt.title('Bar Plot with Accuracy of topk Recommendations')\n",
        "plt.show()"
      ]
    },
    {
      "cell_type": "code",
      "execution_count": null,
      "metadata": {
        "colab": {
          "base_uri": "https://localhost:8080/",
          "height": 472
        },
        "id": "A9Ib1VE_BOt3",
        "outputId": "8f0d22e5-ecf1-4700-e994-11b6241aa5de"
      },
      "outputs": [
        {
          "data": {
            "image/png": "[encoded data removed]",
            "text/plain": [
              "<Figure size 640x480 with 1 Axes>"
            ]
          },
          "metadata": {},
          "output_type": "display_data"
        }
      ],
      "source": [
        "plt.hist(user_based_recalls.values())\n",
        "\n",
        "for rect in plt.gca().patches:\n",
        "    y_value = rect.get_height()\n",
        "    x_value = rect.get_x() + rect.get_width() / 2\n",
        "\n",
        "    plt.text(x_value, y_value, f'{int(y_value)}', ha='center', va='bottom')\n",
        "\n",
        "plt.xlabel('Recall values')\n",
        "plt.ylabel('Count of users ')\n",
        "plt.title('Bar Plot with Recall of topk Recommendations')\n",
        "plt.show()"
      ]
    },
    {
      "cell_type": "markdown",
      "metadata": {
        "id": "-6DS2blKUB9t"
      },
      "source": [
        "**Analysis** of the 162 users that got back a poor precision value of lesser than 0.1-> realised it could be simply due to the model's limitations and no clear trend.\n",
        "\n",
        "However, for accuracy the values are a range suggesting that the model performs decently.\n",
        "\n",
        "But for recall, there are a lot of users at both extremes.\n",
        "\n",
        "This tells me that the model works very well for around half of the users and for the rest performs very poorly. This tells me that the model is likely underfitting as while it can identify top recommendations for some users very well, it misses completely out for most others.  \n",
        "\n"
      ]
    },
    {
      "cell_type": "markdown",
      "metadata": {
        "id": "b5rg4RUQFFGU"
      },
      "source": [
        "\n",
        "\n",
        "---\n",
        "Lets check if for those that have poor recall, is the model unable to generalise becuase they have not rated enough movies? Is it the model's shortcoming or a data issue?\n",
        "\n",
        "This is not a data issue but rather an issue with the model itself\n",
        "\n"
      ]
    },
    {
      "cell_type": "code",
      "execution_count": null,
      "metadata": {
        "colab": {
          "base_uri": "https://localhost:8080/"
        },
        "id": "bNtqF41lSCB6",
        "outputId": "61c37c41-37d2-4ebc-a6fb-43e42ab43c7a"
      },
      "outputs": [
        {
          "name": "stdout",
          "output_type": "stream",
          "text": [
            "{1250: 1709, 3189: 1281, 2209: 1063, 2748: 966, 2436: 890, 2251: 885, 3845: 831, 2668: 826, 1914: 800, 3403: 796, 2207: 704, 3757: 584, 3042: 577, 3344: 554, 3747: 535}\n"
          ]
        }
      ],
      "source": [
        "temp_list = []\n",
        "for key, value in user_based_recalls.items():\n",
        "  if value <= 0.1:\n",
        "    temp_list.append(key)\n",
        "\n",
        "value_counts = data['Reviewer'].value_counts().to_dict()\n",
        "filtered_dict = {key: value for key, value in value_counts.items() if key in temp_list}\n",
        "\n",
        "first_15_pairs = dict(list(filtered_dict.items())[:15])\n",
        "print(first_15_pairs)"
      ]
    },
    {
      "cell_type": "markdown",
      "metadata": {
        "id": "axknrAV3G5rF"
      },
      "source": [
        "# More Complex NCF via HyperParam tuning\n",
        "However, utilising a more complex architecture leads to a better performance than before due to the hidden layers being able to capture more nuances of the collaborative effect of users & movies & ratings"
      ]
    },
    {
      "cell_type": "markdown",
      "metadata": {
        "id": "bn11BX2vJ_BI"
      },
      "source": [
        "Test 1: Using (32,16,8) as dimensions for hidden layers along with same dropout & number of epochs as above, we get higher precision but lower recall & accuracy, this suggests that our model might be overfitting due to the extra layers\n",
        "\n",
        "Test 2: Using (32,4) as dimensions for hidden layers to strike a balance between performance improvement & overfitting, leads to a negligible result\n",
        "\n",
        "![image.png](data:image/png;base64,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)"
      ]
    },
    {
      "cell_type": "markdown",
      "metadata": {
        "id": "oobCz-0IL8iK"
      },
      "source": [
        "Test 3: Perhaps a more complicated model, needs more training iterations or epoch (2 -> 5) for it to understand the complexities of the interactions and might need more training. From the above, the precision, recall & accuracy has increase significantly and hence, we realise that maybe 2 epochs is not enough to train the model.\n",
        "\n",
        "This is further supported by the fact that an increase in number of epochs does not improve a slightly less complex model as much as shown above.\n",
        "\n",
        "(32,4): ![image.png](data:image/png;base64,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)"
      ]
    },
    {
      "cell_type": "code",
      "execution_count": null,
      "metadata": {
        "id": "zXjKOZEN9zxU"
      },
      "outputs": [],
      "source": [
        "class RecommendationSystemModel2(nn.Module):\n",
        "    def __init__(\n",
        "        self,\n",
        "        num_users,\n",
        "        num_movies,\n",
        "        embedding_size=32,\n",
        "        # embedding is slightly larger as our num of movies is 5k - have more data but may overfit\n",
        "        hidden_dim=(32,16,8),\n",
        "        dropout_rate=0.2,\n",
        "    ):\n",
        "        super(RecommendationSystemModel2, self).__init__()\n",
        "        self.num_users = num_users\n",
        "        self.num_movies = num_movies\n",
        "        self.embedding_size = embedding_size\n",
        "        self.hidden_dim = hidden_dim\n",
        "\n",
        "        # Embedding layers - transforms categorical data like userID & movieID into a continuous space\n",
        "        # we pass in total number of users & the embedding dimension\n",
        "        self.user_embedding = nn.Embedding(\n",
        "            num_embeddings=self.num_users, embedding_dim=self.embedding_size\n",
        "        )\n",
        "        self.movie_embedding = nn.Embedding(\n",
        "            num_embeddings=self.num_movies, embedding_dim=self.embedding_size\n",
        "        )\n",
        "\n",
        "        # creating a more complex hidden layer set up - ONLY CHANGE MADE !!!!!!!!!!!!!!!!\n",
        "        hidden_layers = []\n",
        "        input_units = 64\n",
        "        for num_units in [32,16,8]:\n",
        "          hidden_layers.append(nn.Linear(input_units, num_units))\n",
        "          hidden_layers.append(nn.ReLU())\n",
        "          hidden_layers.append(nn.Dropout(p=dropout_rate))\n",
        "          input_units = num_units\n",
        "\n",
        "        hidden_layers.append(nn.Linear(8,1))\n",
        "\n",
        "        self.MLP = nn.Sequential(*hidden_layers)\n",
        "\n",
        "\n",
        "    def forward(self, users, movies):\n",
        "        # Embeddings\n",
        "        user_embedded = self.user_embedding(users)\n",
        "        movie_embedded = self.movie_embedding(movies)\n",
        "\n",
        "        # Concatenate user and movie embeddings\n",
        "        combined = torch.cat([user_embedded, movie_embedded], dim=1)\n",
        "\n",
        "        output = self.MLP(combined)\n",
        "\n",
        "        return output"
      ]
    },
    {
      "cell_type": "code",
      "execution_count": null,
      "metadata": {
        "id": "P09oDMxJGebW"
      },
      "outputs": [],
      "source": [
        "recommendation_model2 = RecommendationSystemModel2(\n",
        "    num_users=len(lbl_user.classes_),\n",
        "    num_movies=len(lbl_movie.classes_)\n",
        ").to(device)\n",
        "\n",
        "# set up optimisers & loss function\n",
        "optimizer = torch.optim.Adam(recommendation_model2.parameters(), lr=1e-3) # fast convergence & decent performance\n",
        "loss_func = nn.MSELoss()\n",
        "\n",
        "EPOCHS = 5\n",
        "\n",
        "import sys\n",
        "# Function to log progress\n",
        "def log_progress(epoch, step, total_loss, log_progress_step, data_size, losses):\n",
        "    avg_loss = total_loss / log_progress_step\n",
        "    sys.stderr.write(\n",
        "        f\"\\r | Step: {step}/{data_size} | Avg Loss: {avg_loss:<6.9f}\"\n",
        "    )\n",
        "    sys.stderr.flush()\n",
        "    # add to the loss, to find average later\n",
        "    losses.append(avg_loss)\n",
        "\n",
        "total_loss = 0\n",
        "log_progress_step = 100\n",
        "losses = []\n",
        "train_dataset_size = len(train_dataset)\n",
        "print(f\"Training on {train_dataset_size} samples...\")\n",
        "\n",
        "# set to training mode\n",
        "recommendation_model.train()\n",
        "for e in range(EPOCHS):\n",
        "    step_count = 0  # Reset step count at the beginning of each epoch\n",
        "\n",
        "    for i, train_data in enumerate(train_loader):\n",
        "          # run forward pass\n",
        "          output = recommendation_model2(\n",
        "              train_data[\"users\"].to(device), train_data[\"movies\"].to(device)\n",
        "          )\n",
        "\n",
        "          # Reshape the model output to match the target's shape\n",
        "          # Removes the singleton dimension torch.size is [32,1] -> [32], why not 64?????\n",
        "          output = output.squeeze()\n",
        "\n",
        "          ratings = (train_data[\"ratings\"].to(torch.float32).to(device))\n",
        "\n",
        "          loss = loss_func(output, ratings)\n",
        "          total_loss += loss.sum().item()\n",
        "\n",
        "          optimizer.zero_grad()\n",
        "          loss.backward()\n",
        "          optimizer.step()\n",
        "\n",
        "          # Increment step count by the actual size of the batch\n",
        "          step_count += len(train_data[\"users\"])\n",
        "\n",
        "          # Check if it's time to log progress\n",
        "          if (step_count % log_progress_step == 0 or i == len(train_loader) - 1):  # Log at the end of each epoch\n",
        "              log_progress(e, step_count, total_loss, log_progress_step, train_dataset_size, losses)\n",
        "              total_loss = 0"
      ]
    },
    {
      "cell_type": "code",
      "execution_count": null,
      "metadata": {
        "colab": {
          "base_uri": "https://localhost:8080/"
        },
        "id": "1weMsfKyHTzS",
        "outputId": "c5f35a95-7df2-49ed-bb80-3911b467c826"
      },
      "outputs": [
        {
          "output_type": "stream",
          "name": "stdout",
          "text": [
            "average precision of top 10 movies recommended to them for all users: 0.8861\n",
            "average recall of top 10 movies recommended to them for all users: 0.5706\n",
            "average accuracy of top 10 movies recommended to them for all users: 0.5939\n"
          ]
        }
      ],
      "source": [
        "# create dictionaries with default values (in this case it will be a list) for keys that haven't been set yet\n",
        "# so that when we call for it we do not get an error\n",
        "user_ratings_comparison = defaultdict(list)\n",
        "\n",
        "y_test = []\n",
        "y_pred = []\n",
        "\n",
        "threshold = 0.79\n",
        "def RecommendIf(val, threshold):\n",
        "  if val > threshold:\n",
        "    return 1\n",
        "  else:\n",
        "    return 0\n",
        "\n",
        "with torch.no_grad():\n",
        "    for valid_data in validation_loader:\n",
        "        users = valid_data[\"users\"].to(device)\n",
        "        movies = valid_data[\"movies\"].to(device)\n",
        "        ratings = valid_data[\"ratings\"].to(device)\n",
        "        output = recommendation_model2(users, movies)\n",
        "\n",
        "        # key is user -> value is list of (predicted rating, true rating)\n",
        "        for user, pred, true in zip(users, output, ratings):\n",
        "            user_ratings_comparison[user.item()].append([pred[0].item(), true.item()])\n",
        "            y_test.append(RecommendIf(true, threshold))\n",
        "            y_pred.append(pred)\n",
        "\n",
        "user_precisions = dict()\n",
        "user_based_recalls = dict()\n",
        "\n",
        "k = 10\n",
        "\n",
        "for user_id, user_ratings in user_ratings_comparison.items():\n",
        "    # get precision & recall metrics for each user\n",
        "    precision, recall,accuracy = calculate_precision_recall_accuracy(user_ratings, k, threshold)\n",
        "    user_precisions[user_id] = precision\n",
        "    user_based_recalls[user_id] = recall\n",
        "    user_based_accuracy[user_id] = accuracy\n",
        "\n",
        "# get average precision & recall for all users\n",
        "average_precision = sum(prec for prec in user_precisions.values()) / len(user_precisions)\n",
        "average_recall = sum(rec for rec in user_based_recalls.values()) / len(user_based_recalls)\n",
        "average_accuracy = sum(rec for rec in user_based_accuracy.values()) / len(user_based_accuracy)\n",
        "\n",
        "print(f\"average precision of top {k} movies recommended to them for all users: {average_precision:.4f}\")\n",
        "print(f\"average recall of top {k} movies recommended to them for all users: {average_recall:.4f}\")\n",
        "print(f\"average accuracy of top {k} movies recommended to them for all users: {average_accuracy:.4f}\")"
      ]
    },
    {
      "cell_type": "markdown",
      "source": [
        "# CF modified to consider CF & word embeddings of genres"
      ],
      "metadata": {
        "id": "HrL0UKwYAoCm"
      }
    },
    {
      "cell_type": "markdown",
      "source": [
        "Setting up of Word embeddings of genres"
      ],
      "metadata": {
        "id": "Aeu-Vr1mA5HY"
      }
    },
    {
      "cell_type": "code",
      "source": [
        "import torch\n",
        "import torch.nn as nn\n",
        "import torch.nn.functional as F\n",
        "import nltk\n",
        "from nltk.corpus import stopwords\n",
        "import string\n",
        "import re\n",
        "import seaborn as sns\n",
        "from tqdm import tqdm\n",
        "import matplotlib.pyplot as plt\n",
        "from torch.utils.data import TensorDataset, DataLoader\n",
        "from nltk.tokenize import word_tokenize\n",
        "import gensim\n",
        "from gensim.models import Word2Vec\n",
        "from gensim.models.keyedvectors import KeyedVectors\n",
        "from nltk.tokenize import word_tokenize\n",
        "import pandas as pd\n",
        "import numpy as np\n",
        "\n",
        "nltk.download('punkt')\n",
        "nltk.download('stopwords')"
      ],
      "metadata": {
        "colab": {
          "base_uri": "https://localhost:8080/"
        },
        "id": "MkmZBQmsAuVc",
        "outputId": "71e71094-6d89-4413-8541-5a6b74422bec"
      },
      "execution_count": null,
      "outputs": [
        {
          "output_type": "stream",
          "name": "stderr",
          "text": [
            "[nltk_data] Downloading package punkt to /root/nltk_data...\n",
            "[nltk_data]   Package punkt is already up-to-date!\n",
            "[nltk_data] Downloading package stopwords to /root/nltk_data...\n",
            "[nltk_data]   Package stopwords is already up-to-date!\n"
          ]
        },
        {
          "output_type": "execute_result",
          "data": {
            "text/plain": [
              "True"
            ]
          },
          "metadata": {},
          "execution_count": 86
        }
      ]
    },
    {
      "cell_type": "markdown",
      "source": [
        "Set up Model"
      ],
      "metadata": {
        "id": "jemQJ-ykCZ-5"
      }
    },
    {
      "cell_type": "code",
      "source": [
        "class RecommendationSystemModel3(nn.Module):\n",
        "    def __init__(\n",
        "        self,\n",
        "        num_users,\n",
        "        num_movies,\n",
        "        embedding_size=256,\n",
        "        # embedding is slightly larger as our num of movies is 5k - have more data but may overfit\n",
        "        hidden_dim=64,\n",
        "        dropout_rate=0.2,\n",
        "    ):\n",
        "        super(RecommendationSystemModel3, self).__init__()\n",
        "        self.num_users = num_users\n",
        "        self.num_movies = num_movies\n",
        "        self.num_genres = 10\n",
        "        self.embedding_size = embedding_size\n",
        "        self.hidden_dim = hidden_dim\n",
        "\n",
        "        # Embedding layers - transforms categorical data like userID & movieID from OHV into a continuous denser space\n",
        "        # we pass in total number of users & the embedding dimension that we want\n",
        "        self.user_embedding = nn.Embedding(\n",
        "            num_embeddings=self.num_users, embedding_dim=self.embedding_size\n",
        "        )\n",
        "        self.movie_embedding = nn.Embedding(\n",
        "            num_embeddings=self.num_movies, embedding_dim=self.embedding_size\n",
        "        )\n",
        "\n",
        "        self.genre_embedding = nn.Embedding(\n",
        "            num_embeddings=self.num_genres, embedding_dim=10\n",
        "        )\n",
        "\n",
        "        # Hidden layers\n",
        "        # cos you add both movie & user embeddings before passing through the first layer - capture info b/w the 2\n",
        "        self.fc1 = nn.Linear(2 * self.embedding_size + 10, self.hidden_dim)\n",
        "\n",
        "        # final output is simply the predicted rating\n",
        "        self.fc2 = nn.Linear(self.hidden_dim, 1)\n",
        "\n",
        "        # Dropout layer\n",
        "        self.dropout = nn.Dropout(p=dropout_rate)\n",
        "\n",
        "        # Activation function -> minimise vanishing / exploding gradient problem & dont need to compute so much comapred to softmax\n",
        "        self.relu = nn.ReLU()\n",
        "\n",
        "    def forward(self, users, movies, genres):\n",
        "        # Embeddings\n",
        "        user_embedded = self.user_embedding(users)\n",
        "        movie_embedded = self.movie_embedding(movies)\n",
        "        genres_embedded = genres\n",
        "\n",
        "        # Concatenate user and movie embeddings side by side\n",
        "        combined = torch.cat([user_embedded, movie_embedded, genres_embedded], dim=1)\n",
        "\n",
        "        # Pass through hidden layers with ReLU activation and dropout\n",
        "        # model tries to learn ratings based on the combined user-movie representation\n",
        "        x = self.relu(self.fc1(combined))\n",
        "        x = self.dropout(x)\n",
        "        output = self.fc2(x)\n",
        "\n",
        "        return output"
      ],
      "metadata": {
        "id": "hZ-fzMPJCbfL"
      },
      "execution_count": null,
      "outputs": []
    },
    {
      "cell_type": "code",
      "source": [
        "recommendation_model = RecommendationSystemModel3(\n",
        "    num_users=len(lbl_user.classes_),\n",
        "    num_movies=len(lbl_movie.classes_)\n",
        ").to(device)\n",
        "\n",
        "# set up optimisers & loss function\n",
        "optimizer = torch.optim.Adam(recommendation_model.parameters(), lr=1e-3) # fast convergence & decent performance\n",
        "loss_func = nn.MSELoss()\n",
        "\n",
        "EPOCHS = 5\n",
        "\n",
        "total_loss = 0\n",
        "log_progress_step = 100\n",
        "losses = []\n",
        "train_dataset_size = len(train_dataset)\n",
        "print(f\"Training on {train_dataset_size} samples...\")\n",
        "\n",
        "# set to training mode\n",
        "recommendation_model.train()\n",
        "for e in range(EPOCHS):\n",
        "    step_count = 0  # Reset step count at the beginning of each epoch\n",
        "\n",
        "    for train_data in tqdm(train_loader, desc=\"Training\", leave=False):\n",
        "          # run forward pass\n",
        "          output = recommendation_model(\n",
        "              train_data[\"users\"].to(device), train_data[\"movies\"].to(device), train_data['genres'].to(device)\n",
        "          )\n",
        "\n",
        "          # Reshape the model output to match the target's shape\n",
        "          # Removes the singleton dimension torch.size is [32,1] -> [32], why not 64?????\n",
        "          output = output.squeeze()\n",
        "\n",
        "          ratings = (train_data[\"ratings\"].to(torch.float32).to(device))\n",
        "\n",
        "          loss = loss_func(output, ratings)\n",
        "          total_loss += loss.sum().item()\n",
        "\n",
        "          optimizer.zero_grad()\n",
        "          loss.backward()\n",
        "          optimizer.step()\n"
      ],
      "metadata": {
        "colab": {
          "base_uri": "https://localhost:8080/"
        },
        "id": "1AoWVTPsPSea",
        "outputId": "8c3ade62-77ad-4222-838e-7bfaa61c57c4"
      },
      "execution_count": null,
      "outputs": [
        {
          "output_type": "stream",
          "name": "stdout",
          "text": [
            "Training on 239590 samples...\n"
          ]
        },
        {
          "output_type": "stream",
          "name": "stderr",
          "text": []
        }
      ]
    },
    {
      "cell_type": "code",
      "source": [
        "# create dictionaries with default values (in this case it will be a list) for keys that haven't been set yet\n",
        "# so that when we call for it we do not get an error\n",
        "user_ratings_comparison = defaultdict(list)\n",
        "\n",
        "y_test = []\n",
        "y_pred = []\n",
        "\n",
        "threshold = 0.79\n",
        "def RecommendIf(val, threshold):\n",
        "  if val > threshold:\n",
        "    return 1\n",
        "  else:\n",
        "    return 0\n",
        "\n",
        "with torch.no_grad():\n",
        "    for valid_data in validation_loader:\n",
        "        users = valid_data[\"users\"].to(device)\n",
        "        movies = valid_data[\"movies\"].to(device)\n",
        "        ratings = valid_data[\"ratings\"].to(device)\n",
        "        genres = valid_data[\"genres\"].to(device)\n",
        "        output = recommendation_model(users, movies, genres)\n",
        "\n",
        "        # key is user -> value is list of (predicted rating, true rating)\n",
        "        for user, pred, true in zip(users, output, ratings):\n",
        "            user_ratings_comparison[user.item()].append([pred[0].item(), true.item()])\n",
        "            y_test.append(RecommendIf(true, threshold))\n",
        "            y_pred.append(pred)\n",
        "\n",
        "user_precisions = dict()\n",
        "user_based_recalls = dict()\n",
        "user_based_accuracy = dict()\n",
        "k = 10\n",
        "\n",
        "for user_id, user_ratings in user_ratings_comparison.items():\n",
        "    # get precision & recall metrics for each user\n",
        "    precision, recall,accuracy = calculate_precision_recall_accuracy(user_ratings, k, threshold)\n",
        "    user_precisions[user_id] = precision\n",
        "    user_based_recalls[user_id] = recall\n",
        "    user_based_accuracy[user_id] = accuracy\n",
        "\n",
        "# get average precision & recall for all users\n",
        "average_precision = sum(prec for prec in user_precisions.values()) / len(user_precisions)\n",
        "average_recall = sum(rec for rec in user_based_recalls.values()) / len(user_based_recalls)\n",
        "average_accuracy = sum(rec for rec in user_based_accuracy.values()) / len(user_based_accuracy)\n",
        "\n",
        "print(f\"average precision of top {k} movies recommended to them for all users: {average_precision:.4f}\")\n",
        "print(f\"average recall of top {k} movies recommended to them for all users: {average_recall:.4f}\")\n",
        "print(f\"average accuracy of top {k} movies recommended to them for all users: {average_accuracy:.4f}\")"
      ],
      "metadata": {
        "colab": {
          "base_uri": "https://localhost:8080/"
        },
        "id": "HrEQYD5MbqFO",
        "outputId": "f2387987-2221-450c-8f81-f069ea44eb2a"
      },
      "execution_count": null,
      "outputs": [
        {
          "output_type": "stream",
          "name": "stdout",
          "text": [
            "average precision of top 10 movies recommended to them for all users: 0.8944\n",
            "average recall of top 10 movies recommended to them for all users: 0.5688\n",
            "average accuracy of top 10 movies recommended to them for all users: 0.5955\n"
          ]
        }
      ]
    },
    {
      "cell_type": "markdown",
      "metadata": {
        "id": "4A4nVoLsm6LT"
      },
      "source": [
        "# NewMF\n",
        "\n",
        "This model uses two subnetworks comprising of generalized matrix factorization (GMF) and MLP(similar to CF) to model the interactions from two pathways instead of simple dot products.\n",
        "\n",
        "To output of GMF and MLP, instead of simple addition, the second last layers of two subnetworks is concatenated to create a feature vector which can be passed to the further layers, in our case we pass it through a fully connected linear layer to get our final results.\n",
        "\n",
        "This allows it to leverage on both the advantages of the two methods\n",
        "\n",
        "From the results, NewMF and CF have almost the same performance metrics suggesting that\n",
        "\n",
        "https://sparsh-ai.github.io/rec-tutorials/matrixfactorization%20movielens%20pytorch%20scratch/2021/04/21/rec-algo-ncf-pytorch-pyy0715.html"
      ]
    },
    {
      "cell_type": "code",
      "execution_count": null,
      "metadata": {
        "id": "II5GDLL5LHed"
      },
      "outputs": [],
      "source": [
        "class NeuMF(nn.Module):\n",
        "    def __init__(self, num_users, num_items):\n",
        "        super(NeuMF, self).__init__()\n",
        "        self.num_users = num_users\n",
        "        self.num_items = num_items\n",
        "        # \"predictive factors numbers in the model\"\n",
        "        self.factor_num_mf = 32\n",
        "        self.factor_num_mlp = 32\n",
        "        # MLP layers. Note that the first layer is the concatenation of user and item embeddings. So 32 is the embedding size.\"\n",
        "        self.layers = [64,32,16,8]\n",
        "        self.dropout = 0.2\n",
        "\n",
        "        # NCF Embedding\n",
        "        self.embedding_user_mlp = nn.Embedding(num_embeddings=self.num_users, embedding_dim=self.factor_num_mlp)\n",
        "        self.embedding_item_mlp = nn.Embedding(num_embeddings=self.num_items, embedding_dim=self.factor_num_mlp)\n",
        "\n",
        "        # Matrix Factorisation Embedding\n",
        "        self.embedding_user_mf = nn.Embedding(num_embeddings=self.num_users, embedding_dim=self.factor_num_mf)\n",
        "        self.embedding_item_mf = nn.Embedding(num_embeddings=self.num_items, embedding_dim=self.factor_num_mf)\n",
        "\n",
        "        self.fc_layers = nn.ModuleList()\n",
        "        # basically ensure that dim on input & output layer matches\n",
        "        for idx, (in_size, out_size) in enumerate(zip([64,32,16], [32,16,8])):\n",
        "            self.fc_layers.append(torch.nn.Linear(in_size, out_size))\n",
        "            self.fc_layers.append(nn.ReLU())\n",
        "\n",
        "        # at the last layer -> u take the output from the NCF & MF and use it together -> hence dim is as such below\n",
        "        # you want to get a single output value from 0 to 1\n",
        "        self.affine_output = nn.Linear(in_features=self.layers[-1] + self.factor_num_mf, out_features=1)\n",
        "        self.logistic = nn.Sigmoid()\n",
        "        self.init_weight()\n",
        "\n",
        "    # We initalise the weights so that it is normal to prevent exploding/vanishing graident problem as if weights are 0 centered, easier to train\n",
        "    # this also allows for faster convergence\n",
        "    def init_weight(self):\n",
        "        nn.init.normal_(self.embedding_user_mlp.weight, std=0.01)\n",
        "        nn.init.normal_(self.embedding_item_mlp.weight, std=0.01)\n",
        "        nn.init.normal_(self.embedding_user_mf.weight, std=0.01)\n",
        "        nn.init.normal_(self.embedding_item_mf.weight, std=0.01)\n",
        "\n",
        "        # for all the fully connected hidden layers, initiliase the weights as uniform (Xavier) distribution\n",
        "        # helps with effective propogation of weighs during training\n",
        "        for m in self.fc_layers:\n",
        "            if isinstance(m, nn.Linear):\n",
        "                nn.init.xavier_uniform_(m.weight)\n",
        "\n",
        "        # make the last layer that is not in the fully connected layer, initliase it as uniform distribution as well\n",
        "        nn.init.xavier_uniform_(self.affine_output.weight)\n",
        "\n",
        "        # iterates over all modules (layers) within the neural network model (in ModueList & outside)\n",
        "        # intiliases bias to 0 if the layer is linear * has a bias (in our case bias=True by default)\n",
        "        for m in self.modules():\n",
        "            if isinstance(m, nn.Linear) and m.bias is not None:\n",
        "                m.bias.data.zero_()\n",
        "\n",
        "    def forward(self, user_indices, item_indices):\n",
        "        user_embedding_mlp = self.embedding_user_mlp(user_indices)\n",
        "        item_embedding_mlp = self.embedding_item_mlp(item_indices)\n",
        "\n",
        "        user_embedding_mf = self.embedding_user_mf(user_indices)\n",
        "        item_embedding_mf = self.embedding_item_mf(item_indices)\n",
        "\n",
        "        # add the user & movie embeddings just like in NCF\n",
        "        mlp_vector = torch.cat([user_embedding_mlp, item_embedding_mlp], dim=-1)\n",
        "        # matrix factorisation embedding layer\n",
        "        mf_vector =torch.mul(user_embedding_mf, item_embedding_mf)\n",
        "\n",
        "        # passes in the mlp_vector into the first layer & then sets the output as mlp_vector\n",
        "        # before passing it to the next layer\n",
        "        for idx, _ in enumerate(range(len(self.fc_layers))):\n",
        "            mlp_vector = self.fc_layers[idx](mlp_vector)\n",
        "\n",
        "        # add embedding output from both MF & NCF\n",
        "        vector = torch.cat([mlp_vector, mf_vector], dim=-1)\n",
        "        # get 1 single output & make the range to 0 to 1 -> resemble ratings\n",
        "        logits = self.affine_output(vector)\n",
        "        rating = self.logistic(logits)\n",
        "        # do .squeeze() to return the rating value ONLY\n",
        "        return rating.squeeze()"
      ]
    },
    {
      "cell_type": "markdown",
      "metadata": {
        "id": "hfm3DL8bu-Bx"
      },
      "source": [
        "Training the model"
      ]
    },
    {
      "cell_type": "code",
      "execution_count": null,
      "metadata": {
        "colab": {
          "base_uri": "https://localhost:8080/"
        },
        "id": "AUbgZfcDLycg",
        "outputId": "0215416d-f798-4993-fa95-134763b5ce31"
      },
      "outputs": [
        {
          "output_type": "stream",
          "name": "stdout",
          "text": [
            "Training on 239590 samples...\n"
          ]
        },
        {
          "output_type": "stream",
          "name": "stderr",
          "text": [
            "/usr/lib/python3.10/multiprocessing/popen_fork.py:66: RuntimeWarning: os.fork() was called. os.fork() is incompatible with multithreaded code, and JAX is multithreaded, so this will likely lead to a deadlock.\n",
            "  self.pid = os.fork()\n",
            "/usr/lib/python3.10/multiprocessing/popen_fork.py:66: RuntimeWarning: os.fork() was called. os.fork() is incompatible with multithreaded code, and JAX is multithreaded, so this will likely lead to a deadlock.\n",
            "  self.pid = os.fork()\n"
          ]
        }
      ],
      "source": [
        "model = NeuMF(len(lbl_user.classes_), len(lbl_movie.classes_))\n",
        "optimizer = torch.optim.Adam(model.parameters(), lr=1e-3) # fast convergence & decent performance\n",
        "loss_func = nn.MSELoss()\n",
        "\n",
        "total_loss = 0\n",
        "log_progress_step = 100\n",
        "losses = []\n",
        "train_dataset_size = len(train_dataset)\n",
        "print(f\"Training on {train_dataset_size} samples...\")\n",
        "\n",
        "EPOCHS = 5\n",
        "\n",
        "# set to training mode\n",
        "model.train()\n",
        "for e in range(EPOCHS):\n",
        "    step_count = 0  # Reset step count at the beginning of each epoch\n",
        "\n",
        "    for i, train_data in enumerate(train_loader):\n",
        "\n",
        "          # run forward pass\n",
        "          output = model(\n",
        "              train_data[\"users\"], train_data[\"movies\"]\n",
        "          )\n",
        "\n",
        "          # Reshape the model output to match the target's shape\n",
        "          # Removes the singleton dimension torch.size is [32,1] -> [32], why not 64?????\n",
        "          output = output.squeeze()\n",
        "\n",
        "          ratings = (train_data[\"ratings\"].to(torch.float32))\n",
        "\n",
        "          loss = loss_func(output, ratings)\n",
        "          total_loss += loss.sum().item()\n",
        "\n",
        "          optimizer.zero_grad()\n",
        "          loss.backward()\n",
        "          optimizer.step()\n",
        "\n",
        "          # Increment step count by the actual size of the batch\n",
        "          step_count += len(train_data[\"users\"])\n"
      ]
    },
    {
      "cell_type": "code",
      "source": [
        "for param_tensor in model.state_dict():\n",
        "    print(param_tensor, \"\\t\", model.state_dict()[param_tensor].size())"
      ],
      "metadata": {
        "colab": {
          "base_uri": "https://localhost:8080/"
        },
        "id": "UeclDIfH1QQz",
        "outputId": "27601642-7e61-4d90-aa50-4a4c230a93b5"
      },
      "execution_count": null,
      "outputs": [
        {
          "output_type": "stream",
          "name": "stdout",
          "text": [
            "embedding_user_mlp.weight \t torch.Size([4804, 32])\n",
            "embedding_item_mlp.weight \t torch.Size([5216, 32])\n",
            "embedding_user_mf.weight \t torch.Size([4804, 32])\n",
            "embedding_item_mf.weight \t torch.Size([5216, 32])\n",
            "fc_layers.0.weight \t torch.Size([32, 64])\n",
            "fc_layers.0.bias \t torch.Size([32])\n",
            "fc_layers.2.weight \t torch.Size([16, 32])\n",
            "fc_layers.2.bias \t torch.Size([16])\n",
            "fc_layers.4.weight \t torch.Size([8, 16])\n",
            "fc_layers.4.bias \t torch.Size([8])\n",
            "affine_output.weight \t torch.Size([1, 40])\n",
            "affine_output.bias \t torch.Size([1])\n"
          ]
        }
      ]
    },
    {
      "cell_type": "code",
      "execution_count": null,
      "metadata": {
        "colab": {
          "base_uri": "https://localhost:8080/"
        },
        "id": "DPCdtGCnNP6E",
        "outputId": "315c5bd0-9048-421c-ab21-97b83d7d19c6"
      },
      "outputs": [
        {
          "output_type": "stream",
          "name": "stdout",
          "text": [
            "average precision of top 10 movies recommended to them for all users: 0.8493\n",
            "average recall of top 10 movies recommended to them for all users: 0.6351\n",
            "average accuracy of top 10 movies recommended to them for all users: 0.6031\n"
          ]
        }
      ],
      "source": [
        "# create dictionaries with default values (in this case it will be a list) for keys that haven't been set yet\n",
        "# so that when we call for it we do not get an error\n",
        "user_ratings_comparison = defaultdict(list)\n",
        "\n",
        "y_test = []\n",
        "y_pred = []\n",
        "\n",
        "threshold = 0.79\n",
        "def RecommendIf(val, threshold):\n",
        "  if val > threshold:\n",
        "    return 1\n",
        "  else:\n",
        "    return 0\n",
        "\n",
        "with torch.no_grad():\n",
        "    for valid_data in validation_loader:\n",
        "        users = valid_data[\"users\"]\n",
        "        movies = valid_data[\"movies\"]\n",
        "        ratings = valid_data[\"ratings\"]\n",
        "        output = model(users, movies)\n",
        "\n",
        "        # key is user -> value is list of (predicted rating, true rating)\n",
        "        for user, pred, true in zip(users, output, ratings):\n",
        "            user_ratings_comparison[user.item()].append([pred.item(), true.item()])\n",
        "            y_test.append(RecommendIf(true, threshold))\n",
        "            y_pred.append(pred)\n",
        "\n",
        "user_precisions = dict()\n",
        "user_based_recalls = dict()\n",
        "user_based_accuracy = dict()\n",
        "\n",
        "k = 10\n",
        "\n",
        "for user_id, user_ratings in user_ratings_comparison.items():\n",
        "    # get precision & recall metrics for each user\n",
        "    precision, recall, accuracy = calculate_precision_recall_accuracy(user_ratings, k, threshold)\n",
        "    user_precisions[user_id] = precision\n",
        "    user_based_recalls[user_id] = recall\n",
        "    user_based_accuracy[user_id] = accuracy\n",
        "\n",
        "# get average precision & recall for all users\n",
        "average_precision = sum(prec for prec in user_precisions.values()) / len(user_precisions)\n",
        "average_recall = sum(rec for rec in user_based_recalls.values()) / len(user_based_recalls)\n",
        "average_accuracy = sum(rec for rec in user_based_accuracy.values()) / len(user_based_accuracy)\n",
        "\n",
        "print(f\"average precision of top {k} movies recommended to them for all users: {average_precision:.4f}\")\n",
        "print(f\"average recall of top {k} movies recommended to them for all users: {average_recall:.4f}\")\n",
        "print(f\"average accuracy of top {k} movies recommended to them for all users: {average_accuracy:.4f}\")"
      ]
    },
    {
      "cell_type": "markdown",
      "source": [
        "![image.png](data:image/png;base64,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)"
      ],
      "metadata": {
        "id": "cny8xCYYzSda"
      }
    },
    {
      "cell_type": "markdown",
      "metadata": {
        "id": "HBNm1oSzn6eC"
      },
      "source": [
        "# NGCF - Neural Graph Collaborative Filtering\n",
        "\n",
        "Drawback of the previous methods is that, the collaborative effect(user-item interactions) may not be encoded in the embedding process. As such, the resultant embeddings may not be sufficient to capture the collaborative f iltering effect.\n",
        "\n",
        "Hence, we use a bipartite graph structure instead where each user and movie is represented by nodes and interactions between them are represented with  edges\n",
        "\n",
        "https://github.com/metahexane/ngcf_pytorch_g61/blob/master/ngcf.py\n",
        "\n",
        "Why the training data needs negative samples? The training data of BPR consists of both positive and negative pairs (missing values). It assumes that the user prefers the positive item over all other non-observed items. -> calculates the bpr loss this way -> (u,i,j) where i is pos sample & j is negative -> want to maximise this prob of i over j"
      ]
    },
    {
      "cell_type": "code",
      "execution_count": null,
      "metadata": {
        "colab": {
          "base_uri": "https://localhost:8080/"
        },
        "id": "nmR0qnQ3FQ-F",
        "outputId": "8b538a7d-c818-4038-c0fe-8bdd6f97c442"
      },
      "outputs": [
        {
          "output_type": "stream",
          "name": "stdout",
          "text": [
            "Collecting torch_geometric\n",
            "  Downloading torch_geometric-2.5.2-py3-none-any.whl (1.1 MB)\n",
            "\u001b[2K     \u001b[90m━━━━━━━━━━━━━━━━━━━━━━━━━━━━━━━━━━━━━━━━\u001b[0m \u001b[32m1.1/1.1 MB\u001b[0m \u001b[31m7.6 MB/s\u001b[0m eta \u001b[36m0:00:00\u001b[0m\n",
            "\u001b[?25hRequirement already satisfied: tqdm in /usr/local/lib/python3.10/dist-packages (from torch_geometric) (4.66.2)\n",
            "Requirement already satisfied: numpy in /usr/local/lib/python3.10/dist-packages (from torch_geometric) (1.25.2)\n",
            "Requirement already satisfied: scipy in /usr/local/lib/python3.10/dist-packages (from torch_geometric) (1.11.4)\n",
            "Requirement already satisfied: fsspec in /usr/local/lib/python3.10/dist-packages (from torch_geometric) (2023.6.0)\n",
            "Requirement already satisfied: jinja2 in /usr/local/lib/python3.10/dist-packages (from torch_geometric) (3.1.3)\n",
            "Requirement already satisfied: aiohttp in /usr/local/lib/python3.10/dist-packages (from torch_geometric) (3.9.3)\n",
            "Requirement already satisfied: requests in /usr/local/lib/python3.10/dist-packages (from torch_geometric) (2.31.0)\n",
            "Requirement already satisfied: pyparsing in /usr/local/lib/python3.10/dist-packages (from torch_geometric) (3.1.2)\n",
            "Requirement already satisfied: scikit-learn in /usr/local/lib/python3.10/dist-packages (from torch_geometric) (1.2.2)\n",
            "Requirement already satisfied: psutil>=5.8.0 in /usr/local/lib/python3.10/dist-packages (from torch_geometric) (5.9.5)\n",
            "Requirement already satisfied: aiosignal>=1.1.2 in /usr/local/lib/python3.10/dist-packages (from aiohttp->torch_geometric) (1.3.1)\n",
            "Requirement already satisfied: attrs>=17.3.0 in /usr/local/lib/python3.10/dist-packages (from aiohttp->torch_geometric) (23.2.0)\n",
            "Requirement already satisfied: frozenlist>=1.1.1 in /usr/local/lib/python3.10/dist-packages (from aiohttp->torch_geometric) (1.4.1)\n",
            "Requirement already satisfied: multidict<7.0,>=4.5 in /usr/local/lib/python3.10/dist-packages (from aiohttp->torch_geometric) (6.0.5)\n",
            "Requirement already satisfied: yarl<2.0,>=1.0 in /usr/local/lib/python3.10/dist-packages (from aiohttp->torch_geometric) (1.9.4)\n",
            "Requirement already satisfied: async-timeout<5.0,>=4.0 in /usr/local/lib/python3.10/dist-packages (from aiohttp->torch_geometric) (4.0.3)\n",
            "Requirement already satisfied: MarkupSafe>=2.0 in /usr/local/lib/python3.10/dist-packages (from jinja2->torch_geometric) (2.1.5)\n",
            "Requirement already satisfied: charset-normalizer<4,>=2 in /usr/local/lib/python3.10/dist-packages (from requests->torch_geometric) (3.3.2)\n",
            "Requirement already satisfied: idna<4,>=2.5 in /usr/local/lib/python3.10/dist-packages (from requests->torch_geometric) (3.6)\n",
            "Requirement already satisfied: urllib3<3,>=1.21.1 in /usr/local/lib/python3.10/dist-packages (from requests->torch_geometric) (2.0.7)\n",
            "Requirement already satisfied: certifi>=2017.4.17 in /usr/local/lib/python3.10/dist-packages (from requests->torch_geometric) (2024.2.2)\n",
            "Requirement already satisfied: joblib>=1.1.1 in /usr/local/lib/python3.10/dist-packages (from scikit-learn->torch_geometric) (1.4.0)\n",
            "Requirement already satisfied: threadpoolctl>=2.0.0 in /usr/local/lib/python3.10/dist-packages (from scikit-learn->torch_geometric) (3.4.0)\n",
            "Installing collected packages: torch_geometric\n",
            "Successfully installed torch_geometric-2.5.2\n"
          ]
        }
      ],
      "source": [
        "pip install torch_geometric"
      ]
    },
    {
      "cell_type": "code",
      "execution_count": null,
      "metadata": {
        "id": "F54xM0DMvGvx"
      },
      "outputs": [],
      "source": [
        "# Standard library imports\n",
        "import random\n",
        "import time\n",
        "\n",
        "# Third-party imports\n",
        "import matplotlib.pyplot as plt\n",
        "import networkx as nx\n",
        "import numpy as np\n",
        "import pandas as pd\n",
        "pd.set_option('display.max_colwidth', None)\n",
        "\n",
        "import torch\n",
        "import torch.nn as nn\n",
        "import torch.nn.functional as F\n",
        "import torch.optim as optim\n",
        "# from torch.utils.data import Dataset, DataLoader\n",
        "import torch_geometric\n",
        "from torch_geometric.nn.conv import MessagePassing\n",
        "from torch_geometric.utils import degree\n",
        "\n",
        "from tqdm.notebook import tqdm\n",
        "from sklearn import preprocessing as pp\n",
        "from sklearn.model_selection import train_test_split\n",
        "import scipy.sparse as sp\n",
        "\n",
        "device = torch.device('cuda' if torch.cuda.is_available() else 'cpu')"
      ]
    },
    {
      "cell_type": "markdown",
      "source": [
        "Here, we split the train & test set. However, we need to ensure that users & movies in the test set are atleast represented once in the training set.\n",
        "\n",
        "Else, we get an error, becuase it is unable to make a prediction based on that new user/movie since there are no other interactions but also because during the LabelEncoding, we cannot transform indexes that the Encoder has not seen before.\n",
        "\n",
        "Hence, we are forced to removed some of the users and movies not present in the training set, leading to some loss of data."
      ],
      "metadata": {
        "id": "CtJxrmQd0ZIt"
      }
    },
    {
      "cell_type": "code",
      "execution_count": null,
      "metadata": {
        "id": "R2x0YNWIUs6x",
        "colab": {
          "base_uri": "https://localhost:8080/"
        },
        "outputId": "69b04290-f81c-4fe5-d90b-4adf447b615c"
      },
      "outputs": [
        {
          "output_type": "stream",
          "name": "stderr",
          "text": [
            "<ipython-input-13-958a2589d7f5>:18: SettingWithCopyWarning: \n",
            "A value is trying to be set on a copy of a slice from a DataFrame.\n",
            "Try using .loc[row_indexer,col_indexer] = value instead\n",
            "\n",
            "See the caveats in the documentation: https://pandas.pydata.org/pandas-docs/stable/user_guide/indexing.html#returning-a-view-versus-a-copy\n",
            "  test_df['user_id_idx'] = le_user.transform(test_df['Reviewer'].values)\n"
          ]
        }
      ],
      "source": [
        "train, test = train_test_split(data, test_size=0.15, random_state=42)\n",
        "train_df = pd.DataFrame(train, columns=df.columns)\n",
        "test_df = pd.DataFrame(test, columns=df.columns)\n",
        "\n",
        "le_user = pp.LabelEncoder()\n",
        "le_item = pp.LabelEncoder()\n",
        "train_df['user_id_idx'] = le_user.fit_transform(train_df['Reviewer'].values)\n",
        "train_df['item_id_idx'] = le_item.fit_transform(train_df['Movie'].values)\n",
        "\n",
        "train_user_ids = train_df['Reviewer'].unique()\n",
        "train_item_ids = train_df['Movie'].unique()\n",
        "\n",
        "test_df = test_df[\n",
        "  (test_df['Reviewer'].isin(train_user_ids)) & \\\n",
        "  (test_df['Movie'].isin(train_item_ids))\n",
        "]\n",
        "\n",
        "test_df['user_id_idx'] = le_user.transform(test_df['Reviewer'].values)\n",
        "test_df['item_id_idx'] = le_item.transform(test_df['Movie'].values)\n",
        "\n",
        "n_users = train_df['user_id_idx'].nunique()\n",
        "n_items = train_df['item_id_idx'].nunique()"
      ]
    },
    {
      "cell_type": "markdown",
      "metadata": {
        "id": "Q6CljexM92qp"
      },
      "source": [
        "Creating Custom DataLoader\n",
        "\n",
        "For each user, we get all the movies that he has interacted with & find 1 random movie that he has watched and 1 that he has not watched"
      ]
    },
    {
      "cell_type": "code",
      "execution_count": null,
      "metadata": {
        "id": "j1XRiXqVw9dM"
      },
      "outputs": [],
      "source": [
        "def data_loader(data, batch_size, n_usr, n_itm):\n",
        "\n",
        "    # for each user -> get a list of movies that he has \"interacted\" with\n",
        "    # reset_index() to make it to nice format of column: Reviewer & Movie\n",
        "    interected_items_df = data.groupby('user_id_idx')['item_id_idx'].apply(list).reset_index()\n",
        "\n",
        "    # randomly select users without replacement, takes in list , batch_size\n",
        "    indices = [x for x in range(n_usr)]\n",
        "\n",
        "    ## if total number of users is lesser than batch size then randomly select users w replacement\n",
        "    if n_usr < batch_size:\n",
        "        users = [random.choice(indices) for _ in range(batch_size)]\n",
        "    else:\n",
        "        # gets 1 random sample until we get 'batch_size' num of users\n",
        "        users = random.sample(indices, batch_size)\n",
        "\n",
        "    # sorts it by the Reviewer index\n",
        "    users.sort()\n",
        "    users_df = pd.DataFrame(users,columns = ['users'])\n",
        "\n",
        "    # function to return a random value (movieID) that is not in x\n",
        "    def sample_neg(x):\n",
        "        while True:\n",
        "            neg_id = random.randint(0, n_itm - 1)\n",
        "            if neg_id not in x:\n",
        "                return neg_id\n",
        "\n",
        "    # keep only the Reviewers that are in the current sample -> acts as an filter\n",
        "    interected_items_df = pd.merge(interected_items_df, users_df, how = 'right', left_on = 'user_id_idx', right_on = 'users')\n",
        "\n",
        "    # get a random movie ID that the user has interacted with for ALL users in that batch of users_df\n",
        "    pos_items = interected_items_df['item_id_idx'].apply(lambda x : random.choice(x)).values\n",
        "    # get a random movie ID that the user has NOT interacted with for ALL users in that batch of users_df\n",
        "    # returns it in the form a list of size batch_size\n",
        "    neg_items = interected_items_df['item_id_idx'].apply(lambda x: sample_neg(x)).values\n",
        "\n",
        "    # list of (each user,1 item he watched, 1 item he did not watch)\n",
        "    return (\n",
        "        torch.LongTensor(list(users)).to(device),\n",
        "        # we add n_usr to the list of positive & negative movie indexes to ensure that\n",
        "        # there is confusion between user & movie, eg: this way we wont be confused is it a movie / user if we see index 0 (know that it is a user)\n",
        "        torch.LongTensor(list(pos_items)).to(device) + n_usr,\n",
        "        torch.LongTensor(list(neg_items)).to(device) + n_usr\n",
        "    )"
      ]
    },
    {
      "cell_type": "markdown",
      "source": [
        "**Why use LightGCN over NGCF?**\n",
        "\n",
        "Unlike NGCF layers, LightGCN combines the intermediate representations of each layer to get the final embeddings by simple addition while for NGCF it uses a non-linear activation function after each layer of embedding before passing it to the next / uses other complex aggregation methods.\n",
        "\n",
        "LightGCN learns user and item embeddings by propagating them on the user-item interaction graph, and uses the sum of the embeddings learned at all layers as the final embedding.\n",
        "\n",
        "LightGCN does not use non-linear activation function to reduce complexity because the current user-item embeddings are sufficient.\n",
        "we draw this conclusion that the two operations inherited from GCN—feature transformation and nonlinear activation—has no contributionon NGCF’seffectiveness. (from LightGCN: Simplifying and Powering Graph Convolution Network for Recommendation)"
      ],
      "metadata": {
        "id": "9GCp8MmGdK4i"
      }
    },
    {
      "cell_type": "markdown",
      "metadata": {
        "id": "DYbU7Fkp-rGT"
      },
      "source": [
        "\n",
        "\n",
        "\n",
        "https://medium.com/@jn2279/better-recommender-systems-with-lightgcn-a0e764af14f9"
      ]
    },
    {
      "cell_type": "markdown",
      "source": [
        "**What does this LightGCN layer do?**\n",
        "\n",
        "For each layer, it takes in the embedding of all users & items as rows and cols being the lower dimensional embeddings & all possible edges, uses both to propogate the messages(link between user & movie) and update the embedding values. This is done as each layer considers 1 extra step of influence hence being able to consider slightly higher order relationships\n",
        "\n",
        "We apply normalisation after every message layer as we dont want the embeddings to have big changes after each layer."
      ],
      "metadata": {
        "id": "j17T0mJPV-bX"
      }
    },
    {
      "cell_type": "code",
      "execution_count": null,
      "metadata": {
        "id": "tRP-hc0N-tm9"
      },
      "outputs": [],
      "source": [
        "# single layer\n",
        "class LightGCNConv(MessagePassing):\n",
        "  def __init__(self, **kwargs):\n",
        "    # specify the type of aggregation used - sum the messages\n",
        "    super().__init__(aggr='add')\n",
        "\n",
        "  def forward(self, x, edge_index):\n",
        "    # Compute normalization - to prevent embedding values from getting too big\n",
        "    from_, to_ = edge_index\n",
        "    # returns how many nodes is this connected to - aka degree\n",
        "    deg = degree(to_, x.size(0), dtype=x.dtype)\n",
        "    # symmetric normalisation - to stabilise training\n",
        "    deg_inv_sqrt = deg.pow(-0.5)\n",
        "    # make those that had 0 adjaency value initally to 0\n",
        "    deg_inv_sqrt[deg_inv_sqrt == float('inf')] = 0\n",
        "    norm = deg_inv_sqrt[from_] * deg_inv_sqrt[to_]\n",
        "\n",
        "    # Start propagating messages\n",
        "    return self.propagate(edge_index, x=x, norm=norm)\n",
        "\n",
        "  def message(self, x_j, norm):\n",
        "    # norm - result of symmetric normalization applied to the adjacency matrix\n",
        "    # scale the feature vectors based on the normalized adjancency matrix\n",
        "    # to prevent the feature values from growing excessively during convulation\n",
        "\n",
        "    # x_j is your message gathering from neighbouring nodes\n",
        "    return norm.view(-1, 1) * x_j"
      ]
    },
    {
      "cell_type": "markdown",
      "metadata": {
        "id": "2Nx9iEfIgWcb"
      },
      "source": [
        "Ensure that LightGCN works well -> nodes that have similar interactions are bound to have similar values"
      ]
    },
    {
      "cell_type": "code",
      "execution_count": null,
      "metadata": {
        "colab": {
          "base_uri": "https://localhost:8080/"
        },
        "id": "Vgo1hYIYcVn3",
        "outputId": "008ba8c3-3ee0-4567-baf9-f336736cd840"
      },
      "outputs": [
        {
          "output_type": "execute_result",
          "data": {
            "text/plain": [
              "tensor([[0.0000, 0.0000, 0.7071, 0.5000, 0.0000],\n",
              "        [0.0000, 0.0000, 0.0000, 0.5000, 0.7071],\n",
              "        [0.7071, 0.0000, 0.0000, 0.0000, 0.0000],\n",
              "        [0.5000, 0.5000, 0.0000, 0.0000, 0.0000],\n",
              "        [0.0000, 0.7071, 0.0000, 0.0000, 0.0000]])"
            ]
          },
          "metadata": {},
          "execution_count": 17
        }
      ],
      "source": [
        "test_x = torch.Tensor(np.eye(5))\n",
        "test_edge_index = torch.LongTensor(np.array([\n",
        "  [0, 0, 1, 1, 2, 3, 3, 4],\n",
        "  [2, 3, 3, 4, 0, 0, 1, 1]\n",
        "]))\n",
        "\n",
        "LightGCNConv()(test_x, test_edge_index)"
      ]
    },
    {
      "cell_type": "markdown",
      "metadata": {
        "id": "4JK_oGmxhPQj"
      },
      "source": [
        "Create the Train edges -> we add u_t & i_t twice to make the edges bi-directional\n",
        "as its a undirected bipartite graph of user <-> item. Just to initilaise a graph of ALL Possible edges in the training set"
      ]
    },
    {
      "cell_type": "code",
      "execution_count": null,
      "metadata": {
        "id": "O3tV7FPydg-O"
      },
      "outputs": [],
      "source": [
        "u_t = torch.LongTensor(train_df.user_id_idx)\n",
        "i_t = torch.LongTensor(train_df.item_id_idx) + n_users\n",
        "\n",
        "train_edge_index = torch.stack((\n",
        "  # from edges index\n",
        "  torch.cat([u_t, i_t]),\n",
        "  # to edges index\n",
        "  torch.cat([i_t, u_t])\n",
        ")).to(device)"
      ]
    },
    {
      "cell_type": "code",
      "execution_count": null,
      "metadata": {
        "id": "TUImzJIa_Mvp"
      },
      "outputs": [],
      "source": [
        "class RecSysGNN(nn.Module):\n",
        "  def __init__(\n",
        "      self,\n",
        "      latent_dim,\n",
        "      num_layers,\n",
        "      # number of unqiue Reviewers & items\n",
        "      num_users,\n",
        "      num_items,\n",
        "\n",
        "      # dont need to dropout for this due to the simplicity of the LightGCN\n",
        "      # as it does not have the extra layers in between\n",
        "  ):\n",
        "    super(RecSysGNN, self).__init__()\n",
        "\n",
        "    # 1st param is num of rows & next is num of cols\n",
        "    self.embedding = nn.Embedding(num_users + num_items, latent_dim)\n",
        "\n",
        "    # holds a list of LightGCN modules where each module has 1 layer\n",
        "    # allows ur to access & change each layer later during train/eval\n",
        "    self.convs = nn.ModuleList(LightGCNConv() for _ in range(num_layers))\n",
        "\n",
        "    self.init_parameters()\n",
        "\n",
        "  def init_parameters(self):\n",
        "      # Authors of LightGCN report higher results with normal initialization\n",
        "      # cos initial param of model has small random values centered around 0 -> helps w convergence & prevent vanishing / exploding gradients as gradients are not too small/large\n",
        "      # initialises weights of tensor based on a specific distribution of std = 0.1 (normal)\n",
        "      nn.init.normal_(self.embedding.weight, std=0.1)\n",
        "\n",
        "\n",
        "  def forward(self, edge_index):\n",
        "    emb0 = self.embedding.weight\n",
        "    # have a list of all the embedding weights of each layer\n",
        "    embs = [emb0]\n",
        "\n",
        "    emb = emb0\n",
        "    # get embeddings produced at each layer\n",
        "    for conv in self.convs:\n",
        "      emb = conv(x=emb, edge_index=edge_index)\n",
        "      embs.append(emb)\n",
        "\n",
        "    # find the weighted sum to get final embeddings from all the layers - LightGCN\n",
        "    out = (torch.mean(torch.stack(embs, dim=0), dim=0))\n",
        "\n",
        "    return emb0, out\n",
        "\n",
        "\n",
        "  def encode_minibatch(self, users, pos_items, neg_items, edge_index):\n",
        "    emb0, out = self(edge_index)\n",
        "    return (\n",
        "        out[users],\n",
        "        out[pos_items],\n",
        "        out[neg_items],\n",
        "        emb0[users],\n",
        "        emb0[pos_items],\n",
        "        emb0[neg_items]\n",
        "    )"
      ]
    },
    {
      "cell_type": "markdown",
      "metadata": {
        "id": "rIvKJ_q9NYfD"
      },
      "source": [
        "## Get Loss function & Metrics"
      ]
    },
    {
      "cell_type": "markdown",
      "source": [
        "BPR loss is a pairwise ranking loss function. It optimizes the model parameters based on pairs of movies, where one movies is watched (positive interaction) and the other is not (negative interaction). This is because we want to rank items for each user such that watched movies are ranked higher than the unwatched ones.\n",
        "\n",
        "Our loss however combines both BPR loss & loss from embeddings to to consider both aspects"
      ],
      "metadata": {
        "id": "KZwkyO8Efdsm"
      }
    },
    {
      "cell_type": "code",
      "execution_count": null,
      "metadata": {
        "id": "pjZQuZJX-yVm"
      },
      "outputs": [],
      "source": [
        "def compute_bpr_loss(users, users_emb, pos_emb, neg_emb, user_emb0,  pos_emb0, neg_emb0):\n",
        "  # compute loss from initial embeddings, used for regulization\n",
        "  reg_loss = (1 / 2) * (\n",
        "    user_emb0.norm().pow(2) +\n",
        "    pos_emb0.norm().pow(2)  +\n",
        "    neg_emb0.norm().pow(2)\n",
        "  ) / float(len(users))\n",
        "\n",
        "  # compute BPR loss from user, positive item, and negative item embeddings\n",
        "  pos_scores = torch.mul(users_emb, pos_emb).sum(dim=1)\n",
        "  neg_scores = torch.mul(users_emb, neg_emb).sum(dim=1)\n",
        "\n",
        "  bpr_loss = torch.mean(F.softplus(neg_scores - pos_scores))\n",
        "\n",
        "  return bpr_loss, reg_loss"
      ]
    },
    {
      "cell_type": "markdown",
      "source": [
        "We get accuracy, recall & precision for topK items"
      ],
      "metadata": {
        "id": "5zBmyypBrvx3"
      }
    },
    {
      "cell_type": "code",
      "execution_count": null,
      "metadata": {
        "id": "Etfl0eZ2P5a9"
      },
      "outputs": [],
      "source": [
        "def get_metrics(user_Embed_wts, item_Embed_wts, n_users, n_items, train_data, test_data, K):\n",
        "    test_user_ids = torch.LongTensor(test_data['user_id_idx'].unique())\n",
        "\n",
        "    # compute the score of all user-item pairs in a n_users x n_items matrix\n",
        "    relevance_score = torch.matmul(user_Embed_wts, torch.transpose(item_Embed_wts, 0, 1))\n",
        "\n",
        "    # create dense tensor of all user-item interactions -> giving interactions as 1 (binary as 1 if interacted)\n",
        "    i = torch.stack((\n",
        "        torch.LongTensor(train_df['user_id_idx'].values),\n",
        "        torch.LongTensor(train_df['item_id_idx'].values)\n",
        "    ))\n",
        "    v = torch.ones((len(train_df)), dtype=torch.float64)\n",
        "    interactions_t = torch.sparse_coo_tensor(i, v, (n_users, n_items))\\\n",
        "        .to_dense().to(device)\n",
        "\n",
        "    # mask out training user-item interactions from metric computation\n",
        "    # by penalizing movies that the user had already watched\n",
        "    relevance_score = torch.mul(relevance_score, (1 - interactions_t))\n",
        "\n",
        "    # compute top scoring items for each user\n",
        "    _, topk_relevance_indices = torch.topk(relevance_score, K)\n",
        "\n",
        "    # for each user-(top relevant items for k times which will be a list)\n",
        "    topk_relevance_indices_df = pd.DataFrame(topk_relevance_indices.cpu().numpy(), columns=['top_indx_' + str(x + 1) for x in range(K)])\n",
        "    topk_relevance_indices_df['user_ID'] = topk_relevance_indices_df.index\n",
        "    topk_relevance_indices_df['top_rlvnt_itm'] = topk_relevance_indices_df[['top_indx_' + str(x + 1) for x in range(K)]].values.tolist()\n",
        "    topk_relevance_indices_df = topk_relevance_indices_df[['user_ID', 'top_rlvnt_itm']]\n",
        "\n",
        "    # measure overlap between recommended (top-scoring) and held-out user-item interactions\n",
        "    test_interacted_items = test_data.groupby('user_id_idx')['item_id_idx'].apply(list).reset_index()\n",
        "\n",
        "    # get list of items where the user has watched in the test set AND ones that we identified as to be recommended for each user\n",
        "    metrics_df = pd.merge(test_interacted_items, topk_relevance_indices_df, how='left', left_on='user_id_idx',\n",
        "                          right_on=['user_ID'])\n",
        "\n",
        "    # create an extra column where we keep the values where there is a match\n",
        "    metrics_df['intrsctn_itm'] = [list(set(a).intersection(b)) for a, b in\n",
        "                                    zip(metrics_df.item_id_idx, metrics_df.top_rlvnt_itm)]\n",
        "\n",
        "    # out of k actual recommended items how many did we predict correctly\n",
        "    metrics_df['recall'] = metrics_df.apply(lambda x: len(x['intrsctn_itm']) / len(x['item_id_idx']), axis=1)\n",
        "    # out of k of our predicted how many did we end up predicted correctly\n",
        "    metrics_df['precision'] = metrics_df.apply(lambda x: len(x['intrsctn_itm']) / K, axis=1)\n",
        "    # out all unqiue movies in (what we predicted & actual recommended movies), how many did we predict correctly\n",
        "    metrics_df['accuracy'] = metrics_df.apply(lambda x: len(x['intrsctn_itm']) / len(set(x['top_rlvnt_itm']) & set(x['item_id_idx'])), axis=1)\n",
        "\n",
        "    return metrics_df['recall'].mean(), metrics_df['precision'].mean(), metrics_df['accuracy'].mean()"
      ]
    },
    {
      "cell_type": "markdown",
      "metadata": {
        "id": "8XY1OGugNhQJ"
      },
      "source": [
        "## Model Training & Evaluation"
      ]
    },
    {
      "cell_type": "code",
      "execution_count": null,
      "metadata": {
        "id": "ARBeLyjs-5vt"
      },
      "outputs": [],
      "source": [
        "latent_dim = 64\n",
        "n_layers = 3\n",
        "\n",
        "EPOCHS = 5\n",
        "BATCH_SIZE = 1024\n",
        "DECAY = 0.0001\n",
        "LR = 0.005\n",
        "K = 20"
      ]
    },
    {
      "cell_type": "code",
      "execution_count": null,
      "metadata": {
        "id": "ISZDQkv3-7Yn"
      },
      "outputs": [],
      "source": [
        "def train_and_eval(model, optimizer, train_df):\n",
        "  loss_list_epoch = []\n",
        "  bpr_loss_list_epoch = []\n",
        "  reg_loss_list_epoch = []\n",
        "\n",
        "  recall_list = []\n",
        "  precision_list = []\n",
        "  accuracy_list = []\n",
        "\n",
        "  for epoch in tqdm(range(EPOCHS)):\n",
        "      n_batch = int(len(train_df)/BATCH_SIZE)\n",
        "\n",
        "      final_loss_list = []\n",
        "      bpr_loss_list = []\n",
        "      reg_loss_list = []\n",
        "\n",
        "      model.train()\n",
        "      for batch_idx in range(n_batch):\n",
        "\n",
        "          optimizer.zero_grad()\n",
        "\n",
        "          users, pos_items, neg_items = data_loader(train_df, BATCH_SIZE, n_users, n_items)\n",
        "          # get initial embeddings & output emebeddings out\n",
        "          users_emb, pos_emb, neg_emb, userEmb0,  posEmb0, negEmb0 = model.encode_minibatch(users, pos_items, neg_items, train_edge_index)\n",
        "\n",
        "          bpr_loss, reg_loss = compute_bpr_loss(\n",
        "            users, users_emb, pos_emb, neg_emb, userEmb0,  posEmb0, negEmb0\n",
        "          )\n",
        "\n",
        "          # penalty for overfitting -> aka each time the model runs\n",
        "          reg_loss = DECAY * reg_loss\n",
        "          final_loss = bpr_loss + reg_loss\n",
        "\n",
        "          final_loss.backward()\n",
        "          optimizer.step()\n",
        "\n",
        "          final_loss_list.append(final_loss.item())\n",
        "          bpr_loss_list.append(bpr_loss.item())\n",
        "          reg_loss_list.append(reg_loss.item())\n",
        "\n",
        "      # calculate metrics @ each epoch\n",
        "      model.eval()\n",
        "      with torch.no_grad():\n",
        "          _, out = model(train_edge_index)\n",
        "          # used to extract user & item embeddings as they are in rows\n",
        "          final_user_Embed, final_item_Embed = torch.split(out, (n_users, n_items))\n",
        "\n",
        "          test_topK_recall,  test_topK_precision, test_topK_accuracy = get_metrics(\n",
        "            final_user_Embed, final_item_Embed, n_users, n_items, train_df, test_df, K\n",
        "          )\n",
        "\n",
        "      # track losses & recall & precision metrics for each epoch\n",
        "      loss_list_epoch.append(round(np.mean(final_loss_list),4))\n",
        "      bpr_loss_list_epoch.append(round(np.mean(bpr_loss_list),4))\n",
        "      reg_loss_list_epoch.append(round(np.mean(reg_loss_list),4))\n",
        "\n",
        "      recall_list.append(round(test_topK_recall,4))\n",
        "      precision_list.append(round(test_topK_precision,4))\n",
        "      accuracy_list.append(round(test_topK_precision,4))\n",
        "\n",
        "  return (\n",
        "    loss_list_epoch,\n",
        "    bpr_loss_list_epoch,\n",
        "    reg_loss_list_epoch,\n",
        "    recall_list,\n",
        "    precision_list,\n",
        "    accuracy_list\n",
        "  )"
      ]
    },
    {
      "cell_type": "code",
      "execution_count": null,
      "metadata": {
        "id": "ulsH-9Nc--0C"
      },
      "outputs": [],
      "source": [
        "lightgcn = RecSysGNN(\n",
        "  latent_dim=latent_dim,\n",
        "  num_layers=n_layers,\n",
        "  num_users=n_users,\n",
        "  num_items=n_items,\n",
        ")\n",
        "lightgcn.to(device)\n",
        "\n",
        "optimizer = torch.optim.Adam(lightgcn.parameters(), lr=LR)"
      ]
    },
    {
      "cell_type": "code",
      "execution_count": null,
      "metadata": {
        "colab": {
          "base_uri": "https://localhost:8080/",
          "height": 319,
          "referenced_widgets": [
            "c6a5d816a7094a3a8f4de6d34bd10415",
            "119918f95269499eb797c634abd5cd68",
            "11a408d3608241a7b51a4b55c42c45e9",
            "2bc4eaeef5114d2d83c298155a0ed191",
            "44840908b11a4bf192bea62907f5242b",
            "3f263b3f4a6942f3a89fedf7262fe592",
            "c8e02adad40440508aeed764c3b6532c",
            "a8348722a68b426297319bd2ea0c9bb6",
            "f6ff8e3b82d5428c9bbce25fd8236854",
            "95091cbfdb544945822f7e043b7255ca",
            "09a8e9de1ad449dcad5f1b59315e55f3"
          ]
        },
        "id": "jbdxo-wNQzni",
        "outputId": "c52e0234-9d93-445f-f6c6-7a7322a8dea6"
      },
      "outputs": [
        {
          "output_type": "display_data",
          "data": {
            "text/plain": [
              "  0%|          | 0/5 [00:00<?, ?it/s]"
            ],
            "application/vnd.jupyter.widget-view+json": {
              "version_major": 2,
              "version_minor": 0,
              "model_id": "c6a5d816a7094a3a8f4de6d34bd10415"
            }
          },
          "metadata": {}
        },
        {
          "output_type": "error",
          "ename": "KeyboardInterrupt",
          "evalue": "",
          "traceback": [
            "\u001b[0;31m---------------------------------------------------------------------------\u001b[0m",
            "\u001b[0;31mKeyboardInterrupt\u001b[0m                         Traceback (most recent call last)",
            "\u001b[0;32m<ipython-input-26-d8d097198c1e>\u001b[0m in \u001b[0;36m<cell line: 1>\u001b[0;34m()\u001b[0m\n\u001b[0;32m----> 1\u001b[0;31m \u001b[0mlight_loss\u001b[0m\u001b[0;34m,\u001b[0m \u001b[0mlight_bpr\u001b[0m\u001b[0;34m,\u001b[0m \u001b[0mlight_reg\u001b[0m\u001b[0;34m,\u001b[0m \u001b[0mlight_recall\u001b[0m\u001b[0;34m,\u001b[0m \u001b[0mlight_precision\u001b[0m \u001b[0;34m=\u001b[0m \u001b[0mtrain_and_eval\u001b[0m\u001b[0;34m(\u001b[0m\u001b[0mlightgcn\u001b[0m\u001b[0;34m,\u001b[0m \u001b[0moptimizer\u001b[0m\u001b[0;34m,\u001b[0m \u001b[0mtrain_df\u001b[0m\u001b[0;34m)\u001b[0m\u001b[0;34m\u001b[0m\u001b[0;34m\u001b[0m\u001b[0m\n\u001b[0m",
            "\u001b[0;32m<ipython-input-23-a3f9aff2bfbf>\u001b[0m in \u001b[0;36mtrain_and_eval\u001b[0;34m(model, optimizer, train_df)\u001b[0m\n\u001b[1;32m     21\u001b[0m           \u001b[0musers\u001b[0m\u001b[0;34m,\u001b[0m \u001b[0mpos_items\u001b[0m\u001b[0;34m,\u001b[0m \u001b[0mneg_items\u001b[0m \u001b[0;34m=\u001b[0m \u001b[0mdata_loader\u001b[0m\u001b[0;34m(\u001b[0m\u001b[0mtrain_df\u001b[0m\u001b[0;34m,\u001b[0m \u001b[0mBATCH_SIZE\u001b[0m\u001b[0;34m,\u001b[0m \u001b[0mn_users\u001b[0m\u001b[0;34m,\u001b[0m \u001b[0mn_items\u001b[0m\u001b[0;34m)\u001b[0m\u001b[0;34m\u001b[0m\u001b[0;34m\u001b[0m\u001b[0m\n\u001b[1;32m     22\u001b[0m           \u001b[0;31m# get initial embeddings & output emebeddings out\u001b[0m\u001b[0;34m\u001b[0m\u001b[0;34m\u001b[0m\u001b[0m\n\u001b[0;32m---> 23\u001b[0;31m           \u001b[0musers_emb\u001b[0m\u001b[0;34m,\u001b[0m \u001b[0mpos_emb\u001b[0m\u001b[0;34m,\u001b[0m \u001b[0mneg_emb\u001b[0m\u001b[0;34m,\u001b[0m \u001b[0muserEmb0\u001b[0m\u001b[0;34m,\u001b[0m  \u001b[0mposEmb0\u001b[0m\u001b[0;34m,\u001b[0m \u001b[0mnegEmb0\u001b[0m \u001b[0;34m=\u001b[0m \u001b[0mmodel\u001b[0m\u001b[0;34m.\u001b[0m\u001b[0mencode_minibatch\u001b[0m\u001b[0;34m(\u001b[0m\u001b[0musers\u001b[0m\u001b[0;34m,\u001b[0m \u001b[0mpos_items\u001b[0m\u001b[0;34m,\u001b[0m \u001b[0mneg_items\u001b[0m\u001b[0;34m,\u001b[0m \u001b[0mtrain_edge_index\u001b[0m\u001b[0;34m)\u001b[0m\u001b[0;34m\u001b[0m\u001b[0;34m\u001b[0m\u001b[0m\n\u001b[0m\u001b[1;32m     24\u001b[0m \u001b[0;34m\u001b[0m\u001b[0m\n\u001b[1;32m     25\u001b[0m           bpr_loss, reg_loss = compute_bpr_loss(\n",
            "\u001b[0;32m<ipython-input-19-42d477fea67b>\u001b[0m in \u001b[0;36mencode_minibatch\u001b[0;34m(self, users, pos_items, neg_items, edge_index)\u001b[0m\n\u001b[1;32m     47\u001b[0m \u001b[0;34m\u001b[0m\u001b[0m\n\u001b[1;32m     48\u001b[0m   \u001b[0;32mdef\u001b[0m \u001b[0mencode_minibatch\u001b[0m\u001b[0;34m(\u001b[0m\u001b[0mself\u001b[0m\u001b[0;34m,\u001b[0m \u001b[0musers\u001b[0m\u001b[0;34m,\u001b[0m \u001b[0mpos_items\u001b[0m\u001b[0;34m,\u001b[0m \u001b[0mneg_items\u001b[0m\u001b[0;34m,\u001b[0m \u001b[0medge_index\u001b[0m\u001b[0;34m)\u001b[0m\u001b[0;34m:\u001b[0m\u001b[0;34m\u001b[0m\u001b[0;34m\u001b[0m\u001b[0m\n\u001b[0;32m---> 49\u001b[0;31m     \u001b[0memb0\u001b[0m\u001b[0;34m,\u001b[0m \u001b[0mout\u001b[0m \u001b[0;34m=\u001b[0m \u001b[0mself\u001b[0m\u001b[0;34m(\u001b[0m\u001b[0medge_index\u001b[0m\u001b[0;34m)\u001b[0m\u001b[0;34m\u001b[0m\u001b[0;34m\u001b[0m\u001b[0m\n\u001b[0m\u001b[1;32m     50\u001b[0m     return (\n\u001b[1;32m     51\u001b[0m         \u001b[0mout\u001b[0m\u001b[0;34m[\u001b[0m\u001b[0musers\u001b[0m\u001b[0;34m]\u001b[0m\u001b[0;34m,\u001b[0m\u001b[0;34m\u001b[0m\u001b[0;34m\u001b[0m\u001b[0m\n",
            "\u001b[0;32m/usr/local/lib/python3.10/dist-packages/torch/nn/modules/module.py\u001b[0m in \u001b[0;36m_wrapped_call_impl\u001b[0;34m(self, *args, **kwargs)\u001b[0m\n\u001b[1;32m   1509\u001b[0m             \u001b[0;32mreturn\u001b[0m \u001b[0mself\u001b[0m\u001b[0;34m.\u001b[0m\u001b[0m_compiled_call_impl\u001b[0m\u001b[0;34m(\u001b[0m\u001b[0;34m*\u001b[0m\u001b[0margs\u001b[0m\u001b[0;34m,\u001b[0m \u001b[0;34m**\u001b[0m\u001b[0mkwargs\u001b[0m\u001b[0;34m)\u001b[0m  \u001b[0;31m# type: ignore[misc]\u001b[0m\u001b[0;34m\u001b[0m\u001b[0;34m\u001b[0m\u001b[0m\n\u001b[1;32m   1510\u001b[0m         \u001b[0;32melse\u001b[0m\u001b[0;34m:\u001b[0m\u001b[0;34m\u001b[0m\u001b[0;34m\u001b[0m\u001b[0m\n\u001b[0;32m-> 1511\u001b[0;31m             \u001b[0;32mreturn\u001b[0m \u001b[0mself\u001b[0m\u001b[0;34m.\u001b[0m\u001b[0m_call_impl\u001b[0m\u001b[0;34m(\u001b[0m\u001b[0;34m*\u001b[0m\u001b[0margs\u001b[0m\u001b[0;34m,\u001b[0m \u001b[0;34m**\u001b[0m\u001b[0mkwargs\u001b[0m\u001b[0;34m)\u001b[0m\u001b[0;34m\u001b[0m\u001b[0;34m\u001b[0m\u001b[0m\n\u001b[0m\u001b[1;32m   1512\u001b[0m \u001b[0;34m\u001b[0m\u001b[0m\n\u001b[1;32m   1513\u001b[0m     \u001b[0;32mdef\u001b[0m \u001b[0m_call_impl\u001b[0m\u001b[0;34m(\u001b[0m\u001b[0mself\u001b[0m\u001b[0;34m,\u001b[0m \u001b[0;34m*\u001b[0m\u001b[0margs\u001b[0m\u001b[0;34m,\u001b[0m \u001b[0;34m**\u001b[0m\u001b[0mkwargs\u001b[0m\u001b[0;34m)\u001b[0m\u001b[0;34m:\u001b[0m\u001b[0;34m\u001b[0m\u001b[0;34m\u001b[0m\u001b[0m\n",
            "\u001b[0;32m/usr/local/lib/python3.10/dist-packages/torch/nn/modules/module.py\u001b[0m in \u001b[0;36m_call_impl\u001b[0;34m(self, *args, **kwargs)\u001b[0m\n\u001b[1;32m   1518\u001b[0m                 \u001b[0;32mor\u001b[0m \u001b[0m_global_backward_pre_hooks\u001b[0m \u001b[0;32mor\u001b[0m \u001b[0m_global_backward_hooks\u001b[0m\u001b[0;34m\u001b[0m\u001b[0;34m\u001b[0m\u001b[0m\n\u001b[1;32m   1519\u001b[0m                 or _global_forward_hooks or _global_forward_pre_hooks):\n\u001b[0;32m-> 1520\u001b[0;31m             \u001b[0;32mreturn\u001b[0m \u001b[0mforward_call\u001b[0m\u001b[0;34m(\u001b[0m\u001b[0;34m*\u001b[0m\u001b[0margs\u001b[0m\u001b[0;34m,\u001b[0m \u001b[0;34m**\u001b[0m\u001b[0mkwargs\u001b[0m\u001b[0;34m)\u001b[0m\u001b[0;34m\u001b[0m\u001b[0;34m\u001b[0m\u001b[0m\n\u001b[0m\u001b[1;32m   1521\u001b[0m \u001b[0;34m\u001b[0m\u001b[0m\n\u001b[1;32m   1522\u001b[0m         \u001b[0;32mtry\u001b[0m\u001b[0;34m:\u001b[0m\u001b[0;34m\u001b[0m\u001b[0;34m\u001b[0m\u001b[0m\n",
            "\u001b[0;32m<ipython-input-19-42d477fea67b>\u001b[0m in \u001b[0;36mforward\u001b[0;34m(self, edge_index)\u001b[0m\n\u001b[1;32m     37\u001b[0m     \u001b[0;31m# get embeddings produced at each layer\u001b[0m\u001b[0;34m\u001b[0m\u001b[0;34m\u001b[0m\u001b[0m\n\u001b[1;32m     38\u001b[0m     \u001b[0;32mfor\u001b[0m \u001b[0mconv\u001b[0m \u001b[0;32min\u001b[0m \u001b[0mself\u001b[0m\u001b[0;34m.\u001b[0m\u001b[0mconvs\u001b[0m\u001b[0;34m:\u001b[0m\u001b[0;34m\u001b[0m\u001b[0;34m\u001b[0m\u001b[0m\n\u001b[0;32m---> 39\u001b[0;31m       \u001b[0memb\u001b[0m \u001b[0;34m=\u001b[0m \u001b[0mconv\u001b[0m\u001b[0;34m(\u001b[0m\u001b[0mx\u001b[0m\u001b[0;34m=\u001b[0m\u001b[0memb\u001b[0m\u001b[0;34m,\u001b[0m \u001b[0medge_index\u001b[0m\u001b[0;34m=\u001b[0m\u001b[0medge_index\u001b[0m\u001b[0;34m)\u001b[0m\u001b[0;34m\u001b[0m\u001b[0;34m\u001b[0m\u001b[0m\n\u001b[0m\u001b[1;32m     40\u001b[0m       \u001b[0membs\u001b[0m\u001b[0;34m.\u001b[0m\u001b[0mappend\u001b[0m\u001b[0;34m(\u001b[0m\u001b[0memb\u001b[0m\u001b[0;34m)\u001b[0m\u001b[0;34m\u001b[0m\u001b[0;34m\u001b[0m\u001b[0m\n\u001b[1;32m     41\u001b[0m \u001b[0;34m\u001b[0m\u001b[0m\n",
            "\u001b[0;32m/usr/local/lib/python3.10/dist-packages/torch/nn/modules/module.py\u001b[0m in \u001b[0;36m_wrapped_call_impl\u001b[0;34m(self, *args, **kwargs)\u001b[0m\n\u001b[1;32m   1509\u001b[0m             \u001b[0;32mreturn\u001b[0m \u001b[0mself\u001b[0m\u001b[0;34m.\u001b[0m\u001b[0m_compiled_call_impl\u001b[0m\u001b[0;34m(\u001b[0m\u001b[0;34m*\u001b[0m\u001b[0margs\u001b[0m\u001b[0;34m,\u001b[0m \u001b[0;34m**\u001b[0m\u001b[0mkwargs\u001b[0m\u001b[0;34m)\u001b[0m  \u001b[0;31m# type: ignore[misc]\u001b[0m\u001b[0;34m\u001b[0m\u001b[0;34m\u001b[0m\u001b[0m\n\u001b[1;32m   1510\u001b[0m         \u001b[0;32melse\u001b[0m\u001b[0;34m:\u001b[0m\u001b[0;34m\u001b[0m\u001b[0;34m\u001b[0m\u001b[0m\n\u001b[0;32m-> 1511\u001b[0;31m             \u001b[0;32mreturn\u001b[0m \u001b[0mself\u001b[0m\u001b[0;34m.\u001b[0m\u001b[0m_call_impl\u001b[0m\u001b[0;34m(\u001b[0m\u001b[0;34m*\u001b[0m\u001b[0margs\u001b[0m\u001b[0;34m,\u001b[0m \u001b[0;34m**\u001b[0m\u001b[0mkwargs\u001b[0m\u001b[0;34m)\u001b[0m\u001b[0;34m\u001b[0m\u001b[0;34m\u001b[0m\u001b[0m\n\u001b[0m\u001b[1;32m   1512\u001b[0m \u001b[0;34m\u001b[0m\u001b[0m\n\u001b[1;32m   1513\u001b[0m     \u001b[0;32mdef\u001b[0m \u001b[0m_call_impl\u001b[0m\u001b[0;34m(\u001b[0m\u001b[0mself\u001b[0m\u001b[0;34m,\u001b[0m \u001b[0;34m*\u001b[0m\u001b[0margs\u001b[0m\u001b[0;34m,\u001b[0m \u001b[0;34m**\u001b[0m\u001b[0mkwargs\u001b[0m\u001b[0;34m)\u001b[0m\u001b[0;34m:\u001b[0m\u001b[0;34m\u001b[0m\u001b[0;34m\u001b[0m\u001b[0m\n",
            "\u001b[0;32m/usr/local/lib/python3.10/dist-packages/torch/nn/modules/module.py\u001b[0m in \u001b[0;36m_call_impl\u001b[0;34m(self, *args, **kwargs)\u001b[0m\n\u001b[1;32m   1518\u001b[0m                 \u001b[0;32mor\u001b[0m \u001b[0m_global_backward_pre_hooks\u001b[0m \u001b[0;32mor\u001b[0m \u001b[0m_global_backward_hooks\u001b[0m\u001b[0;34m\u001b[0m\u001b[0;34m\u001b[0m\u001b[0m\n\u001b[1;32m   1519\u001b[0m                 or _global_forward_hooks or _global_forward_pre_hooks):\n\u001b[0;32m-> 1520\u001b[0;31m             \u001b[0;32mreturn\u001b[0m \u001b[0mforward_call\u001b[0m\u001b[0;34m(\u001b[0m\u001b[0;34m*\u001b[0m\u001b[0margs\u001b[0m\u001b[0;34m,\u001b[0m \u001b[0;34m**\u001b[0m\u001b[0mkwargs\u001b[0m\u001b[0;34m)\u001b[0m\u001b[0;34m\u001b[0m\u001b[0;34m\u001b[0m\u001b[0m\n\u001b[0m\u001b[1;32m   1521\u001b[0m \u001b[0;34m\u001b[0m\u001b[0m\n\u001b[1;32m   1522\u001b[0m         \u001b[0;32mtry\u001b[0m\u001b[0;34m:\u001b[0m\u001b[0;34m\u001b[0m\u001b[0;34m\u001b[0m\u001b[0m\n",
            "\u001b[0;32m<ipython-input-16-4597e404563c>\u001b[0m in \u001b[0;36mforward\u001b[0;34m(self, x, edge_index)\u001b[0m\n\u001b[1;32m     17\u001b[0m \u001b[0;34m\u001b[0m\u001b[0m\n\u001b[1;32m     18\u001b[0m     \u001b[0;31m# Start propagating messages\u001b[0m\u001b[0;34m\u001b[0m\u001b[0;34m\u001b[0m\u001b[0m\n\u001b[0;32m---> 19\u001b[0;31m     \u001b[0;32mreturn\u001b[0m \u001b[0mself\u001b[0m\u001b[0;34m.\u001b[0m\u001b[0mpropagate\u001b[0m\u001b[0;34m(\u001b[0m\u001b[0medge_index\u001b[0m\u001b[0;34m,\u001b[0m \u001b[0mx\u001b[0m\u001b[0;34m=\u001b[0m\u001b[0mx\u001b[0m\u001b[0;34m,\u001b[0m \u001b[0mnorm\u001b[0m\u001b[0;34m=\u001b[0m\u001b[0mnorm\u001b[0m\u001b[0;34m)\u001b[0m\u001b[0;34m\u001b[0m\u001b[0;34m\u001b[0m\u001b[0m\n\u001b[0m\u001b[1;32m     20\u001b[0m \u001b[0;34m\u001b[0m\u001b[0m\n\u001b[1;32m     21\u001b[0m   \u001b[0;32mdef\u001b[0m \u001b[0mmessage\u001b[0m\u001b[0;34m(\u001b[0m\u001b[0mself\u001b[0m\u001b[0;34m,\u001b[0m \u001b[0mx_j\u001b[0m\u001b[0;34m,\u001b[0m \u001b[0mnorm\u001b[0m\u001b[0;34m)\u001b[0m\u001b[0;34m:\u001b[0m\u001b[0;34m\u001b[0m\u001b[0;34m\u001b[0m\u001b[0m\n",
            "\u001b[0;32m/usr/local/lib/python3.10/dist-packages/torch_geometric/nn/conv/message_passing.py\u001b[0m in \u001b[0;36mpropagate\u001b[0;34m(self, edge_index, size, **kwargs)\u001b[0m\n\u001b[1;32m    545\u001b[0m                     \u001b[0;32mif\u001b[0m \u001b[0mres\u001b[0m \u001b[0;32mis\u001b[0m \u001b[0;32mnot\u001b[0m \u001b[0;32mNone\u001b[0m\u001b[0;34m:\u001b[0m\u001b[0;34m\u001b[0m\u001b[0;34m\u001b[0m\u001b[0m\n\u001b[1;32m    546\u001b[0m                         \u001b[0mmsg_kwargs\u001b[0m \u001b[0;34m=\u001b[0m \u001b[0mres\u001b[0m\u001b[0;34m[\u001b[0m\u001b[0;36m0\u001b[0m\u001b[0;34m]\u001b[0m \u001b[0;32mif\u001b[0m \u001b[0misinstance\u001b[0m\u001b[0;34m(\u001b[0m\u001b[0mres\u001b[0m\u001b[0;34m,\u001b[0m \u001b[0mtuple\u001b[0m\u001b[0;34m)\u001b[0m \u001b[0;32melse\u001b[0m \u001b[0mres\u001b[0m\u001b[0;34m\u001b[0m\u001b[0;34m\u001b[0m\u001b[0m\n\u001b[0;32m--> 547\u001b[0;31m                 \u001b[0mout\u001b[0m \u001b[0;34m=\u001b[0m \u001b[0mself\u001b[0m\u001b[0;34m.\u001b[0m\u001b[0mmessage\u001b[0m\u001b[0;34m(\u001b[0m\u001b[0;34m**\u001b[0m\u001b[0mmsg_kwargs\u001b[0m\u001b[0;34m)\u001b[0m\u001b[0;34m\u001b[0m\u001b[0;34m\u001b[0m\u001b[0m\n\u001b[0m\u001b[1;32m    548\u001b[0m                 \u001b[0;32mfor\u001b[0m \u001b[0mhook\u001b[0m \u001b[0;32min\u001b[0m \u001b[0mself\u001b[0m\u001b[0;34m.\u001b[0m\u001b[0m_message_forward_hooks\u001b[0m\u001b[0;34m.\u001b[0m\u001b[0mvalues\u001b[0m\u001b[0;34m(\u001b[0m\u001b[0;34m)\u001b[0m\u001b[0;34m:\u001b[0m\u001b[0;34m\u001b[0m\u001b[0;34m\u001b[0m\u001b[0m\n\u001b[1;32m    549\u001b[0m                     \u001b[0mres\u001b[0m \u001b[0;34m=\u001b[0m \u001b[0mhook\u001b[0m\u001b[0;34m(\u001b[0m\u001b[0mself\u001b[0m\u001b[0;34m,\u001b[0m \u001b[0;34m(\u001b[0m\u001b[0mmsg_kwargs\u001b[0m\u001b[0;34m,\u001b[0m \u001b[0;34m)\u001b[0m\u001b[0;34m,\u001b[0m \u001b[0mout\u001b[0m\u001b[0;34m)\u001b[0m\u001b[0;34m\u001b[0m\u001b[0;34m\u001b[0m\u001b[0m\n",
            "\u001b[0;31mKeyboardInterrupt\u001b[0m: "
          ]
        }
      ],
      "source": [
        "light_loss, light_bpr, light_reg, light_recall, light_precision, light_accuracy = train_and_eval(lightgcn, optimizer, train_df)"
      ]
    },
    {
      "cell_type": "code",
      "execution_count": null,
      "metadata": {
        "id": "OO8IQNoDuIP6",
        "colab": {
          "base_uri": "https://localhost:8080/",
          "height": 466
        },
        "outputId": "7a5070bd-e2fc-4a40-e8b3-1017d1b36b3d"
      },
      "outputs": [
        {
          "output_type": "execute_result",
          "data": {
            "text/plain": [
              "<matplotlib.legend.Legend at 0x7ebaaffdb730>"
            ]
          },
          "metadata": {},
          "execution_count": 105
        },
        {
          "output_type": "display_data",
          "data": {
            "text/plain": [
              "<Figure size 640x480 with 1 Axes>"
            ],
            "image/png": "[encoded data removed]"
          },
          "metadata": {}
        }
      ],
      "source": [
        "epoch_list = [(i+1) for i in range(EPOCHS)]\n",
        "\n",
        "plt.plot(epoch_list, light_loss, label='Total Training Loss')\n",
        "plt.plot(epoch_list, light_bpr, label='BPR Training Loss')\n",
        "plt.plot(epoch_list, light_reg, label='Reg Training Loss')\n",
        "\n",
        "plt.xlabel('Epoch')\n",
        "plt.ylabel('Loss')\n",
        "plt.legend()"
      ]
    },
    {
      "cell_type": "code",
      "execution_count": null,
      "metadata": {
        "id": "Ly39MQtnAK4_",
        "colab": {
          "base_uri": "https://localhost:8080/",
          "height": 466
        },
        "outputId": "d3fdb947-f3e2-45cc-fa77-e13f37239201"
      },
      "outputs": [
        {
          "output_type": "execute_result",
          "data": {
            "text/plain": [
              "<matplotlib.legend.Legend at 0x7ebab043d6c0>"
            ]
          },
          "metadata": {},
          "execution_count": 106
        },
        {
          "output_type": "display_data",
          "data": {
            "text/plain": [
              "<Figure size 640x480 with 1 Axes>"
            ],
            "image/png": "[encoded data removed]"
          },
          "metadata": {}
        }
      ],
      "source": [
        "plt.plot(epoch_list, light_recall, label='Recall')\n",
        "plt.plot(epoch_list, light_precision, label='Precision')\n",
        "plt.xlabel('Epoch')\n",
        "plt.ylabel('Metrics')\n",
        "plt.legend()"
      ]
    }
  ],
  "metadata": {
    "colab": {
      "collapsed_sections": [
        "RYNnw_tkj8o1",
        "9AFGKCZwj8pB",
        "ht5SPgWRKH6V",
        "axknrAV3G5rF",
        "4A4nVoLsm6LT",
        "rIvKJ_q9NYfD",
        "8XY1OGugNhQJ"
      ],
      "provenance": [],
      "gpuType": "T4"
    },
    "kernelspec": {
      "display_name": "Python 3",
      "name": "python3"
    },
    "language_info": {
      "codemirror_mode": {
        "name": "ipython",
        "version": 3
      },
      "file_extension": ".py",
      "mimetype": "text/x-python",
      "name": "python",
      "nbconvert_exporter": "python",
      "pygments_lexer": "ipython3",
      "version": "3.10.6"
    },
    "widgets": {
      "application/vnd.jupyter.widget-state+json": {
        "c6a5d816a7094a3a8f4de6d34bd10415": {
          "model_module": "@jupyter-widgets/controls",
          "model_name": "HBoxModel",
          "model_module_version": "1.5.0",
          "state": {
            "_dom_classes": [],
            "_model_module": "@jupyter-widgets/controls",
            "_model_module_version": "1.5.0",
            "_model_name": "HBoxModel",
            "_view_count": null,
            "_view_module": "@jupyter-widgets/controls",
            "_view_module_version": "1.5.0",
            "_view_name": "HBoxView",
            "box_style": "",
            "children": [
              "IPY_MODEL_119918f95269499eb797c634abd5cd68",
              "IPY_MODEL_11a408d3608241a7b51a4b55c42c45e9",
              "IPY_MODEL_2bc4eaeef5114d2d83c298155a0ed191"
            ],
            "layout": "IPY_MODEL_44840908b11a4bf192bea62907f5242b"
          }
        },
        "119918f95269499eb797c634abd5cd68": {
          "model_module": "@jupyter-widgets/controls",
          "model_name": "HTMLModel",
          "model_module_version": "1.5.0",
          "state": {
            "_dom_classes": [],
            "_model_module": "@jupyter-widgets/controls",
            "_model_module_version": "1.5.0",
            "_model_name": "HTMLModel",
            "_view_count": null,
            "_view_module": "@jupyter-widgets/controls",
            "_view_module_version": "1.5.0",
            "_view_name": "HTMLView",
            "description": "",
            "description_tooltip": null,
            "layout": "IPY_MODEL_3f263b3f4a6942f3a89fedf7262fe592",
            "placeholder": "​",
            "style": "IPY_MODEL_c8e02adad40440508aeed764c3b6532c",
            "value": " 20%"
          }
        },
        "11a408d3608241a7b51a4b55c42c45e9": {
          "model_module": "@jupyter-widgets/controls",
          "model_name": "FloatProgressModel",
          "model_module_version": "1.5.0",
          "state": {
            "_dom_classes": [],
            "_model_module": "@jupyter-widgets/controls",
            "_model_module_version": "1.5.0",
            "_model_name": "FloatProgressModel",
            "_view_count": null,
            "_view_module": "@jupyter-widgets/controls",
            "_view_module_version": "1.5.0",
            "_view_name": "ProgressView",
            "bar_style": "danger",
            "description": "",
            "description_tooltip": null,
            "layout": "IPY_MODEL_a8348722a68b426297319bd2ea0c9bb6",
            "max": 5,
            "min": 0,
            "orientation": "horizontal",
            "style": "IPY_MODEL_f6ff8e3b82d5428c9bbce25fd8236854",
            "value": 1
          }
        },
        "2bc4eaeef5114d2d83c298155a0ed191": {
          "model_module": "@jupyter-widgets/controls",
          "model_name": "HTMLModel",
          "model_module_version": "1.5.0",
          "state": {
            "_dom_classes": [],
            "_model_module": "@jupyter-widgets/controls",
            "_model_module_version": "1.5.0",
            "_model_name": "HTMLModel",
            "_view_count": null,
            "_view_module": "@jupyter-widgets/controls",
            "_view_module_version": "1.5.0",
            "_view_name": "HTMLView",
            "description": "",
            "description_tooltip": null,
            "layout": "IPY_MODEL_95091cbfdb544945822f7e043b7255ca",
            "placeholder": "​",
            "style": "IPY_MODEL_09a8e9de1ad449dcad5f1b59315e55f3",
            "value": " 1/5 [09:19&lt;29:44, 446.05s/it]"
          }
        },
        "44840908b11a4bf192bea62907f5242b": {
          "model_module": "@jupyter-widgets/base",
          "model_name": "LayoutModel",
          "model_module_version": "1.2.0",
          "state": {
            "_model_module": "@jupyter-widgets/base",
            "_model_module_version": "1.2.0",
            "_model_name": "LayoutModel",
            "_view_count": null,
            "_view_module": "@jupyter-widgets/base",
            "_view_module_version": "1.2.0",
            "_view_name": "LayoutView",
            "align_content": null,
            "align_items": null,
            "align_self": null,
            "border": null,
            "bottom": null,
            "display": null,
            "flex": null,
            "flex_flow": null,
            "grid_area": null,
            "grid_auto_columns": null,
            "grid_auto_flow": null,
            "grid_auto_rows": null,
            "grid_column": null,
            "grid_gap": null,
            "grid_row": null,
            "grid_template_areas": null,
            "grid_template_columns": null,
            "grid_template_rows": null,
            "height": null,
            "justify_content": null,
            "justify_items": null,
            "left": null,
            "margin": null,
            "max_height": null,
            "max_width": null,
            "min_height": null,
            "min_width": null,
            "object_fit": null,
            "object_position": null,
            "order": null,
            "overflow": null,
            "overflow_x": null,
            "overflow_y": null,
            "padding": null,
            "right": null,
            "top": null,
            "visibility": null,
            "width": null
          }
        },
        "3f263b3f4a6942f3a89fedf7262fe592": {
          "model_module": "@jupyter-widgets/base",
          "model_name": "LayoutModel",
          "model_module_version": "1.2.0",
          "state": {
            "_model_module": "@jupyter-widgets/base",
            "_model_module_version": "1.2.0",
            "_model_name": "LayoutModel",
            "_view_count": null,
            "_view_module": "@jupyter-widgets/base",
            "_view_module_version": "1.2.0",
            "_view_name": "LayoutView",
            "align_content": null,
            "align_items": null,
            "align_self": null,
            "border": null,
            "bottom": null,
            "display": null,
            "flex": null,
            "flex_flow": null,
            "grid_area": null,
            "grid_auto_columns": null,
            "grid_auto_flow": null,
            "grid_auto_rows": null,
            "grid_column": null,
            "grid_gap": null,
            "grid_row": null,
            "grid_template_areas": null,
            "grid_template_columns": null,
            "grid_template_rows": null,
            "height": null,
            "justify_content": null,
            "justify_items": null,
            "left": null,
            "margin": null,
            "max_height": null,
            "max_width": null,
            "min_height": null,
            "min_width": null,
            "object_fit": null,
            "object_position": null,
            "order": null,
            "overflow": null,
            "overflow_x": null,
            "overflow_y": null,
            "padding": null,
            "right": null,
            "top": null,
            "visibility": null,
            "width": null
          }
        },
        "c8e02adad40440508aeed764c3b6532c": {
          "model_module": "@jupyter-widgets/controls",
          "model_name": "DescriptionStyleModel",
          "model_module_version": "1.5.0",
          "state": {
            "_model_module": "@jupyter-widgets/controls",
            "_model_module_version": "1.5.0",
            "_model_name": "DescriptionStyleModel",
            "_view_count": null,
            "_view_module": "@jupyter-widgets/base",
            "_view_module_version": "1.2.0",
            "_view_name": "StyleView",
            "description_width": ""
          }
        },
        "a8348722a68b426297319bd2ea0c9bb6": {
          "model_module": "@jupyter-widgets/base",
          "model_name": "LayoutModel",
          "model_module_version": "1.2.0",
          "state": {
            "_model_module": "@jupyter-widgets/base",
            "_model_module_version": "1.2.0",
            "_model_name": "LayoutModel",
            "_view_count": null,
            "_view_module": "@jupyter-widgets/base",
            "_view_module_version": "1.2.0",
            "_view_name": "LayoutView",
            "align_content": null,
            "align_items": null,
            "align_self": null,
            "border": null,
            "bottom": null,
            "display": null,
            "flex": null,
            "flex_flow": null,
            "grid_area": null,
            "grid_auto_columns": null,
            "grid_auto_flow": null,
            "grid_auto_rows": null,
            "grid_column": null,
            "grid_gap": null,
            "grid_row": null,
            "grid_template_areas": null,
            "grid_template_columns": null,
            "grid_template_rows": null,
            "height": null,
            "justify_content": null,
            "justify_items": null,
            "left": null,
            "margin": null,
            "max_height": null,
            "max_width": null,
            "min_height": null,
            "min_width": null,
            "object_fit": null,
            "object_position": null,
            "order": null,
            "overflow": null,
            "overflow_x": null,
            "overflow_y": null,
            "padding": null,
            "right": null,
            "top": null,
            "visibility": null,
            "width": null
          }
        },
        "f6ff8e3b82d5428c9bbce25fd8236854": {
          "model_module": "@jupyter-widgets/controls",
          "model_name": "ProgressStyleModel",
          "model_module_version": "1.5.0",
          "state": {
            "_model_module": "@jupyter-widgets/controls",
            "_model_module_version": "1.5.0",
            "_model_name": "ProgressStyleModel",
            "_view_count": null,
            "_view_module": "@jupyter-widgets/base",
            "_view_module_version": "1.2.0",
            "_view_name": "StyleView",
            "bar_color": null,
            "description_width": ""
          }
        },
        "95091cbfdb544945822f7e043b7255ca": {
          "model_module": "@jupyter-widgets/base",
          "model_name": "LayoutModel",
          "model_module_version": "1.2.0",
          "state": {
            "_model_module": "@jupyter-widgets/base",
            "_model_module_version": "1.2.0",
            "_model_name": "LayoutModel",
            "_view_count": null,
            "_view_module": "@jupyter-widgets/base",
            "_view_module_version": "1.2.0",
            "_view_name": "LayoutView",
            "align_content": null,
            "align_items": null,
            "align_self": null,
            "border": null,
            "bottom": null,
            "display": null,
            "flex": null,
            "flex_flow": null,
            "grid_area": null,
            "grid_auto_columns": null,
            "grid_auto_flow": null,
            "grid_auto_rows": null,
            "grid_column": null,
            "grid_gap": null,
            "grid_row": null,
            "grid_template_areas": null,
            "grid_template_columns": null,
            "grid_template_rows": null,
            "height": null,
            "justify_content": null,
            "justify_items": null,
            "left": null,
            "margin": null,
            "max_height": null,
            "max_width": null,
            "min_height": null,
            "min_width": null,
            "object_fit": null,
            "object_position": null,
            "order": null,
            "overflow": null,
            "overflow_x": null,
            "overflow_y": null,
            "padding": null,
            "right": null,
            "top": null,
            "visibility": null,
            "width": null
          }
        },
        "09a8e9de1ad449dcad5f1b59315e55f3": {
          "model_module": "@jupyter-widgets/controls",
          "model_name": "DescriptionStyleModel",
          "model_module_version": "1.5.0",
          "state": {
            "_model_module": "@jupyter-widgets/controls",
            "_model_module_version": "1.5.0",
            "_model_name": "DescriptionStyleModel",
            "_view_count": null,
            "_view_module": "@jupyter-widgets/base",
            "_view_module_version": "1.2.0",
            "_view_name": "StyleView",
            "description_width": ""
          }
        }
      }
    },
    "accelerator": "GPU"
  },
  "nbformat": 4,
  "nbformat_minor": 0
}