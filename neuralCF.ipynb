{
  "cells": [
    {
      "cell_type": "markdown",
      "metadata": {
        "id": "RYNnw_tkj8o1"
      },
      "source": [
        "# Dataset & imports\n"
      ]
    },
    {
      "cell_type": "code",
      "source": [
        "import pandas as pd\n",
        "!gdown https://drive.google.com/uc?id=1vbteMX-kHyYAAS7JIrrog_aZvvOY77Q0\n",
        "\n",
        "df = pd.read_csv('final_dataset.csv', dtype = {'Movie': 'string', 'Reviewer': 'string', 'Review': 'string', 'Score': 'float64', 'Sentiment_scores': 'float64', 'overview': 'string', 'recommend': 'int'}, parse_dates=['Date'])\n"
      ],
      "metadata": {
        "id": "2_MmIVN00pfm",
        "colab": {
          "base_uri": "https://localhost:8080/"
        },
        "outputId": "2911f7fb-f352-4927-eb6b-3f63ed80c24d"
      },
      "execution_count": null,
      "outputs": [
        {
          "output_type": "stream",
          "name": "stdout",
          "text": [
            "Downloading...\n",
            "From (original): https://drive.google.com/uc?id=1vbteMX-kHyYAAS7JIrrog_aZvvOY77Q0\n",
            "From (redirected): https://drive.google.com/uc?id=1vbteMX-kHyYAAS7JIrrog_aZvvOY77Q0&confirm=t&uuid=f7c7c499-3fe0-47f9-b39b-b1044041812f\n",
            "To: /content/final_dataset.csv\n",
            "100% 456M/456M [00:04<00:00, 105MB/s]\n"
          ]
        }
      ]
    },
    {
      "cell_type": "code",
      "execution_count": null,
      "metadata": {
        "id": "K2L1naUFj8pA"
      },
      "outputs": [],
      "source": [
        "import pandas as pd\n",
        "import numpy as np\n",
        "from sklearn import model_selection, metrics, preprocessing\n",
        "import torch\n",
        "import torch.nn as nn\n",
        "import matplotlib.pyplot as plt\n",
        "from torch.utils.data import Dataset, DataLoader\n",
        "from tqdm import tqdm\n",
        "from collections import defaultdict\n",
        "import ast"
      ]
    },
    {
      "cell_type": "code",
      "execution_count": null,
      "metadata": {
        "id": "9JxuKUrlj8pB"
      },
      "outputs": [],
      "source": [
        "# extract the necessary columns\n",
        "# data = df[['Movie','Reviewer','Score','recommend','genres']].copy()\n",
        "data = df[['Movie','Reviewer','Score','recommend','unique_genres']].copy()"
      ]
    },
    {
      "cell_type": "markdown",
      "source": [
        "#### Making Genres to a Embedding layer to be passed into the model\n",
        "Since Genres is in a '['Drama', 'Comedy', 'Romance', 'Foreign']' format, we need to do some additional pre-processing on it"
      ],
      "metadata": {
        "id": "5sWpBkLwF2rM"
      }
    },
    {
      "cell_type": "code",
      "source": [
        "def changer(x):\n",
        "  return ast.literal_eval(x)\n",
        "\n",
        "changer(data['unique_genres'][0])"
      ],
      "metadata": {
        "colab": {
          "base_uri": "https://localhost:8080/"
        },
        "id": "hjWdWa6TDmwO",
        "outputId": "b28f05c4-65c0-4691-f0cd-0b89bd208d8d"
      },
      "execution_count": null,
      "outputs": [
        {
          "output_type": "execute_result",
          "data": {
            "text/plain": [
              "['Drama', 'Romance', 'Comedy', 'Foreign']"
            ]
          },
          "metadata": {},
          "execution_count": 4
        }
      ]
    },
    {
      "cell_type": "code",
      "source": [
        "data['unique_genres'] = data['unique_genres'].apply(lambda x: changer(x))"
      ],
      "metadata": {
        "id": "rumkYwizFDuT"
      },
      "execution_count": null,
      "outputs": []
    },
    {
      "cell_type": "code",
      "source": [
        "# now we find all unqiue genres & max number of genres a movie has (7) & 1048 combinations of genres\n",
        "unique_genres = []\n",
        "max_len = 0\n",
        "for d in data['unique_genres']:\n",
        "  if len(d) > max_len:\n",
        "    max_len = len(d)\n",
        "\n",
        "  for indiv in d:\n",
        "    if indiv not in unique_genres:\n",
        "      unique_genres.append(indiv)\n",
        "\n",
        "print(len(unique_genres))\n",
        "print(unique_genres)\n",
        "print(max_len)"
      ],
      "metadata": {
        "colab": {
          "base_uri": "https://localhost:8080/"
        },
        "id": "f6PW6WddKlZy",
        "outputId": "d1d962d7-5fa3-4f6a-d210-62d1b3c13ec1"
      },
      "execution_count": null,
      "outputs": [
        {
          "output_type": "stream",
          "name": "stdout",
          "text": [
            "20\n",
            "['Drama', 'Romance', 'Comedy', 'Foreign', 'History', 'War', 'Thriller', 'Mystery', 'Horror', 'Action', 'Crime', 'Adventure', 'Documentary', 'Science Fiction', 'TV Movie', 'Music', 'Animation', 'Family', 'Western', 'Fantasy']\n",
            "7\n"
          ]
        }
      ]
    },
    {
      "cell_type": "code",
      "source": [
        "# List of genres\n",
        "genres = ['Drama', 'Comedy', 'Romance', 'Foreign', 'War', 'History', 'Mystery', 'Thriller', 'Horror', 'Action', 'Adventure', 'Crime', 'Documentary', 'Science Fiction', 'TV Movie', 'Music', 'Animation', 'Family', 'Western', 'Fantasy']\n",
        "\n",
        "# Create a dictionary mapping each genre to an index\n",
        "genre_to_index = {genre: index+1 for index, genre in enumerate(genres)}\n",
        "\n",
        "# Initialize a list of zeros with a length of 20\n",
        "one_hot_vector = [0] * 21\n",
        "\n",
        "# Function to create a one-hot vector\n",
        "def create_one_hot_vector(genre):\n",
        "    one_hot_vector = [0] * 21\n",
        "    for ele in genre:\n",
        "      index = genre_to_index.get(ele)\n",
        "      if index is not None:\n",
        "          one_hot_vector[index] = 1\n",
        "    return torch.tensor(one_hot_vector, dtype=torch.long)\n",
        "\n",
        "# Example usage\n",
        "selected_genre = [\"Drama\", \"Comedy\", \"Romance\", \"Foreign\"]\n",
        "one_hot_vector = create_one_hot_vector(selected_genre)\n",
        "print(one_hot_vector)"
      ],
      "metadata": {
        "colab": {
          "base_uri": "https://localhost:8080/"
        },
        "id": "WJAepkLS2oPY",
        "outputId": "805b1cfe-5f68-4606-d3d0-b4e8c4ac521f"
      },
      "execution_count": null,
      "outputs": [
        {
          "output_type": "stream",
          "name": "stdout",
          "text": [
            "tensor([0, 1, 1, 1, 1, 0, 0, 0, 0, 0, 0, 0, 0, 0, 0, 0, 0, 0, 0, 0, 0])\n"
          ]
        }
      ]
    },
    {
      "cell_type": "code",
      "source": [
        "# Alternate means of embedding genres\n",
        "# # Tokenization\n",
        "# word_to_index = {word: i for i, word in enumerate(unique_genres)}\n",
        "# index_to_word = {i: word for word, i in word_to_index.items()}\n",
        "\n",
        "# # Padding (assuming a maximum sequence length)\n",
        "# max_seq_length = 10\n",
        "\n",
        "# # function to make a list of genres to a padded tensor\n",
        "# def make_tensors(lister):a\n",
        "#   # Convert words to indices\n",
        "#   indices = [word_to_index[word] for word in lister]\n",
        "#     # Padding (assuming a maximum sequence length)\n",
        "#   max_seq_length = 10\n",
        "#   padded_indices = indices + [-1] * (max_seq_length - len(indices))  # Pad with -1\n",
        "\n",
        "#   # Convert to PyTorch tensor\n",
        "#   padded_tensor = torch.tensor(padded_indices, dtype=torch.long)\n",
        "#   return padded_tensor"
      ],
      "metadata": {
        "id": "IgWN10xxKvSY"
      },
      "execution_count": null,
      "outputs": []
    },
    {
      "cell_type": "code",
      "source": [
        "# make_tensors([\"Drama\", \"Comedy\", \"Romance\", \"Foreign\"])"
      ],
      "metadata": {
        "id": "E9gbc01RRQri"
      },
      "execution_count": null,
      "outputs": []
    },
    {
      "cell_type": "code",
      "source": [
        "# add the padded_tensor to data\n",
        "data['padded_genres'] = data['unique_genres']\n",
        "data['padded_genre'] = data['unique_genres'].apply(lambda x:create_one_hot_vector(x))"
      ],
      "metadata": {
        "id": "kGdQLcjuMwn_"
      },
      "execution_count": null,
      "outputs": []
    },
    {
      "cell_type": "code",
      "source": [
        "data.head(1)"
      ],
      "metadata": {
        "colab": {
          "base_uri": "https://localhost:8080/"
        },
        "id": "NRTPgPO0M_GF",
        "outputId": "1c20ea7c-ed42-43bf-ee71-93001bf9e56a"
      },
      "execution_count": null,
      "outputs": [
        {
          "output_type": "execute_result",
          "data": {
            "text/plain": [
              "       Movie         Reviewer     Score  recommend  \\\n",
              "0  SENSATION  Dennis Schwartz  0.686869          0   \n",
              "\n",
              "                       unique_genres                      padded_genres  \\\n",
              "0  [Drama, Romance, Comedy, Foreign]  [Drama, Romance, Comedy, Foreign]   \n",
              "\n",
              "                                        padded_genre  \n",
              "0  [tensor(0), tensor(1), tensor(1), tensor(1), t...  "
            ],
            "text/html": [
              "\n",
              "  <div id=\"df-bc663d08-dcaa-48cf-9bcc-f4a40f532571\" class=\"colab-df-container\">\n",
              "    <div>\n",
              "<style scoped>\n",
              "    .dataframe tbody tr th:only-of-type {\n",
              "        vertical-align: middle;\n",
              "    }\n",
              "\n",
              "    .dataframe tbody tr th {\n",
              "        vertical-align: top;\n",
              "    }\n",
              "\n",
              "    .dataframe thead th {\n",
              "        text-align: right;\n",
              "    }\n",
              "</style>\n",
              "<table border=\"1\" class=\"dataframe\">\n",
              "  <thead>\n",
              "    <tr style=\"text-align: right;\">\n",
              "      <th></th>\n",
              "      <th>Movie</th>\n",
              "      <th>Reviewer</th>\n",
              "      <th>Score</th>\n",
              "      <th>recommend</th>\n",
              "      <th>unique_genres</th>\n",
              "      <th>padded_genres</th>\n",
              "      <th>padded_genre</th>\n",
              "    </tr>\n",
              "  </thead>\n",
              "  <tbody>\n",
              "    <tr>\n",
              "      <th>0</th>\n",
              "      <td>SENSATION</td>\n",
              "      <td>Dennis Schwartz</td>\n",
              "      <td>0.686869</td>\n",
              "      <td>0</td>\n",
              "      <td>[Drama, Romance, Comedy, Foreign]</td>\n",
              "      <td>[Drama, Romance, Comedy, Foreign]</td>\n",
              "      <td>[tensor(0), tensor(1), tensor(1), tensor(1), t...</td>\n",
              "    </tr>\n",
              "  </tbody>\n",
              "</table>\n",
              "</div>\n",
              "    <div class=\"colab-df-buttons\">\n",
              "\n",
              "  <div class=\"colab-df-container\">\n",
              "    <button class=\"colab-df-convert\" onclick=\"convertToInteractive('df-bc663d08-dcaa-48cf-9bcc-f4a40f532571')\"\n",
              "            title=\"Convert this dataframe to an interactive table.\"\n",
              "            style=\"display:none;\">\n",
              "\n",
              "  <svg xmlns=\"http://www.w3.org/2000/svg\" height=\"24px\" viewBox=\"0 -960 960 960\">\n",
              "    <path d=\"M120-120v-720h720v720H120Zm60-500h600v-160H180v160Zm220 220h160v-160H400v160Zm0 220h160v-160H400v160ZM180-400h160v-160H180v160Zm440 0h160v-160H620v160ZM180-180h160v-160H180v160Zm440 0h160v-160H620v160Z\"/>\n",
              "  </svg>\n",
              "    </button>\n",
              "\n",
              "  <style>\n",
              "    .colab-df-container {\n",
              "      display:flex;\n",
              "      gap: 12px;\n",
              "    }\n",
              "\n",
              "    .colab-df-convert {\n",
              "      background-color: #E8F0FE;\n",
              "      border: none;\n",
              "      border-radius: 50%;\n",
              "      cursor: pointer;\n",
              "      display: none;\n",
              "      fill: #1967D2;\n",
              "      height: 32px;\n",
              "      padding: 0 0 0 0;\n",
              "      width: 32px;\n",
              "    }\n",
              "\n",
              "    .colab-df-convert:hover {\n",
              "      background-color: #E2EBFA;\n",
              "      box-shadow: 0px 1px 2px rgba(60, 64, 67, 0.3), 0px 1px 3px 1px rgba(60, 64, 67, 0.15);\n",
              "      fill: #174EA6;\n",
              "    }\n",
              "\n",
              "    .colab-df-buttons div {\n",
              "      margin-bottom: 4px;\n",
              "    }\n",
              "\n",
              "    [theme=dark] .colab-df-convert {\n",
              "      background-color: #3B4455;\n",
              "      fill: #D2E3FC;\n",
              "    }\n",
              "\n",
              "    [theme=dark] .colab-df-convert:hover {\n",
              "      background-color: #434B5C;\n",
              "      box-shadow: 0px 1px 3px 1px rgba(0, 0, 0, 0.15);\n",
              "      filter: drop-shadow(0px 1px 2px rgba(0, 0, 0, 0.3));\n",
              "      fill: #FFFFFF;\n",
              "    }\n",
              "  </style>\n",
              "\n",
              "    <script>\n",
              "      const buttonEl =\n",
              "        document.querySelector('#df-bc663d08-dcaa-48cf-9bcc-f4a40f532571 button.colab-df-convert');\n",
              "      buttonEl.style.display =\n",
              "        google.colab.kernel.accessAllowed ? 'block' : 'none';\n",
              "\n",
              "      async function convertToInteractive(key) {\n",
              "        const element = document.querySelector('#df-bc663d08-dcaa-48cf-9bcc-f4a40f532571');\n",
              "        const dataTable =\n",
              "          await google.colab.kernel.invokeFunction('convertToInteractive',\n",
              "                                                    [key], {});\n",
              "        if (!dataTable) return;\n",
              "\n",
              "        const docLinkHtml = 'Like what you see? Visit the ' +\n",
              "          '<a target=\"_blank\" href=https://colab.research.google.com/notebooks/data_table.ipynb>data table notebook</a>'\n",
              "          + ' to learn more about interactive tables.';\n",
              "        element.innerHTML = '';\n",
              "        dataTable['output_type'] = 'display_data';\n",
              "        await google.colab.output.renderOutput(dataTable, element);\n",
              "        const docLink = document.createElement('div');\n",
              "        docLink.innerHTML = docLinkHtml;\n",
              "        element.appendChild(docLink);\n",
              "      }\n",
              "    </script>\n",
              "  </div>\n",
              "\n",
              "\n",
              "    </div>\n",
              "  </div>\n"
            ],
            "application/vnd.google.colaboratory.intrinsic+json": {
              "type": "dataframe",
              "variable_name": "data"
            }
          },
          "metadata": {},
          "execution_count": 11
        }
      ]
    },
    {
      "cell_type": "markdown",
      "source": [
        "Now Lets add these tensors to our main dataset"
      ],
      "metadata": {
        "id": "fd-UvUOsN0Qt"
      }
    },
    {
      "cell_type": "markdown",
      "metadata": {
        "id": "9AFGKCZwj8pB"
      },
      "source": [
        "# Data pre-processing for NCF"
      ]
    },
    {
      "cell_type": "markdown",
      "metadata": {
        "id": "Siiu46_oj8pC"
      },
      "source": [
        "Preprocess the Reviewers and movies into integers (so each movie & Reviewer is given a unique label) from 0 to unique_length so that we can pass it into the embeddings"
      ]
    },
    {
      "cell_type": "code",
      "execution_count": null,
      "metadata": {
        "colab": {
          "base_uri": "https://localhost:8080/"
        },
        "id": "VdrdVo0zj8pB",
        "outputId": "328a2f16-55ea-4017-b509-73bfde57dad2"
      },
      "outputs": [
        {
          "output_type": "stream",
          "name": "stdout",
          "text": [
            "We have 5216 unique movies & 4804 unique users \n"
          ]
        }
      ],
      "source": [
        "n_movies = data.Movie.nunique()\n",
        "n_users = data.Reviewer.nunique()\n",
        "print(f\"We have {n_movies} unique movies & {n_users} unique users \")"
      ]
    },
    {
      "cell_type": "markdown",
      "metadata": {
        "id": "hWngvhvij8pC"
      },
      "source": [
        "Create an extra class to hold on to users, movies & ratings. We use a test size of 15% and random state of 42 standardised for all models"
      ]
    },
    {
      "cell_type": "code",
      "execution_count": null,
      "metadata": {
        "id": "nSSfz_NUj8pC"
      },
      "outputs": [],
      "source": [
        "lbl_user = preprocessing.LabelEncoder()\n",
        "lbl_movie = preprocessing.LabelEncoder()\n",
        "data.Reviewer = lbl_user.fit_transform(data.Reviewer.values)\n",
        "data.Movie = lbl_movie.fit_transform(data.Movie.values)"
      ]
    },
    {
      "cell_type": "code",
      "execution_count": null,
      "metadata": {
        "id": "awYOOVBoj8pD"
      },
      "outputs": [],
      "source": [
        "class MovieDataset:\n",
        "    def __init__(self, users, movies, ratings, genres):\n",
        "        self.users = users\n",
        "        self.movies = movies\n",
        "        self.ratings = ratings\n",
        "        self.genres = genres\n",
        "    # len(movie_dataset)\n",
        "    def __len__(self):\n",
        "        return len(self.users)\n",
        "    # movie_dataset[1]\n",
        "    def __getitem__(self, item):\n",
        "\n",
        "        users = self.users[item]\n",
        "        movies = self.movies[item]\n",
        "        ratings = self.ratings[item]\n",
        "        genres = self.genres[item]\n",
        "\n",
        "        # If genres is already a tensor, return it as is\n",
        "        if isinstance(genres, torch.Tensor):\n",
        "            genres_tensor = genres\n",
        "        else:\n",
        "            genres_tensor = torch.tensor(genres, dtype=torch.long)\n",
        "\n",
        "        return {\n",
        "            \"users\": torch.tensor(users, dtype=torch.long),\n",
        "            \"movies\": torch.tensor(movies, dtype=torch.long),\n",
        "            \"ratings\": torch.tensor(ratings, dtype=torch.float),\n",
        "            \"genres\": genres_tensor\n",
        "        }"
      ]
    },
    {
      "cell_type": "code",
      "execution_count": null,
      "metadata": {
        "id": "1AOMcpAfj8pD"
      },
      "outputs": [],
      "source": [
        "df_train, df_valid = model_selection.train_test_split(\n",
        "    data, test_size=0.15, random_state=42, shuffle=True\n",
        ")\n",
        "\n",
        "train_dataset = MovieDataset(\n",
        "    users=df_train.Reviewer.values,\n",
        "    movies=df_train.Movie.values,\n",
        "    ratings=df_train.Score.values,\n",
        "    genres=df_train.padded_genre.values\n",
        ")\n",
        "\n",
        "valid_dataset = MovieDataset(\n",
        "    users=df_valid.Reviewer.values,\n",
        "    movies=df_valid.Movie.values,\n",
        "    ratings=df_valid.Score.values,\n",
        "    genres=df_valid.padded_genre.values\n",
        ")"
      ]
    },
    {
      "cell_type": "code",
      "execution_count": null,
      "metadata": {
        "colab": {
          "base_uri": "https://localhost:8080/"
        },
        "id": "i5sPfmsyj8pD",
        "outputId": "6e86c18a-f1e0-4517-daf4-8a11852a2e3e"
      },
      "outputs": [
        {
          "output_type": "stream",
          "name": "stdout",
          "text": [
            "DataLoader is now using GPU.\n"
          ]
        }
      ],
      "source": [
        "device = torch.device('cuda' if torch.cuda.is_available() else 'cpu')\n",
        "\n",
        "if torch.cuda.is_available():\n",
        "    train_loader = DataLoader(dataset=train_dataset,\n",
        "                          batch_size=32,\n",
        "                          shuffle=True,\n",
        "                          num_workers=2,\n",
        "                          pin_memory=True)\n",
        "\n",
        "    validation_loader = DataLoader(dataset=valid_dataset,\n",
        "                          batch_size=32,\n",
        "                          shuffle=False,\n",
        "                          num_workers=2,\n",
        "                          pin_memory=True)\n",
        "\n",
        "    print(\"DataLoader is now using GPU.\")\n",
        "else:\n",
        "    train_loader = DataLoader(dataset=train_dataset,\n",
        "                          batch_size=32,\n",
        "                          shuffle=True,\n",
        "                          num_workers=2)\n",
        "\n",
        "    validation_loader = DataLoader(dataset=valid_dataset,\n",
        "                          batch_size=32,\n",
        "                          shuffle=False,\n",
        "                          num_workers=2)\n",
        "    print(\"CUDA is not available. DataLoader remains on CPU.\")\n"
      ]
    },
    {
      "cell_type": "markdown",
      "metadata": {
        "id": "ht5SPgWRKH6V"
      },
      "source": [
        "# NCF"
      ]
    },
    {
      "cell_type": "markdown",
      "metadata": {
        "id": "JPNXcKMC_wt4"
      },
      "source": [
        "We use neural networks to model the intricate relationship & collaborative effect between user & ratings which cannot be captured effectively by matrix factorisation as the interaction is only matrix mulitplication. Hence, we explore the use of neural networks where we use hidden layers to better understand & model this relationship.\n",
        "\n",
        "It takes in user & movie embeddings (OHV of users & movies represented in a smaller dimension to serve as a lookup table) and learns how to update the embeddings based on the loss\n"
      ]
    },
    {
      "cell_type": "code",
      "execution_count": null,
      "metadata": {
        "id": "GCCXuiuNj8pC"
      },
      "outputs": [],
      "source": [
        "class RecommendationSystemModel(nn.Module):\n",
        "    def __init__(\n",
        "        self,\n",
        "        num_users,\n",
        "        num_movies,\n",
        "        embedding_size=256,\n",
        "        # embedding is slightly larger as our num of movies is 5k - have more data but may overfit\n",
        "        hidden_dim=64,\n",
        "        dropout_rate=0.2,\n",
        "    ):\n",
        "        super(RecommendationSystemModel, self).__init__()\n",
        "        self.num_users = num_users\n",
        "        self.num_movies = num_movies\n",
        "        self.embedding_size = embedding_size\n",
        "        self.hidden_dim = hidden_dim\n",
        "\n",
        "        # Embedding layers - transforms categorical data like userID & movieID from OHV into a continuous denser space\n",
        "        # we pass in total number of users & the embedding dimension that we want\n",
        "        self.user_embedding = nn.Embedding(\n",
        "            num_embeddings=self.num_users, embedding_dim=self.embedding_size\n",
        "        )\n",
        "        self.movie_embedding = nn.Embedding(\n",
        "            num_embeddings=self.num_movies, embedding_dim=self.embedding_size\n",
        "        )\n",
        "\n",
        "        # Hidden layers\n",
        "        # cos you add both movie & user embeddings before passing through the first layer - capture info b/w the 2\n",
        "        self.fc1 = nn.Linear(2 * self.embedding_size, self.hidden_dim)\n",
        "\n",
        "        # final output is simply the predicted rating\n",
        "        self.fc2 = nn.Linear(self.hidden_dim, 1)\n",
        "\n",
        "        # Dropout layer\n",
        "        self.dropout = nn.Dropout(p=dropout_rate)\n",
        "\n",
        "        # Activation function -> minimise vanishing / exploding gradient problem & dont need to compute so much comapred to softmax\n",
        "        self.relu = nn.ReLU()\n",
        "\n",
        "    def forward(self, users, movies):\n",
        "        # Embeddings\n",
        "        user_embedded = self.user_embedding(users)\n",
        "        movie_embedded = self.movie_embedding(movies)\n",
        "\n",
        "        # Concatenate user and movie embeddings side by side\n",
        "        combined = torch.cat([user_embedded, movie_embedded], dim=1)\n",
        "\n",
        "        # Pass through hidden layers with ReLU activation and dropout\n",
        "        # model tries to learn ratings based on the combined user-movie representation\n",
        "        x = self.relu(self.fc1(combined))\n",
        "        x = self.dropout(x)\n",
        "        output = self.fc2(x)\n",
        "\n",
        "        return output"
      ]
    },
    {
      "cell_type": "markdown",
      "metadata": {
        "id": "PfpjccGoqOt2"
      },
      "source": [
        "Train the model, MSE Loss is used along with Adam Optimiser"
      ]
    },
    {
      "cell_type": "code",
      "execution_count": null,
      "metadata": {
        "id": "ajP5zYFXlNIw"
      },
      "outputs": [],
      "source": [
        "recommendation_model = RecommendationSystemModel(\n",
        "    num_users=len(lbl_user.classes_),\n",
        "    num_movies=len(lbl_movie.classes_)\n",
        ").to(device)\n",
        "\n",
        "# set up optimisers & loss function\n",
        "optimizer = torch.optim.Adam(recommendation_model.parameters(), lr=1e-3) # fast convergence & decent performance\n",
        "loss_func = nn.MSELoss()\n",
        "\n",
        "EPOCHS = 2\n",
        "\n",
        "total_loss = 0\n",
        "log_progress_step = 100\n",
        "losses = []\n",
        "train_dataset_size = len(train_dataset)\n",
        "print(f\"Training on {train_dataset_size} samples...\")\n",
        "\n",
        "# set to training mode\n",
        "recommendation_model.train()\n",
        "for e in range(EPOCHS):\n",
        "    step_count = 0  # Reset step count at the beginning of each epoch\n",
        "\n",
        "    for train_data in tqdm(train_loader, desc=\"Training\", leave=False):\n",
        "          # run forward pass\n",
        "          output = recommendation_model(\n",
        "              train_data[\"users\"].to(device), train_data[\"movies\"].to(device)\n",
        "          )\n",
        "\n",
        "          # Reshape the model output to match the target's shape\n",
        "          # Removes the singleton dimension torch.size is [32,1] -> [32], why not 64?????\n",
        "          output = output.squeeze()\n",
        "\n",
        "          ratings = (train_data[\"ratings\"].to(torch.float32).to(device))\n",
        "\n",
        "          loss = loss_func(output, ratings)\n",
        "          total_loss += loss.sum().item()\n",
        "\n",
        "          optimizer.zero_grad()\n",
        "          loss.backward()\n",
        "          optimizer.step()\n"
      ]
    },
    {
      "cell_type": "markdown",
      "metadata": {
        "id": "hq87XDy_9X0Y"
      },
      "source": [
        "**Model Evaluation: **\n",
        "\n",
        "We create a dictionary of <user>: [(predicted rating, true rating)]. Then, we also keep track of total predicted & true ratings.\n",
        "\n",
        "We will only recommend the movie if it has a rating of more than 0.797980 (identified from EDA as the 75% percentile of ratings given)"
      ]
    },
    {
      "cell_type": "code",
      "execution_count": null,
      "metadata": {
        "id": "NsoPv3_J9BUK"
      },
      "outputs": [],
      "source": [
        "# create dictionaries with default values (in this case it will be a list) for keys that haven't been set yet\n",
        "# so that when we call for it we do not get an error\n",
        "user_ratings_comparison = defaultdict(list)\n",
        "\n",
        "y_test = []\n",
        "y_pred = []\n",
        "\n",
        "threshold = 0.797980\n",
        "def RecommendIf(val, threshold):\n",
        "  if val > threshold:\n",
        "    return 1\n",
        "  else:\n",
        "    return 0\n",
        "\n",
        "with torch.no_grad():\n",
        "    for valid_data in validation_loader:\n",
        "        users = valid_data[\"users\"].to(device)\n",
        "        movies = valid_data[\"movies\"].to(device)\n",
        "        ratings = valid_data[\"ratings\"].to(device)\n",
        "        output = recommendation_model(users, movies)\n",
        "\n",
        "        # key is user -> value is list of (predicted rating, true rating)\n",
        "        for user, pred, true in zip(users, output, ratings):\n",
        "            user_ratings_comparison[user.item()].append([pred[0].item(), true.item()])\n",
        "            y_test.append(RecommendIf(true, threshold))\n",
        "            y_pred.append(pred)"
      ]
    },
    {
      "cell_type": "markdown",
      "metadata": {
        "id": "ksWO-gEP9yJq"
      },
      "source": [
        "Function to calculate precision, recall & accuracy given a list of tuple of user ratings(predicted rating, true rating), top k value and the threshold. Note this will give the top k values ONLY for that USER.\n",
        "\n",
        "Hence, later we will report the average metrics for all users"
      ]
    },
    {
      "cell_type": "code",
      "execution_count": null,
      "metadata": {
        "id": "PF6DzJeE9yaI"
      },
      "outputs": [],
      "source": [
        "from collections import defaultdict\n",
        "\n",
        "def calculate_precision_recall_accuracy(user_ratings, k, threshold):\n",
        "    # sorts a list of user_ratings in descending order based on the first element of each tuple in the list\n",
        "    # -> get top K recommended by users given rating\n",
        "    # in this case the first element is the predicted rating\n",
        "    user_ratings.sort(key=lambda x: x[0], reverse=True)\n",
        "\n",
        "    # # the number of actual relevant item\n",
        "    # n_rel = sum(true_r >= threshold for _, true_r in user_ratings)\n",
        "    # # the number of predicted relevant item\n",
        "    # n_est = sum(est >= threshold for est, _ in user_ratings)\n",
        "\n",
        "    # the number of recommended item that are predicted relevent and within topk\n",
        "    n_rec_k = sum(est >= threshold for est, _ in user_ratings[:k])\n",
        "    # the number of actual relevant item and within topk\n",
        "    n_rel_k = sum(true_r >= threshold for _, true_r in user_ratings[:k])\n",
        "    # the number of recommented item that' is also actually relevant & predicted to be relevant in within topk\n",
        "    n_rel_and_rec_k = sum((true_r >= threshold) and (est >= threshold) for est, true_r in user_ratings[:k])\n",
        "\n",
        "    # number of items that are in topk but not recommended and predicted to be not recommended for top k\n",
        "    n_acc = sum( ((est <= threshold) & (act <= threshold)) for est, act in user_ratings[:k])\n",
        "\n",
        "    precision = n_rel_and_rec_k / n_rec_k if n_rec_k != 0 else 1\n",
        "    recall = n_rel_and_rec_k / n_rel_k if n_rel_k != 0 else 1\n",
        "    accuracy = (n_acc + n_rel_and_rec_k) / len(user_ratings)\n",
        "    return precision, recall, accuracy"
      ]
    },
    {
      "cell_type": "code",
      "execution_count": null,
      "metadata": {
        "id": "3AQtaRpZnDdS",
        "colab": {
          "base_uri": "https://localhost:8080/"
        },
        "outputId": "c5443930-70b8-49bd-ddc2-fa9bb6270617"
      },
      "outputs": [
        {
          "output_type": "stream",
          "name": "stdout",
          "text": [
            "average precision of top 10 movies recommended to them for all users: 0.8232\n",
            "average recall of top 10 movies recommended to them for all users: 0.7288\n",
            "average accuracy of top 10 movies recommended to them for all users: 0.6859\n"
          ]
        }
      ],
      "source": [
        "user_precisions = dict()\n",
        "user_based_recalls = dict()\n",
        "user_based_accuracy = dict()\n",
        "\n",
        "k = 10\n",
        "\n",
        "for user_id, user_ratings in user_ratings_comparison.items():\n",
        "    # get precision & recall metrics for each user\n",
        "    precision, recall,accuracy = calculate_precision_recall_accuracy(user_ratings, k, threshold)\n",
        "    user_precisions[user_id] = precision\n",
        "    user_based_recalls[user_id] = recall\n",
        "    user_based_accuracy[user_id] = accuracy\n",
        "\n",
        "# get average precision & recall for all users\n",
        "average_precision = sum(prec for prec in user_precisions.values()) / len(user_precisions)\n",
        "average_recall = sum(rec for rec in user_based_recalls.values()) / len(user_based_recalls)\n",
        "average_accuracy = sum(rec for rec in user_based_accuracy.values()) / len(user_based_accuracy)\n",
        "\n",
        "print(f\"average precision of top {k} movies recommended to them for all users: {average_precision:.4f}\")\n",
        "print(f\"average recall of top {k} movies recommended to them for all users: {average_recall:.4f}\")\n",
        "print(f\"average accuracy of top {k} movies recommended to them for all users: {average_accuracy:.4f}\")"
      ]
    },
    {
      "cell_type": "markdown",
      "source": [
        "Using treshold of 0.79 - 70th percentile instead of 75th (before standardising treshold values amongst other group memebers)"
      ],
      "metadata": {
        "id": "E5fYGmK05pbl"
      }
    },
    {
      "cell_type": "markdown",
      "metadata": {
        "id": "MjnXXSRE-g9B"
      },
      "source": [
        "At 2 epochs: ![image.png](data:image/png;base64,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)"
      ]
    },
    {
      "cell_type": "markdown",
      "metadata": {
        "id": "1piuOlsio1x1"
      },
      "source": [
        "At 5 epochs: ![image.png](data:image/png;base64,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)"
      ]
    },
    {
      "cell_type": "markdown",
      "source": [
        "5 epochs with treshold 0.7979\n",
        "![image.png](data:image/png;base64,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)"
      ],
      "metadata": {
        "id": "pFr9j1GY5eYx"
      }
    },
    {
      "cell_type": "markdown",
      "metadata": {
        "id": "Mw6huSPYSIeR"
      },
      "source": [
        "We want to explore the distribution of user precision, recall & accuracy for their top 10 Recommendations. We use a barplot to identify any extra trends"
      ]
    },
    {
      "cell_type": "code",
      "execution_count": null,
      "metadata": {
        "colab": {
          "base_uri": "https://localhost:8080/",
          "height": 472
        },
        "id": "CgiqYxBmNnFe",
        "outputId": "635bf171-3c82-4b66-a2c8-518b09d5bca2"
      },
      "outputs": [
        {
          "output_type": "display_data",
          "data": {
            "text/plain": [
              "<Figure size 640x480 with 1 Axes>"
            ],
            "image/png": "[encoded data removed]"
          },
          "metadata": {}
        }
      ],
      "source": [
        "plt.hist(user_precisions.values())\n",
        "\n",
        "for rect in plt.gca().patches:\n",
        "    y_value = rect.get_height()\n",
        "    x_value = rect.get_x() + rect.get_width() / 2\n",
        "\n",
        "    plt.text(x_value, y_value, f'{int(y_value)}', ha='center', va='bottom')\n",
        "\n",
        "plt.xlabel('Precision values')\n",
        "plt.ylabel('Count of users ')\n",
        "plt.title('Bar Plot with Precision of topk Recommendations')\n",
        "plt.show()"
      ]
    },
    {
      "cell_type": "code",
      "execution_count": null,
      "metadata": {
        "colab": {
          "base_uri": "https://localhost:8080/",
          "height": 472
        },
        "id": "RAhnoGI0A5Xs",
        "outputId": "00c6b7c6-c48b-4a2c-a0e7-488af184e78c"
      },
      "outputs": [
        {
          "output_type": "display_data",
          "data": {
            "text/plain": [
              "<Figure size 640x480 with 1 Axes>"
            ],
            "image/png": "[encoded data removed]"
          },
          "metadata": {}
        }
      ],
      "source": [
        "plt.hist(user_based_accuracy.values())\n",
        "\n",
        "for rect in plt.gca().patches:\n",
        "    y_value = rect.get_height()\n",
        "    x_value = rect.get_x() + rect.get_width() / 2\n",
        "\n",
        "    plt.text(x_value, y_value, f'{int(y_value)}', ha='center', va='bottom')\n",
        "\n",
        "plt.xlabel('Accuracy values')\n",
        "plt.ylabel('Count of users ')\n",
        "plt.title('Bar Plot with Accuracy of topk Recommendations')\n",
        "plt.show()"
      ]
    },
    {
      "cell_type": "code",
      "execution_count": null,
      "metadata": {
        "colab": {
          "base_uri": "https://localhost:8080/",
          "height": 472
        },
        "id": "A9Ib1VE_BOt3",
        "outputId": "2e6c0416-8ebf-433d-d495-2196c6f05848"
      },
      "outputs": [
        {
          "output_type": "display_data",
          "data": {
            "text/plain": [
              "<Figure size 640x480 with 1 Axes>"
            ],
            "image/png": "[encoded data removed]"
          },
          "metadata": {}
        }
      ],
      "source": [
        "plt.hist(user_based_recalls.values())\n",
        "\n",
        "for rect in plt.gca().patches:\n",
        "    y_value = rect.get_height()\n",
        "    x_value = rect.get_x() + rect.get_width() / 2\n",
        "\n",
        "    plt.text(x_value, y_value, f'{int(y_value)}', ha='center', va='bottom')\n",
        "\n",
        "plt.xlabel('Recall values')\n",
        "plt.ylabel('Count of users ')\n",
        "plt.title('Bar Plot with Recall of topk Recommendations')\n",
        "plt.show()"
      ]
    },
    {
      "cell_type": "markdown",
      "metadata": {
        "id": "-6DS2blKUB9t"
      },
      "source": [
        "**Analysis**\n",
        "\n",
        "There are some users where the model is not able to predict well where the metrics are <= 0.1. Hence, lets explore further in detail\n"
      ]
    },
    {
      "cell_type": "markdown",
      "metadata": {
        "id": "b5rg4RUQFFGU"
      },
      "source": [
        "\n",
        "\n",
        "---\n",
        "Lets check if for those that have poor recall, is the model unable to generalise becuase they have not rated enough movies? Is it the model's shortcoming or a data issue?\n",
        "\n",
        "\n"
      ]
    },
    {
      "cell_type": "code",
      "execution_count": null,
      "metadata": {
        "colab": {
          "base_uri": "https://localhost:8080/"
        },
        "id": "bNtqF41lSCB6",
        "outputId": "d5fcbd78-7155-4f2e-a2a9-1a2c602ef8af"
      },
      "outputs": [
        {
          "output_type": "stream",
          "name": "stdout",
          "text": [
            "{3845: 831, 3573: 802, 4558: 791, 222: 787, 3191: 781, 2447: 687, 1888: 512, 3986: 432, 3981: 286, 3480: 55, 1536: 23, 4647: 13, 4706: 7}\n"
          ]
        }
      ],
      "source": [
        "temp_list_recall = []\n",
        "temp_list_accuracy = []\n",
        "temp_list_precision = []\n",
        "for key, value in user_based_recalls.items():\n",
        "  if value <= 0.1:\n",
        "    temp_list_recall.append(key)\n",
        "\n",
        "for key, value in user_based_accuracy.items():\n",
        "  if value <= 0.1:\n",
        "    temp_list_accuracy.append(key)\n",
        "\n",
        "for key, value in user_precisions.items():\n",
        "  if value <= 0.1:\n",
        "    temp_list_precision.append(key)\n",
        "\n",
        "common_elements = set(temp_list_recall).intersection(temp_list_accuracy).intersection(temp_list_precision)\n",
        "\n",
        "common_elements_list = list(common_elements)\n",
        "value_counts = data['Reviewer'].value_counts().to_dict()\n",
        "filtered_dict = {key: value for key, value in value_counts.items() if key in common_elements_list}\n",
        "\n",
        "first_15_pairs = dict(list(filtered_dict.items()))\n",
        "print(first_15_pairs)"
      ]
    },
    {
      "cell_type": "markdown",
      "source": [
        "Just these 13 people have consistently low accuracy, precision and recall scores (<=0.1). Hence, we hypothesis that likely these users have a very wide range of movie preferences making it difficult to correctly predict for them"
      ],
      "metadata": {
        "id": "zP-omvQS7Bsm"
      }
    },
    {
      "cell_type": "markdown",
      "metadata": {
        "id": "axknrAV3G5rF"
      },
      "source": [
        "# More Complex NCF via HyperParam tuning\n",
        "Utilising a more complex architecture leads to a better performance than before due to the hidden layers being able to capture more nuances of the collaborative effect of users & movies & ratings"
      ]
    },
    {
      "cell_type": "markdown",
      "metadata": {
        "id": "bn11BX2vJ_BI"
      },
      "source": [
        "Test 1: Using (32,16,8) as dimensions for hidden layers along with same dropout & number of epochs as above, we get higher precision but lower recall & accuracy, this suggests that our model might be overfitting due to the extra layers\n",
        "\n",
        "Test 2: Using (32,4) with 2 epochs as dimensions for hidden layers to strike a balance between performance improvement & overfitting, leads to a negligible result\n",
        "\n",
        "![image.png](data:image/png;base64,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)"
      ]
    },
    {
      "cell_type": "markdown",
      "metadata": {
        "id": "oobCz-0IL8iK"
      },
      "source": [
        "Test 3: Perhaps a more complicated model, needs more training iterations or epoch (2 -> 5) for it to understand the complexities of the interactions and might need more training. From the above, the precision, recall & accuracy has increase significantly and hence, we realise that maybe 2 epochs is not enough to train the model.\n",
        "\n",
        "This is further supported by the fact that an increase in number of epochs does not improve a slightly less complex model as much as shown in comparison with the results below where using more epochs helped to improve performance.\n",
        "\n"
      ]
    },
    {
      "cell_type": "code",
      "execution_count": null,
      "metadata": {
        "id": "zXjKOZEN9zxU"
      },
      "outputs": [],
      "source": [
        "class RecommendationSystemModel2(nn.Module):\n",
        "    def __init__(\n",
        "        self,\n",
        "        num_users,\n",
        "        num_movies,\n",
        "        embedding_size=32,\n",
        "        # embedding is slightly larger as our num of movies is 5k - have more data but may overfit\n",
        "        hidden_dim=(32,16,8),\n",
        "        dropout_rate=0.2,\n",
        "    ):\n",
        "        super(RecommendationSystemModel2, self).__init__()\n",
        "        self.num_users = num_users\n",
        "        self.num_movies = num_movies\n",
        "        self.embedding_size = embedding_size\n",
        "        self.hidden_dim = hidden_dim\n",
        "\n",
        "        # Embedding layers - transforms categorical data like userID & movieID into a continuous space\n",
        "        # we pass in total number of users & the embedding dimension\n",
        "        self.user_embedding = nn.Embedding(\n",
        "            num_embeddings=self.num_users, embedding_dim=self.embedding_size\n",
        "        )\n",
        "        self.movie_embedding = nn.Embedding(\n",
        "            num_embeddings=self.num_movies, embedding_dim=self.embedding_size\n",
        "        )\n",
        "\n",
        "        # creating a more complex hidden layer set up - ONLY CHANGE MADE !!!!!!!!!!!!!!!!\n",
        "        hidden_layers = []\n",
        "        input_units = 64\n",
        "        for num_units in [32,16,8]:\n",
        "          hidden_layers.append(nn.Linear(input_units, num_units))\n",
        "          hidden_layers.append(nn.ReLU())\n",
        "          hidden_layers.append(nn.Dropout(p=dropout_rate))\n",
        "          input_units = num_units\n",
        "\n",
        "        hidden_layers.append(nn.Linear(8,1))\n",
        "\n",
        "        self.MLP = nn.Sequential(*hidden_layers)\n",
        "\n",
        "\n",
        "    def forward(self, users, movies):\n",
        "        # Embeddings\n",
        "        user_embedded = self.user_embedding(users)\n",
        "        movie_embedded = self.movie_embedding(movies)\n",
        "\n",
        "        # Concatenate user and movie embeddings\n",
        "        combined = torch.cat([user_embedded, movie_embedded], dim=1)\n",
        "\n",
        "        output = self.MLP(combined)\n",
        "\n",
        "        return output"
      ]
    },
    {
      "cell_type": "code",
      "execution_count": null,
      "metadata": {
        "id": "P09oDMxJGebW",
        "colab": {
          "base_uri": "https://localhost:8080/"
        },
        "outputId": "613821e3-1e98-428e-d941-e76bdbf29edd"
      },
      "outputs": [
        {
          "output_type": "stream",
          "name": "stdout",
          "text": [
            "Training on 239590 samples...\n"
          ]
        },
        {
          "output_type": "stream",
          "name": "stderr",
          "text": [
            "/usr/lib/python3.10/multiprocessing/popen_fork.py:66: RuntimeWarning: os.fork() was called. os.fork() is incompatible with multithreaded code, and JAX is multithreaded, so this will likely lead to a deadlock.\n",
            "  self.pid = os.fork()\n",
            " | Step: 239590/239590 | Avg Loss: 0.003480301/usr/lib/python3.10/multiprocessing/popen_fork.py:66: RuntimeWarning: os.fork() was called. os.fork() is incompatible with multithreaded code, and JAX is multithreaded, so this will likely lead to a deadlock.\n",
            "  self.pid = os.fork()\n",
            " | Step: 239590/239590 | Avg Loss: 0.003136246"
          ]
        }
      ],
      "source": [
        "recommendation_model2 = RecommendationSystemModel2(\n",
        "    num_users=len(lbl_user.classes_),\n",
        "    num_movies=len(lbl_movie.classes_)\n",
        ").to(device)\n",
        "\n",
        "# set up optimisers & loss function\n",
        "optimizer = torch.optim.Adam(recommendation_model2.parameters(), lr=1e-3) # fast convergence & decent performance\n",
        "loss_func = nn.MSELoss()\n",
        "\n",
        "EPOCHS = 5\n",
        "\n",
        "import sys\n",
        "# Function to log progress\n",
        "def log_progress(epoch, step, total_loss, log_progress_step, data_size, losses):\n",
        "    avg_loss = total_loss / log_progress_step\n",
        "    sys.stderr.write(\n",
        "        f\"\\r | Step: {step}/{data_size} | Avg Loss: {avg_loss:<6.9f}\"\n",
        "    )\n",
        "    sys.stderr.flush()\n",
        "    # add to the loss, to find average later\n",
        "    losses.append(avg_loss)\n",
        "\n",
        "total_loss = 0\n",
        "log_progress_step = 100\n",
        "losses = []\n",
        "train_dataset_size = len(train_dataset)\n",
        "print(f\"Training on {train_dataset_size} samples...\")\n",
        "\n",
        "# set to training mode\n",
        "recommendation_model.train()\n",
        "for e in range(EPOCHS):\n",
        "    step_count = 0  # Reset step count at the beginning of each epoch\n",
        "\n",
        "    for i, train_data in enumerate(train_loader):\n",
        "          # run forward pass\n",
        "          output = recommendation_model2(\n",
        "              train_data[\"users\"].to(device), train_data[\"movies\"].to(device)\n",
        "          )\n",
        "\n",
        "          # Reshape the model output to match the target's shape\n",
        "          # Removes the singleton dimension torch.size is [32,1] -> [32], why not 64?????\n",
        "          output = output.squeeze()\n",
        "\n",
        "          ratings = (train_data[\"ratings\"].to(torch.float32).to(device))\n",
        "\n",
        "          loss = loss_func(output, ratings)\n",
        "          total_loss += loss.sum().item()\n",
        "\n",
        "          optimizer.zero_grad()\n",
        "          loss.backward()\n",
        "          optimizer.step()\n",
        "\n",
        "          # Increment step count by the actual size of the batch\n",
        "          step_count += len(train_data[\"users\"])\n",
        "\n",
        "          # Check if it's time to log progress\n",
        "          if (step_count % log_progress_step == 0 or i == len(train_loader) - 1):  # Log at the end of each epoch\n",
        "              log_progress(e, step_count, total_loss, log_progress_step, train_dataset_size, losses)\n",
        "              total_loss = 0"
      ]
    },
    {
      "cell_type": "code",
      "execution_count": null,
      "metadata": {
        "colab": {
          "base_uri": "https://localhost:8080/"
        },
        "id": "1weMsfKyHTzS",
        "outputId": "c5f35a95-7df2-49ed-bb80-3911b467c826"
      },
      "outputs": [
        {
          "output_type": "stream",
          "name": "stdout",
          "text": [
            "average precision of top 10 movies recommended to them for all users: 0.8861\n",
            "average recall of top 10 movies recommended to them for all users: 0.5706\n",
            "average accuracy of top 10 movies recommended to them for all users: 0.5939\n"
          ]
        }
      ],
      "source": [
        "# create dictionaries with default values (in this case it will be a list) for keys that haven't been set yet\n",
        "# so that when we call for it we do not get an error\n",
        "user_ratings_comparison = defaultdict(list)\n",
        "\n",
        "y_test = []\n",
        "y_pred = []\n",
        "\n",
        "threshold = 0.797980\n",
        "def RecommendIf(val, threshold):\n",
        "  if val > threshold:\n",
        "    return 1\n",
        "  else:\n",
        "    return 0\n",
        "\n",
        "with torch.no_grad():\n",
        "    for valid_data in validation_loader:\n",
        "        users = valid_data[\"users\"].to(device)\n",
        "        movies = valid_data[\"movies\"].to(device)\n",
        "        ratings = valid_data[\"ratings\"].to(device)\n",
        "        output = recommendation_model2(users, movies)\n",
        "\n",
        "        # key is user -> value is list of (predicted rating, true rating)\n",
        "        for user, pred, true in zip(users, output, ratings):\n",
        "            user_ratings_comparison[user.item()].append([pred[0].item(), true.item()])\n",
        "            y_test.append(RecommendIf(true, threshold))\n",
        "            y_pred.append(pred)\n",
        "\n",
        "user_precisions = dict()\n",
        "user_based_recalls = dict()\n",
        "\n",
        "k = 10\n",
        "\n",
        "for user_id, user_ratings in user_ratings_comparison.items():\n",
        "    # get precision & recall metrics for each user\n",
        "    precision, recall,accuracy = calculate_precision_recall_accuracy(user_ratings, k, threshold)\n",
        "    user_precisions[user_id] = precision\n",
        "    user_based_recalls[user_id] = recall\n",
        "    user_based_accuracy[user_id] = accuracy\n",
        "\n",
        "# get average precision & recall for all users\n",
        "average_precision = sum(prec for prec in user_precisions.values()) / len(user_precisions)\n",
        "average_recall = sum(rec for rec in user_based_recalls.values()) / len(user_based_recalls)\n",
        "average_accuracy = sum(rec for rec in user_based_accuracy.values()) / len(user_based_accuracy)\n",
        "\n",
        "print(f\"average precision of top {k} movies recommended to them for all users: {average_precision:.4f}\")\n",
        "print(f\"average recall of top {k} movies recommended to them for all users: {average_recall:.4f}\")\n",
        "print(f\"average accuracy of top {k} movies recommended to them for all users: {average_accuracy:.4f}\")"
      ]
    },
    {
      "cell_type": "markdown",
      "source": [
        "Prediction on Training Set"
      ],
      "metadata": {
        "id": "FqAs_rUJgeXc"
      }
    },
    {
      "cell_type": "code",
      "source": [
        "# create dictionaries with default values (in this case it will be a list) for keys that haven't been set yet\n",
        "# so that when we call for it we do not get an error\n",
        "user_ratings_comparison2 = defaultdict(list)\n",
        "\n",
        "y_test2 = []\n",
        "y_pred2 = []\n",
        "\n",
        "threshold = 0.797980\n",
        "def RecommendIf(val, threshold):\n",
        "  if val > threshold:\n",
        "    return 1\n",
        "  else:\n",
        "    return 0\n",
        "\n",
        "with torch.no_grad():\n",
        "    for train_data in train_loader:\n",
        "        users = train_data[\"users\"].to(device)\n",
        "        movies = train_data[\"movies\"].to(device)\n",
        "        ratings = train_data[\"ratings\"].to(device)\n",
        "        output = recommendation_model2(users, movies)\n",
        "\n",
        "        # key is user -> value is list of (predicted rating, true rating)\n",
        "        for user, pred, true in zip(users, output, ratings):\n",
        "            user_ratings_comparison2[user.item()].append([pred[0].item(), true.item()])\n",
        "            y_test2.append(RecommendIf(true, threshold))\n",
        "            y_pred2.append(pred)\n",
        "\n",
        "user_precisions = dict()\n",
        "user_based_recalls = dict()\n",
        "user_based_accuracy = dict()\n",
        "\n",
        "k = 10\n",
        "\n",
        "for user_id, user_ratings in user_ratings_comparison2.items():\n",
        "    # get precision & recall metrics for each user\n",
        "    precision, recall,accuracy = calculate_precision_recall_accuracy(user_ratings, k, threshold)\n",
        "    user_precisions[user_id] = precision\n",
        "    user_based_recalls[user_id] = recall\n",
        "    user_based_accuracy[user_id] = accuracy\n",
        "\n",
        "# get average precision & recall for all users\n",
        "average_precision = sum(prec for prec in user_precisions.values()) / len(user_precisions)\n",
        "average_recall = sum(rec for rec in user_based_recalls.values()) / len(user_based_recalls)\n",
        "average_accuracy = sum(rec for rec in user_based_accuracy.values()) / len(user_based_accuracy)\n",
        "\n",
        "print(f\"average precision of top {k} movies recommended to them for all users - training: {average_precision:.4f}\")\n",
        "print(f\"average recall of top {k} movies recommended to them for all users - training: {average_recall:.4f}\")\n",
        "print(f\"average accuracy of top {k} movies recommended to them for all users - training: {average_accuracy:.4f}\")"
      ],
      "metadata": {
        "colab": {
          "base_uri": "https://localhost:8080/"
        },
        "id": "gXdmepq5gdN_",
        "outputId": "1c91f2ac-bd5f-474a-ecaf-25b9647114ae"
      },
      "execution_count": null,
      "outputs": [
        {
          "output_type": "stream",
          "name": "stderr",
          "text": [
            "/usr/lib/python3.10/multiprocessing/popen_fork.py:66: RuntimeWarning: os.fork() was called. os.fork() is incompatible with multithreaded code, and JAX is multithreaded, so this will likely lead to a deadlock.\n",
            "  self.pid = os.fork()\n",
            "/usr/lib/python3.10/multiprocessing/popen_fork.py:66: RuntimeWarning: os.fork() was called. os.fork() is incompatible with multithreaded code, and JAX is multithreaded, so this will likely lead to a deadlock.\n",
            "  self.pid = os.fork()\n"
          ]
        },
        {
          "output_type": "stream",
          "name": "stdout",
          "text": [
            "average precision of top 10 movies recommended to them for all users - training: 0.8263\n",
            "average recall of top 10 movies recommended to them for all users - training: 0.7003\n",
            "average accuracy of top 10 movies recommended to them for all users - training: 0.6019\n"
          ]
        }
      ]
    },
    {
      "cell_type": "markdown",
      "source": [
        "# CF modified to consider CF & word embeddings of genres"
      ],
      "metadata": {
        "id": "HrL0UKwYAoCm"
      }
    },
    {
      "cell_type": "markdown",
      "source": [
        "Setting up of Word embeddings of genres"
      ],
      "metadata": {
        "id": "Aeu-Vr1mA5HY"
      }
    },
    {
      "cell_type": "code",
      "source": [
        "import torch\n",
        "import torch.nn as nn\n",
        "import torch.nn.functional as F\n",
        "import nltk\n",
        "from nltk.corpus import stopwords\n",
        "import string\n",
        "import re\n",
        "import seaborn as sns\n",
        "from tqdm import tqdm\n",
        "import matplotlib.pyplot as plt\n",
        "from torch.utils.data import TensorDataset, DataLoader\n",
        "from nltk.tokenize import word_tokenize\n",
        "import gensim\n",
        "from gensim.models import Word2Vec\n",
        "from gensim.models.keyedvectors import KeyedVectors\n",
        "from nltk.tokenize import word_tokenize\n",
        "import pandas as pd\n",
        "import numpy as np\n",
        "\n",
        "nltk.download('punkt')\n",
        "nltk.download('stopwords')"
      ],
      "metadata": {
        "colab": {
          "base_uri": "https://localhost:8080/"
        },
        "id": "MkmZBQmsAuVc",
        "outputId": "046fd467-3e7b-44e0-b05e-dc5b34cc7ee7"
      },
      "execution_count": null,
      "outputs": [
        {
          "output_type": "stream",
          "name": "stderr",
          "text": [
            "[nltk_data] Downloading package punkt to /root/nltk_data...\n",
            "[nltk_data]   Unzipping tokenizers/punkt.zip.\n",
            "[nltk_data] Downloading package stopwords to /root/nltk_data...\n",
            "[nltk_data]   Unzipping corpora/stopwords.zip.\n"
          ]
        },
        {
          "output_type": "execute_result",
          "data": {
            "text/plain": [
              "True"
            ]
          },
          "metadata": {},
          "execution_count": 28
        }
      ]
    },
    {
      "cell_type": "markdown",
      "source": [
        "Set up Model"
      ],
      "metadata": {
        "id": "jemQJ-ykCZ-5"
      }
    },
    {
      "cell_type": "code",
      "source": [
        "class RecommendationSystemModel3(nn.Module):\n",
        "    def __init__(\n",
        "        self,\n",
        "        num_users,\n",
        "        num_movies,\n",
        "        embedding_size=32,\n",
        "        # embedding is slightly larger as our num of movies is 5k - have more data but may overfit\n",
        "        hidden_dim=(32,16,8),\n",
        "        dropout_rate=0.2,\n",
        "    ):\n",
        "        super(RecommendationSystemModel3, self).__init__()\n",
        "        self.num_users = num_users\n",
        "        self.num_movies = num_movies\n",
        "        self.num_genres = 21\n",
        "        self.embedding_size = embedding_size\n",
        "        self.hidden_dim = hidden_dim\n",
        "\n",
        "        # Embedding layers - transforms categorical data like userID & movieID into a continuous space\n",
        "        # we pass in total number of users & the embedding dimension\n",
        "        self.user_embedding = nn.Embedding(\n",
        "            num_embeddings=self.num_users, embedding_dim=self.embedding_size\n",
        "        )\n",
        "        self.movie_embedding = nn.Embedding(\n",
        "            num_embeddings=self.num_movies, embedding_dim=self.embedding_size\n",
        "        )\n",
        "\n",
        "        self.genre_embedding = nn.Embedding(\n",
        "            num_embeddings=self.num_genres, embedding_dim=21\n",
        "        )\n",
        "\n",
        "        # creating a more complex hidden layer set up - ONLY CHANGE MADE !!!!!!!!!!!!!!!!\n",
        "        hidden_layers = []\n",
        "        input_units = 64 + 21\n",
        "        for num_units in [32,16,8]:\n",
        "          hidden_layers.append(nn.Linear(input_units, num_units))\n",
        "          hidden_layers.append(nn.ReLU())\n",
        "          hidden_layers.append(nn.Dropout(p=dropout_rate))\n",
        "          input_units = num_units\n",
        "\n",
        "        hidden_layers.append(nn.Linear(8,1))\n",
        "\n",
        "        self.MLP = nn.Sequential(*hidden_layers)\n",
        "\n",
        "\n",
        "    def forward(self, users, movies, genres):\n",
        "        # Embeddings\n",
        "        user_embedded = self.user_embedding(users)\n",
        "        movie_embedded = self.movie_embedding(movies)\n",
        "        genres_embedded = genres\n",
        "\n",
        "        # Concatenate user and movie embeddings\n",
        "        combined = torch.cat([user_embedded, movie_embedded, genres_embedded], dim=1)\n",
        "\n",
        "        output = self.MLP(combined)\n",
        "\n",
        "        return output"
      ],
      "metadata": {
        "id": "hZ-fzMPJCbfL"
      },
      "execution_count": null,
      "outputs": []
    },
    {
      "cell_type": "code",
      "source": [
        "recommendation_model = RecommendationSystemModel3(\n",
        "    num_users=len(lbl_user.classes_),\n",
        "    num_movies=len(lbl_movie.classes_)\n",
        ").to(device)\n",
        "\n",
        "# set up optimisers & loss function\n",
        "optimizer = torch.optim.Adam(recommendation_model.parameters(), lr=1e-3) # fast convergence & decent performance\n",
        "loss_func = nn.MSELoss()\n",
        "\n",
        "EPOCHS = 15\n",
        "\n",
        "total_loss = 0\n",
        "log_progress_step = 100\n",
        "losses = []\n",
        "train_dataset_size = len(train_dataset)\n",
        "print(f\"Training on {train_dataset_size} samples...\")\n",
        "\n",
        "# set to training mode\n",
        "recommendation_model.train()\n",
        "for e in range(EPOCHS):\n",
        "    step_count = 0  # Reset step count at the beginning of each epoch\n",
        "\n",
        "    for train_data in tqdm(train_loader, desc=\"Training\", leave=False):\n",
        "          # run forward pass\n",
        "          output = recommendation_model(\n",
        "              train_data[\"users\"].to(device), train_data[\"movies\"].to(device), train_data['genres'].to(device)\n",
        "          )\n",
        "\n",
        "          # Reshape the model output to match the target's shape\n",
        "          # Removes the singleton dimension torch.size is [32,1] -> [32], why not 64?????\n",
        "          output = output.squeeze()\n",
        "\n",
        "          ratings = (train_data[\"ratings\"].to(torch.float32).to(device))\n",
        "\n",
        "          loss = loss_func(output, ratings)\n",
        "          total_loss += loss.sum().item()\n",
        "\n",
        "          optimizer.zero_grad()\n",
        "          loss.backward()\n",
        "          optimizer.step()\n"
      ],
      "metadata": {
        "colab": {
          "base_uri": "https://localhost:8080/"
        },
        "id": "1AoWVTPsPSea",
        "outputId": "aabaa092-2090-4ea8-c8c4-36af3c4788cd"
      },
      "execution_count": null,
      "outputs": [
        {
          "output_type": "stream",
          "name": "stdout",
          "text": [
            "Training on 239590 samples...\n"
          ]
        },
        {
          "output_type": "stream",
          "name": "stderr",
          "text": [
            "\rTraining:   0%|          | 0/7488 [00:00<?, ?it/s]/usr/lib/python3.10/multiprocessing/popen_fork.py:66: RuntimeWarning: os.fork() was called. os.fork() is incompatible with multithreaded code, and JAX is multithreaded, so this will likely lead to a deadlock.\n",
            "  self.pid = os.fork()\n",
            "Training: 100%|█████████▉| 7485/7488 [00:58<00:00, 134.80it/s]/usr/lib/python3.10/multiprocessing/popen_fork.py:66: RuntimeWarning: os.fork() was called. os.fork() is incompatible with multithreaded code, and JAX is multithreaded, so this will likely lead to a deadlock.\n",
            "  self.pid = os.fork()\n"
          ]
        }
      ]
    },
    {
      "cell_type": "code",
      "source": [
        "# create dictionaries with default values (in this case it will be a list) for keys that haven't been set yet\n",
        "# so that when we call for it we do not get an error\n",
        "user_ratings_comparison = defaultdict(list)\n",
        "\n",
        "y_test = []\n",
        "y_pred = []\n",
        "\n",
        "threshold = 0.797980\n",
        "def RecommendIf(val, threshold):\n",
        "  if val > threshold:\n",
        "    return 1\n",
        "  else:\n",
        "    return 0\n",
        "\n",
        "with torch.no_grad():\n",
        "    for valid_data in validation_loader:\n",
        "        users = valid_data[\"users\"].to(device)\n",
        "        movies = valid_data[\"movies\"].to(device)\n",
        "        ratings = valid_data[\"ratings\"].to(device)\n",
        "        genres = valid_data[\"genres\"].to(device)\n",
        "        output = recommendation_model(users, movies, genres)\n",
        "\n",
        "        # key is user -> value is list of (predicted rating, true rating)\n",
        "        for user, pred, true in zip(users, output, ratings):\n",
        "            user_ratings_comparison[user.item()].append([pred[0].item(), true.item()])\n",
        "            y_test.append(RecommendIf(true, threshold))\n",
        "            y_pred.append(pred)\n",
        "\n",
        "user_precisions = dict()\n",
        "user_based_recalls = dict()\n",
        "user_based_accuracy = dict()\n",
        "k = 10\n",
        "\n",
        "for user_id, user_ratings in user_ratings_comparison.items():\n",
        "    # get precision & recall metrics for each user\n",
        "    precision, recall,accuracy = calculate_precision_recall_accuracy(user_ratings, k, threshold)\n",
        "    user_precisions[user_id] = precision\n",
        "    user_based_recalls[user_id] = recall\n",
        "    user_based_accuracy[user_id] = accuracy\n",
        "\n",
        "# get average precision & recall for all users\n",
        "average_precision = sum(prec for prec in user_precisions.values()) / len(user_precisions)\n",
        "average_recall = sum(rec for rec in user_based_recalls.values()) / len(user_based_recalls)\n",
        "average_accuracy = sum(rec for rec in user_based_accuracy.values()) / len(user_based_accuracy)\n",
        "\n",
        "print(f\"average precision of top {k} movies recommended to them for all users: {average_precision:.4f}\")\n",
        "print(f\"average recall of top {k} movies recommended to them for all users: {average_recall:.4f}\")\n",
        "print(f\"average accuracy of top {k} movies recommended to them for all users: {average_accuracy:.4f}\")"
      ],
      "metadata": {
        "colab": {
          "base_uri": "https://localhost:8080/"
        },
        "id": "HrEQYD5MbqFO",
        "outputId": "47a8623a-f898-4e59-9ab2-d190ec7a9dc7"
      },
      "execution_count": null,
      "outputs": [
        {
          "output_type": "stream",
          "name": "stdout",
          "text": [
            "average precision of top 10 movies recommended to them for all users: 0.7669\n",
            "average recall of top 10 movies recommended to them for all users: 0.7804\n",
            "average accuracy of top 10 movies recommended to them for all users: 0.6814\n"
          ]
        }
      ]
    },
    {
      "cell_type": "markdown",
      "source": [
        "For 10 epochs ![image.png](data:image/png;base64,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)"
      ],
      "metadata": {
        "id": "S4lS3TBoGKGM"
      }
    },
    {
      "cell_type": "markdown",
      "source": [
        "For 15 epoches (it performs worse as there might be overfitting)\n",
        "![image.png](data:image/png;base64,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)"
      ],
      "metadata": {
        "id": "u6Cv7UfdJzop"
      }
    },
    {
      "cell_type": "markdown",
      "source": [
        "Prediction on Training set"
      ],
      "metadata": {
        "id": "ZntdRIdPi-pt"
      }
    },
    {
      "cell_type": "code",
      "source": [
        "# create dictionaries with default values (in this case it will be a list) for keys that haven't been set yet\n",
        "# so that when we call for it we do not get an error\n",
        "user_ratings_comparison2 = defaultdict(list)\n",
        "\n",
        "y_test = []\n",
        "y_pred = []\n",
        "\n",
        "threshold = 0.797980\n",
        "def RecommendIf(val, threshold):\n",
        "  if val > threshold:\n",
        "    return 1\n",
        "  else:\n",
        "    return 0\n",
        "\n",
        "with torch.no_grad():\n",
        "    for train_data in train_loader:\n",
        "        users = train_data[\"users\"].to(device)\n",
        "        movies = train_data[\"movies\"].to(device)\n",
        "        ratings = train_data[\"ratings\"].to(device)\n",
        "        genres = train_data[\"genres\"].to(device)\n",
        "        output = recommendation_model(users, movies, genres)\n",
        "\n",
        "        # key is user -> value is list of (predicted rating, true rating)\n",
        "        for user, pred, true in zip(users, output, ratings):\n",
        "            user_ratings_comparison2[user.item()].append([pred[0].item(), true.item()])\n",
        "            y_test.append(RecommendIf(true, threshold))\n",
        "            y_pred.append(pred)\n",
        "\n",
        "user_precisions = dict()\n",
        "user_based_recalls = dict()\n",
        "user_based_accuracy = dict()\n",
        "k = 10\n",
        "\n",
        "for user_id, user_ratings in user_ratings_comparison2.items():\n",
        "    # get precision & recall metrics for each user\n",
        "    precision, recall,accuracy = calculate_precision_recall_accuracy(user_ratings, k, threshold)\n",
        "    user_precisions[user_id] = precision\n",
        "    user_based_recalls[user_id] = recall\n",
        "    user_based_accuracy[user_id] = accuracy\n",
        "\n",
        "# get average precision & recall for all users\n",
        "average_precision = sum(prec for prec in user_precisions.values()) / len(user_precisions)\n",
        "average_recall = sum(rec for rec in user_based_recalls.values()) / len(user_based_recalls)\n",
        "average_accuracy = sum(rec for rec in user_based_accuracy.values()) / len(user_based_accuracy)\n",
        "\n",
        "print(f\"average precision of top {k} movies recommended to them for all users - training: {average_precision:.4f}\")\n",
        "print(f\"average recall of top {k} movies recommended to them for all users - training: {average_recall:.4f}\")\n",
        "print(f\"average accuracy of top {k} movies recommended to them for all users - training: {average_accuracy:.4f}\")"
      ],
      "metadata": {
        "colab": {
          "base_uri": "https://localhost:8080/"
        },
        "id": "FPD-1zD3jAvU",
        "outputId": "f056a1a5-48f5-4f22-c12a-c516cac448e2"
      },
      "execution_count": null,
      "outputs": [
        {
          "output_type": "stream",
          "name": "stdout",
          "text": [
            "average precision of top 10 movies recommended to them for all users - training: 0.7847\n",
            "average recall of top 10 movies recommended to them for all users - training: 0.7720\n",
            "average accuracy of top 10 movies recommended to them for all users - training: 0.6100\n"
          ]
        }
      ]
    },
    {
      "cell_type": "markdown",
      "metadata": {
        "id": "4A4nVoLsm6LT"
      },
      "source": [
        "# NewMF\n",
        "\n",
        "This model uses two subnetworks comprising of generalized matrix factorization (GMF) and MLP(similar to CF) to model the interactions from two pathways instead of simple dot products.\n",
        "\n",
        "To output of GMF and MLP, instead of simple addition, the second last layers of two subnetworks is concatenated to create a feature vector which can be passed to the further layers, in our case we pass it through a fully connected linear layer to get our final results.\n",
        "\n",
        "This allows it to leverage on both the advantages of the two methods\n",
        "\n",
        "From the results, NewMF and CF have almost the same performance metrics suggesting that\n",
        "\n",
        "https://sparsh-ai.github.io/rec-tutorials/matrixfactorization%20movielens%20pytorch%20scratch/2021/04/21/rec-algo-ncf-pytorch-pyy0715.html"
      ]
    },
    {
      "cell_type": "code",
      "execution_count": null,
      "metadata": {
        "id": "II5GDLL5LHed"
      },
      "outputs": [],
      "source": [
        "class NeuMF(nn.Module):\n",
        "    def __init__(self, num_users, num_items):\n",
        "        super(NeuMF, self).__init__()\n",
        "        self.num_users = num_users\n",
        "        self.num_items = num_items\n",
        "        # \"predictive factors numbers in the model\"\n",
        "        self.factor_num_mf = 32\n",
        "        self.factor_num_mlp = 32\n",
        "        # MLP layers. Note that the first layer is the concatenation of user and item embeddings. So 32 is the embedding size.\"\n",
        "        self.layers = [64,32,16,8]\n",
        "        self.dropout = 0.2\n",
        "\n",
        "        # NCF Embedding\n",
        "        self.embedding_user_mlp = nn.Embedding(num_embeddings=self.num_users, embedding_dim=self.factor_num_mlp)\n",
        "        self.embedding_item_mlp = nn.Embedding(num_embeddings=self.num_items, embedding_dim=self.factor_num_mlp)\n",
        "\n",
        "        # Matrix Factorisation Embedding\n",
        "        self.embedding_user_mf = nn.Embedding(num_embeddings=self.num_users, embedding_dim=self.factor_num_mf)\n",
        "        self.embedding_item_mf = nn.Embedding(num_embeddings=self.num_items, embedding_dim=self.factor_num_mf)\n",
        "\n",
        "        self.fc_layers = nn.ModuleList()\n",
        "        # basically ensure that dim on input & output layer matches\n",
        "        for idx, (in_size, out_size) in enumerate(zip([64,32,16], [32,16,8])):\n",
        "            self.fc_layers.append(torch.nn.Linear(in_size, out_size))\n",
        "            self.fc_layers.append(nn.ReLU())\n",
        "\n",
        "        # at the last layer -> u take the output from the NCF & MF and use it together -> hence dim is as such below\n",
        "        # you want to get a single output value from 0 to 1\n",
        "        self.affine_output = nn.Linear(in_features=self.layers[-1] + self.factor_num_mf, out_features=1)\n",
        "        self.logistic = nn.Sigmoid()\n",
        "        self.init_weight()\n",
        "\n",
        "    # We initalise the weights so that it is normal to prevent exploding/vanishing graident problem as if weights are 0 centered, easier to train\n",
        "    # this also allows for faster convergence\n",
        "    def init_weight(self):\n",
        "        nn.init.normal_(self.embedding_user_mlp.weight, std=0.01)\n",
        "        nn.init.normal_(self.embedding_item_mlp.weight, std=0.01)\n",
        "        nn.init.normal_(self.embedding_user_mf.weight, std=0.01)\n",
        "        nn.init.normal_(self.embedding_item_mf.weight, std=0.01)\n",
        "\n",
        "        # for all the fully connected hidden layers, initiliase the weights as uniform (Xavier) distribution\n",
        "        # helps with effective propogation of weighs during training\n",
        "        for m in self.fc_layers:\n",
        "            if isinstance(m, nn.Linear):\n",
        "                nn.init.xavier_uniform_(m.weight)\n",
        "\n",
        "        # make the last layer that is not in the fully connected layer, initliase it as uniform distribution as well\n",
        "        nn.init.xavier_uniform_(self.affine_output.weight)\n",
        "\n",
        "        # iterates over all modules (layers) within the neural network model (in ModueList & outside)\n",
        "        # intiliases bias to 0 if the layer is linear * has a bias (in our case bias=True by default)\n",
        "        for m in self.modules():\n",
        "            if isinstance(m, nn.Linear) and m.bias is not None:\n",
        "                m.bias.data.zero_()\n",
        "\n",
        "    def forward(self, user_indices, item_indices):\n",
        "        user_embedding_mlp = self.embedding_user_mlp(user_indices)\n",
        "        item_embedding_mlp = self.embedding_item_mlp(item_indices)\n",
        "\n",
        "        user_embedding_mf = self.embedding_user_mf(user_indices)\n",
        "        item_embedding_mf = self.embedding_item_mf(item_indices)\n",
        "\n",
        "        # add the user & movie embeddings just like in NCF\n",
        "        mlp_vector = torch.cat([user_embedding_mlp, item_embedding_mlp], dim=-1)\n",
        "        # matrix factorisation embedding layer\n",
        "        mf_vector =torch.mul(user_embedding_mf, item_embedding_mf)\n",
        "\n",
        "        # passes in the mlp_vector into the first layer & then sets the output as mlp_vector\n",
        "        # before passing it to the next layer\n",
        "        for idx, _ in enumerate(range(len(self.fc_layers))):\n",
        "            mlp_vector = self.fc_layers[idx](mlp_vector)\n",
        "\n",
        "        # add embedding output from both MF & NCF\n",
        "        vector = torch.cat([mlp_vector, mf_vector], dim=-1)\n",
        "        # get 1 single output & make the range to 0 to 1 -> resemble ratings\n",
        "        logits = self.affine_output(vector)\n",
        "        rating = self.logistic(logits)\n",
        "        # do .squeeze() to return the rating value ONLY\n",
        "        return rating.squeeze()"
      ]
    },
    {
      "cell_type": "markdown",
      "metadata": {
        "id": "hfm3DL8bu-Bx"
      },
      "source": [
        "Training the model"
      ]
    },
    {
      "cell_type": "code",
      "execution_count": null,
      "metadata": {
        "colab": {
          "base_uri": "https://localhost:8080/"
        },
        "id": "AUbgZfcDLycg",
        "outputId": "dbbc0254-c6ac-4d1f-9714-f4d8fa9eb1a9"
      },
      "outputs": [
        {
          "output_type": "stream",
          "name": "stdout",
          "text": [
            "Training on 239590 samples...\n"
          ]
        }
      ],
      "source": [
        "model = NeuMF(len(lbl_user.classes_), len(lbl_movie.classes_))\n",
        "optimizer = torch.optim.Adam(model.parameters(), lr=1e-3) # fast convergence & decent performance\n",
        "loss_func = nn.MSELoss()\n",
        "\n",
        "total_loss = 0\n",
        "log_progress_step = 100\n",
        "losses = []\n",
        "train_dataset_size = len(train_dataset)\n",
        "print(f\"Training on {train_dataset_size} samples...\")\n",
        "\n",
        "EPOCHS = 10\n",
        "\n",
        "# set to training mode\n",
        "model.train()\n",
        "for e in range(EPOCHS):\n",
        "    step_count = 0  # Reset step count at the beginning of each epoch\n",
        "\n",
        "    for i, train_data in enumerate(train_loader):\n",
        "\n",
        "          # run forward pass\n",
        "          output = model(\n",
        "              train_data[\"users\"], train_data[\"movies\"]\n",
        "          )\n",
        "\n",
        "          # Reshape the model output to match the target's shape\n",
        "          # Removes the singleton dimension torch.size is [32,1] -> [32], why not 64?????\n",
        "          output = output.squeeze()\n",
        "\n",
        "          ratings = (train_data[\"ratings\"].to(torch.float32))\n",
        "\n",
        "          loss = loss_func(output, ratings)\n",
        "          total_loss += loss.sum().item()\n",
        "\n",
        "          optimizer.zero_grad()\n",
        "          loss.backward()\n",
        "          optimizer.step()\n",
        "\n",
        "          # Increment step count by the actual size of the batch\n",
        "          step_count += len(train_data[\"users\"])\n"
      ]
    },
    {
      "cell_type": "code",
      "source": [
        "for param_tensor in model.state_dict():\n",
        "    print(param_tensor, \"\\t\", model.state_dict()[param_tensor].size())"
      ],
      "metadata": {
        "colab": {
          "base_uri": "https://localhost:8080/"
        },
        "id": "UeclDIfH1QQz",
        "outputId": "5f8ba8f0-46a5-4045-9cf9-60900b0b28af"
      },
      "execution_count": null,
      "outputs": [
        {
          "output_type": "stream",
          "name": "stdout",
          "text": [
            "embedding_user_mlp.weight \t torch.Size([4804, 32])\n",
            "embedding_item_mlp.weight \t torch.Size([5216, 32])\n",
            "embedding_user_mf.weight \t torch.Size([4804, 32])\n",
            "embedding_item_mf.weight \t torch.Size([5216, 32])\n",
            "fc_layers.0.weight \t torch.Size([32, 64])\n",
            "fc_layers.0.bias \t torch.Size([32])\n",
            "fc_layers.2.weight \t torch.Size([16, 32])\n",
            "fc_layers.2.bias \t torch.Size([16])\n",
            "fc_layers.4.weight \t torch.Size([8, 16])\n",
            "fc_layers.4.bias \t torch.Size([8])\n",
            "affine_output.weight \t torch.Size([1, 40])\n",
            "affine_output.bias \t torch.Size([1])\n"
          ]
        }
      ]
    },
    {
      "cell_type": "code",
      "execution_count": null,
      "metadata": {
        "colab": {
          "base_uri": "https://localhost:8080/"
        },
        "id": "DPCdtGCnNP6E",
        "outputId": "77f981d1-1760-4a13-b3cf-260300f8221a"
      },
      "outputs": [
        {
          "output_type": "stream",
          "name": "stdout",
          "text": [
            "average precision of top 10 movies recommended to them for all users: 0.8098\n",
            "average recall of top 10 movies recommended to them for all users: 0.6899\n",
            "average accuracy of top 10 movies recommended to them for all users: 0.6090\n"
          ]
        }
      ],
      "source": [
        "# create dictionaries with default values (in this case it will be a list) for keys that haven't been set yet\n",
        "# so that when we call for it we do not get an error\n",
        "user_ratings_comparison = defaultdict(list)\n",
        "\n",
        "y_test = []\n",
        "y_pred = []\n",
        "\n",
        "threshold = 0.79\n",
        "def RecommendIf(val, threshold):\n",
        "  if val > threshold:\n",
        "    return 1\n",
        "  else:\n",
        "    return 0\n",
        "\n",
        "with torch.no_grad():\n",
        "    for valid_data in validation_loader:\n",
        "        users = valid_data[\"users\"]\n",
        "        movies = valid_data[\"movies\"]\n",
        "        ratings = valid_data[\"ratings\"]\n",
        "        output = model(users, movies)\n",
        "\n",
        "        # key is user -> value is list of (predicted rating, true rating)\n",
        "        for user, pred, true in zip(users, output, ratings):\n",
        "            user_ratings_comparison[user.item()].append([pred.item(), true.item()])\n",
        "            y_test.append(RecommendIf(true, threshold))\n",
        "            y_pred.append(pred)\n",
        "\n",
        "user_precisions = dict()\n",
        "user_based_recalls = dict()\n",
        "user_based_accuracy = dict()\n",
        "\n",
        "k = 10\n",
        "\n",
        "for user_id, user_ratings in user_ratings_comparison.items():\n",
        "    # get precision & recall metrics for each user\n",
        "    precision, recall, accuracy = calculate_precision_recall_accuracy(user_ratings, k, threshold)\n",
        "    user_precisions[user_id] = precision\n",
        "    user_based_recalls[user_id] = recall\n",
        "    user_based_accuracy[user_id] = accuracy\n",
        "\n",
        "# get average precision & recall for all users\n",
        "average_precision = sum(prec for prec in user_precisions.values()) / len(user_precisions)\n",
        "average_recall = sum(rec for rec in user_based_recalls.values()) / len(user_based_recalls)\n",
        "average_accuracy = sum(rec for rec in user_based_accuracy.values()) / len(user_based_accuracy)\n",
        "\n",
        "print(f\"average precision of top {k} movies recommended to them for all users: {average_precision:.4f}\")\n",
        "print(f\"average recall of top {k} movies recommended to them for all users: {average_recall:.4f}\")\n",
        "print(f\"average accuracy of top {k} movies recommended to them for all users: {average_accuracy:.4f}\")"
      ]
    },
    {
      "cell_type": "markdown",
      "source": [
        "![image.png](data:image/png;base64,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)"
      ],
      "metadata": {
        "id": "OCpSDKnUOJzf"
      }
    },
    {
      "cell_type": "markdown",
      "source": [
        "Prediction on Training Set"
      ],
      "metadata": {
        "id": "q1mpC4P2mRu_"
      }
    },
    {
      "cell_type": "code",
      "source": [
        "# create dictionaries with default values (in this case it will be a list) for keys that haven't been set yet\n",
        "# so that when we call for it we do not get an error\n",
        "user_ratings_comparison_train = defaultdict(list)\n",
        "\n",
        "x_train = []\n",
        "x_pred = []\n",
        "\n",
        "threshold = 0.797980\n",
        "def RecommendIf(val, threshold):\n",
        "  if val > threshold:\n",
        "    return 1\n",
        "  else:\n",
        "    return 0\n",
        "\n",
        "with torch.no_grad():\n",
        "    for train_data in train_loader:\n",
        "        users = train_data[\"users\"]\n",
        "        movies = train_data[\"movies\"]\n",
        "        ratings = train_data[\"ratings\"]\n",
        "        output = model(users, movies)\n",
        "\n",
        "        # key is user -> value is list of (predicted rating, true rating)\n",
        "        for user, pred, true in zip(users, output, ratings):\n",
        "            user_ratings_comparison_train[user.item()].append([pred.item(), true.item()])\n",
        "            x_train.append(RecommendIf(true, threshold))\n",
        "            x_pred.append(pred)\n",
        "\n",
        "user_precisions = dict()\n",
        "user_based_recalls = dict()\n",
        "user_based_accuracy = dict()\n",
        "\n",
        "k = 10\n",
        "\n",
        "for user_id, user_ratings in user_ratings_comparison_train.items():\n",
        "    # get precision & recall metrics for each user\n",
        "    precision, recall, accuracy = calculate_precision_recall_accuracy(user_ratings, k, threshold)\n",
        "    user_precisions[user_id] = precision\n",
        "    user_based_recalls[user_id] = recall\n",
        "    user_based_accuracy[user_id] = accuracy\n",
        "\n",
        "# get average precision & recall for all users\n",
        "average_precision = sum(prec for prec in user_precisions.values()) / len(user_precisions)\n",
        "average_recall = sum(rec for rec in user_based_recalls.values()) / len(user_based_recalls)\n",
        "average_accuracy = sum(rec for rec in user_based_accuracy.values()) / len(user_based_accuracy)\n",
        "\n",
        "print(f\"average precision of top {k} movies recommended to them for all users - training: {average_precision:.4f}\")\n",
        "print(f\"average recall of top {k} movies recommended to them for all users - training: {average_recall:.4f}\")\n",
        "print(f\"average accuracy of top {k} movies recommended to them for all users - training: {average_accuracy:.4f}\")"
      ],
      "metadata": {
        "id": "Ur-7-jx4mTYz"
      },
      "execution_count": null,
      "outputs": []
    },
    {
      "cell_type": "markdown",
      "source": [
        "![tg_image_1964401352.jpeg](data:image/jpeg;base64,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)"
      ],
      "metadata": {
        "id": "ojPIdYjSmWzV"
      }
    },
    {
      "cell_type": "markdown",
      "metadata": {
        "id": "HBNm1oSzn6eC"
      },
      "source": [
        "# NGCF - Neural Graph Collaborative Filtering (Exclude due to poor model performance & lack of explainability)\n",
        "\n",
        "Drawback of the previous methods is that, the collaborative effect(user-item interactions) may not be encoded in the embedding process well. As such, the resultant embeddings may not be sufficient to capture the collaborative f iltering effect.\n",
        "\n",
        "Hence, we use a bipartite graph structure instead where each user and movie is represented by nodes and interactions between them are represented with  edges\n",
        "\n",
        "https://github.com/metahexane/ngcf_pytorch_g61/blob/master/ngcf.py\n",
        "\n",
        "Why the training data needs negative samples? The training data of BPR consists of both positive and negative pairs (missing values). It assumes that the user prefers the positive item over all other non-observed items. -> calculates the bpr loss this way -> (u,i,j) where i is pos sample & j is negative -> want to maximise this prob of i over j"
      ]
    },
    {
      "cell_type": "code",
      "execution_count": null,
      "metadata": {
        "colab": {
          "base_uri": "https://localhost:8080/"
        },
        "id": "nmR0qnQ3FQ-F",
        "outputId": "4193326e-5c8a-4008-d99f-d043defbe1fe"
      },
      "outputs": [
        {
          "output_type": "stream",
          "name": "stdout",
          "text": [
            "Collecting torch_geometric\n",
            "  Downloading torch_geometric-2.5.2-py3-none-any.whl (1.1 MB)\n",
            "\u001b[2K     \u001b[90m━━━━━━━━━━━━━━━━━━━━━━━━━━━━━━━━━━━━━━━━\u001b[0m \u001b[32m1.1/1.1 MB\u001b[0m \u001b[31m11.2 MB/s\u001b[0m eta \u001b[36m0:00:00\u001b[0m\n",
            "\u001b[?25hRequirement already satisfied: tqdm in /usr/local/lib/python3.10/dist-packages (from torch_geometric) (4.66.2)\n",
            "Requirement already satisfied: numpy in /usr/local/lib/python3.10/dist-packages (from torch_geometric) (1.25.2)\n",
            "Requirement already satisfied: scipy in /usr/local/lib/python3.10/dist-packages (from torch_geometric) (1.11.4)\n",
            "Requirement already satisfied: fsspec in /usr/local/lib/python3.10/dist-packages (from torch_geometric) (2023.6.0)\n",
            "Requirement already satisfied: jinja2 in /usr/local/lib/python3.10/dist-packages (from torch_geometric) (3.1.3)\n",
            "Requirement already satisfied: aiohttp in /usr/local/lib/python3.10/dist-packages (from torch_geometric) (3.9.3)\n",
            "Requirement already satisfied: requests in /usr/local/lib/python3.10/dist-packages (from torch_geometric) (2.31.0)\n",
            "Requirement already satisfied: pyparsing in /usr/local/lib/python3.10/dist-packages (from torch_geometric) (3.1.2)\n",
            "Requirement already satisfied: scikit-learn in /usr/local/lib/python3.10/dist-packages (from torch_geometric) (1.2.2)\n",
            "Requirement already satisfied: psutil>=5.8.0 in /usr/local/lib/python3.10/dist-packages (from torch_geometric) (5.9.5)\n",
            "Requirement already satisfied: aiosignal>=1.1.2 in /usr/local/lib/python3.10/dist-packages (from aiohttp->torch_geometric) (1.3.1)\n",
            "Requirement already satisfied: attrs>=17.3.0 in /usr/local/lib/python3.10/dist-packages (from aiohttp->torch_geometric) (23.2.0)\n",
            "Requirement already satisfied: frozenlist>=1.1.1 in /usr/local/lib/python3.10/dist-packages (from aiohttp->torch_geometric) (1.4.1)\n",
            "Requirement already satisfied: multidict<7.0,>=4.5 in /usr/local/lib/python3.10/dist-packages (from aiohttp->torch_geometric) (6.0.5)\n",
            "Requirement already satisfied: yarl<2.0,>=1.0 in /usr/local/lib/python3.10/dist-packages (from aiohttp->torch_geometric) (1.9.4)\n",
            "Requirement already satisfied: async-timeout<5.0,>=4.0 in /usr/local/lib/python3.10/dist-packages (from aiohttp->torch_geometric) (4.0.3)\n",
            "Requirement already satisfied: MarkupSafe>=2.0 in /usr/local/lib/python3.10/dist-packages (from jinja2->torch_geometric) (2.1.5)\n",
            "Requirement already satisfied: charset-normalizer<4,>=2 in /usr/local/lib/python3.10/dist-packages (from requests->torch_geometric) (3.3.2)\n",
            "Requirement already satisfied: idna<4,>=2.5 in /usr/local/lib/python3.10/dist-packages (from requests->torch_geometric) (3.6)\n",
            "Requirement already satisfied: urllib3<3,>=1.21.1 in /usr/local/lib/python3.10/dist-packages (from requests->torch_geometric) (2.0.7)\n",
            "Requirement already satisfied: certifi>=2017.4.17 in /usr/local/lib/python3.10/dist-packages (from requests->torch_geometric) (2024.2.2)\n",
            "Requirement already satisfied: joblib>=1.1.1 in /usr/local/lib/python3.10/dist-packages (from scikit-learn->torch_geometric) (1.4.0)\n",
            "Requirement already satisfied: threadpoolctl>=2.0.0 in /usr/local/lib/python3.10/dist-packages (from scikit-learn->torch_geometric) (3.4.0)\n",
            "Installing collected packages: torch_geometric\n",
            "Successfully installed torch_geometric-2.5.2\n"
          ]
        }
      ],
      "source": [
        "pip install torch_geometric"
      ]
    },
    {
      "cell_type": "code",
      "execution_count": null,
      "metadata": {
        "id": "F54xM0DMvGvx"
      },
      "outputs": [],
      "source": [
        "# Standard library imports\n",
        "import random\n",
        "import time\n",
        "\n",
        "# Third-party imports\n",
        "import matplotlib.pyplot as plt\n",
        "import networkx as nx\n",
        "import numpy as np\n",
        "import pandas as pd\n",
        "pd.set_option('display.max_colwidth', None)\n",
        "\n",
        "import torch\n",
        "import torch.nn as nn\n",
        "import torch.nn.functional as F\n",
        "import torch.optim as optim\n",
        "# from torch.utils.data import Dataset, DataLoader\n",
        "import torch_geometric\n",
        "from torch_geometric.nn.conv import MessagePassing\n",
        "from torch_geometric.utils import degree\n",
        "\n",
        "from tqdm.notebook import tqdm\n",
        "from sklearn import preprocessing as pp\n",
        "from sklearn.model_selection import train_test_split\n",
        "import scipy.sparse as sp\n",
        "\n",
        "device = torch.device('cuda' if torch.cuda.is_available() else 'cpu')"
      ]
    },
    {
      "cell_type": "markdown",
      "source": [
        "Here, we split the train & test set. However, we need to ensure that users & movies in the test set are atleast represented once in the training set.\n",
        "\n",
        "Else, we get an error, becuase it is unable to make a prediction based on that new user/movie since there are no other interactions but also because during the LabelEncoding, we cannot transform indexes that the Encoder has not seen before.\n",
        "\n",
        "Hence, we are forced to removed some of the users and movies not present in the training set, leading to some loss of data."
      ],
      "metadata": {
        "id": "CtJxrmQd0ZIt"
      }
    },
    {
      "cell_type": "code",
      "execution_count": null,
      "metadata": {
        "id": "R2x0YNWIUs6x"
      },
      "outputs": [],
      "source": [
        "train, test = train_test_split(data, test_size=0.15, random_state=42)\n",
        "train_df = pd.DataFrame(train, columns=df.columns)\n",
        "test_df = pd.DataFrame(test, columns=df.columns)\n",
        "\n",
        "le_user = pp.LabelEncoder()\n",
        "le_item = pp.LabelEncoder()\n",
        "train_df['user_id_idx'] = le_user.fit_transform(train_df['Reviewer'].values)\n",
        "train_df['item_id_idx'] = le_item.fit_transform(train_df['Movie'].values)\n",
        "\n",
        "train_user_ids = train_df['Reviewer'].unique()\n",
        "train_item_ids = train_df['Movie'].unique()\n",
        "\n",
        "test_df = test_df[\n",
        "  (test_df['Reviewer'].isin(train_user_ids)) & \\\n",
        "  (test_df['Movie'].isin(train_item_ids))\n",
        "]\n",
        "\n",
        "test_df['user_id_idx'] = le_user.transform(test_df['Reviewer'].values)\n",
        "test_df['item_id_idx'] = le_item.transform(test_df['Movie'].values)\n",
        "\n",
        "n_users = train_df['user_id_idx'].nunique()\n",
        "n_items = train_df['item_id_idx'].nunique()"
      ]
    },
    {
      "cell_type": "markdown",
      "metadata": {
        "id": "Q6CljexM92qp"
      },
      "source": [
        "Creating Custom DataLoader\n",
        "\n",
        "For each user, we get all the movies that he has interacted with & find 1 random movie that he has watched and 1 that he has not watched"
      ]
    },
    {
      "cell_type": "code",
      "execution_count": null,
      "metadata": {
        "id": "j1XRiXqVw9dM"
      },
      "outputs": [],
      "source": [
        "def data_loader(data, batch_size, n_usr, n_itm):\n",
        "\n",
        "    # for each user -> get a list of movies that he has \"interacted\" with\n",
        "    # reset_index() to make it to nice format of column: Reviewer & Movie\n",
        "    interected_items_df = data.groupby('user_id_idx')['item_id_idx'].apply(list).reset_index()\n",
        "\n",
        "    # randomly select users without replacement, takes in list , batch_size\n",
        "    indices = [x for x in range(n_usr)]\n",
        "\n",
        "    ## if total number of users is lesser than batch size then randomly select users w replacement\n",
        "    if n_usr < batch_size:\n",
        "        users = [random.choice(indices) for _ in range(batch_size)]\n",
        "    else:\n",
        "        # gets 1 random sample until we get 'batch_size' num of users\n",
        "        users = random.sample(indices, batch_size)\n",
        "\n",
        "    # sorts it by the Reviewer index\n",
        "    users.sort()\n",
        "    users_df = pd.DataFrame(users,columns = ['users'])\n",
        "\n",
        "    # function to return a random value (movieID) that is not in x\n",
        "    def sample_neg(x):\n",
        "        while True:\n",
        "            neg_id = random.randint(0, n_itm - 1)\n",
        "            if neg_id not in x:\n",
        "                return neg_id\n",
        "\n",
        "    # keep only the Reviewers that are in the current sample -> acts as an filter\n",
        "    interected_items_df = pd.merge(interected_items_df, users_df, how = 'right', left_on = 'user_id_idx', right_on = 'users')\n",
        "\n",
        "    # get a random movie ID that the user has interacted with for ALL users in that batch of users_df\n",
        "    pos_items = interected_items_df['item_id_idx'].apply(lambda x : random.choice(x)).values\n",
        "    # get a random movie ID that the user has NOT interacted with for ALL users in that batch of users_df\n",
        "    # returns it in the form a list of size batch_size\n",
        "    neg_items = interected_items_df['item_id_idx'].apply(lambda x: sample_neg(x)).values\n",
        "\n",
        "    # list of (each user,1 item he watched, 1 item he did not watch)\n",
        "    return (\n",
        "        torch.LongTensor(list(users)).to(device),\n",
        "        # we add n_usr to the list of positive & negative movie indexes to ensure that\n",
        "        # there is confusion between user & movie, eg: this way we wont be confused is it a movie / user if we see index 0 (know that it is a user)\n",
        "        torch.LongTensor(list(pos_items)).to(device) + n_usr,\n",
        "        torch.LongTensor(list(neg_items)).to(device) + n_usr\n",
        "    )"
      ]
    },
    {
      "cell_type": "markdown",
      "source": [
        "**Why use LightGCN over NGCF?**\n",
        "\n",
        "Unlike NGCF layers, LightGCN combines the intermediate representations of each layer to get the final embeddings by simple addition while for NGCF it uses a non-linear activation function after each layer of embedding before passing it to the next / uses other complex aggregation methods.\n",
        "\n",
        "LightGCN learns user and item embeddings by propagating them on the user-item interaction graph, and uses the sum of the embeddings learned at all layers as the final embedding.\n",
        "\n",
        "LightGCN does not use non-linear activation function to reduce complexity because the current user-item embeddings are sufficient.\n",
        "we draw this conclusion that the two operations inherited from GCN—feature transformation and nonlinear activation—has no contributionon NGCF’seffectiveness. (from LightGCN: Simplifying and Powering Graph Convolution Network for Recommendation)"
      ],
      "metadata": {
        "id": "9GCp8MmGdK4i"
      }
    },
    {
      "cell_type": "markdown",
      "metadata": {
        "id": "DYbU7Fkp-rGT"
      },
      "source": [
        "\n",
        "\n",
        "\n",
        "https://medium.com/@jn2279/better-recommender-systems-with-lightgcn-a0e764af14f9"
      ]
    },
    {
      "cell_type": "markdown",
      "source": [
        "**What does this LightGCN layer do?**\n",
        "\n",
        "For each layer, it takes in the embedding of all users & items as rows and cols being the lower dimensional embeddings & all possible edges, uses both to propogate the messages(link between user & movie) and update the embedding values. This is done as each layer considers 1 extra step of influence hence being able to consider slightly higher order relationships\n",
        "\n",
        "We apply normalisation after every message layer as we dont want the embeddings to have big changes after each layer."
      ],
      "metadata": {
        "id": "j17T0mJPV-bX"
      }
    },
    {
      "cell_type": "code",
      "execution_count": null,
      "metadata": {
        "id": "tRP-hc0N-tm9"
      },
      "outputs": [],
      "source": [
        "# single layer\n",
        "class LightGCNConv(MessagePassing):\n",
        "  def __init__(self, **kwargs):\n",
        "    # specify the type of aggregation used - sum the messages\n",
        "    super().__init__(aggr='add')\n",
        "\n",
        "  def forward(self, x, edge_index):\n",
        "    # Compute normalization - to prevent embedding values from getting too big\n",
        "    from_, to_ = edge_index\n",
        "    # returns how many nodes is this connected to - aka degree\n",
        "    deg = degree(to_, x.size(0), dtype=x.dtype)\n",
        "    # symmetric normalisation - to stabilise training\n",
        "    deg_inv_sqrt = deg.pow(-0.5)\n",
        "    # make those that had 0 adjaency value initally to 0\n",
        "    deg_inv_sqrt[deg_inv_sqrt == float('inf')] = 0\n",
        "    norm = deg_inv_sqrt[from_] * deg_inv_sqrt[to_]\n",
        "\n",
        "    # Start propagating messages\n",
        "    return self.propagate(edge_index, x=x, norm=norm)\n",
        "\n",
        "  def message(self, x_j, norm):\n",
        "    # norm - result of symmetric normalization applied to the adjacency matrix\n",
        "    # scale the feature vectors based on the normalized adjancency matrix\n",
        "    # to prevent the feature values from growing excessively during convulation\n",
        "\n",
        "    # x_j is your message gathering from neighbouring nodes\n",
        "    return norm.view(-1, 1) * x_j"
      ]
    },
    {
      "cell_type": "markdown",
      "metadata": {
        "id": "2Nx9iEfIgWcb"
      },
      "source": [
        "Ensure that LightGCN works well -> nodes that have similar interactions are bound to have similar values"
      ]
    },
    {
      "cell_type": "code",
      "execution_count": null,
      "metadata": {
        "colab": {
          "base_uri": "https://localhost:8080/"
        },
        "id": "Vgo1hYIYcVn3",
        "outputId": "01e1875b-73bd-4c59-a621-d4ee481a24fc"
      },
      "outputs": [
        {
          "output_type": "execute_result",
          "data": {
            "text/plain": [
              "tensor([[0.0000, 0.0000, 0.7071, 0.5000, 0.0000],\n",
              "        [0.0000, 0.0000, 0.0000, 0.5000, 0.7071],\n",
              "        [0.7071, 0.0000, 0.0000, 0.0000, 0.0000],\n",
              "        [0.5000, 0.5000, 0.0000, 0.0000, 0.0000],\n",
              "        [0.0000, 0.7071, 0.0000, 0.0000, 0.0000]])"
            ]
          },
          "metadata": {},
          "execution_count": 37
        }
      ],
      "source": [
        "test_x = torch.Tensor(np.eye(5))\n",
        "test_edge_index = torch.LongTensor(np.array([\n",
        "  [0, 0, 1, 1, 2, 3, 3, 4],\n",
        "  [2, 3, 3, 4, 0, 0, 1, 1]\n",
        "]))\n",
        "\n",
        "LightGCNConv()(test_x, test_edge_index)"
      ]
    },
    {
      "cell_type": "markdown",
      "metadata": {
        "id": "4JK_oGmxhPQj"
      },
      "source": [
        "Create the Train edges -> we add u_t & i_t twice to make the edges bi-directional\n",
        "as its a undirected bipartite graph of user <-> item. Just to initilaise a graph of ALL Possible edges in the training set"
      ]
    },
    {
      "cell_type": "code",
      "execution_count": null,
      "metadata": {
        "id": "O3tV7FPydg-O"
      },
      "outputs": [],
      "source": [
        "u_t = torch.LongTensor(train_df.user_id_idx)\n",
        "i_t = torch.LongTensor(train_df.item_id_idx) + n_users\n",
        "\n",
        "train_edge_index = torch.stack((\n",
        "  # from edges index\n",
        "  torch.cat([u_t, i_t]),\n",
        "  # to edges index\n",
        "  torch.cat([i_t, u_t])\n",
        ")).to(device)"
      ]
    },
    {
      "cell_type": "code",
      "execution_count": null,
      "metadata": {
        "id": "TUImzJIa_Mvp"
      },
      "outputs": [],
      "source": [
        "class RecSysGNN(nn.Module):\n",
        "  def __init__(\n",
        "      self,\n",
        "      latent_dim,\n",
        "      num_layers,\n",
        "      # number of unqiue Reviewers & items\n",
        "      num_users,\n",
        "      num_items,\n",
        "\n",
        "      # dont need to dropout for this due to the simplicity of the LightGCN\n",
        "      # as it does not have the extra layers in between\n",
        "  ):\n",
        "    super(RecSysGNN, self).__init__()\n",
        "\n",
        "    # 1st param is num of rows & next is num of cols\n",
        "    self.embedding = nn.Embedding(num_users + num_items, latent_dim)\n",
        "\n",
        "    # holds a list of LightGCN modules where each module has 1 layer\n",
        "    # allows ur to access & change each layer later during train/eval\n",
        "    self.convs = nn.ModuleList(LightGCNConv() for _ in range(num_layers))\n",
        "\n",
        "    self.init_parameters()\n",
        "\n",
        "  def init_parameters(self):\n",
        "      # Authors of LightGCN report higher results with normal initialization\n",
        "      # cos initial param of model has small random values centered around 0 -> helps w convergence & prevent vanishing / exploding gradients as gradients are not too small/large\n",
        "      # initialises weights of tensor based on a specific distribution of std = 0.1 (normal)\n",
        "      nn.init.normal_(self.embedding.weight, std=0.1)\n",
        "\n",
        "\n",
        "  def forward(self, edge_index):\n",
        "    emb0 = self.embedding.weight\n",
        "    # have a list of all the embedding weights of each layer\n",
        "    embs = [emb0]\n",
        "\n",
        "    emb = emb0\n",
        "    # get embeddings produced at each layer\n",
        "    for conv in self.convs:\n",
        "      emb = conv(x=emb, edge_index=edge_index)\n",
        "      embs.append(emb)\n",
        "\n",
        "    # find the weighted sum to get final embeddings from all the layers - LightGCN\n",
        "    out = (torch.mean(torch.stack(embs, dim=0), dim=0))\n",
        "\n",
        "    return emb0, out\n",
        "\n",
        "\n",
        "  def encode_minibatch(self, users, pos_items, neg_items, edge_index):\n",
        "    emb0, out = self(edge_index)\n",
        "    return (\n",
        "        out[users],\n",
        "        out[pos_items],\n",
        "        out[neg_items],\n",
        "        emb0[users],\n",
        "        emb0[pos_items],\n",
        "        emb0[neg_items]\n",
        "    )"
      ]
    },
    {
      "cell_type": "markdown",
      "metadata": {
        "id": "rIvKJ_q9NYfD"
      },
      "source": [
        "## Get Loss function & Metrics"
      ]
    },
    {
      "cell_type": "markdown",
      "source": [
        "BPR loss is a pairwise ranking loss function. It optimizes the model parameters based on pairs of movies, where one movies is watched (positive interaction) and the other is not (negative interaction). This is because we want to rank items for each user such that watched movies are ranked higher than the unwatched ones.\n",
        "\n",
        "Our loss however combines both BPR loss & loss from embeddings to to consider both aspects"
      ],
      "metadata": {
        "id": "KZwkyO8Efdsm"
      }
    },
    {
      "cell_type": "code",
      "execution_count": null,
      "metadata": {
        "id": "pjZQuZJX-yVm"
      },
      "outputs": [],
      "source": [
        "def compute_bpr_loss(users, users_emb, pos_emb, neg_emb, user_emb0,  pos_emb0, neg_emb0):\n",
        "  # compute loss from initial embeddings, used for regulization\n",
        "  reg_loss = (1 / 2) * (\n",
        "    user_emb0.norm().pow(2) +\n",
        "    pos_emb0.norm().pow(2)  +\n",
        "    neg_emb0.norm().pow(2)\n",
        "  ) / float(len(users))\n",
        "\n",
        "  # compute BPR loss from user, positive item, and negative item embeddings\n",
        "  pos_scores = torch.mul(users_emb, pos_emb).sum(dim=1)\n",
        "  neg_scores = torch.mul(users_emb, neg_emb).sum(dim=1)\n",
        "\n",
        "  bpr_loss = torch.mean(F.softplus(neg_scores - pos_scores))\n",
        "\n",
        "  return bpr_loss, reg_loss"
      ]
    },
    {
      "cell_type": "markdown",
      "source": [
        "We get accuracy, recall & precision for topK items"
      ],
      "metadata": {
        "id": "5zBmyypBrvx3"
      }
    },
    {
      "cell_type": "code",
      "execution_count": null,
      "metadata": {
        "id": "Etfl0eZ2P5a9"
      },
      "outputs": [],
      "source": [
        "def get_metrics(user_Embed_wts, item_Embed_wts, n_users, n_items, train_data, test_data, K):\n",
        "    test_user_ids = torch.LongTensor(test_data['user_id_idx'].unique())\n",
        "\n",
        "    # compute the score of all user-item pairs in a n_users x n_items matrix\n",
        "    relevance_score = torch.matmul(user_Embed_wts, torch.transpose(item_Embed_wts, 0, 1))\n",
        "\n",
        "    # create dense tensor of all user-item interactions -> giving interactions as 1 (binary as 1 if interacted)\n",
        "    i = torch.stack((\n",
        "        torch.LongTensor(train_df['user_id_idx'].values),\n",
        "        torch.LongTensor(train_df['item_id_idx'].values)\n",
        "    ))\n",
        "    v = torch.ones((len(train_df)), dtype=torch.float64)\n",
        "    interactions_t = torch.sparse_coo_tensor(i, v, (n_users, n_items))\\\n",
        "        .to_dense().to(device)\n",
        "\n",
        "    # mask out training user-item interactions from metric computation\n",
        "    # by penalizing movies that the user had already watched\n",
        "    relevance_score = torch.mul(relevance_score, (1 - interactions_t))\n",
        "\n",
        "    # compute top scoring items for each user\n",
        "    _, topk_relevance_indices = torch.topk(relevance_score, K)\n",
        "\n",
        "    # for each user-(top relevant items for k times which will be a list)\n",
        "    topk_relevance_indices_df = pd.DataFrame(topk_relevance_indices.cpu().numpy(), columns=['top_indx_' + str(x + 1) for x in range(K)])\n",
        "    topk_relevance_indices_df['user_ID'] = topk_relevance_indices_df.index\n",
        "    topk_relevance_indices_df['top_rlvnt_itm'] = topk_relevance_indices_df[['top_indx_' + str(x + 1) for x in range(K)]].values.tolist()\n",
        "    topk_relevance_indices_df = topk_relevance_indices_df[['user_ID', 'top_rlvnt_itm']]\n",
        "\n",
        "    # measure overlap between recommended (top-scoring) and held-out user-item interactions\n",
        "    test_interacted_items = test_data.groupby('user_id_idx')['item_id_idx'].apply(list).reset_index()\n",
        "\n",
        "    # get list of items where the user has watched in the test set AND ones that we identified as to be recommended for each user\n",
        "    metrics_df = pd.merge(test_interacted_items, topk_relevance_indices_df, how='left', left_on='user_id_idx',\n",
        "                          right_on=['user_ID'])\n",
        "\n",
        "    # create an extra column where we keep the values where there is a match\n",
        "    metrics_df['intrsctn_itm'] = [list(set(a).intersection(b)) for a, b in\n",
        "                                    zip(metrics_df.item_id_idx, metrics_df.top_rlvnt_itm)]\n",
        "\n",
        "    # out of k actual recommended items how many did we predict correctly\n",
        "    metrics_df['recall'] = metrics_df.apply(lambda x: 1 if len(x['item_id_idx']) == 0 else len(x['intrsctn_itm']) / len(x['item_id_idx']), axis=1)\n",
        "    # out of k of our predicted how many did we end up predicted correctly\n",
        "    metrics_df['precision'] = metrics_df.apply(lambda x: len(x['intrsctn_itm']) / K, axis=1)\n",
        "    # out all unqiue movies in (what we predicted & actual recommended movies), how many did we predict correctly\n",
        "    metrics_df['accuracy'] = metrics_df.apply(lambda x: len(x['intrsctn_itm']) / (len(x['item_id_idx']) + K - len(x['intrsctn_itm'])) , axis=1)\n",
        "    # metrics_df['accuracy'] = metrics_df.apply(lambda x: 1 if len(set(x['top_rlvnt_itm']) & set(x['item_id_idx'])) == 0 else len(x['intrsctn_itm']) / len(set(x['top_rlvnt_itm']) & set(x['item_id_idx'])) , axis=1)\n",
        "\n",
        "    return metrics_df['recall'].mean(), metrics_df['precision'].mean(), metrics_df['accuracy'].mean()"
      ]
    },
    {
      "cell_type": "markdown",
      "metadata": {
        "id": "8XY1OGugNhQJ"
      },
      "source": [
        "## Model Training & Evaluation"
      ]
    },
    {
      "cell_type": "code",
      "execution_count": null,
      "metadata": {
        "id": "ARBeLyjs-5vt"
      },
      "outputs": [],
      "source": [
        "latent_dim = 64\n",
        "n_layers = 3\n",
        "\n",
        "EPOCHS = 1\n",
        "BATCH_SIZE = 1024\n",
        "DECAY = 0.0001\n",
        "LR = 0.005\n",
        "K = 20"
      ]
    },
    {
      "cell_type": "markdown",
      "source": [
        "Since this model takes very long to run & is very complex, we will attempt to track the loss to identify the optim"
      ],
      "metadata": {
        "id": "2E-ke5D8T_9J"
      }
    },
    {
      "cell_type": "code",
      "execution_count": null,
      "metadata": {
        "id": "ISZDQkv3-7Yn"
      },
      "outputs": [],
      "source": [
        "def train_and_eval(model, optimizer, train_df):\n",
        "  loss_list_epoch = []\n",
        "  bpr_loss_list_epoch = []\n",
        "  reg_loss_list_epoch = []\n",
        "\n",
        "  recall_list = []\n",
        "  precision_list = []\n",
        "  accuracy_list = []\n",
        "\n",
        "  for epoch in tqdm(range(EPOCHS)):\n",
        "      n_batch = int(len(train_df)/BATCH_SIZE)\n",
        "\n",
        "      final_loss_list = []\n",
        "      bpr_loss_list = []\n",
        "      reg_loss_list = []\n",
        "\n",
        "      model.train()\n",
        "      for batch_idx in range(n_batch):\n",
        "\n",
        "          optimizer.zero_grad()\n",
        "\n",
        "          users, pos_items, neg_items = data_loader(train_df, BATCH_SIZE, n_users, n_items)\n",
        "          # get initial embeddings & output emebeddings out\n",
        "          users_emb, pos_emb, neg_emb, userEmb0,  posEmb0, negEmb0 = model.encode_minibatch(users, pos_items, neg_items, train_edge_index)\n",
        "\n",
        "          bpr_loss, reg_loss = compute_bpr_loss(\n",
        "            users, users_emb, pos_emb, neg_emb, userEmb0,  posEmb0, negEmb0\n",
        "          )\n",
        "\n",
        "          # penalty for overfitting -> aka each time the model runs\n",
        "          reg_loss = DECAY * reg_loss\n",
        "          final_loss = bpr_loss + reg_loss\n",
        "\n",
        "          final_loss.backward()\n",
        "          optimizer.step()\n",
        "\n",
        "          final_loss_list.append(final_loss.item())\n",
        "          bpr_loss_list.append(bpr_loss.item())\n",
        "          reg_loss_list.append(reg_loss.item())\n",
        "\n",
        "      # calculate metrics @ each epoch\n",
        "      model.eval()\n",
        "      with torch.no_grad():\n",
        "          _, out = model(train_edge_index)\n",
        "          # used to extract user & item embeddings as they are in rows\n",
        "          final_user_Embed, final_item_Embed = torch.split(out, (n_users, n_items))\n",
        "\n",
        "          test_topK_recall,  test_topK_precision, test_topK_accuracy = get_metrics(\n",
        "            final_user_Embed, final_item_Embed, n_users, n_items, train_df, test_df, K\n",
        "          )\n",
        "\n",
        "      # track losses & recall & precision metrics for each epoch\n",
        "      loss_list_epoch.append(round(np.mean(final_loss_list),4))\n",
        "      bpr_loss_list_epoch.append(round(np.mean(bpr_loss_list),4))\n",
        "      reg_loss_list_epoch.append(round(np.mean(reg_loss_list),4))\n",
        "\n",
        "      recall_list.append(round(test_topK_recall,4))\n",
        "      precision_list.append(round(test_topK_precision,4))\n",
        "      accuracy_list.append(round(test_topK_accuracy,4))\n",
        "\n",
        "  return (\n",
        "    loss_list_epoch,\n",
        "    bpr_loss_list_epoch,\n",
        "    reg_loss_list_epoch,\n",
        "    recall_list,\n",
        "    precision_list,\n",
        "    accuracy_list\n",
        "  )"
      ]
    },
    {
      "cell_type": "code",
      "execution_count": null,
      "metadata": {
        "id": "ulsH-9Nc--0C"
      },
      "outputs": [],
      "source": [
        "lightgcn = RecSysGNN(\n",
        "  latent_dim=latent_dim,\n",
        "  num_layers=n_layers,\n",
        "  num_users=n_users,\n",
        "  num_items=n_items,\n",
        ")\n",
        "lightgcn.to(device)\n",
        "\n",
        "optimizer = torch.optim.Adam(lightgcn.parameters(), lr=LR)"
      ]
    },
    {
      "cell_type": "code",
      "execution_count": null,
      "metadata": {
        "colab": {
          "base_uri": "https://localhost:8080/",
          "height": 49,
          "referenced_widgets": [
            "83353d1e818f4c468d6ed175f86abe57",
            "08fab904b7dc439a8cd8d8fb45aa0e7a",
            "31656351988d4fa09757d3124beb824f",
            "21fddff58f054fa7b2ee246e6ef91e83",
            "589eeb5dbb864736b10a2d61c6ad3dbc",
            "fa26db68b00f479292dbf24f17ab00c2",
            "560f992e47a249978bee9c250dbdd98d",
            "70ece1512afd4ec3ac22f8f5e5cd1fad",
            "6d20a806db884f559e30cce2be43788e",
            "03d3849b5a9745f391cae1fa0367d48f",
            "a1abc4fa63434c2e9c79d91940c34103"
          ]
        },
        "id": "jbdxo-wNQzni",
        "outputId": "41cf46ae-119d-432d-de70-bc22234658f3"
      },
      "outputs": [
        {
          "output_type": "display_data",
          "data": {
            "text/plain": [
              "  0%|          | 0/1 [00:00<?, ?it/s]"
            ],
            "application/vnd.jupyter.widget-view+json": {
              "version_major": 2,
              "version_minor": 0,
              "model_id": "83353d1e818f4c468d6ed175f86abe57"
            }
          },
          "metadata": {}
        }
      ],
      "source": [
        "light_loss, light_bpr, light_reg, light_recall, light_precision, light_accuracy = train_and_eval(lightgcn, optimizer, train_df)"
      ]
    },
    {
      "cell_type": "markdown",
      "source": [
        "Prediction on train set"
      ],
      "metadata": {
        "id": "tY5wdFUqoGef"
      }
    },
    {
      "cell_type": "code",
      "source": [
        "def train_and_eval(model, optimizer, train_df):\n",
        "  loss_list_epoch = []\n",
        "  bpr_loss_list_epoch = []\n",
        "  reg_loss_list_epoch = []\n",
        "\n",
        "  recall_list = []\n",
        "  precision_list = []\n",
        "  accuracy_list = []\n",
        "\n",
        "  for epoch in tqdm(range(10)):\n",
        "      n_batch = int(len(train_df)/BATCH_SIZE)\n",
        "\n",
        "      final_loss_list = []\n",
        "      bpr_loss_list = []\n",
        "      reg_loss_list = []\n",
        "\n",
        "      model.train()\n",
        "      for batch_idx in range(n_batch):\n",
        "\n",
        "          optimizer.zero_grad()\n",
        "\n",
        "          users, pos_items, neg_items = data_loader(train_df, BATCH_SIZE, n_users, n_items)\n",
        "          # get initial embeddings & output emebeddings out\n",
        "          users_emb, pos_emb, neg_emb, userEmb0,  posEmb0, negEmb0 = model.encode_minibatch(users, pos_items, neg_items, train_edge_index)\n",
        "\n",
        "          bpr_loss, reg_loss = compute_bpr_loss(\n",
        "            users, users_emb, pos_emb, neg_emb, userEmb0,  posEmb0, negEmb0\n",
        "          )\n",
        "\n",
        "          # penalty for overfitting -> aka each time the model runs\n",
        "          reg_loss = DECAY * reg_loss\n",
        "          final_loss = bpr_loss + reg_loss\n",
        "\n",
        "          final_loss.backward()\n",
        "          optimizer.step()\n",
        "\n",
        "          final_loss_list.append(final_loss.item())\n",
        "          bpr_loss_list.append(bpr_loss.item())\n",
        "          reg_loss_list.append(reg_loss.item())\n",
        "\n",
        "      # calculate metrics @ each epoch\n",
        "      model.eval()\n",
        "      with torch.no_grad():\n",
        "          _, out = model(train_edge_index)\n",
        "          # used to extract user & item embeddings as they are in rows\n",
        "          final_user_Embed, final_item_Embed = torch.split(out, (n_users, n_items))\n",
        "\n",
        "          test_topK_recall,  test_topK_precision, test_topK_accuracy = get_metrics(\n",
        "            final_user_Embed, final_item_Embed, n_users, n_items, train_df, train_df, K\n",
        "          )\n",
        "\n",
        "      # track losses & recall & precision metrics for each epoch\n",
        "      loss_list_epoch.append(round(np.mean(final_loss_list),4))\n",
        "      bpr_loss_list_epoch.append(round(np.mean(bpr_loss_list),4))\n",
        "      reg_loss_list_epoch.append(round(np.mean(reg_loss_list),4))\n",
        "\n",
        "      recall_list.append(round(test_topK_recall,4))\n",
        "      precision_list.append(round(test_topK_precision,4))\n",
        "      accuracy_list.append(round(test_topK_accuracy,4))\n",
        "\n",
        "  return (\n",
        "    loss_list_epoch,\n",
        "    bpr_loss_list_epoch,\n",
        "    reg_loss_list_epoch,\n",
        "    recall_list,\n",
        "    precision_list,\n",
        "    accuracy_list\n",
        "  )\n",
        "\n",
        "light_loss, light_bpr, light_reg, light_recall, light_precision, light_accuracy = train_and_eval(lightgcn, optimizer, train_df)"
      ],
      "metadata": {
        "colab": {
          "base_uri": "https://localhost:8080/",
          "height": 49,
          "referenced_widgets": [
            "9533b58bbcf0464aa091b53bfc141784",
            "4447fb1d57b44aa091b05c5981246de9",
            "1d9cf3bfe2b34bb393b1337ae0d10a02",
            "7320f5ce1eb24517abf9713ab005d560",
            "bbc6e3ddc6c741d7b067749aed1a36f8",
            "905fa5745acd466da43e2aa18e8db435",
            "0253a6f7047d406c8634bf171b35c5f6",
            "3a417e8e9d0841b7b42d48485f937444",
            "1aad1323516c4378b33189c3723237b1",
            "0e9e43b0d35e4ba083c637f4c5952e5b",
            "a32c672a4f80460db033d51a00c9fefb"
          ]
        },
        "id": "qJ-8ZQucoD1g",
        "outputId": "f6a60e05-edb3-4c34-f4ec-afc9b6d3df01"
      },
      "execution_count": null,
      "outputs": [
        {
          "output_type": "display_data",
          "data": {
            "text/plain": [
              "  0%|          | 0/10 [00:00<?, ?it/s]"
            ],
            "application/vnd.jupyter.widget-view+json": {
              "version_major": 2,
              "version_minor": 0,
              "model_id": "9533b58bbcf0464aa091b53bfc141784"
            }
          },
          "metadata": {}
        }
      ]
    },
    {
      "cell_type": "markdown",
      "source": [
        "Get metrics for test set at last epoch"
      ],
      "metadata": {
        "id": "7wcXbPaQBsur"
      }
    },
    {
      "cell_type": "code",
      "source": [
        "light_accuracy"
      ],
      "metadata": {
        "colab": {
          "base_uri": "https://localhost:8080/"
        },
        "id": "gmToNXs8CYeE",
        "outputId": "52f5fe54-0181-4a47-e148-c1cdb82c9187"
      },
      "execution_count": null,
      "outputs": [
        {
          "output_type": "execute_result",
          "data": {
            "text/plain": [
              "[0.0185]"
            ]
          },
          "metadata": {},
          "execution_count": 49
        }
      ]
    },
    {
      "cell_type": "code",
      "source": [
        "light_precision"
      ],
      "metadata": {
        "colab": {
          "base_uri": "https://localhost:8080/"
        },
        "id": "Jm-O_M_ZCZ-K",
        "outputId": "c8f4c99d-81fb-4905-c86d-006441110bbe"
      },
      "execution_count": null,
      "outputs": [
        {
          "output_type": "execute_result",
          "data": {
            "text/plain": [
              "[0.0456]"
            ]
          },
          "metadata": {},
          "execution_count": 50
        }
      ]
    },
    {
      "cell_type": "code",
      "source": [
        "light_recall"
      ],
      "metadata": {
        "id": "TnkHWo67dp-H",
        "outputId": "427f5562-8e94-482b-c278-7114f8f06f4e",
        "colab": {
          "base_uri": "https://localhost:8080/"
        }
      },
      "execution_count": null,
      "outputs": [
        {
          "output_type": "execute_result",
          "data": {
            "text/plain": [
              "[0.0833]"
            ]
          },
          "metadata": {},
          "execution_count": 51
        }
      ]
    },
    {
      "cell_type": "code",
      "execution_count": null,
      "metadata": {
        "id": "Ly39MQtnAK4_",
        "colab": {
          "base_uri": "https://localhost:8080/",
          "height": 473
        },
        "outputId": "a719b2b8-a37d-4cba-a40d-7678f3cb97c4"
      },
      "outputs": [
        {
          "output_type": "execute_result",
          "data": {
            "text/plain": [
              "<matplotlib.legend.Legend at 0x7bd5203174c0>"
            ]
          },
          "metadata": {},
          "execution_count": 38
        },
        {
          "output_type": "display_data",
          "data": {
            "text/plain": [
              "<Figure size 640x480 with 1 Axes>"
            ],
            "image/png": "[encoded data removed]"
          },
          "metadata": {}
        }
      ],
      "source": [
        "plt.plot(epoch_list, light_recall, label='Recall')\n",
        "plt.plot(epoch_list, light_precision, label='Precision')\n",
        "plt.xlabel('Epoch')\n",
        "plt.ylabel('Metrics')\n",
        "plt.legend()"
      ]
    }
  ],
  "metadata": {
    "colab": {
      "collapsed_sections": [
        "RYNnw_tkj8o1",
        "9AFGKCZwj8pB",
        "ht5SPgWRKH6V",
        "axknrAV3G5rF",
        "HrL0UKwYAoCm",
        "4A4nVoLsm6LT",
        "rIvKJ_q9NYfD"
      ],
      "provenance": [],
      "gpuType": "T4"
    },
    "kernelspec": {
      "display_name": "Python 3",
      "name": "python3"
    },
    "language_info": {
      "codemirror_mode": {
        "name": "ipython",
        "version": 3
      },
      "file_extension": ".py",
      "mimetype": "text/x-python",
      "name": "python",
      "nbconvert_exporter": "python",
      "pygments_lexer": "ipython3",
      "version": "3.10.6"
    },
    "widgets": {
      "application/vnd.jupyter.widget-state+json": {
        "83353d1e818f4c468d6ed175f86abe57": {
          "model_module": "@jupyter-widgets/controls",
          "model_name": "HBoxModel",
          "model_module_version": "1.5.0",
          "state": {
            "_dom_classes": [],
            "_model_module": "@jupyter-widgets/controls",
            "_model_module_version": "1.5.0",
            "_model_name": "HBoxModel",
            "_view_count": null,
            "_view_module": "@jupyter-widgets/controls",
            "_view_module_version": "1.5.0",
            "_view_name": "HBoxView",
            "box_style": "",
            "children": [
              "IPY_MODEL_08fab904b7dc439a8cd8d8fb45aa0e7a",
              "IPY_MODEL_31656351988d4fa09757d3124beb824f",
              "IPY_MODEL_21fddff58f054fa7b2ee246e6ef91e83"
            ],
            "layout": "IPY_MODEL_589eeb5dbb864736b10a2d61c6ad3dbc"
          }
        },
        "08fab904b7dc439a8cd8d8fb45aa0e7a": {
          "model_module": "@jupyter-widgets/controls",
          "model_name": "HTMLModel",
          "model_module_version": "1.5.0",
          "state": {
            "_dom_classes": [],
            "_model_module": "@jupyter-widgets/controls",
            "_model_module_version": "1.5.0",
            "_model_name": "HTMLModel",
            "_view_count": null,
            "_view_module": "@jupyter-widgets/controls",
            "_view_module_version": "1.5.0",
            "_view_name": "HTMLView",
            "description": "",
            "description_tooltip": null,
            "layout": "IPY_MODEL_fa26db68b00f479292dbf24f17ab00c2",
            "placeholder": "​",
            "style": "IPY_MODEL_560f992e47a249978bee9c250dbdd98d",
            "value": "100%"
          }
        },
        "31656351988d4fa09757d3124beb824f": {
          "model_module": "@jupyter-widgets/controls",
          "model_name": "FloatProgressModel",
          "model_module_version": "1.5.0",
          "state": {
            "_dom_classes": [],
            "_model_module": "@jupyter-widgets/controls",
            "_model_module_version": "1.5.0",
            "_model_name": "FloatProgressModel",
            "_view_count": null,
            "_view_module": "@jupyter-widgets/controls",
            "_view_module_version": "1.5.0",
            "_view_name": "ProgressView",
            "bar_style": "success",
            "description": "",
            "description_tooltip": null,
            "layout": "IPY_MODEL_70ece1512afd4ec3ac22f8f5e5cd1fad",
            "max": 1,
            "min": 0,
            "orientation": "horizontal",
            "style": "IPY_MODEL_6d20a806db884f559e30cce2be43788e",
            "value": 1
          }
        },
        "21fddff58f054fa7b2ee246e6ef91e83": {
          "model_module": "@jupyter-widgets/controls",
          "model_name": "HTMLModel",
          "model_module_version": "1.5.0",
          "state": {
            "_dom_classes": [],
            "_model_module": "@jupyter-widgets/controls",
            "_model_module_version": "1.5.0",
            "_model_name": "HTMLModel",
            "_view_count": null,
            "_view_module": "@jupyter-widgets/controls",
            "_view_module_version": "1.5.0",
            "_view_name": "HTMLView",
            "description": "",
            "description_tooltip": null,
            "layout": "IPY_MODEL_03d3849b5a9745f391cae1fa0367d48f",
            "placeholder": "​",
            "style": "IPY_MODEL_a1abc4fa63434c2e9c79d91940c34103",
            "value": " 1/1 [00:43&lt;00:00, 43.38s/it]"
          }
        },
        "589eeb5dbb864736b10a2d61c6ad3dbc": {
          "model_module": "@jupyter-widgets/base",
          "model_name": "LayoutModel",
          "model_module_version": "1.2.0",
          "state": {
            "_model_module": "@jupyter-widgets/base",
            "_model_module_version": "1.2.0",
            "_model_name": "LayoutModel",
            "_view_count": null,
            "_view_module": "@jupyter-widgets/base",
            "_view_module_version": "1.2.0",
            "_view_name": "LayoutView",
            "align_content": null,
            "align_items": null,
            "align_self": null,
            "border": null,
            "bottom": null,
            "display": null,
            "flex": null,
            "flex_flow": null,
            "grid_area": null,
            "grid_auto_columns": null,
            "grid_auto_flow": null,
            "grid_auto_rows": null,
            "grid_column": null,
            "grid_gap": null,
            "grid_row": null,
            "grid_template_areas": null,
            "grid_template_columns": null,
            "grid_template_rows": null,
            "height": null,
            "justify_content": null,
            "justify_items": null,
            "left": null,
            "margin": null,
            "max_height": null,
            "max_width": null,
            "min_height": null,
            "min_width": null,
            "object_fit": null,
            "object_position": null,
            "order": null,
            "overflow": null,
            "overflow_x": null,
            "overflow_y": null,
            "padding": null,
            "right": null,
            "top": null,
            "visibility": null,
            "width": null
          }
        },
        "fa26db68b00f479292dbf24f17ab00c2": {
          "model_module": "@jupyter-widgets/base",
          "model_name": "LayoutModel",
          "model_module_version": "1.2.0",
          "state": {
            "_model_module": "@jupyter-widgets/base",
            "_model_module_version": "1.2.0",
            "_model_name": "LayoutModel",
            "_view_count": null,
            "_view_module": "@jupyter-widgets/base",
            "_view_module_version": "1.2.0",
            "_view_name": "LayoutView",
            "align_content": null,
            "align_items": null,
            "align_self": null,
            "border": null,
            "bottom": null,
            "display": null,
            "flex": null,
            "flex_flow": null,
            "grid_area": null,
            "grid_auto_columns": null,
            "grid_auto_flow": null,
            "grid_auto_rows": null,
            "grid_column": null,
            "grid_gap": null,
            "grid_row": null,
            "grid_template_areas": null,
            "grid_template_columns": null,
            "grid_template_rows": null,
            "height": null,
            "justify_content": null,
            "justify_items": null,
            "left": null,
            "margin": null,
            "max_height": null,
            "max_width": null,
            "min_height": null,
            "min_width": null,
            "object_fit": null,
            "object_position": null,
            "order": null,
            "overflow": null,
            "overflow_x": null,
            "overflow_y": null,
            "padding": null,
            "right": null,
            "top": null,
            "visibility": null,
            "width": null
          }
        },
        "560f992e47a249978bee9c250dbdd98d": {
          "model_module": "@jupyter-widgets/controls",
          "model_name": "DescriptionStyleModel",
          "model_module_version": "1.5.0",
          "state": {
            "_model_module": "@jupyter-widgets/controls",
            "_model_module_version": "1.5.0",
            "_model_name": "DescriptionStyleModel",
            "_view_count": null,
            "_view_module": "@jupyter-widgets/base",
            "_view_module_version": "1.2.0",
            "_view_name": "StyleView",
            "description_width": ""
          }
        },
        "70ece1512afd4ec3ac22f8f5e5cd1fad": {
          "model_module": "@jupyter-widgets/base",
          "model_name": "LayoutModel",
          "model_module_version": "1.2.0",
          "state": {
            "_model_module": "@jupyter-widgets/base",
            "_model_module_version": "1.2.0",
            "_model_name": "LayoutModel",
            "_view_count": null,
            "_view_module": "@jupyter-widgets/base",
            "_view_module_version": "1.2.0",
            "_view_name": "LayoutView",
            "align_content": null,
            "align_items": null,
            "align_self": null,
            "border": null,
            "bottom": null,
            "display": null,
            "flex": null,
            "flex_flow": null,
            "grid_area": null,
            "grid_auto_columns": null,
            "grid_auto_flow": null,
            "grid_auto_rows": null,
            "grid_column": null,
            "grid_gap": null,
            "grid_row": null,
            "grid_template_areas": null,
            "grid_template_columns": null,
            "grid_template_rows": null,
            "height": null,
            "justify_content": null,
            "justify_items": null,
            "left": null,
            "margin": null,
            "max_height": null,
            "max_width": null,
            "min_height": null,
            "min_width": null,
            "object_fit": null,
            "object_position": null,
            "order": null,
            "overflow": null,
            "overflow_x": null,
            "overflow_y": null,
            "padding": null,
            "right": null,
            "top": null,
            "visibility": null,
            "width": null
          }
        },
        "6d20a806db884f559e30cce2be43788e": {
          "model_module": "@jupyter-widgets/controls",
          "model_name": "ProgressStyleModel",
          "model_module_version": "1.5.0",
          "state": {
            "_model_module": "@jupyter-widgets/controls",
            "_model_module_version": "1.5.0",
            "_model_name": "ProgressStyleModel",
            "_view_count": null,
            "_view_module": "@jupyter-widgets/base",
            "_view_module_version": "1.2.0",
            "_view_name": "StyleView",
            "bar_color": null,
            "description_width": ""
          }
        },
        "03d3849b5a9745f391cae1fa0367d48f": {
          "model_module": "@jupyter-widgets/base",
          "model_name": "LayoutModel",
          "model_module_version": "1.2.0",
          "state": {
            "_model_module": "@jupyter-widgets/base",
            "_model_module_version": "1.2.0",
            "_model_name": "LayoutModel",
            "_view_count": null,
            "_view_module": "@jupyter-widgets/base",
            "_view_module_version": "1.2.0",
            "_view_name": "LayoutView",
            "align_content": null,
            "align_items": null,
            "align_self": null,
            "border": null,
            "bottom": null,
            "display": null,
            "flex": null,
            "flex_flow": null,
            "grid_area": null,
            "grid_auto_columns": null,
            "grid_auto_flow": null,
            "grid_auto_rows": null,
            "grid_column": null,
            "grid_gap": null,
            "grid_row": null,
            "grid_template_areas": null,
            "grid_template_columns": null,
            "grid_template_rows": null,
            "height": null,
            "justify_content": null,
            "justify_items": null,
            "left": null,
            "margin": null,
            "max_height": null,
            "max_width": null,
            "min_height": null,
            "min_width": null,
            "object_fit": null,
            "object_position": null,
            "order": null,
            "overflow": null,
            "overflow_x": null,
            "overflow_y": null,
            "padding": null,
            "right": null,
            "top": null,
            "visibility": null,
            "width": null
          }
        },
        "a1abc4fa63434c2e9c79d91940c34103": {
          "model_module": "@jupyter-widgets/controls",
          "model_name": "DescriptionStyleModel",
          "model_module_version": "1.5.0",
          "state": {
            "_model_module": "@jupyter-widgets/controls",
            "_model_module_version": "1.5.0",
            "_model_name": "DescriptionStyleModel",
            "_view_count": null,
            "_view_module": "@jupyter-widgets/base",
            "_view_module_version": "1.2.0",
            "_view_name": "StyleView",
            "description_width": ""
          }
        },
        "9533b58bbcf0464aa091b53bfc141784": {
          "model_module": "@jupyter-widgets/controls",
          "model_name": "HBoxModel",
          "model_module_version": "1.5.0",
          "state": {
            "_dom_classes": [],
            "_model_module": "@jupyter-widgets/controls",
            "_model_module_version": "1.5.0",
            "_model_name": "HBoxModel",
            "_view_count": null,
            "_view_module": "@jupyter-widgets/controls",
            "_view_module_version": "1.5.0",
            "_view_name": "HBoxView",
            "box_style": "",
            "children": [
              "IPY_MODEL_4447fb1d57b44aa091b05c5981246de9",
              "IPY_MODEL_1d9cf3bfe2b34bb393b1337ae0d10a02",
              "IPY_MODEL_7320f5ce1eb24517abf9713ab005d560"
            ],
            "layout": "IPY_MODEL_bbc6e3ddc6c741d7b067749aed1a36f8"
          }
        },
        "4447fb1d57b44aa091b05c5981246de9": {
          "model_module": "@jupyter-widgets/controls",
          "model_name": "HTMLModel",
          "model_module_version": "1.5.0",
          "state": {
            "_dom_classes": [],
            "_model_module": "@jupyter-widgets/controls",
            "_model_module_version": "1.5.0",
            "_model_name": "HTMLModel",
            "_view_count": null,
            "_view_module": "@jupyter-widgets/controls",
            "_view_module_version": "1.5.0",
            "_view_name": "HTMLView",
            "description": "",
            "description_tooltip": null,
            "layout": "IPY_MODEL_905fa5745acd466da43e2aa18e8db435",
            "placeholder": "​",
            "style": "IPY_MODEL_0253a6f7047d406c8634bf171b35c5f6",
            "value": "100%"
          }
        },
        "1d9cf3bfe2b34bb393b1337ae0d10a02": {
          "model_module": "@jupyter-widgets/controls",
          "model_name": "FloatProgressModel",
          "model_module_version": "1.5.0",
          "state": {
            "_dom_classes": [],
            "_model_module": "@jupyter-widgets/controls",
            "_model_module_version": "1.5.0",
            "_model_name": "FloatProgressModel",
            "_view_count": null,
            "_view_module": "@jupyter-widgets/controls",
            "_view_module_version": "1.5.0",
            "_view_name": "ProgressView",
            "bar_style": "success",
            "description": "",
            "description_tooltip": null,
            "layout": "IPY_MODEL_3a417e8e9d0841b7b42d48485f937444",
            "max": 10,
            "min": 0,
            "orientation": "horizontal",
            "style": "IPY_MODEL_1aad1323516c4378b33189c3723237b1",
            "value": 10
          }
        },
        "7320f5ce1eb24517abf9713ab005d560": {
          "model_module": "@jupyter-widgets/controls",
          "model_name": "HTMLModel",
          "model_module_version": "1.5.0",
          "state": {
            "_dom_classes": [],
            "_model_module": "@jupyter-widgets/controls",
            "_model_module_version": "1.5.0",
            "_model_name": "HTMLModel",
            "_view_count": null,
            "_view_module": "@jupyter-widgets/controls",
            "_view_module_version": "1.5.0",
            "_view_name": "HTMLView",
            "description": "",
            "description_tooltip": null,
            "layout": "IPY_MODEL_0e9e43b0d35e4ba083c637f4c5952e5b",
            "placeholder": "​",
            "style": "IPY_MODEL_a32c672a4f80460db033d51a00c9fefb",
            "value": " 10/10 [08:03&lt;00:00, 46.13s/it]"
          }
        },
        "bbc6e3ddc6c741d7b067749aed1a36f8": {
          "model_module": "@jupyter-widgets/base",
          "model_name": "LayoutModel",
          "model_module_version": "1.2.0",
          "state": {
            "_model_module": "@jupyter-widgets/base",
            "_model_module_version": "1.2.0",
            "_model_name": "LayoutModel",
            "_view_count": null,
            "_view_module": "@jupyter-widgets/base",
            "_view_module_version": "1.2.0",
            "_view_name": "LayoutView",
            "align_content": null,
            "align_items": null,
            "align_self": null,
            "border": null,
            "bottom": null,
            "display": null,
            "flex": null,
            "flex_flow": null,
            "grid_area": null,
            "grid_auto_columns": null,
            "grid_auto_flow": null,
            "grid_auto_rows": null,
            "grid_column": null,
            "grid_gap": null,
            "grid_row": null,
            "grid_template_areas": null,
            "grid_template_columns": null,
            "grid_template_rows": null,
            "height": null,
            "justify_content": null,
            "justify_items": null,
            "left": null,
            "margin": null,
            "max_height": null,
            "max_width": null,
            "min_height": null,
            "min_width": null,
            "object_fit": null,
            "object_position": null,
            "order": null,
            "overflow": null,
            "overflow_x": null,
            "overflow_y": null,
            "padding": null,
            "right": null,
            "top": null,
            "visibility": null,
            "width": null
          }
        },
        "905fa5745acd466da43e2aa18e8db435": {
          "model_module": "@jupyter-widgets/base",
          "model_name": "LayoutModel",
          "model_module_version": "1.2.0",
          "state": {
            "_model_module": "@jupyter-widgets/base",
            "_model_module_version": "1.2.0",
            "_model_name": "LayoutModel",
            "_view_count": null,
            "_view_module": "@jupyter-widgets/base",
            "_view_module_version": "1.2.0",
            "_view_name": "LayoutView",
            "align_content": null,
            "align_items": null,
            "align_self": null,
            "border": null,
            "bottom": null,
            "display": null,
            "flex": null,
            "flex_flow": null,
            "grid_area": null,
            "grid_auto_columns": null,
            "grid_auto_flow": null,
            "grid_auto_rows": null,
            "grid_column": null,
            "grid_gap": null,
            "grid_row": null,
            "grid_template_areas": null,
            "grid_template_columns": null,
            "grid_template_rows": null,
            "height": null,
            "justify_content": null,
            "justify_items": null,
            "left": null,
            "margin": null,
            "max_height": null,
            "max_width": null,
            "min_height": null,
            "min_width": null,
            "object_fit": null,
            "object_position": null,
            "order": null,
            "overflow": null,
            "overflow_x": null,
            "overflow_y": null,
            "padding": null,
            "right": null,
            "top": null,
            "visibility": null,
            "width": null
          }
        },
        "0253a6f7047d406c8634bf171b35c5f6": {
          "model_module": "@jupyter-widgets/controls",
          "model_name": "DescriptionStyleModel",
          "model_module_version": "1.5.0",
          "state": {
            "_model_module": "@jupyter-widgets/controls",
            "_model_module_version": "1.5.0",
            "_model_name": "DescriptionStyleModel",
            "_view_count": null,
            "_view_module": "@jupyter-widgets/base",
            "_view_module_version": "1.2.0",
            "_view_name": "StyleView",
            "description_width": ""
          }
        },
        "3a417e8e9d0841b7b42d48485f937444": {
          "model_module": "@jupyter-widgets/base",
          "model_name": "LayoutModel",
          "model_module_version": "1.2.0",
          "state": {
            "_model_module": "@jupyter-widgets/base",
            "_model_module_version": "1.2.0",
            "_model_name": "LayoutModel",
            "_view_count": null,
            "_view_module": "@jupyter-widgets/base",
            "_view_module_version": "1.2.0",
            "_view_name": "LayoutView",
            "align_content": null,
            "align_items": null,
            "align_self": null,
            "border": null,
            "bottom": null,
            "display": null,
            "flex": null,
            "flex_flow": null,
            "grid_area": null,
            "grid_auto_columns": null,
            "grid_auto_flow": null,
            "grid_auto_rows": null,
            "grid_column": null,
            "grid_gap": null,
            "grid_row": null,
            "grid_template_areas": null,
            "grid_template_columns": null,
            "grid_template_rows": null,
            "height": null,
            "justify_content": null,
            "justify_items": null,
            "left": null,
            "margin": null,
            "max_height": null,
            "max_width": null,
            "min_height": null,
            "min_width": null,
            "object_fit": null,
            "object_position": null,
            "order": null,
            "overflow": null,
            "overflow_x": null,
            "overflow_y": null,
            "padding": null,
            "right": null,
            "top": null,
            "visibility": null,
            "width": null
          }
        },
        "1aad1323516c4378b33189c3723237b1": {
          "model_module": "@jupyter-widgets/controls",
          "model_name": "ProgressStyleModel",
          "model_module_version": "1.5.0",
          "state": {
            "_model_module": "@jupyter-widgets/controls",
            "_model_module_version": "1.5.0",
            "_model_name": "ProgressStyleModel",
            "_view_count": null,
            "_view_module": "@jupyter-widgets/base",
            "_view_module_version": "1.2.0",
            "_view_name": "StyleView",
            "bar_color": null,
            "description_width": ""
          }
        },
        "0e9e43b0d35e4ba083c637f4c5952e5b": {
          "model_module": "@jupyter-widgets/base",
          "model_name": "LayoutModel",
          "model_module_version": "1.2.0",
          "state": {
            "_model_module": "@jupyter-widgets/base",
            "_model_module_version": "1.2.0",
            "_model_name": "LayoutModel",
            "_view_count": null,
            "_view_module": "@jupyter-widgets/base",
            "_view_module_version": "1.2.0",
            "_view_name": "LayoutView",
            "align_content": null,
            "align_items": null,
            "align_self": null,
            "border": null,
            "bottom": null,
            "display": null,
            "flex": null,
            "flex_flow": null,
            "grid_area": null,
            "grid_auto_columns": null,
            "grid_auto_flow": null,
            "grid_auto_rows": null,
            "grid_column": null,
            "grid_gap": null,
            "grid_row": null,
            "grid_template_areas": null,
            "grid_template_columns": null,
            "grid_template_rows": null,
            "height": null,
            "justify_content": null,
            "justify_items": null,
            "left": null,
            "margin": null,
            "max_height": null,
            "max_width": null,
            "min_height": null,
            "min_width": null,
            "object_fit": null,
            "object_position": null,
            "order": null,
            "overflow": null,
            "overflow_x": null,
            "overflow_y": null,
            "padding": null,
            "right": null,
            "top": null,
            "visibility": null,
            "width": null
          }
        },
        "a32c672a4f80460db033d51a00c9fefb": {
          "model_module": "@jupyter-widgets/controls",
          "model_name": "DescriptionStyleModel",
          "model_module_version": "1.5.0",
          "state": {
            "_model_module": "@jupyter-widgets/controls",
            "_model_module_version": "1.5.0",
            "_model_name": "DescriptionStyleModel",
            "_view_count": null,
            "_view_module": "@jupyter-widgets/base",
            "_view_module_version": "1.2.0",
            "_view_name": "StyleView",
            "description_width": ""
          }
        }
      }
    },
    "accelerator": "GPU"
  },
  "nbformat": 4,
  "nbformat_minor": 0
}